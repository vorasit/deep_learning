{
 "cells": [
  {
   "cell_type": "markdown",
   "id": "20c5b252-1ffe-4376-ab0b-c9e8641d19be",
   "metadata": {},
   "source": [
    "# TensorFlow\n",
    "- 1.สร้าง Neural Network Model โดยใช้ TensorFlow & Keras\n",
    "- 2.Dataset: Breast Cancer, 2 Features\n",
    "- 3.Binary Classification"
   ]
  },
  {
   "cell_type": "code",
   "execution_count": 1,
   "id": "9f8493c5-dc97-4b91-bc66-de95e3d942b9",
   "metadata": {},
   "outputs": [
    {
     "data": {
      "text/plain": [
       "'2.10.0'"
      ]
     },
     "execution_count": 1,
     "metadata": {},
     "output_type": "execute_result"
    }
   ],
   "source": [
    "import tensorflow as tf\n",
    "tf.__version__"
   ]
  },
  {
   "cell_type": "code",
   "execution_count": 2,
   "id": "52556c54-cd34-4f89-a173-ccaa9b357217",
   "metadata": {},
   "outputs": [],
   "source": [
    "from sklearn.datasets import load_breast_cancer\n",
    "import numpy as np\n",
    "import pandas as pd\n",
    "import matplotlib.pyplot as plt\n",
    "import seaborn as sns"
   ]
  },
  {
   "cell_type": "markdown",
   "id": "3be37dee-a392-4001-b8f5-347e70989abd",
   "metadata": {},
   "source": [
    "# Dataset"
   ]
  },
  {
   "cell_type": "code",
   "execution_count": 3,
   "id": "81448409-3f3a-4f3c-8e6b-eecb9dfcb9ff",
   "metadata": {},
   "outputs": [],
   "source": [
    "cancer = load_breast_cancer()"
   ]
  },
  {
   "cell_type": "code",
   "execution_count": 5,
   "id": "e8a0852b-ee2e-443e-b2a1-52d1cd9a5adf",
   "metadata": {},
   "outputs": [
    {
     "data": {
      "text/plain": [
       "dict_keys(['data', 'target', 'frame', 'target_names', 'DESCR', 'feature_names', 'filename', 'data_module'])"
      ]
     },
     "execution_count": 5,
     "metadata": {},
     "output_type": "execute_result"
    }
   ],
   "source": [
    "cancer.keys()"
   ]
  },
  {
   "cell_type": "code",
   "execution_count": null,
   "id": "539ecfae-0f49-4b4a-a54c-1b61dd10ae8e",
   "metadata": {},
   "outputs": [],
   "source": [
    "print(cancer.DESCR)"
   ]
  },
  {
   "cell_type": "code",
   "execution_count": 7,
   "id": "d601b13a-2779-48e6-b137-4fa8b7c886d0",
   "metadata": {},
   "outputs": [
    {
     "data": {
      "text/plain": [
       "array(['malignant', 'benign'], dtype='<U9')"
      ]
     },
     "execution_count": 7,
     "metadata": {},
     "output_type": "execute_result"
    }
   ],
   "source": [
    "cancer.target_names"
   ]
  },
  {
   "cell_type": "code",
   "execution_count": 12,
   "id": "7bd2db1a-3535-4792-bf60-520cbe3c8ab0",
   "metadata": {},
   "outputs": [
    {
     "data": {
      "text/plain": [
       "array([0, 0, 0, 0, 0, 0, 0, 0, 0, 0, 0, 0, 0, 0, 0, 0, 0, 0, 0, 1])"
      ]
     },
     "execution_count": 12,
     "metadata": {},
     "output_type": "execute_result"
    }
   ],
   "source": [
    "cancer.target[0:20]"
   ]
  },
  {
   "cell_type": "code",
   "execution_count": 19,
   "id": "55fb62f6-5aa9-4cd8-bfef-8a6d6c47a45d",
   "metadata": {},
   "outputs": [
    {
     "data": {
      "text/html": [
       "<div>\n",
       "<style scoped>\n",
       "    .dataframe tbody tr th:only-of-type {\n",
       "        vertical-align: middle;\n",
       "    }\n",
       "\n",
       "    .dataframe tbody tr th {\n",
       "        vertical-align: top;\n",
       "    }\n",
       "\n",
       "    .dataframe thead th {\n",
       "        text-align: right;\n",
       "    }\n",
       "</style>\n",
       "<table border=\"1\" class=\"dataframe\">\n",
       "  <thead>\n",
       "    <tr style=\"text-align: right;\">\n",
       "      <th></th>\n",
       "      <th>mean radius</th>\n",
       "      <th>mean texture</th>\n",
       "      <th>class</th>\n",
       "    </tr>\n",
       "  </thead>\n",
       "  <tbody>\n",
       "    <tr>\n",
       "      <th>564</th>\n",
       "      <td>21.56</td>\n",
       "      <td>22.39</td>\n",
       "      <td>0</td>\n",
       "    </tr>\n",
       "    <tr>\n",
       "      <th>565</th>\n",
       "      <td>20.13</td>\n",
       "      <td>28.25</td>\n",
       "      <td>0</td>\n",
       "    </tr>\n",
       "    <tr>\n",
       "      <th>566</th>\n",
       "      <td>16.60</td>\n",
       "      <td>28.08</td>\n",
       "      <td>0</td>\n",
       "    </tr>\n",
       "    <tr>\n",
       "      <th>567</th>\n",
       "      <td>20.60</td>\n",
       "      <td>29.33</td>\n",
       "      <td>0</td>\n",
       "    </tr>\n",
       "    <tr>\n",
       "      <th>568</th>\n",
       "      <td>7.76</td>\n",
       "      <td>24.54</td>\n",
       "      <td>1</td>\n",
       "    </tr>\n",
       "  </tbody>\n",
       "</table>\n",
       "</div>"
      ],
      "text/plain": [
       "     mean radius  mean texture  class\n",
       "564        21.56         22.39      0\n",
       "565        20.13         28.25      0\n",
       "566        16.60         28.08      0\n",
       "567        20.60         29.33      0\n",
       "568         7.76         24.54      1"
      ]
     },
     "execution_count": 19,
     "metadata": {},
     "output_type": "execute_result"
    }
   ],
   "source": [
    "df = pd.DataFrame(cancer.data[:,0:2],columns=cancer.feature_names[0:2])\n",
    "\n",
    "df['class'] = cancer.target\n",
    "df.sample(5,random_state=1)\n",
    "df.tail()"
   ]
  },
  {
   "cell_type": "code",
   "execution_count": 13,
   "id": "d1261d3d-9ece-4695-bb11-42b9e7993aae",
   "metadata": {},
   "outputs": [
    {
     "data": {
      "text/plain": [
       "array([[17.99, 10.38],\n",
       "       [20.57, 17.77],\n",
       "       [19.69, 21.25],\n",
       "       ...,\n",
       "       [16.6 , 28.08],\n",
       "       [20.6 , 29.33],\n",
       "       [ 7.76, 24.54]])"
      ]
     },
     "execution_count": 13,
     "metadata": {},
     "output_type": "execute_result"
    }
   ],
   "source": [
    "cancer.data[:,0:2]"
   ]
  },
  {
   "cell_type": "code",
   "execution_count": 14,
   "id": "c57a7fe2-32d1-430c-946b-7f31ba097d53",
   "metadata": {},
   "outputs": [],
   "source": [
    "columns=cancer.feature_names[0:2]"
   ]
  },
  {
   "cell_type": "code",
   "execution_count": 25,
   "id": "fbfa934b-a5f5-4344-a5f3-f8c91bfe7a8e",
   "metadata": {},
   "outputs": [
    {
     "name": "stdout",
     "output_type": "stream",
     "text": [
      "['mean radius' 'mean texture']\n",
      "     mean radius  mean texture  class\n",
      "0          17.99         10.38      0\n",
      "1          20.57         17.77      0\n",
      "2          19.69         21.25      0\n",
      "3          11.42         20.38      0\n",
      "4          20.29         14.34      0\n",
      "..           ...           ...    ...\n",
      "564        21.56         22.39      0\n",
      "565        20.13         28.25      0\n",
      "566        16.60         28.08      0\n",
      "567        20.60         29.33      0\n",
      "568         7.76         24.54      1\n",
      "\n",
      "[569 rows x 3 columns]\n"
     ]
    }
   ],
   "source": [
    "print(columns)\n",
    "print(df)"
   ]
  },
  {
   "cell_type": "code",
   "execution_count": 22,
   "id": "a06de0cb-a2b2-449c-baa1-2901906da8bf",
   "metadata": {},
   "outputs": [
    {
     "data": {
      "text/html": [
       "<div>\n",
       "<style scoped>\n",
       "    .dataframe tbody tr th:only-of-type {\n",
       "        vertical-align: middle;\n",
       "    }\n",
       "\n",
       "    .dataframe tbody tr th {\n",
       "        vertical-align: top;\n",
       "    }\n",
       "\n",
       "    .dataframe thead th {\n",
       "        text-align: right;\n",
       "    }\n",
       "</style>\n",
       "<table border=\"1\" class=\"dataframe\">\n",
       "  <thead>\n",
       "    <tr style=\"text-align: right;\">\n",
       "      <th></th>\n",
       "      <th>mean radius</th>\n",
       "      <th>mean texture</th>\n",
       "      <th>class</th>\n",
       "    </tr>\n",
       "  </thead>\n",
       "  <tbody>\n",
       "    <tr>\n",
       "      <th>count</th>\n",
       "      <td>569.00</td>\n",
       "      <td>569.00</td>\n",
       "      <td>569.00</td>\n",
       "    </tr>\n",
       "    <tr>\n",
       "      <th>mean</th>\n",
       "      <td>14.13</td>\n",
       "      <td>19.29</td>\n",
       "      <td>0.63</td>\n",
       "    </tr>\n",
       "    <tr>\n",
       "      <th>std</th>\n",
       "      <td>3.52</td>\n",
       "      <td>4.30</td>\n",
       "      <td>0.48</td>\n",
       "    </tr>\n",
       "    <tr>\n",
       "      <th>min</th>\n",
       "      <td>6.98</td>\n",
       "      <td>9.71</td>\n",
       "      <td>0.00</td>\n",
       "    </tr>\n",
       "    <tr>\n",
       "      <th>25%</th>\n",
       "      <td>11.70</td>\n",
       "      <td>16.17</td>\n",
       "      <td>0.00</td>\n",
       "    </tr>\n",
       "    <tr>\n",
       "      <th>50%</th>\n",
       "      <td>13.37</td>\n",
       "      <td>18.84</td>\n",
       "      <td>1.00</td>\n",
       "    </tr>\n",
       "    <tr>\n",
       "      <th>75%</th>\n",
       "      <td>15.78</td>\n",
       "      <td>21.80</td>\n",
       "      <td>1.00</td>\n",
       "    </tr>\n",
       "    <tr>\n",
       "      <th>max</th>\n",
       "      <td>28.11</td>\n",
       "      <td>39.28</td>\n",
       "      <td>1.00</td>\n",
       "    </tr>\n",
       "  </tbody>\n",
       "</table>\n",
       "</div>"
      ],
      "text/plain": [
       "       mean radius  mean texture   class\n",
       "count       569.00        569.00  569.00\n",
       "mean         14.13         19.29    0.63\n",
       "std           3.52          4.30    0.48\n",
       "min           6.98          9.71    0.00\n",
       "25%          11.70         16.17    0.00\n",
       "50%          13.37         18.84    1.00\n",
       "75%          15.78         21.80    1.00\n",
       "max          28.11         39.28    1.00"
      ]
     },
     "execution_count": 22,
     "metadata": {},
     "output_type": "execute_result"
    }
   ],
   "source": [
    "df.describe().round(2)"
   ]
  },
  {
   "cell_type": "code",
   "execution_count": 23,
   "id": "44bb8054-2459-4bad-9000-bdb509b9a25d",
   "metadata": {},
   "outputs": [
    {
     "data": {
      "text/html": [
       "<div>\n",
       "<style scoped>\n",
       "    .dataframe tbody tr th:only-of-type {\n",
       "        vertical-align: middle;\n",
       "    }\n",
       "\n",
       "    .dataframe tbody tr th {\n",
       "        vertical-align: top;\n",
       "    }\n",
       "\n",
       "    .dataframe thead th {\n",
       "        text-align: right;\n",
       "    }\n",
       "</style>\n",
       "<table border=\"1\" class=\"dataframe\">\n",
       "  <thead>\n",
       "    <tr style=\"text-align: right;\">\n",
       "      <th></th>\n",
       "      <th>mean radius</th>\n",
       "      <th>mean texture</th>\n",
       "    </tr>\n",
       "    <tr>\n",
       "      <th>class</th>\n",
       "      <th></th>\n",
       "      <th></th>\n",
       "    </tr>\n",
       "  </thead>\n",
       "  <tbody>\n",
       "    <tr>\n",
       "      <th>0</th>\n",
       "      <td>212</td>\n",
       "      <td>212</td>\n",
       "    </tr>\n",
       "    <tr>\n",
       "      <th>1</th>\n",
       "      <td>357</td>\n",
       "      <td>357</td>\n",
       "    </tr>\n",
       "  </tbody>\n",
       "</table>\n",
       "</div>"
      ],
      "text/plain": [
       "       mean radius  mean texture\n",
       "class                           \n",
       "0              212           212\n",
       "1              357           357"
      ]
     },
     "execution_count": 23,
     "metadata": {},
     "output_type": "execute_result"
    }
   ],
   "source": [
    "df.groupby('class').count()"
   ]
  },
  {
   "cell_type": "markdown",
   "id": "35c5b9ea-9acf-4bdd-9ed0-db00a01b5337",
   "metadata": {},
   "source": [
    "# Data visualization"
   ]
  },
  {
   "cell_type": "code",
   "execution_count": 29,
   "id": "6e41f851-e31f-4e39-b278-42765e6b8927",
   "metadata": {},
   "outputs": [
    {
     "data": {
      "image/png": "[encoded data removed]",
      "text/plain": [
       "<Figure size 374.4x288 with 1 Axes>"
      ]
     },
     "metadata": {
      "needs_background": "light"
     },
     "output_type": "display_data"
    }
   ],
   "source": [
    "plt.figure(figsize=(5.2, 4))\n",
    "\n",
    "sns.scatterplot(x='mean radius', y='mean texture', data=df, hue='class', style='class', \n",
    "                alpha=0.9, edgecolor='w', s=80)\n",
    "\n",
    "plt.show()"
   ]
  },
  {
   "cell_type": "markdown",
   "id": "2bfb8b1d-26eb-455c-83ab-7c8d2150d2db",
   "metadata": {},
   "source": [
    "# Label Encoding"
   ]
  },
  {
   "cell_type": "code",
   "execution_count": 30,
   "id": "d91dc7bc-4584-40a0-8dc4-6f56bb6940a7",
   "metadata": {},
   "outputs": [
    {
     "data": {
      "text/plain": [
       "Int64Index([0, 1], dtype='int64')"
      ]
     },
     "execution_count": 30,
     "metadata": {},
     "output_type": "execute_result"
    }
   ],
   "source": [
    "y, class_names = pd.factorize(df['class'])\n",
    "class_names"
   ]
  },
  {
   "cell_type": "code",
   "execution_count": 31,
   "id": "bf62f0d5-459c-4893-9372-7758730561b2",
   "metadata": {},
   "outputs": [
    {
     "data": {
      "text/plain": [
       "array([0, 0, 0, 0, 0, 0, 1, 0, 1, 1], dtype=int64)"
      ]
     },
     "execution_count": 31,
     "metadata": {},
     "output_type": "execute_result"
    }
   ],
   "source": [
    "y[40:50]"
   ]
  },
  {
   "cell_type": "code",
   "execution_count": 32,
   "id": "a0305f94-2040-4b1f-a957-b69bd51e97c2",
   "metadata": {},
   "outputs": [
    {
     "name": "stdout",
     "output_type": "stream",
     "text": [
      "Class 0: 212\n",
      "Class 1: 357\n"
     ]
    }
   ],
   "source": [
    "print('Class 0:', len(y[y==0]))\n",
    "print('Class 1:', len(y[y==1]))"
   ]
  },
  {
   "cell_type": "code",
   "execution_count": 33,
   "id": "67edf00c-6c41-4c96-b6c8-e3abe5ba40d5",
   "metadata": {},
   "outputs": [
    {
     "data": {
      "text/plain": [
       "array([0, 1], dtype=int64)"
      ]
     },
     "execution_count": 33,
     "metadata": {},
     "output_type": "execute_result"
    }
   ],
   "source": [
    "np.unique(y)"
   ]
  },
  {
   "cell_type": "markdown",
   "id": "b8135204-9c07-4fff-aa66-213779b630c7",
   "metadata": {},
   "source": [
    "# X and Y"
   ]
  },
  {
   "cell_type": "code",
   "execution_count": 34,
   "id": "1eeffc11-9b51-4f64-b226-942b11c937e1",
   "metadata": {},
   "outputs": [
    {
     "data": {
      "text/html": [
       "<div>\n",
       "<style scoped>\n",
       "    .dataframe tbody tr th:only-of-type {\n",
       "        vertical-align: middle;\n",
       "    }\n",
       "\n",
       "    .dataframe tbody tr th {\n",
       "        vertical-align: top;\n",
       "    }\n",
       "\n",
       "    .dataframe thead th {\n",
       "        text-align: right;\n",
       "    }\n",
       "</style>\n",
       "<table border=\"1\" class=\"dataframe\">\n",
       "  <thead>\n",
       "    <tr style=\"text-align: right;\">\n",
       "      <th></th>\n",
       "      <th>mean radius</th>\n",
       "      <th>mean texture</th>\n",
       "    </tr>\n",
       "  </thead>\n",
       "  <tbody>\n",
       "    <tr>\n",
       "      <th>0</th>\n",
       "      <td>17.99</td>\n",
       "      <td>10.38</td>\n",
       "    </tr>\n",
       "    <tr>\n",
       "      <th>1</th>\n",
       "      <td>20.57</td>\n",
       "      <td>17.77</td>\n",
       "    </tr>\n",
       "    <tr>\n",
       "      <th>2</th>\n",
       "      <td>19.69</td>\n",
       "      <td>21.25</td>\n",
       "    </tr>\n",
       "    <tr>\n",
       "      <th>3</th>\n",
       "      <td>11.42</td>\n",
       "      <td>20.38</td>\n",
       "    </tr>\n",
       "    <tr>\n",
       "      <th>4</th>\n",
       "      <td>20.29</td>\n",
       "      <td>14.34</td>\n",
       "    </tr>\n",
       "  </tbody>\n",
       "</table>\n",
       "</div>"
      ],
      "text/plain": [
       "   mean radius  mean texture\n",
       "0        17.99         10.38\n",
       "1        20.57         17.77\n",
       "2        19.69         21.25\n",
       "3        11.42         20.38\n",
       "4        20.29         14.34"
      ]
     },
     "execution_count": 34,
     "metadata": {},
     "output_type": "execute_result"
    }
   ],
   "source": [
    "X = df.drop('class', axis=1)\n",
    "X.head()"
   ]
  },
  {
   "cell_type": "code",
   "execution_count": 35,
   "id": "6e2c759e-861e-4429-b540-67abb6c852e1",
   "metadata": {},
   "outputs": [],
   "source": [
    "y = df['class']     # กรณี: ไม่ทำ Label Encoding. "
   ]
  },
  {
   "cell_type": "code",
   "execution_count": 36,
   "id": "aa2f3a4c-cb69-49cc-b45d-d2f2f7714298",
   "metadata": {},
   "outputs": [
    {
     "data": {
      "text/plain": [
       "0     0\n",
       "1     0\n",
       "2     0\n",
       "3     0\n",
       "4     0\n",
       "5     0\n",
       "6     0\n",
       "7     0\n",
       "8     0\n",
       "9     0\n",
       "10    0\n",
       "11    0\n",
       "12    0\n",
       "13    0\n",
       "14    0\n",
       "Name: class, dtype: int32"
      ]
     },
     "execution_count": 36,
     "metadata": {},
     "output_type": "execute_result"
    }
   ],
   "source": [
    "y[:15]"
   ]
  },
  {
   "cell_type": "code",
   "execution_count": 37,
   "id": "55871289-d9d1-437c-9095-0a5989399652",
   "metadata": {},
   "outputs": [
    {
     "data": {
      "text/plain": [
       "array([0, 1])"
      ]
     },
     "execution_count": 37,
     "metadata": {},
     "output_type": "execute_result"
    }
   ],
   "source": [
    "np.unique(y)"
   ]
  },
  {
   "cell_type": "markdown",
   "id": "04c7416e-6efd-4e66-86ce-15851b6fbf9d",
   "metadata": {},
   "source": [
    "# Feature Scaling using StandardScaler"
   ]
  },
  {
   "cell_type": "code",
   "execution_count": 39,
   "id": "9016cafa-b9e5-4a1f-99c3-4ead6b7d9479",
   "metadata": {},
   "outputs": [
    {
     "data": {
      "text/plain": [
       "array([[ 1.09706398, -2.07333501],\n",
       "       [ 1.82982061, -0.35363241],\n",
       "       [ 1.57988811,  0.45618695],\n",
       "       [-0.76890929,  0.25373211],\n",
       "       [ 1.75029663, -1.15181643]])"
      ]
     },
     "execution_count": 39,
     "metadata": {},
     "output_type": "execute_result"
    }
   ],
   "source": [
    "from sklearn.preprocessing import StandardScaler\n",
    "sc = StandardScaler()\n",
    "X_sc = sc.fit_transform(X)\n",
    "X_sc[:5]"
   ]
  },
  {
   "cell_type": "code",
   "execution_count": 40,
   "id": "14c3b825-a8cd-4e99-b48b-26d0b1e1cdd3",
   "metadata": {},
   "outputs": [
    {
     "data": {
      "text/plain": [
       "array(['mean radius', 'mean texture'], dtype='<U23')"
      ]
     },
     "execution_count": 40,
     "metadata": {},
     "output_type": "execute_result"
    }
   ],
   "source": [
    "cancer.feature_names[0:2]    # ชื่อ columns 2 features แรก"
   ]
  },
  {
   "cell_type": "code",
   "execution_count": 41,
   "id": "e244cae4-9874-4a14-8812-e4783389a411",
   "metadata": {},
   "outputs": [
    {
     "data": {
      "text/html": [
       "<div>\n",
       "<style scoped>\n",
       "    .dataframe tbody tr th:only-of-type {\n",
       "        vertical-align: middle;\n",
       "    }\n",
       "\n",
       "    .dataframe tbody tr th {\n",
       "        vertical-align: top;\n",
       "    }\n",
       "\n",
       "    .dataframe thead th {\n",
       "        text-align: right;\n",
       "    }\n",
       "</style>\n",
       "<table border=\"1\" class=\"dataframe\">\n",
       "  <thead>\n",
       "    <tr style=\"text-align: right;\">\n",
       "      <th></th>\n",
       "      <th>mean radius</th>\n",
       "      <th>mean texture</th>\n",
       "      <th>class</th>\n",
       "    </tr>\n",
       "  </thead>\n",
       "  <tbody>\n",
       "    <tr>\n",
       "      <th>count</th>\n",
       "      <td>569.000</td>\n",
       "      <td>569.000</td>\n",
       "      <td>569.000</td>\n",
       "    </tr>\n",
       "    <tr>\n",
       "      <th>mean</th>\n",
       "      <td>-0.000</td>\n",
       "      <td>0.000</td>\n",
       "      <td>0.627</td>\n",
       "    </tr>\n",
       "    <tr>\n",
       "      <th>std</th>\n",
       "      <td>1.001</td>\n",
       "      <td>1.001</td>\n",
       "      <td>0.484</td>\n",
       "    </tr>\n",
       "    <tr>\n",
       "      <th>min</th>\n",
       "      <td>-2.030</td>\n",
       "      <td>-2.229</td>\n",
       "      <td>0.000</td>\n",
       "    </tr>\n",
       "    <tr>\n",
       "      <th>25%</th>\n",
       "      <td>-0.689</td>\n",
       "      <td>-0.726</td>\n",
       "      <td>0.000</td>\n",
       "    </tr>\n",
       "    <tr>\n",
       "      <th>50%</th>\n",
       "      <td>-0.215</td>\n",
       "      <td>-0.105</td>\n",
       "      <td>1.000</td>\n",
       "    </tr>\n",
       "    <tr>\n",
       "      <th>75%</th>\n",
       "      <td>0.469</td>\n",
       "      <td>0.584</td>\n",
       "      <td>1.000</td>\n",
       "    </tr>\n",
       "    <tr>\n",
       "      <th>max</th>\n",
       "      <td>3.971</td>\n",
       "      <td>4.652</td>\n",
       "      <td>1.000</td>\n",
       "    </tr>\n",
       "  </tbody>\n",
       "</table>\n",
       "</div>"
      ],
      "text/plain": [
       "       mean radius  mean texture    class\n",
       "count      569.000       569.000  569.000\n",
       "mean        -0.000         0.000    0.627\n",
       "std          1.001         1.001    0.484\n",
       "min         -2.030        -2.229    0.000\n",
       "25%         -0.689        -0.726    0.000\n",
       "50%         -0.215        -0.105    1.000\n",
       "75%          0.469         0.584    1.000\n",
       "max          3.971         4.652    1.000"
      ]
     },
     "execution_count": 41,
     "metadata": {},
     "output_type": "execute_result"
    }
   ],
   "source": [
    "dfsc = pd.DataFrame(X_sc, columns=['mean radius','mean texture'])\n",
    "dfsc['class'] = y\n",
    "\n",
    "dfsc.describe().round(3)"
   ]
  },
  {
   "cell_type": "markdown",
   "id": "b8f17845-2cca-49f7-a9ab-689d4f660337",
   "metadata": {},
   "source": [
    "# KDE plot"
   ]
  },
  {
   "cell_type": "code",
   "execution_count": 42,
   "id": "82f240cc-7292-43ca-9b49-9c3806fac037",
   "metadata": {},
   "outputs": [
    {
     "data": {
      "image/png": "[encoded data removed]",
      "text/plain": [
       "<Figure size 576x252 with 2 Axes>"
      ]
     },
     "metadata": {
      "needs_background": "light"
     },
     "output_type": "display_data"
    }
   ],
   "source": [
    "fig, (ax1, ax2) = plt.subplots(ncols=2, figsize=(8, 3.5))\n",
    "\n",
    "ax1.set_title('Before Scale (Raw data)')\n",
    "sns.kdeplot(df['mean radius'], fill=True, ax=ax1)\n",
    "sns.kdeplot(df['mean texture'], fill=True, ax=ax1)\n",
    "\n",
    "ax2.set_title('After Scale')\n",
    "sns.kdeplot(X_sc[:,0], fill=True, ax=ax2)\n",
    "sns.kdeplot(X_sc[:,1], fill=True, ax=ax2)\n",
    "sns.kdeplot(df['mean texture'], fill=True, ax=ax1)\n",
    "\n",
    "plt.show()"
   ]
  },
  {
   "cell_type": "code",
   "execution_count": 43,
   "id": "13fc35c7-1c00-4662-a194-a1453d64c74b",
   "metadata": {},
   "outputs": [
    {
     "data": {
      "image/png": "[encoded data removed]",
      "text/plain": [
       "<Figure size 374.4x288 with 1 Axes>"
      ]
     },
     "metadata": {
      "needs_background": "light"
     },
     "output_type": "display_data"
    }
   ],
   "source": [
    "plt.figure(figsize=(5.2, 4))\n",
    "\n",
    "sns.scatterplot(x='mean radius', y='mean texture', data=dfsc, hue='class', style='class', \n",
    "                alpha=0.9, edgecolor='w', s=80)\n",
    "plt.title('After Scaling')\n",
    "plt.show()"
   ]
  },
  {
   "cell_type": "code",
   "execution_count": 44,
   "id": "dcfa6ba7-569a-4eec-8e40-31ad92e24060",
   "metadata": {},
   "outputs": [
    {
     "data": {
      "text/plain": [
       "array([[ 1.09706398, -2.07333501],\n",
       "       [ 1.82982061, -0.35363241],\n",
       "       [ 1.57988811,  0.45618695],\n",
       "       [-0.76890929,  0.25373211],\n",
       "       [ 1.75029663, -1.15181643]])"
      ]
     },
     "execution_count": 44,
     "metadata": {},
     "output_type": "execute_result"
    }
   ],
   "source": [
    "X_sc[:5]"
   ]
  },
  {
   "cell_type": "code",
   "execution_count": 45,
   "id": "3c170b08-d30c-4409-90e5-195b8d043d33",
   "metadata": {},
   "outputs": [
    {
     "data": {
      "text/plain": [
       "0    0\n",
       "1    0\n",
       "2    0\n",
       "3    0\n",
       "4    0\n",
       "Name: class, dtype: int32"
      ]
     },
     "execution_count": 45,
     "metadata": {},
     "output_type": "execute_result"
    }
   ],
   "source": [
    "y[:5]"
   ]
  },
  {
   "cell_type": "code",
   "execution_count": 46,
   "id": "46ee83be-af50-4622-8230-f112ce918ff3",
   "metadata": {},
   "outputs": [
    {
     "data": {
      "text/plain": [
       "((426, 2), (143, 2))"
      ]
     },
     "execution_count": 46,
     "metadata": {},
     "output_type": "execute_result"
    }
   ],
   "source": [
    "from sklearn.model_selection import train_test_split\n",
    "\n",
    "X_train, X_test, y_train, y_test = train_test_split(X_sc, y, test_size=0.25, random_state=1) #\n",
    "\n",
    "X_train.shape, X_test.shape"
   ]
  },
  {
   "cell_type": "code",
   "execution_count": 47,
   "id": "975f4f65-7351-4ff9-8398-b72cdd237115",
   "metadata": {},
   "outputs": [
    {
     "data": {
      "text/plain": [
       "((426,), (143,))"
      ]
     },
     "execution_count": 47,
     "metadata": {},
     "output_type": "execute_result"
    }
   ],
   "source": [
    "y_train.shape, y_test.shape "
   ]
  },
  {
   "cell_type": "code",
   "execution_count": 48,
   "id": "768a2746-e6d7-4f0a-a9a0-4a45cd175ce9",
   "metadata": {},
   "outputs": [
    {
     "data": {
      "text/plain": [
       "array([[ 0.31034466,  2.63664885],\n",
       "       [ 0.23650097, -0.04413248],\n",
       "       [ 0.15697699,  0.19555543],\n",
       "       [-1.0813249 , -0.68407594],\n",
       "       [-0.64678318, -0.42577149]])"
      ]
     },
     "execution_count": 48,
     "metadata": {},
     "output_type": "execute_result"
    }
   ],
   "source": [
    "X_train[:5]"
   ]
  },
  {
   "cell_type": "code",
   "execution_count": 51,
   "id": "8f6fcfd4-8723-4370-8687-bb6f0b3c082b",
   "metadata": {},
   "outputs": [
    {
     "data": {
      "text/plain": [
       "562    0\n",
       "291    1\n",
       "16     0\n",
       "546    1\n",
       "293    1\n",
       "      ..\n",
       "508    1\n",
       "129    0\n",
       "144    1\n",
       "72     0\n",
       "235    1\n",
       "Name: class, Length: 425, dtype: int32"
      ]
     },
     "execution_count": 51,
     "metadata": {},
     "output_type": "execute_result"
    }
   ],
   "source": [
    "y_train[:-1]"
   ]
  },
  {
   "cell_type": "code",
   "execution_count": 50,
   "id": "a4b22a97-e1bb-4396-b59a-20f0a4d4b529",
   "metadata": {},
   "outputs": [
    {
     "name": "stdout",
     "output_type": "stream",
     "text": [
      "Train; Class 0: 157\n",
      "Train; Class 1: 269\n",
      "Total: 426\n"
     ]
    }
   ],
   "source": [
    "## Training set (class 0 & 1)\n",
    "print('Train; Class 0:', len(y_train[y_train==0]))\n",
    "print('Train; Class 1:', len(y_train[y_train==1]))\n",
    "print('Total:',len(y_train))"
   ]
  },
  {
   "cell_type": "markdown",
   "id": "0988a23b-3851-481b-a8da-07fdda0c9052",
   "metadata": {},
   "source": [
    "# Model"
   ]
  },
  {
   "cell_type": "code",
   "execution_count": 52,
   "id": "05ceb50f-9981-4fa1-a2f4-5c6554cbe2c1",
   "metadata": {},
   "outputs": [],
   "source": [
    "from tensorflow.keras import Sequential\n",
    "from tensorflow.keras.layers import Dense, Input "
   ]
  },
  {
   "cell_type": "code",
   "execution_count": 53,
   "id": "a6433bce-8ffe-4d47-81d5-e7c30fc74147",
   "metadata": {},
   "outputs": [
    {
     "data": {
      "text/plain": [
       "(426, 2)"
      ]
     },
     "execution_count": 53,
     "metadata": {},
     "output_type": "execute_result"
    }
   ],
   "source": [
    "X_train.shape"
   ]
  },
  {
   "cell_type": "code",
   "execution_count": 54,
   "id": "61ecd95c-8f63-425d-a0a0-ef3e64eadda7",
   "metadata": {},
   "outputs": [
    {
     "data": {
      "text/plain": [
       "2"
      ]
     },
     "execution_count": 54,
     "metadata": {},
     "output_type": "execute_result"
    }
   ],
   "source": [
    "input_size = X_train.shape[-1]     # input size\n",
    "input_size"
   ]
  },
  {
   "cell_type": "markdown",
   "id": "37e7c4a7-7bfa-40ee-99dc-0f3175214e6e",
   "metadata": {},
   "source": [
    "# Create a Model"
   ]
  },
  {
   "cell_type": "code",
   "execution_count": null,
   "id": "c8875eb6-f131-4176-b908-fbf8fdb7ee3d",
   "metadata": {},
   "outputs": [],
   "source": [
    "(input: 2-dim)\n",
    "       ↧\n",
    "[Dense (32 units, relu activation)]\n",
    "       ↧\n",
    "[Dense (1 unit, sigmoid activation)]\n",
    "       ↧\n",
    "(output: probability 2 classes)"
   ]
  },
  {
   "cell_type": "code",
   "execution_count": 59,
   "id": "a30362cf-701b-4d15-9d55-8427ca04cc62",
   "metadata": {},
   "outputs": [],
   "source": [
    "# Sequential Model using Input\n",
    "model = Sequential()\n",
    "\n",
    "# model.add(Input(shape=(2,)))\n",
    "model.add(Input(shape=(input_size,)))\n",
    "\n",
    "model.add(Dense(32, activation='relu'))  \n",
    "# model.add(Dense(128, activation='relu'))  \n",
    "# model.add(Dense(128, activation='relu'))  \n",
    "\n",
    "model.add(Dense(1, activation='sigmoid'))   # 2 class (Binary classification)"
   ]
  },
  {
   "cell_type": "markdown",
   "id": "954a678e-073c-41f8-94bc-0cc3f25f4322",
   "metadata": {},
   "source": [
    "# Model Info"
   ]
  },
  {
   "cell_type": "code",
   "execution_count": 60,
   "id": "e8efda84-2ab0-4e22-b6b0-ca53a4b8ba0c",
   "metadata": {},
   "outputs": [
    {
     "name": "stdout",
     "output_type": "stream",
     "text": [
      "Model: \"sequential_1\"\n",
      "_________________________________________________________________\n",
      " Layer (type)                Output Shape              Param #   \n",
      "=================================================================\n",
      " dense_2 (Dense)             (None, 32)                96        \n",
      "                                                                 \n",
      " dense_3 (Dense)             (None, 1)                 33        \n",
      "                                                                 \n",
      "=================================================================\n",
      "Total params: 129\n",
      "Trainable params: 129\n",
      "Non-trainable params: 0\n",
      "_________________________________________________________________\n"
     ]
    }
   ],
   "source": [
    "model.summary()"
   ]
  },
  {
   "cell_type": "code",
   "execution_count": 61,
   "id": "4a9f92d2-eb40-44ca-b030-921cbb61d893",
   "metadata": {},
   "outputs": [
    {
     "data": {
      "text/plain": [
       "{'name': 'sequential_1',\n",
       " 'layers': [{'class_name': 'InputLayer',\n",
       "   'config': {'batch_input_shape': (None, 2),\n",
       "    'dtype': 'float32',\n",
       "    'sparse': False,\n",
       "    'ragged': False,\n",
       "    'name': 'input_2'}},\n",
       "  {'class_name': 'Dense',\n",
       "   'config': {'name': 'dense_2',\n",
       "    'trainable': True,\n",
       "    'dtype': 'float32',\n",
       "    'units': 32,\n",
       "    'activation': 'relu',\n",
       "    'use_bias': True,\n",
       "    'kernel_initializer': {'class_name': 'GlorotUniform',\n",
       "     'config': {'seed': None}},\n",
       "    'bias_initializer': {'class_name': 'Zeros', 'config': {}},\n",
       "    'kernel_regularizer': None,\n",
       "    'bias_regularizer': None,\n",
       "    'activity_regularizer': None,\n",
       "    'kernel_constraint': None,\n",
       "    'bias_constraint': None}},\n",
       "  {'class_name': 'Dense',\n",
       "   'config': {'name': 'dense_3',\n",
       "    'trainable': True,\n",
       "    'dtype': 'float32',\n",
       "    'units': 1,\n",
       "    'activation': 'sigmoid',\n",
       "    'use_bias': True,\n",
       "    'kernel_initializer': {'class_name': 'GlorotUniform',\n",
       "     'config': {'seed': None}},\n",
       "    'bias_initializer': {'class_name': 'Zeros', 'config': {}},\n",
       "    'kernel_regularizer': None,\n",
       "    'bias_regularizer': None,\n",
       "    'activity_regularizer': None,\n",
       "    'kernel_constraint': None,\n",
       "    'bias_constraint': None}}]}"
      ]
     },
     "execution_count": 61,
     "metadata": {},
     "output_type": "execute_result"
    }
   ],
   "source": [
    "model.get_config()"
   ]
  },
  {
   "cell_type": "markdown",
   "id": "8f390408-4576-44fa-948b-d76b7f2c177f",
   "metadata": {},
   "source": [
    "# Compile"
   ]
  },
  {
   "cell_type": "code",
   "execution_count": 62,
   "id": "a6f19b25-50b2-47e8-a429-c8bc4c79818d",
   "metadata": {},
   "outputs": [],
   "source": [
    "model.compile(loss='binary_crossentropy',\n",
    "              optimizer='adam',\n",
    "              metrics=['accuracy'])"
   ]
  },
  {
   "cell_type": "markdown",
   "id": "4dfa5ca1-a422-493b-aaa7-c645fb51daa6",
   "metadata": {},
   "source": [
    "# Train"
   ]
  },
  {
   "cell_type": "code",
   "execution_count": 63,
   "id": "ff44d1e6-44d1-4aca-b920-47b447645a85",
   "metadata": {},
   "outputs": [
    {
     "name": "stdout",
     "output_type": "stream",
     "text": [
      "Epoch 1/40\n",
      "10/10 [==============================] - 2s 137ms/step - loss: 0.7380 - accuracy: 0.4263 - val_loss: 0.7025 - val_accuracy: 0.5607\n",
      "Epoch 2/40\n",
      "10/10 [==============================] - 0s 6ms/step - loss: 0.6926 - accuracy: 0.6364 - val_loss: 0.6641 - val_accuracy: 0.7850\n",
      "Epoch 3/40\n",
      "10/10 [==============================] - 0s 6ms/step - loss: 0.6513 - accuracy: 0.7931 - val_loss: 0.6294 - val_accuracy: 0.8224\n",
      "Epoch 4/40\n",
      "10/10 [==============================] - 0s 5ms/step - loss: 0.6135 - accuracy: 0.8182 - val_loss: 0.5982 - val_accuracy: 0.8318\n",
      "Epoch 5/40\n",
      "10/10 [==============================] - 0s 5ms/step - loss: 0.5796 - accuracy: 0.8370 - val_loss: 0.5694 - val_accuracy: 0.8505\n",
      "Epoch 6/40\n",
      "10/10 [==============================] - 0s 8ms/step - loss: 0.5484 - accuracy: 0.8558 - val_loss: 0.5427 - val_accuracy: 0.8598\n",
      "Epoch 7/40\n",
      "10/10 [==============================] - 0s 6ms/step - loss: 0.5199 - accuracy: 0.8715 - val_loss: 0.5178 - val_accuracy: 0.8598\n",
      "Epoch 8/40\n",
      "10/10 [==============================] - 0s 8ms/step - loss: 0.4937 - accuracy: 0.8903 - val_loss: 0.4943 - val_accuracy: 0.8692\n",
      "Epoch 9/40\n",
      "10/10 [==============================] - 0s 5ms/step - loss: 0.4680 - accuracy: 0.8966 - val_loss: 0.4731 - val_accuracy: 0.8598\n",
      "Epoch 10/40\n",
      "10/10 [==============================] - 0s 6ms/step - loss: 0.4457 - accuracy: 0.8997 - val_loss: 0.4527 - val_accuracy: 0.8785\n",
      "Epoch 11/40\n",
      "10/10 [==============================] - 0s 6ms/step - loss: 0.4242 - accuracy: 0.9060 - val_loss: 0.4336 - val_accuracy: 0.8785\n",
      "Epoch 12/40\n",
      "10/10 [==============================] - 0s 6ms/step - loss: 0.4043 - accuracy: 0.9091 - val_loss: 0.4160 - val_accuracy: 0.8785\n",
      "Epoch 13/40\n",
      "10/10 [==============================] - 0s 6ms/step - loss: 0.3856 - accuracy: 0.9122 - val_loss: 0.3999 - val_accuracy: 0.8692\n",
      "Epoch 14/40\n",
      "10/10 [==============================] - 0s 6ms/step - loss: 0.3688 - accuracy: 0.9154 - val_loss: 0.3851 - val_accuracy: 0.8692\n",
      "Epoch 15/40\n",
      "10/10 [==============================] - 0s 6ms/step - loss: 0.3533 - accuracy: 0.9185 - val_loss: 0.3717 - val_accuracy: 0.8692\n",
      "Epoch 16/40\n",
      "10/10 [==============================] - 0s 7ms/step - loss: 0.3393 - accuracy: 0.9216 - val_loss: 0.3594 - val_accuracy: 0.8692\n",
      "Epoch 17/40\n",
      "10/10 [==============================] - 0s 7ms/step - loss: 0.3267 - accuracy: 0.9216 - val_loss: 0.3484 - val_accuracy: 0.8785\n",
      "Epoch 18/40\n",
      "10/10 [==============================] - 0s 6ms/step - loss: 0.3146 - accuracy: 0.9185 - val_loss: 0.3388 - val_accuracy: 0.8879\n",
      "Epoch 19/40\n",
      "10/10 [==============================] - 0s 5ms/step - loss: 0.3049 - accuracy: 0.9185 - val_loss: 0.3296 - val_accuracy: 0.9065\n",
      "Epoch 20/40\n",
      "10/10 [==============================] - 0s 6ms/step - loss: 0.2954 - accuracy: 0.9185 - val_loss: 0.3214 - val_accuracy: 0.9065\n",
      "Epoch 21/40\n",
      "10/10 [==============================] - 0s 6ms/step - loss: 0.2869 - accuracy: 0.9185 - val_loss: 0.3144 - val_accuracy: 0.9065\n",
      "Epoch 22/40\n",
      "10/10 [==============================] - 0s 5ms/step - loss: 0.2794 - accuracy: 0.9185 - val_loss: 0.3077 - val_accuracy: 0.9065\n",
      "Epoch 23/40\n",
      "10/10 [==============================] - 0s 6ms/step - loss: 0.2723 - accuracy: 0.9185 - val_loss: 0.3020 - val_accuracy: 0.9065\n",
      "Epoch 24/40\n",
      "10/10 [==============================] - 0s 6ms/step - loss: 0.2664 - accuracy: 0.9185 - val_loss: 0.2964 - val_accuracy: 0.9065\n",
      "Epoch 25/40\n",
      "10/10 [==============================] - 0s 5ms/step - loss: 0.2609 - accuracy: 0.9185 - val_loss: 0.2914 - val_accuracy: 0.9065\n",
      "Epoch 26/40\n",
      "10/10 [==============================] - 0s 7ms/step - loss: 0.2554 - accuracy: 0.9185 - val_loss: 0.2874 - val_accuracy: 0.9065\n",
      "Epoch 27/40\n",
      "10/10 [==============================] - 0s 6ms/step - loss: 0.2512 - accuracy: 0.9185 - val_loss: 0.2832 - val_accuracy: 0.9065\n",
      "Epoch 28/40\n",
      "10/10 [==============================] - 0s 6ms/step - loss: 0.2471 - accuracy: 0.9216 - val_loss: 0.2795 - val_accuracy: 0.9065\n",
      "Epoch 29/40\n",
      "10/10 [==============================] - 0s 6ms/step - loss: 0.2435 - accuracy: 0.9216 - val_loss: 0.2764 - val_accuracy: 0.9065\n",
      "Epoch 30/40\n",
      "10/10 [==============================] - 0s 6ms/step - loss: 0.2400 - accuracy: 0.9216 - val_loss: 0.2731 - val_accuracy: 0.9065\n",
      "Epoch 31/40\n",
      "10/10 [==============================] - 0s 6ms/step - loss: 0.2369 - accuracy: 0.9216 - val_loss: 0.2702 - val_accuracy: 0.9065\n",
      "Epoch 32/40\n",
      "10/10 [==============================] - 0s 6ms/step - loss: 0.2340 - accuracy: 0.9216 - val_loss: 0.2676 - val_accuracy: 0.9065\n",
      "Epoch 33/40\n",
      "10/10 [==============================] - 0s 6ms/step - loss: 0.2315 - accuracy: 0.9216 - val_loss: 0.2650 - val_accuracy: 0.9065\n",
      "Epoch 34/40\n",
      "10/10 [==============================] - 0s 6ms/step - loss: 0.2295 - accuracy: 0.9216 - val_loss: 0.2625 - val_accuracy: 0.9065\n",
      "Epoch 35/40\n",
      "10/10 [==============================] - 0s 6ms/step - loss: 0.2271 - accuracy: 0.9185 - val_loss: 0.2603 - val_accuracy: 0.9065\n",
      "Epoch 36/40\n",
      "10/10 [==============================] - 0s 6ms/step - loss: 0.2253 - accuracy: 0.9216 - val_loss: 0.2584 - val_accuracy: 0.9065\n",
      "Epoch 37/40\n",
      "10/10 [==============================] - 0s 5ms/step - loss: 0.2233 - accuracy: 0.9216 - val_loss: 0.2567 - val_accuracy: 0.9065\n",
      "Epoch 38/40\n",
      "10/10 [==============================] - 0s 6ms/step - loss: 0.2217 - accuracy: 0.9216 - val_loss: 0.2550 - val_accuracy: 0.9065\n",
      "Epoch 39/40\n",
      "10/10 [==============================] - 0s 5ms/step - loss: 0.2202 - accuracy: 0.9216 - val_loss: 0.2535 - val_accuracy: 0.9065\n",
      "Epoch 40/40\n",
      "10/10 [==============================] - 0s 6ms/step - loss: 0.2188 - accuracy: 0.9216 - val_loss: 0.2519 - val_accuracy: 0.9065\n",
      "Time Taken 4.700 secs\n",
      "Time Taken: 4.700 secs\n"
     ]
    }
   ],
   "source": [
    "import time\n",
    "\n",
    "start = time.time()\n",
    "history = model.fit(X_train, y_train, epochs=40, verbose=1, batch_size=32, validation_split=0.25) # 10 +10 40 100\n",
    "end = time.time()\n",
    "\n",
    "print(f\"Time Taken {end - start:.3f} secs\")\n",
    "print(\"Time Taken: {:.3f} secs\".format(end - start))"
   ]
  },
  {
   "cell_type": "markdown",
   "id": "753095ee-4e6b-4aa3-bf67-9cc15b0233cf",
   "metadata": {},
   "source": [
    "# Loss and Accuracy Curves"
   ]
  },
  {
   "cell_type": "code",
   "execution_count": 65,
   "id": "35df1e1c-f386-48c2-a15c-a7d050c17845",
   "metadata": {},
   "outputs": [
    {
     "data": {
      "text/plain": [
       "{'verbose': 1, 'epochs': 40, 'steps': 10}"
      ]
     },
     "execution_count": 65,
     "metadata": {},
     "output_type": "execute_result"
    }
   ],
   "source": [
    "history.params"
   ]
  },
  {
   "cell_type": "code",
   "execution_count": 66,
   "id": "5ad8a70f-755c-4e60-964a-49dbe7c0e13e",
   "metadata": {},
   "outputs": [
    {
     "data": {
      "text/plain": [
       "dict_keys(['loss', 'accuracy', 'val_loss', 'val_accuracy'])"
      ]
     },
     "execution_count": 66,
     "metadata": {},
     "output_type": "execute_result"
    }
   ],
   "source": [
    "history.history.keys()"
   ]
  },
  {
   "cell_type": "code",
   "execution_count": 67,
   "id": "7ff491a1-30c0-42ae-abe7-39685e0a998a",
   "metadata": {},
   "outputs": [
    {
     "data": {
      "image/png": "[encoded data removed]",
      "text/plain": [
       "<Figure size 432x288 with 1 Axes>"
      ]
     },
     "metadata": {
      "needs_background": "light"
     },
     "output_type": "display_data"
    }
   ],
   "source": [
    "\n",
    "plt.plot(history.history['loss'], '--', c='b', lw=2, label='Trainning')\n",
    "plt.plot(history.history['val_loss'], c='r', lw=3, label='Validation')\n",
    "\n",
    "plt.xlabel('Epoch')\n",
    "plt.ylabel('Loss')\n",
    "\n",
    "plt.legend()\n",
    "plt.title('Loss Curve')\n",
    "plt.show()"
   ]
  },
  {
   "cell_type": "code",
   "execution_count": 68,
   "id": "4c1e7f71-c015-4dd6-aca5-42b6fdaf3894",
   "metadata": {},
   "outputs": [
    {
     "data": {
      "image/png": "[encoded data removed]",
      "text/plain": [
       "<Figure size 432x288 with 1 Axes>"
      ]
     },
     "metadata": {
      "needs_background": "light"
     },
     "output_type": "display_data"
    }
   ],
   "source": [
    "plt.plot(history.history['accuracy'], '--', c='b', lw=2, label='Trainning')\n",
    "plt.plot(history.history['val_accuracy'], c='r', lw=3, label='Validation')\n",
    "plt.xlabel('Epoch')\n",
    "plt.ylabel('Loss')\n",
    "plt.legend()\n",
    "plt.title('Accuracy Curve')\n",
    "plt.show()"
   ]
  },
  {
   "cell_type": "markdown",
   "id": "5cc69598-67a0-4d4c-aff3-d610af8be03c",
   "metadata": {},
   "source": [
    "# Tensor board"
   ]
  },
  {
   "cell_type": "code",
   "execution_count": 69,
   "id": "83618165-b4bc-4b05-8abe-c665c10805b9",
   "metadata": {},
   "outputs": [],
   "source": [
    "from keras.callbacks import TensorBoard\n",
    "\n",
    "history = model.fit(X_train, y_train, epochs=40, verbose=0, \n",
    "                    batch_size=32, validation_split=0.25,\n",
    "                    callbacks=[TensorBoard(log_dir='./log')])  "
   ]
  },
  {
   "cell_type": "code",
   "execution_count": 70,
   "id": "e44fc754-700c-4c80-8479-e3932c2249fc",
   "metadata": {},
   "outputs": [
    {
     "data": {
      "text/html": [
       "\n",
       "      <iframe id=\"tensorboard-frame-e5135beb4152c2d7\" width=\"100%\" height=\"800\" frameborder=\"0\">\n",
       "      </iframe>\n",
       "      <script>\n",
       "        (function() {\n",
       "          const frame = document.getElementById(\"tensorboard-frame-e5135beb4152c2d7\");\n",
       "          const url = new URL(\"/\", window.location);\n",
       "          const port = 6006;\n",
       "          if (port) {\n",
       "            url.port = port;\n",
       "          }\n",
       "          frame.src = url;\n",
       "        })();\n",
       "      </script>\n",
       "    "
      ],
      "text/plain": [
       "<IPython.core.display.HTML object>"
      ]
     },
     "metadata": {},
     "output_type": "display_data"
    }
   ],
   "source": [
    "%load_ext tensorboard\n",
    "# %reload_ext tensorboard\n",
    "%tensorboard --logdir ./log"
   ]
  },
  {
   "cell_type": "markdown",
   "id": "49248141-a3be-4663-a282-c536c099e224",
   "metadata": {},
   "source": [
    "# Evaluate\n",
    "epochs=10, Hidden=32, accuracy: 0.8252 <br>\n",
    "epochs=20 (train +10), Hidden=32, accuracy: 0.85 <br>\n",
    "epochs=40, Hidden=32, accuracy: 0.86"
   ]
  },
  {
   "cell_type": "code",
   "execution_count": 72,
   "id": "ad823d21-b096-4ef8-a2ba-b6ff5d49494c",
   "metadata": {},
   "outputs": [
    {
     "name": "stdout",
     "output_type": "stream",
     "text": [
      "Test loss: 0.35106340050697327\n",
      "Test accuracy: 0.8531\n"
     ]
    }
   ],
   "source": [
    "score = model.evaluate(X_test, y_test, verbose=0)\n",
    "print(\"Test loss:\", score[0])\n",
    "print(f\"Test accuracy: {score[1]:.4f}\")"
   ]
  },
  {
   "cell_type": "code",
   "execution_count": 73,
   "id": "818dfcb7-1897-4781-959d-626813f3e7b3",
   "metadata": {},
   "outputs": [
    {
     "name": "stdout",
     "output_type": "stream",
     "text": [
      "5/5 [==============================] - 0s 2ms/step\n"
     ]
    },
    {
     "data": {
      "text/plain": [
       "array([[0.9274392 ],\n",
       "       [0.9082005 ],\n",
       "       [0.9642782 ],\n",
       "       [0.03854415]], dtype=float32)"
      ]
     },
     "execution_count": 73,
     "metadata": {},
     "output_type": "execute_result"
    }
   ],
   "source": [
    "y_pred_pr = model.predict(X_test)\n",
    "y_pred_pr[:4]"
   ]
  },
  {
   "cell_type": "code",
   "execution_count": 74,
   "id": "486c487d-873b-44a6-93aa-e29f42c5b6f8",
   "metadata": {},
   "outputs": [
    {
     "data": {
      "text/plain": [
       "array([[1],\n",
       "       [1],\n",
       "       [1],\n",
       "       [0]])"
      ]
     },
     "execution_count": 74,
     "metadata": {},
     "output_type": "execute_result"
    }
   ],
   "source": [
    "y_pred = (y_pred_pr > 0.5).astype(int)  \n",
    "# y_pred = np.where(y_pred_pr > .5, 1,0)\n",
    "\n",
    "y_pred[:4]"
   ]
  },
  {
   "cell_type": "code",
   "execution_count": 75,
   "id": "d984aa47-5e51-4357-b7a8-c65f60e587b3",
   "metadata": {},
   "outputs": [
    {
     "name": "stdout",
     "output_type": "stream",
     "text": [
      "Score-> 0.8531468510627747\n",
      "              precision    recall  f1-score   support\n",
      "\n",
      "           0       0.84      0.76      0.80        55\n",
      "           1       0.86      0.91      0.88        88\n",
      "\n",
      "    accuracy                           0.85       143\n",
      "   macro avg       0.85      0.84      0.84       143\n",
      "weighted avg       0.85      0.85      0.85       143\n",
      "\n",
      "[[42 13]\n",
      " [ 8 80]]\n"
     ]
    }
   ],
   "source": [
    "from sklearn.metrics import classification_report, confusion_matrix\n",
    "\n",
    "print('Score->',score[1])\n",
    "\n",
    "print(classification_report(y_test, y_pred))\n",
    "print(confusion_matrix(y_test, y_pred))"
   ]
  },
  {
   "cell_type": "code",
   "execution_count": 76,
   "id": "0c74ed8b-9018-4bae-a293-2c3655319837",
   "metadata": {},
   "outputs": [
    {
     "data": {
      "image/png": "[encoded data removed]",
      "text/plain": [
       "<Figure size 432x288 with 2 Axes>"
      ]
     },
     "metadata": {
      "needs_background": "light"
     },
     "output_type": "display_data"
    }
   ],
   "source": [
    "from sklearn.metrics import confusion_matrix, ConfusionMatrixDisplay\n",
    "\n",
    "cm = confusion_matrix(y_test, y_pred)   ## <-- \n",
    "ConfusionMatrixDisplay(cm, display_labels=class_names).plot()\n",
    "plt.title('Confusion Matrix')\n",
    "plt.show()"
   ]
  },
  {
   "cell_type": "code",
   "execution_count": null,
   "id": "af9f97f1-978f-40c3-8d82-cba35590583c",
   "metadata": {},
   "outputs": [],
   "source": []
  }
 ],
 "metadata": {
  "kernelspec": {
   "display_name": "Python 3 (ipykernel)",
   "language": "python",
   "name": "python3"
  },
  "language_info": {
   "codemirror_mode": {
    "name": "ipython",
    "version": 3
   },
   "file_extension": ".py",
   "mimetype": "text/x-python",
   "name": "python",
   "nbconvert_exporter": "python",
   "pygments_lexer": "ipython3",
   "version": "3.9.12"
  }
 },
 "nbformat": 4,
 "nbformat_minor": 5
}
