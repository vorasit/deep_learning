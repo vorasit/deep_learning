{
 "cells": [
  {
   "cell_type": "markdown",
   "metadata": {},
   "source": [
    "# Artificial Neuron/Perceptron\n"
   ]
  },
  {
   "cell_type": "code",
   "execution_count": null,
   "metadata": {},
   "outputs": [],
   "source": [
    "import numpy as np\n",
    "\n",
    "X = [[0, 0], \n",
    "     [0, 1], \n",
    "     [1, 0], \n",
    "     [1, 1]]\n",
    "\n",
    "X_train = np.array(X) \n",
    "\n",
    "# y = [0, 0, 0, 1]    # target (y) for AND gate\n",
    "y = [0, 1, 1, 1]  # OR Gate\n",
    "# y = [0, 1, 1, 0]  # XOR\n",
    "y_train = np.array(y)"
   ]
  },
  {
   "cell_type": "markdown",
   "metadata": {},
   "source": [
    "## Train"
   ]
  },
  {
   "cell_type": "code",
   "execution_count": null,
   "metadata": {},
   "outputs": [],
   "source": [
    "from sklearn.linear_model import Perceptron\n",
    "\n",
    "# model = Perceptron(random_state=0, verbose=False)\n",
    "model = Perceptron(random_state=0, verbose=True)\n",
    "# model = Perceptron()\n",
    "\n",
    "model.fit(X_train, y_train)"
   ]
  },
  {
   "cell_type": "markdown",
   "metadata": {},
   "source": [
    " ## Evaluate"
   ]
  },
  {
   "cell_type": "code",
   "execution_count": null,
   "metadata": {},
   "outputs": [],
   "source": [
    "print('score:', model.score(X_train, y_train)) \n",
    "print('predicted:', model.predict(X_train))\n",
    "print('target:   ', np.array(y))"
   ]
  },
  {
   "cell_type": "markdown",
   "metadata": {},
   "source": [
    "## Weight and bias"
   ]
  },
  {
   "cell_type": "code",
   "execution_count": null,
   "metadata": {},
   "outputs": [],
   "source": [
    "print('weight [w1 w2] =',model.coef_[0]) \n",
    "print('w0 (bias) =',model.intercept_[0])"
   ]
  },
  {
   "cell_type": "markdown",
   "metadata": {},
   "source": [
    "## Predict"
   ]
  },
  {
   "cell_type": "code",
   "execution_count": null,
   "metadata": {},
   "outputs": [],
   "source": [
    "X_train"
   ]
  },
  {
   "cell_type": "code",
   "execution_count": null,
   "metadata": {},
   "outputs": [],
   "source": [
    "X_new = X_train\n",
    "\n",
    "model.predict(X_new)"
   ]
  },
  {
   "cell_type": "code",
   "execution_count": null,
   "metadata": {},
   "outputs": [],
   "source": [
    "X_new = [[0, 1]]\n",
    "\n",
    "model.predict(X_new)"
   ]
  },
  {
   "cell_type": "code",
   "execution_count": null,
   "metadata": {},
   "outputs": [],
   "source": [
    "X_new = [[1, 1]]\n",
    "\n",
    "model.predict(X_new)"
   ]
  },
  {
   "cell_type": "code",
   "execution_count": null,
   "metadata": {},
   "outputs": [],
   "source": [
    "X_new = [[0, 1],\n",
    "         [1, 1]]\n",
    "\n",
    "model.predict(X_new)"
   ]
  },
  {
   "cell_type": "markdown",
   "metadata": {},
   "source": [
    "## Perceptron ด้วย Python ไม่ใช้ Library (Scratch Code)"
   ]
  },
  {
   "cell_type": "code",
   "execution_count": null,
   "metadata": {},
   "outputs": [],
   "source": [
    "# scratch code\n",
    "def and_gate(x1, x2):\n",
    "    w0 = -1  # bias\n",
    "    w1 = 2\n",
    "    w2 = 2\n",
    "  \n",
    "    threshold = 0.0 \n",
    "    \n",
    "    s = w0 + (w1 * x1) + (w2 * x2) \n",
    "\n",
    "    if s > threshold:  #\n",
    "        result = 1\n",
    "    else:\n",
    "        result = 0\n",
    "        \n",
    "    print('output y={}   [s={:.2f}]' . format(result, s))\n",
    "\n",
    "and_gate(0, 0)\n",
    "and_gate(0, 1)\n",
    "and_gate(1, 0)\n",
    "and_gate(1, 1)"
   ]
  },
  {
   "cell_type": "code",
   "execution_count": null,
   "metadata": {},
   "outputs": [],
   "source": [
    "## Try Workshop: Verbal = True"
   ]
  },
  {
   "cell_type": "markdown",
   "metadata": {},
   "source": [
    "## XOR \n",
    "สร้าง XOR Gate ด้วย Neuron (Perceptrion) โดย Scikit-learn"
   ]
  },
  {
   "cell_type": "code",
   "execution_count": null,
   "metadata": {},
   "outputs": [],
   "source": [
    "import numpy as np\n",
    "\n",
    "X = [[0, 0], \n",
    "     [0, 1], \n",
    "     [1, 0], \n",
    "     [1, 1]]\n",
    "\n",
    "X_train = np.array(X) \n",
    "\n",
    "# y = [0, 0, 0, 1]    # target (y) for AND gate\n",
    "# y = [0, 1, 1, 1]  # OR Gate\n",
    "y = [0, 1, 1, 0]  # XOR\n",
    "y_train = np.array(y)"
   ]
  },
  {
   "cell_type": "code",
   "execution_count": null,
   "metadata": {},
   "outputs": [],
   "source": []
  }
 ],
 "metadata": {
  "kernelspec": {
   "display_name": "Python 3 (ipykernel)",
   "language": "python",
   "name": "python3"
  },
  "language_info": {
   "codemirror_mode": {
    "name": "ipython",
    "version": 3
   },
   "file_extension": ".py",
   "mimetype": "text/x-python",
   "name": "python",
   "nbconvert_exporter": "python",
   "pygments_lexer": "ipython3",
   "version": "3.10.4"
  }
 },
 "nbformat": 4,
 "nbformat_minor": 4
}
