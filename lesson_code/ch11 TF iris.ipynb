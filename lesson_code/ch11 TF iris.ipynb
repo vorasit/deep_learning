{
 "cells": [
  {
   "cell_type": "markdown",
   "id": "296a98f5-4a2d-495c-bd06-937342ab6845",
   "metadata": {},
   "source": [
    "# ANN - Iris\n",
    "- TensorFlow & Keras \n",
    "-3 class (Multi-class Classification)"
   ]
  },
  {
   "cell_type": "code",
   "execution_count": 1,
   "id": "500acb6a-f5d5-4da3-885e-b5d3766cd25c",
   "metadata": {},
   "outputs": [],
   "source": [
    "import pandas as pd\n",
    "import numpy as np\n",
    "import seaborn as sns\n",
    "import matplotlib.pyplot as plt"
   ]
  },
  {
   "cell_type": "markdown",
   "id": "751fd190-041f-4047-9b82-67298bbff55a",
   "metadata": {},
   "source": [
    "## Dataset"
   ]
  },
  {
   "cell_type": "code",
   "execution_count": 2,
   "id": "2d812440-a6cd-4d19-891e-67eba9049905",
   "metadata": {},
   "outputs": [
    {
     "data": {
      "text/html": [
       "<div>\n",
       "<style scoped>\n",
       "    .dataframe tbody tr th:only-of-type {\n",
       "        vertical-align: middle;\n",
       "    }\n",
       "\n",
       "    .dataframe tbody tr th {\n",
       "        vertical-align: top;\n",
       "    }\n",
       "\n",
       "    .dataframe thead th {\n",
       "        text-align: right;\n",
       "    }\n",
       "</style>\n",
       "<table border=\"1\" class=\"dataframe\">\n",
       "  <thead>\n",
       "    <tr style=\"text-align: right;\">\n",
       "      <th></th>\n",
       "      <th>sepal_length</th>\n",
       "      <th>sepal_width</th>\n",
       "      <th>petal_length</th>\n",
       "      <th>petal_width</th>\n",
       "      <th>species</th>\n",
       "    </tr>\n",
       "  </thead>\n",
       "  <tbody>\n",
       "    <tr>\n",
       "      <th>14</th>\n",
       "      <td>5.8</td>\n",
       "      <td>4.0</td>\n",
       "      <td>1.2</td>\n",
       "      <td>0.2</td>\n",
       "      <td>setosa</td>\n",
       "    </tr>\n",
       "    <tr>\n",
       "      <th>98</th>\n",
       "      <td>5.1</td>\n",
       "      <td>2.5</td>\n",
       "      <td>3.0</td>\n",
       "      <td>1.1</td>\n",
       "      <td>versicolor</td>\n",
       "    </tr>\n",
       "    <tr>\n",
       "      <th>75</th>\n",
       "      <td>6.6</td>\n",
       "      <td>3.0</td>\n",
       "      <td>4.4</td>\n",
       "      <td>1.4</td>\n",
       "      <td>versicolor</td>\n",
       "    </tr>\n",
       "    <tr>\n",
       "      <th>16</th>\n",
       "      <td>5.4</td>\n",
       "      <td>3.9</td>\n",
       "      <td>1.3</td>\n",
       "      <td>0.4</td>\n",
       "      <td>setosa</td>\n",
       "    </tr>\n",
       "    <tr>\n",
       "      <th>131</th>\n",
       "      <td>7.9</td>\n",
       "      <td>3.8</td>\n",
       "      <td>6.4</td>\n",
       "      <td>2.0</td>\n",
       "      <td>virginica</td>\n",
       "    </tr>\n",
       "  </tbody>\n",
       "</table>\n",
       "</div>"
      ],
      "text/plain": [
       "     sepal_length  sepal_width  petal_length  petal_width     species\n",
       "14            5.8          4.0           1.2          0.2      setosa\n",
       "98            5.1          2.5           3.0          1.1  versicolor\n",
       "75            6.6          3.0           4.4          1.4  versicolor\n",
       "16            5.4          3.9           1.3          0.4      setosa\n",
       "131           7.9          3.8           6.4          2.0   virginica"
      ]
     },
     "execution_count": 2,
     "metadata": {},
     "output_type": "execute_result"
    }
   ],
   "source": [
    "df = sns.load_dataset('iris')\n",
    "# df.head()\n",
    "df.sample(5, random_state=1)"
   ]
  },
  {
   "cell_type": "code",
   "execution_count": 3,
   "id": "b7e796df-4f71-4bf8-8d4a-fd5ebf0e5f43",
   "metadata": {},
   "outputs": [
    {
     "data": {
      "text/plain": [
       "sepal_length    0\n",
       "sepal_width     0\n",
       "petal_length    0\n",
       "petal_width     0\n",
       "species         0\n",
       "dtype: int64"
      ]
     },
     "execution_count": 3,
     "metadata": {},
     "output_type": "execute_result"
    }
   ],
   "source": [
    "df.isnull().sum()"
   ]
  },
  {
   "cell_type": "code",
   "execution_count": 4,
   "id": "3bbd3804-2efb-4961-8b3b-80caf0a35742",
   "metadata": {},
   "outputs": [
    {
     "data": {
      "image/png": "[encoded data removed]",
      "text/plain": [
       "<Figure size 432x288 with 1 Axes>"
      ]
     },
     "metadata": {
      "needs_background": "light"
     },
     "output_type": "display_data"
    }
   ],
   "source": [
    "sns.scatterplot(x='petal_length', y='petal_width', data=df, hue='species', style='species', \n",
    "                alpha=0.85, edgecolor='w', s=100)\n",
    "plt.show()"
   ]
  },
  {
   "cell_type": "code",
   "execution_count": 5,
   "id": "ff69f8dc-6a22-4d64-ac19-bba51d1a1a05",
   "metadata": {},
   "outputs": [
    {
     "data": {
      "text/plain": [
       "array(['setosa', 'versicolor', 'virginica'], dtype=object)"
      ]
     },
     "execution_count": 5,
     "metadata": {},
     "output_type": "execute_result"
    }
   ],
   "source": [
    "class_names = np.unique(df.species)\n",
    "class_names"
   ]
  },
  {
   "cell_type": "markdown",
   "id": "eb538234-a5e6-419b-8e49-5c56a4c5deca",
   "metadata": {},
   "source": [
    "## X and y"
   ]
  },
  {
   "cell_type": "code",
   "execution_count": 6,
   "id": "d43494d5-8f4a-4ba5-bb36-f7beafe7678f",
   "metadata": {},
   "outputs": [
    {
     "data": {
      "text/html": [
       "<div>\n",
       "<style scoped>\n",
       "    .dataframe tbody tr th:only-of-type {\n",
       "        vertical-align: middle;\n",
       "    }\n",
       "\n",
       "    .dataframe tbody tr th {\n",
       "        vertical-align: top;\n",
       "    }\n",
       "\n",
       "    .dataframe thead th {\n",
       "        text-align: right;\n",
       "    }\n",
       "</style>\n",
       "<table border=\"1\" class=\"dataframe\">\n",
       "  <thead>\n",
       "    <tr style=\"text-align: right;\">\n",
       "      <th></th>\n",
       "      <th>sepal_length</th>\n",
       "      <th>sepal_width</th>\n",
       "      <th>petal_length</th>\n",
       "      <th>petal_width</th>\n",
       "    </tr>\n",
       "  </thead>\n",
       "  <tbody>\n",
       "    <tr>\n",
       "      <th>14</th>\n",
       "      <td>5.8</td>\n",
       "      <td>4.0</td>\n",
       "      <td>1.2</td>\n",
       "      <td>0.2</td>\n",
       "    </tr>\n",
       "    <tr>\n",
       "      <th>98</th>\n",
       "      <td>5.1</td>\n",
       "      <td>2.5</td>\n",
       "      <td>3.0</td>\n",
       "      <td>1.1</td>\n",
       "    </tr>\n",
       "    <tr>\n",
       "      <th>75</th>\n",
       "      <td>6.6</td>\n",
       "      <td>3.0</td>\n",
       "      <td>4.4</td>\n",
       "      <td>1.4</td>\n",
       "    </tr>\n",
       "    <tr>\n",
       "      <th>16</th>\n",
       "      <td>5.4</td>\n",
       "      <td>3.9</td>\n",
       "      <td>1.3</td>\n",
       "      <td>0.4</td>\n",
       "    </tr>\n",
       "    <tr>\n",
       "      <th>131</th>\n",
       "      <td>7.9</td>\n",
       "      <td>3.8</td>\n",
       "      <td>6.4</td>\n",
       "      <td>2.0</td>\n",
       "    </tr>\n",
       "    <tr>\n",
       "      <th>56</th>\n",
       "      <td>6.3</td>\n",
       "      <td>3.3</td>\n",
       "      <td>4.7</td>\n",
       "      <td>1.6</td>\n",
       "    </tr>\n",
       "  </tbody>\n",
       "</table>\n",
       "</div>"
      ],
      "text/plain": [
       "     sepal_length  sepal_width  petal_length  petal_width\n",
       "14            5.8          4.0           1.2          0.2\n",
       "98            5.1          2.5           3.0          1.1\n",
       "75            6.6          3.0           4.4          1.4\n",
       "16            5.4          3.9           1.3          0.4\n",
       "131           7.9          3.8           6.4          2.0\n",
       "56            6.3          3.3           4.7          1.6"
      ]
     },
     "execution_count": 6,
     "metadata": {},
     "output_type": "execute_result"
    }
   ],
   "source": [
    "X = df.drop('species', axis=1)\n",
    "# X.head(6)\n",
    "X.sample(6, random_state=1)"
   ]
  },
  {
   "cell_type": "code",
   "execution_count": 7,
   "id": "f3d9b8bc-95c7-40e9-b928-4f21a08504d7",
   "metadata": {},
   "outputs": [
    {
     "data": {
      "text/html": [
       "<div>\n",
       "<style scoped>\n",
       "    .dataframe tbody tr th:only-of-type {\n",
       "        vertical-align: middle;\n",
       "    }\n",
       "\n",
       "    .dataframe tbody tr th {\n",
       "        vertical-align: top;\n",
       "    }\n",
       "\n",
       "    .dataframe thead th {\n",
       "        text-align: right;\n",
       "    }\n",
       "</style>\n",
       "<table border=\"1\" class=\"dataframe\">\n",
       "  <thead>\n",
       "    <tr style=\"text-align: right;\">\n",
       "      <th></th>\n",
       "      <th>sepal_length</th>\n",
       "      <th>sepal_width</th>\n",
       "      <th>petal_length</th>\n",
       "      <th>petal_width</th>\n",
       "    </tr>\n",
       "  </thead>\n",
       "  <tbody>\n",
       "    <tr>\n",
       "      <th>0</th>\n",
       "      <td>5.1</td>\n",
       "      <td>3.5</td>\n",
       "      <td>1.4</td>\n",
       "      <td>0.2</td>\n",
       "    </tr>\n",
       "    <tr>\n",
       "      <th>1</th>\n",
       "      <td>4.9</td>\n",
       "      <td>3.0</td>\n",
       "      <td>1.4</td>\n",
       "      <td>0.2</td>\n",
       "    </tr>\n",
       "    <tr>\n",
       "      <th>2</th>\n",
       "      <td>4.7</td>\n",
       "      <td>3.2</td>\n",
       "      <td>1.3</td>\n",
       "      <td>0.2</td>\n",
       "    </tr>\n",
       "    <tr>\n",
       "      <th>3</th>\n",
       "      <td>4.6</td>\n",
       "      <td>3.1</td>\n",
       "      <td>1.5</td>\n",
       "      <td>0.2</td>\n",
       "    </tr>\n",
       "    <tr>\n",
       "      <th>4</th>\n",
       "      <td>5.0</td>\n",
       "      <td>3.6</td>\n",
       "      <td>1.4</td>\n",
       "      <td>0.2</td>\n",
       "    </tr>\n",
       "  </tbody>\n",
       "</table>\n",
       "</div>"
      ],
      "text/plain": [
       "   sepal_length  sepal_width  petal_length  petal_width\n",
       "0           5.1          3.5           1.4          0.2\n",
       "1           4.9          3.0           1.4          0.2\n",
       "2           4.7          3.2           1.3          0.2\n",
       "3           4.6          3.1           1.5          0.2\n",
       "4           5.0          3.6           1.4          0.2"
      ]
     },
     "execution_count": 7,
     "metadata": {},
     "output_type": "execute_result"
    }
   ],
   "source": [
    "X[:5]"
   ]
  },
  {
   "cell_type": "code",
   "execution_count": 8,
   "id": "63d67fad-dca9-456a-b023-c5e2d5629595",
   "metadata": {},
   "outputs": [],
   "source": [
    "y = df.species"
   ]
  },
  {
   "cell_type": "code",
   "execution_count": 9,
   "id": "7afc64f5-c733-4c5c-9d5f-039bdde044c8",
   "metadata": {},
   "outputs": [
    {
     "data": {
      "text/plain": [
       "0    setosa\n",
       "1    setosa\n",
       "2    setosa\n",
       "3    setosa\n",
       "4    setosa\n",
       "Name: species, dtype: object"
      ]
     },
     "execution_count": 9,
     "metadata": {},
     "output_type": "execute_result"
    }
   ],
   "source": [
    "y[:5]\n",
    "# y[45:105]"
   ]
  },
  {
   "cell_type": "markdown",
   "id": "43d09a2f-c576-45b3-85bb-ca2fd5274348",
   "metadata": {},
   "source": [
    "## Feature Scaling"
   ]
  },
  {
   "cell_type": "code",
   "execution_count": 10,
   "id": "95475465-c940-46d4-a948-b762600aecea",
   "metadata": {},
   "outputs": [
    {
     "data": {
      "text/plain": [
       "array([[-0.90068117,  1.01900435, -1.34022653, -1.3154443 ],\n",
       "       [-1.14301691, -0.13197948, -1.34022653, -1.3154443 ],\n",
       "       [-1.38535265,  0.32841405, -1.39706395, -1.3154443 ],\n",
       "       [-1.50652052,  0.09821729, -1.2833891 , -1.3154443 ]])"
      ]
     },
     "execution_count": 10,
     "metadata": {},
     "output_type": "execute_result"
    }
   ],
   "source": [
    "from sklearn.preprocessing import StandardScaler\n",
    "\n",
    "sc = StandardScaler()\n",
    "X_sc = sc.fit_transform(X)\n",
    "X_sc[:4]"
   ]
  },
  {
   "cell_type": "markdown",
   "id": "3d4697ad-0203-4638-9414-f7e11dcc5127",
   "metadata": {},
   "source": [
    "## Train-test Split"
   ]
  },
  {
   "cell_type": "code",
   "execution_count": 11,
   "id": "24f15445-138e-438a-858c-706c35698d14",
   "metadata": {},
   "outputs": [
    {
     "data": {
      "text/plain": [
       "((112, 4), (38, 4))"
      ]
     },
     "execution_count": 11,
     "metadata": {},
     "output_type": "execute_result"
    }
   ],
   "source": [
    "from sklearn.model_selection import train_test_split\n",
    "\n",
    "X_train, X_test, y_train, y_test = train_test_split(X_sc, y, test_size=0.25, random_state=1) #\n",
    "\n",
    "X_train.shape, X_test.shape"
   ]
  },
  {
   "cell_type": "code",
   "execution_count": 12,
   "id": "8330f139-90c7-49f1-96cf-8b47c8f4cfa1",
   "metadata": {},
   "outputs": [
    {
     "data": {
      "text/plain": [
       "((112,), (38,))"
      ]
     },
     "execution_count": 12,
     "metadata": {},
     "output_type": "execute_result"
    }
   ],
   "source": [
    "y_train.shape, y_test.shape "
   ]
  },
  {
   "cell_type": "code",
   "execution_count": 13,
   "id": "0d3a67ce-f76b-4d22-a241-a47cba004238",
   "metadata": {},
   "outputs": [
    {
     "data": {
      "text/plain": [
       "54     versicolor\n",
       "108     virginica\n",
       "112     virginica\n",
       "17         setosa\n",
       "119     virginica\n",
       "Name: species, dtype: object"
      ]
     },
     "execution_count": 13,
     "metadata": {},
     "output_type": "execute_result"
    }
   ],
   "source": [
    "y_train[:5]"
   ]
  },
  {
   "cell_type": "code",
   "execution_count": 14,
   "id": "d34a2d88-d6b4-4302-a68d-6a2b2ef97100",
   "metadata": {},
   "outputs": [
    {
     "data": {
      "text/plain": [
       "14         setosa\n",
       "98     versicolor\n",
       "75     versicolor\n",
       "16         setosa\n",
       "131     virginica\n",
       "Name: species, dtype: object"
      ]
     },
     "execution_count": 14,
     "metadata": {},
     "output_type": "execute_result"
    }
   ],
   "source": [
    "y_test[:5]"
   ]
  },
  {
   "cell_type": "markdown",
   "id": "62d64d3f-d0c8-4533-b726-1bbe6452a8f9",
   "metadata": {},
   "source": [
    "## One-Hot Encoding"
   ]
  },
  {
   "cell_type": "code",
   "execution_count": 15,
   "id": "1759ba93-5d85-47e6-a951-80a9818866b3",
   "metadata": {},
   "outputs": [
    {
     "name": "stdout",
     "output_type": "stream",
     "text": [
      "['setosa' 'versicolor' 'virginica']\n",
      "['setosa' 'versicolor' 'virginica']\n"
     ]
    }
   ],
   "source": [
    "from tensorflow.keras.utils import to_categorical\n",
    "\n",
    "def one_hot_encode(arr):\n",
    "    categories, ids = np.unique(arr, return_inverse=True)\n",
    "    print(categories)\n",
    "    return to_categorical(ids, len(categories))\n",
    "\n",
    "y_train_1h = one_hot_encode(y_train).astype('int')\n",
    "y_test_1h = one_hot_encode(y_test).astype('int')"
   ]
  },
  {
   "cell_type": "code",
   "execution_count": 16,
   "id": "fc7dd1d2-a73c-4870-92a1-a4602d88bcb7",
   "metadata": {},
   "outputs": [
    {
     "data": {
      "text/plain": [
       "array([[0, 1, 0],\n",
       "       [0, 0, 1],\n",
       "       [0, 0, 1],\n",
       "       [1, 0, 0]])"
      ]
     },
     "execution_count": 16,
     "metadata": {},
     "output_type": "execute_result"
    }
   ],
   "source": [
    "y_train_1h[:4]"
   ]
  },
  {
   "cell_type": "code",
   "execution_count": 17,
   "id": "14e974e9-265e-4324-86a7-0e757dbe9928",
   "metadata": {},
   "outputs": [
    {
     "data": {
      "text/plain": [
       "array([[1, 0, 0],\n",
       "       [0, 1, 0],\n",
       "       [0, 1, 0],\n",
       "       [1, 0, 0]])"
      ]
     },
     "execution_count": 17,
     "metadata": {},
     "output_type": "execute_result"
    }
   ],
   "source": [
    "y_test_1h[:4]"
   ]
  },
  {
   "cell_type": "code",
   "execution_count": 18,
   "id": "55b58507-3a8e-42a7-9313-4543458c23ad",
   "metadata": {},
   "outputs": [
    {
     "data": {
      "text/plain": [
       "((112, 3), (38, 3))"
      ]
     },
     "execution_count": 18,
     "metadata": {},
     "output_type": "execute_result"
    }
   ],
   "source": [
    "y_train_1h.shape, y_test_1h.shape "
   ]
  },
  {
   "cell_type": "code",
   "execution_count": 19,
   "id": "8dfbcd71-319f-4de1-bff4-f961747e156f",
   "metadata": {},
   "outputs": [
    {
     "data": {
      "text/plain": [
       "array([[ 0.79566902, -0.59237301,  0.47857113,  0.3957741 ],\n",
       "       [ 1.03800476, -1.28296331,  1.16062026,  0.79067065],\n",
       "       [ 1.15917263, -0.13197948,  0.99010798,  1.18556721],\n",
       "       [-0.90068117,  1.01900435, -1.34022653, -1.18381211]])"
      ]
     },
     "execution_count": 19,
     "metadata": {},
     "output_type": "execute_result"
    }
   ],
   "source": [
    "X_train[:4]"
   ]
  },
  {
   "cell_type": "code",
   "execution_count": 20,
   "id": "afeef49a-af9f-4044-bcfd-bcfdb7524b40",
   "metadata": {},
   "outputs": [
    {
     "data": {
      "text/plain": [
       "54     versicolor\n",
       "108     virginica\n",
       "112     virginica\n",
       "17         setosa\n",
       "Name: species, dtype: object"
      ]
     },
     "execution_count": 20,
     "metadata": {},
     "output_type": "execute_result"
    }
   ],
   "source": [
    "y_train[:4]"
   ]
  },
  {
   "cell_type": "code",
   "execution_count": 21,
   "id": "45f201cf-4c24-45c1-a98a-b2c1868ea1ab",
   "metadata": {},
   "outputs": [
    {
     "data": {
      "text/plain": [
       "array([[0, 1, 0],\n",
       "       [0, 0, 1],\n",
       "       [0, 0, 1],\n",
       "       [1, 0, 0]])"
      ]
     },
     "execution_count": 21,
     "metadata": {},
     "output_type": "execute_result"
    }
   ],
   "source": [
    "y_train_1h[:4]"
   ]
  },
  {
   "cell_type": "markdown",
   "id": "0db7ceba-63c1-479a-a57b-7b0721d4b0e3",
   "metadata": {},
   "source": [
    "## Model\n",
    "- Create a Model\n",
    "- Compile\n",
    "- Train"
   ]
  },
  {
   "cell_type": "markdown",
   "id": "c4e5287d-452b-480f-b178-6b14dd7e8262",
   "metadata": {},
   "source": [
    "### Create\n"
   ]
  },
  {
   "cell_type": "code",
   "execution_count": 162,
   "id": "71820c44-f920-470b-b12a-dcbe4762eb59",
   "metadata": {},
   "outputs": [],
   "source": [
    "from tensorflow.keras import Sequential\n",
    "from tensorflow.keras.layers import Dense \n",
    "\n",
    "model = Sequential()\n",
    "\n",
    "hidden_node = 64\n",
    "model.add(Dense(hidden_node, activation='relu', input_shape=(4,))) \n",
    "# model.add(Dense(128, activation='relu))\n",
    "\n",
    "model.add(Dense(3, activation='softmax'))     # 3 class ขึ้นไป (Multi-class classification)\n",
    "# model.add(Dense(1, activation='sigmoid'))   # 2 class (Binary classification)"
   ]
  },
  {
   "cell_type": "code",
   "execution_count": 163,
   "id": "f2b64147-c44f-45da-990b-142a6a873098",
   "metadata": {},
   "outputs": [
    {
     "name": "stdout",
     "output_type": "stream",
     "text": [
      "Model: \"sequential_9\"\n",
      "_________________________________________________________________\n",
      " Layer (type)                Output Shape              Param #   \n",
      "=================================================================\n",
      " dense_18 (Dense)            (None, 64)                320       \n",
      "                                                                 \n",
      " dense_19 (Dense)            (None, 3)                 195       \n",
      "                                                                 \n",
      "=================================================================\n",
      "Total params: 515\n",
      "Trainable params: 515\n",
      "Non-trainable params: 0\n",
      "_________________________________________________________________\n"
     ]
    }
   ],
   "source": [
    "model.summary()"
   ]
  },
  {
   "cell_type": "code",
   "execution_count": 164,
   "id": "5c9b2ca3-e401-4fa9-b56f-4f90c4db8874",
   "metadata": {
    "tags": []
   },
   "outputs": [
    {
     "data": {
      "text/plain": [
       "(None, 3)"
      ]
     },
     "execution_count": 164,
     "metadata": {},
     "output_type": "execute_result"
    }
   ],
   "source": [
    "model.output_shape"
   ]
  },
  {
   "cell_type": "code",
   "execution_count": 165,
   "id": "801417a1-2a50-46eb-8c2b-67902b5d35e5",
   "metadata": {
    "tags": []
   },
   "outputs": [],
   "source": [
    "# model.get_config()"
   ]
  },
  {
   "cell_type": "markdown",
   "id": "daa3bd16-9cd6-4b4a-a9ef-cd38fdf0345e",
   "metadata": {},
   "source": [
    "### Compile & Train"
   ]
  },
  {
   "cell_type": "code",
   "execution_count": 166,
   "id": "590a0fd7-dda0-4f2a-bc08-fd9679fe0171",
   "metadata": {},
   "outputs": [],
   "source": [
    "model.compile(loss='categorical_crossentropy',  # รองรับ Classification 3 class ขึ้นไป\n",
    "              optimizer='adam',\n",
    "              metrics=['accuracy'])"
   ]
  },
  {
   "cell_type": "code",
   "execution_count": 167,
   "id": "f84b7311-abfe-4e58-b982-7d372adce187",
   "metadata": {},
   "outputs": [
    {
     "name": "stdout",
     "output_type": "stream",
     "text": [
      "Epoch 1/50\n",
      "21/21 [==============================] - 1s 11ms/step - loss: 1.1764 - accuracy: 0.3333 - val_loss: 0.9607 - val_accuracy: 0.7143\n",
      "Epoch 2/50\n",
      "21/21 [==============================] - 0s 3ms/step - loss: 0.8622 - accuracy: 0.8214 - val_loss: 0.8145 - val_accuracy: 0.7143\n",
      "Epoch 3/50\n",
      "21/21 [==============================] - 0s 3ms/step - loss: 0.6671 - accuracy: 0.8214 - val_loss: 0.7207 - val_accuracy: 0.6786\n",
      "Epoch 4/50\n",
      "21/21 [==============================] - 0s 3ms/step - loss: 0.5488 - accuracy: 0.8214 - val_loss: 0.6569 - val_accuracy: 0.6786\n",
      "Epoch 5/50\n",
      "21/21 [==============================] - 0s 3ms/step - loss: 0.4767 - accuracy: 0.8333 - val_loss: 0.6084 - val_accuracy: 0.6786\n",
      "Epoch 6/50\n",
      "21/21 [==============================] - 0s 4ms/step - loss: 0.4316 - accuracy: 0.8333 - val_loss: 0.5693 - val_accuracy: 0.7143\n",
      "Epoch 7/50\n",
      "21/21 [==============================] - 0s 3ms/step - loss: 0.3959 - accuracy: 0.8571 - val_loss: 0.5290 - val_accuracy: 0.7143\n",
      "Epoch 8/50\n",
      "21/21 [==============================] - 0s 4ms/step - loss: 0.3688 - accuracy: 0.8452 - val_loss: 0.4939 - val_accuracy: 0.7500\n",
      "Epoch 9/50\n",
      "21/21 [==============================] - 0s 3ms/step - loss: 0.3462 - accuracy: 0.8452 - val_loss: 0.4703 - val_accuracy: 0.7500\n",
      "Epoch 10/50\n",
      "21/21 [==============================] - 0s 3ms/step - loss: 0.3263 - accuracy: 0.8452 - val_loss: 0.4476 - val_accuracy: 0.7500\n",
      "Epoch 11/50\n",
      "21/21 [==============================] - 0s 4ms/step - loss: 0.3092 - accuracy: 0.8690 - val_loss: 0.4232 - val_accuracy: 0.8214\n",
      "Epoch 12/50\n",
      "21/21 [==============================] - 0s 3ms/step - loss: 0.2950 - accuracy: 0.8690 - val_loss: 0.3955 - val_accuracy: 0.8571\n",
      "Epoch 13/50\n",
      "21/21 [==============================] - 0s 3ms/step - loss: 0.2803 - accuracy: 0.8929 - val_loss: 0.3836 - val_accuracy: 0.8571\n",
      "Epoch 14/50\n",
      "21/21 [==============================] - 0s 3ms/step - loss: 0.2685 - accuracy: 0.9048 - val_loss: 0.3632 - val_accuracy: 0.8571\n",
      "Epoch 15/50\n",
      "21/21 [==============================] - 0s 3ms/step - loss: 0.2567 - accuracy: 0.9167 - val_loss: 0.3475 - val_accuracy: 0.8571\n",
      "Epoch 16/50\n",
      "21/21 [==============================] - 0s 3ms/step - loss: 0.2461 - accuracy: 0.9167 - val_loss: 0.3331 - val_accuracy: 0.8571\n",
      "Epoch 17/50\n",
      "21/21 [==============================] - 0s 3ms/step - loss: 0.2362 - accuracy: 0.9167 - val_loss: 0.3195 - val_accuracy: 0.8571\n",
      "Epoch 18/50\n",
      "21/21 [==============================] - 0s 3ms/step - loss: 0.2264 - accuracy: 0.9286 - val_loss: 0.3097 - val_accuracy: 0.8571\n",
      "Epoch 19/50\n",
      "21/21 [==============================] - 0s 3ms/step - loss: 0.2179 - accuracy: 0.9405 - val_loss: 0.2975 - val_accuracy: 0.8929\n",
      "Epoch 20/50\n",
      "21/21 [==============================] - 0s 4ms/step - loss: 0.2100 - accuracy: 0.9405 - val_loss: 0.2843 - val_accuracy: 0.8929\n",
      "Epoch 21/50\n",
      "21/21 [==============================] - 0s 3ms/step - loss: 0.2040 - accuracy: 0.9405 - val_loss: 0.2825 - val_accuracy: 0.8929\n",
      "Epoch 22/50\n",
      "21/21 [==============================] - 0s 3ms/step - loss: 0.1967 - accuracy: 0.9405 - val_loss: 0.2610 - val_accuracy: 0.9643\n",
      "Epoch 23/50\n",
      "21/21 [==============================] - 0s 3ms/step - loss: 0.1874 - accuracy: 0.9405 - val_loss: 0.2557 - val_accuracy: 0.9286\n",
      "Epoch 24/50\n",
      "21/21 [==============================] - 0s 3ms/step - loss: 0.1798 - accuracy: 0.9405 - val_loss: 0.2486 - val_accuracy: 0.9643\n",
      "Epoch 25/50\n",
      "21/21 [==============================] - 0s 3ms/step - loss: 0.1730 - accuracy: 0.9524 - val_loss: 0.2424 - val_accuracy: 1.0000\n",
      "Epoch 26/50\n",
      "21/21 [==============================] - 0s 3ms/step - loss: 0.1671 - accuracy: 0.9524 - val_loss: 0.2337 - val_accuracy: 1.0000\n",
      "Epoch 27/50\n",
      "21/21 [==============================] - 0s 3ms/step - loss: 0.1623 - accuracy: 0.9524 - val_loss: 0.2237 - val_accuracy: 1.0000\n",
      "Epoch 28/50\n",
      "21/21 [==============================] - 0s 3ms/step - loss: 0.1559 - accuracy: 0.9524 - val_loss: 0.2189 - val_accuracy: 1.0000\n",
      "Epoch 29/50\n",
      "21/21 [==============================] - 0s 3ms/step - loss: 0.1504 - accuracy: 0.9524 - val_loss: 0.2140 - val_accuracy: 1.0000\n",
      "Epoch 30/50\n",
      "21/21 [==============================] - 0s 4ms/step - loss: 0.1451 - accuracy: 0.9524 - val_loss: 0.2081 - val_accuracy: 1.0000\n",
      "Epoch 31/50\n",
      "21/21 [==============================] - 0s 4ms/step - loss: 0.1412 - accuracy: 0.9643 - val_loss: 0.2021 - val_accuracy: 1.0000\n",
      "Epoch 32/50\n",
      "21/21 [==============================] - 0s 3ms/step - loss: 0.1374 - accuracy: 0.9643 - val_loss: 0.1960 - val_accuracy: 1.0000\n",
      "Epoch 33/50\n",
      "21/21 [==============================] - 0s 3ms/step - loss: 0.1314 - accuracy: 0.9643 - val_loss: 0.1936 - val_accuracy: 1.0000\n",
      "Epoch 34/50\n",
      "21/21 [==============================] - 0s 3ms/step - loss: 0.1275 - accuracy: 0.9643 - val_loss: 0.1885 - val_accuracy: 1.0000\n",
      "Epoch 35/50\n",
      "21/21 [==============================] - 0s 3ms/step - loss: 0.1239 - accuracy: 0.9643 - val_loss: 0.1843 - val_accuracy: 1.0000\n",
      "Epoch 36/50\n",
      "21/21 [==============================] - 0s 3ms/step - loss: 0.1204 - accuracy: 0.9643 - val_loss: 0.1793 - val_accuracy: 1.0000\n",
      "Epoch 37/50\n",
      "21/21 [==============================] - 0s 3ms/step - loss: 0.1170 - accuracy: 0.9643 - val_loss: 0.1761 - val_accuracy: 1.0000\n",
      "Epoch 38/50\n",
      "21/21 [==============================] - 0s 3ms/step - loss: 0.1136 - accuracy: 0.9643 - val_loss: 0.1725 - val_accuracy: 1.0000\n",
      "Epoch 39/50\n",
      "21/21 [==============================] - 0s 3ms/step - loss: 0.1119 - accuracy: 0.9643 - val_loss: 0.1689 - val_accuracy: 1.0000\n",
      "Epoch 40/50\n",
      "21/21 [==============================] - 0s 3ms/step - loss: 0.1078 - accuracy: 0.9643 - val_loss: 0.1659 - val_accuracy: 1.0000\n",
      "Epoch 41/50\n",
      "21/21 [==============================] - 0s 3ms/step - loss: 0.1058 - accuracy: 0.9643 - val_loss: 0.1639 - val_accuracy: 1.0000\n",
      "Epoch 42/50\n",
      "21/21 [==============================] - 0s 4ms/step - loss: 0.1026 - accuracy: 0.9762 - val_loss: 0.1618 - val_accuracy: 1.0000\n",
      "Epoch 43/50\n",
      "21/21 [==============================] - 0s 3ms/step - loss: 0.0995 - accuracy: 0.9762 - val_loss: 0.1588 - val_accuracy: 1.0000\n",
      "Epoch 44/50\n",
      "21/21 [==============================] - 0s 3ms/step - loss: 0.0972 - accuracy: 0.9762 - val_loss: 0.1566 - val_accuracy: 1.0000\n",
      "Epoch 45/50\n",
      "21/21 [==============================] - 0s 3ms/step - loss: 0.0959 - accuracy: 0.9643 - val_loss: 0.1538 - val_accuracy: 0.9643\n",
      "Epoch 46/50\n",
      "21/21 [==============================] - 0s 3ms/step - loss: 0.0932 - accuracy: 0.9762 - val_loss: 0.1525 - val_accuracy: 1.0000\n",
      "Epoch 47/50\n",
      "21/21 [==============================] - 0s 3ms/step - loss: 0.0913 - accuracy: 0.9762 - val_loss: 0.1501 - val_accuracy: 0.9643\n",
      "Epoch 48/50\n",
      "21/21 [==============================] - 0s 3ms/step - loss: 0.0892 - accuracy: 0.9762 - val_loss: 0.1487 - val_accuracy: 1.0000\n",
      "Epoch 49/50\n",
      "21/21 [==============================] - 0s 4ms/step - loss: 0.0870 - accuracy: 0.9762 - val_loss: 0.1478 - val_accuracy: 1.0000\n",
      "Epoch 50/50\n",
      "21/21 [==============================] - 0s 3ms/step - loss: 0.0852 - accuracy: 0.9762 - val_loss: 0.1465 - val_accuracy: 0.9643\n",
      "Time Taken 4.285 secs\n"
     ]
    }
   ],
   "source": [
    "# categorical_crossentropy ใช้ y train แบบ One-hot Encoding\n",
    "\n",
    "import time\n",
    "\n",
    "start = time.time()\n",
    "history = model.fit(X_train, y_train_1h, epochs=50, batch_size=4, verbose=1, validation_split=0.25) \n",
    "end = time.time()\n",
    "\n",
    "print(f\"Time Taken {end - start:.3f} secs\")"
   ]
  },
  {
   "cell_type": "markdown",
   "id": "e4d91f0b-74c6-4a2d-9e76-957c160c0390",
   "metadata": {
    "tags": []
   },
   "source": [
    "## Evaluate"
   ]
  },
  {
   "cell_type": "code",
   "execution_count": 168,
   "id": "b070c1c5-6fc7-4dda-b19e-94f7b9d135c7",
   "metadata": {
    "tags": []
   },
   "outputs": [
    {
     "name": "stdout",
     "output_type": "stream",
     "text": [
      "Test loss: 0.10714154690504074\n",
      "Test accuracy: 0.9737\n"
     ]
    }
   ],
   "source": [
    "score = model.evaluate(X_test, y_test_1h, verbose=0)\n",
    "\n",
    "print(\"Test loss:\", score[0])\n",
    "print(f\"Test accuracy: {score[1]:.4f}\")"
   ]
  },
  {
   "cell_type": "code",
   "execution_count": 169,
   "id": "020bd907-0383-4433-8534-a1c46cef1f21",
   "metadata": {
    "tags": []
   },
   "outputs": [
    {
     "data": {
      "text/plain": [
       "['loss', 'accuracy']"
      ]
     },
     "execution_count": 169,
     "metadata": {},
     "output_type": "execute_result"
    }
   ],
   "source": [
    "model.metrics_names"
   ]
  },
  {
   "cell_type": "code",
   "execution_count": 170,
   "id": "8ffecbb9-6b70-4bed-bc57-509d85003380",
   "metadata": {
    "tags": []
   },
   "outputs": [
    {
     "name": "stdout",
     "output_type": "stream",
     "text": [
      "2/2 [==============================] - 0s 3ms/step\n"
     ]
    },
    {
     "data": {
      "text/plain": [
       "array([[0.998, 0.002, 0.   ],\n",
       "       [0.072, 0.906, 0.022],\n",
       "       [0.005, 0.924, 0.071],\n",
       "       [0.999, 0.001, 0.   ]], dtype=float32)"
      ]
     },
     "execution_count": 170,
     "metadata": {},
     "output_type": "execute_result"
    }
   ],
   "source": [
    "y_pred = model.predict(X_test)\n",
    "\n",
    "y_pred[:4]\n",
    "y_pred[:4].round(3)"
   ]
  },
  {
   "cell_type": "code",
   "execution_count": 171,
   "id": "ceba5860-775c-48b6-b186-fa166d760421",
   "metadata": {},
   "outputs": [
    {
     "data": {
      "text/plain": [
       "array([0, 1, 1, 0], dtype=int64)"
      ]
     },
     "execution_count": 171,
     "metadata": {},
     "output_type": "execute_result"
    }
   ],
   "source": [
    "y_pred_cat = np.argmax(y_pred, axis=1)\n",
    "y_pred_cat[:4]"
   ]
  },
  {
   "cell_type": "code",
   "execution_count": 172,
   "id": "e47772eb-5820-4f16-9460-71272c6f2853",
   "metadata": {},
   "outputs": [
    {
     "data": {
      "text/plain": [
       "14        setosa\n",
       "98    versicolor\n",
       "75    versicolor\n",
       "16        setosa\n",
       "Name: species, dtype: object"
      ]
     },
     "execution_count": 172,
     "metadata": {},
     "output_type": "execute_result"
    }
   ],
   "source": [
    "y_test[:4]"
   ]
  },
  {
   "cell_type": "code",
   "execution_count": 173,
   "id": "8e3d8856-4702-45f5-9da1-312007a07230",
   "metadata": {},
   "outputs": [
    {
     "data": {
      "text/plain": [
       "array([0, 1, 1, 0], dtype=int64)"
      ]
     },
     "execution_count": 173,
     "metadata": {},
     "output_type": "execute_result"
    }
   ],
   "source": [
    "_, y_test_enc = np.unique(y_test, return_inverse=True)  # Label encoding\n",
    "y_test_enc[:4]"
   ]
  },
  {
   "cell_type": "code",
   "execution_count": 174,
   "id": "da1c219a-c272-491d-b5a5-bc3ae125a39c",
   "metadata": {},
   "outputs": [
    {
     "name": "stdout",
     "output_type": "stream",
     "text": [
      "              precision    recall  f1-score   support\n",
      "\n",
      "      setosa       1.00      1.00      1.00        13\n",
      "  versicolor       1.00      0.94      0.97        16\n",
      "   virginica       0.90      1.00      0.95         9\n",
      "\n",
      "    accuracy                           0.97        38\n",
      "   macro avg       0.97      0.98      0.97        38\n",
      "weighted avg       0.98      0.97      0.97        38\n",
      "\n",
      "[[13  0  0]\n",
      " [ 0 15  1]\n",
      " [ 0  0  9]]\n"
     ]
    }
   ],
   "source": [
    "from sklearn.metrics import classification_report, confusion_matrix\n",
    "\n",
    "print(classification_report(y_test_enc, y_pred_cat, target_names=class_names))\n",
    "print(confusion_matrix(y_test_enc, y_pred_cat))"
   ]
  },
  {
   "cell_type": "code",
   "execution_count": 175,
   "id": "a84a58fa-6437-41f3-8095-ecaeeea85b33",
   "metadata": {},
   "outputs": [
    {
     "data": {
      "image/png": "[encoded data removed]",
      "text/plain": [
       "<Figure size 432x288 with 2 Axes>"
      ]
     },
     "metadata": {
      "needs_background": "light"
     },
     "output_type": "display_data"
    }
   ],
   "source": [
    "from sklearn.metrics import confusion_matrix, ConfusionMatrixDisplay\n",
    "\n",
    "cm = confusion_matrix(y_test_enc, y_pred_cat)   ## <-- \n",
    "ConfusionMatrixDisplay(cm, display_labels=class_names).plot()\n",
    "plt.title('Confusion Matrix')\n",
    "plt.show()"
   ]
  },
  {
   "cell_type": "markdown",
   "id": "d9d7b794-4a40-449d-b36c-e93e9a78a022",
   "metadata": {},
   "source": [
    "## Loss and Accuracy Curves"
   ]
  },
  {
   "cell_type": "code",
   "execution_count": 176,
   "id": "b01553e4-2356-4c88-9364-21e137c617a6",
   "metadata": {},
   "outputs": [
    {
     "data": {
      "image/png": "[encoded data removed]",
      "text/plain": [
       "<Figure size 864x288 with 2 Axes>"
      ]
     },
     "metadata": {
      "needs_background": "light"
     },
     "output_type": "display_data"
    }
   ],
   "source": [
    "# 2 Columns\n",
    "plt.figure(figsize=(12, 4))\n",
    "\n",
    "plt.subplot(1, 2, 1)   # row column index\n",
    "plt.plot(history.history['loss'], '--', c='b', lw=2, label='Trainning')\n",
    "plt.plot(history.history['val_loss'], c='r', lw=3, label='Validation')\n",
    "plt.title('Loss Curve')\n",
    "plt.legend()\n",
    "plt.xlabel('Epoch')\n",
    "plt.ylabel('Loss')\n",
    "\n",
    "plt.subplot(1, 2, 2)   # row column index\n",
    "plt.plot(history.history['accuracy'], '--', c='b', lw=2, label='Trainning')\n",
    "plt.plot(history.history['val_accuracy'], c='r', lw=3, label='Validation')\n",
    "plt.xlabel('Epoch')\n",
    "plt.ylabel('Loss')\n",
    "plt.legend()\n",
    "plt.title('Accuracy Curve')\n",
    "plt.show()"
   ]
  },
  {
   "cell_type": "markdown",
   "id": "588bed5a-8ea7-4964-8d5a-26447ee5ad0a",
   "metadata": {},
   "source": [
    "## Predict"
   ]
  },
  {
   "cell_type": "code",
   "execution_count": 177,
   "id": "4ea00601-37bd-4547-b731-b9513dd7415c",
   "metadata": {},
   "outputs": [
    {
     "name": "stderr",
     "output_type": "stream",
     "text": [
      "C:\\Users\\Asus\\anaconda3\\lib\\site-packages\\sklearn\\base.py:450: UserWarning: X does not have valid feature names, but StandardScaler was fitted with feature names\n",
      "  warnings.warn(\n"
     ]
    },
    {
     "data": {
      "text/plain": [
       "array([[ 2.73435494,  2.16998818,  1.21745768,  1.18556721],\n",
       "       [ 1.15917263,  1.24920112, -0.14664056,  0.26414192]])"
      ]
     },
     "execution_count": 177,
     "metadata": {},
     "output_type": "execute_result"
    }
   ],
   "source": [
    "X_new = [[8.1, 4.0, 5.9, 2.1], #  1\n",
    "         [6.8, 3.6, 3.5, 1.4]] #  2\n",
    "\n",
    "# X_new = [[8.1, 4.0, 5.9, 2.1]]\n",
    "\n",
    "X_new_sc = sc.transform(X_new)\n",
    "X_new_sc"
   ]
  },
  {
   "cell_type": "code",
   "execution_count": 178,
   "id": "67107750-18bd-4089-9c8a-304de923393a",
   "metadata": {},
   "outputs": [
    {
     "name": "stdout",
     "output_type": "stream",
     "text": [
      "1/1 [==============================] - 0s 21ms/step\n"
     ]
    },
    {
     "data": {
      "text/plain": [
       "array([[0.001, 0.416, 0.583],\n",
       "       [0.078, 0.908, 0.014]], dtype=float32)"
      ]
     },
     "execution_count": 178,
     "metadata": {},
     "output_type": "execute_result"
    }
   ],
   "source": [
    "y_pred_pr = model.predict(X_new_sc)\n",
    "y_pred_pr.round(3)"
   ]
  },
  {
   "cell_type": "code",
   "execution_count": 179,
   "id": "467f5b0f-aab1-4c49-a23b-6b3620fbe792",
   "metadata": {},
   "outputs": [
    {
     "data": {
      "text/plain": [
       "array([2, 1], dtype=int64)"
      ]
     },
     "execution_count": 179,
     "metadata": {},
     "output_type": "execute_result"
    }
   ],
   "source": [
    "y_pred = np.argmax(y_pred_pr, axis=1)\n",
    "y_pred"
   ]
  },
  {
   "cell_type": "code",
   "execution_count": 180,
   "id": "12e387fd-6ea1-4375-b1df-70be5ac781a5",
   "metadata": {},
   "outputs": [
    {
     "name": "stdout",
     "output_type": "stream",
     "text": [
      "['virginica' 'versicolor']\n"
     ]
    }
   ],
   "source": [
    "print(class_names[y_pred])"
   ]
  },
  {
   "cell_type": "markdown",
   "id": "ff220d0a-d36c-46c3-8620-f2578c70d00d",
   "metadata": {},
   "source": [
    "## Decision Regions"
   ]
  },
  {
   "cell_type": "code",
   "execution_count": 181,
   "id": "8afbaa8b-aabc-4e89-ba0e-71d91e40cad7",
   "metadata": {},
   "outputs": [],
   "source": [
    "class Onehot2Int(object):\n",
    "    def __init__(self, model):\n",
    "        self.model = model\n",
    "\n",
    "    def predict(self, X):\n",
    "        y_pred = self.model.predict(X)\n",
    "        return np.argmax(y_pred, axis=1)\n",
    "    \n",
    "model_no_ohe = Onehot2Int(model)    "
   ]
  },
  {
   "cell_type": "code",
   "execution_count": 182,
   "id": "4b270a6d-c12e-4c15-9cae-01c520d69728",
   "metadata": {},
   "outputs": [
    {
     "name": "stdout",
     "output_type": "stream",
     "text": [
      "3888/3888 [==============================] - 5s 1ms/step\n"
     ]
    },
    {
     "data": {
      "image/png": "[encoded data removed]",
      "text/plain": [
       "<Figure size 432x288 with 1 Axes>"
      ]
     },
     "metadata": {
      "needs_background": "light"
     },
     "output_type": "display_data"
    }
   ],
   "source": [
    "from mlxtend.plotting import plot_decision_regions\n",
    "\n",
    "value = 0\n",
    "width = 5.5\n",
    "\n",
    "ax = plot_decision_regions(X_test, np.array(y_test_enc),\n",
    "\n",
    "                    clf=model_no_ohe, feature_index=[2, 3],  \n",
    "                    filler_feature_values={0: value, 1: value},\n",
    "                    filler_feature_ranges={0: width, 1: width},\n",
    "                    legend=2)\n",
    "\n",
    "handles, labels = ax.get_legend_handles_labels()\n",
    "ax.legend(handles, class_names, framealpha=0.5)\n",
    "\n",
    "plt.title('Iris (Hidden={})'.format(hidden_node))\n",
    "# plt.xticks([])\n",
    "plt.yticks([])\n",
    "plt.xlabel('petal_length')\n",
    "plt.ylabel('petal_width')\n",
    "\n",
    "plt.scatter(X_new_sc[:,2][y_pred==0], X_new_sc[:,3][y_pred==0], marker='s', s=180, c='b')\n",
    "plt.scatter(X_new_sc[:,2][y_pred==1], X_new_sc[:,3][y_pred==1], marker='^', s=230, c='#7d4128') # \n",
    "plt.scatter(X_new_sc[:,2][y_pred==2], X_new_sc[:,3][y_pred==2], marker='o', s=150, c='b')\n",
    "plt.show()"
   ]
  },
  {
   "cell_type": "markdown",
   "id": "c5899212-d84b-45f3-b685-ad0251e7323a",
   "metadata": {},
   "source": [
    "## แบบฝึกหัด"
   ]
  },
  {
   "cell_type": "markdown",
   "id": "184ce893-d57e-42f4-8f0e-a8cda909d872",
   "metadata": {},
   "source": [
    "- epochs 100 (เท่าเดิม) batch_size 64 (ใหญ่ขึ้น) ความแม่นยำจะได้น้อยกว่า เนื่องจาก batch_size ขนาดใหญ่ขึ้นทำให้จำนวนรอบย่อย (Iterations) ลดลง ถึงแม้ epochs เท่าเดิม เส้นกราฟของพล็อต Loss ยังไม่นิ่ง ดูเหมือนว่าจะมีแนวโน้มลงไปได้อีก\n",
    "- epochs 100 (เท่าเดิม) batch_size (เล็กลง) ความแม่นยำจะได้ประมาณสูง แต่ละ epochs มีการวนรอบย่อย (Iterations) มากขึ้น เนื่องจาก batch_size ขนาดเล็กลง เมื่อ ดูกราฟของพล็อต Loss และ Accuracy พบว่า ประมาณ epoch 40 Loss เริ่มนิ่งแล้ว และ Accuracy ได้ค่าสูงสุด จากนั้น Train epoch ต่อไป ทำให้ Accuracy ตกลง ลักษณะ นี้ epochs สูงเกินไป ใช้เพียงแค่ 40-50 ก็เหมาะสมแล้ว (Train มากแล้วแย่ลง)\n",
    "- epochs 10, batch_size 32\n",
    "- เปลี่ยน Dense เป็น 8 หรือ 16\n",
    "- ลองเพิ่มจำนวนชั้น Layer แล้วดูพล็อตขอบเขตการจำแนกของ Model"
   ]
  },
  {
   "cell_type": "code",
   "execution_count": null,
   "id": "2998c4dd-f209-4c5e-a170-c778894e3cdd",
   "metadata": {},
   "outputs": [],
   "source": []
  }
 ],
 "metadata": {
  "kernelspec": {
   "display_name": "Python 3 (ipykernel)",
   "language": "python",
   "name": "python3"
  },
  "language_info": {
   "codemirror_mode": {
    "name": "ipython",
    "version": 3
   },
   "file_extension": ".py",
   "mimetype": "text/x-python",
   "name": "python",
   "nbconvert_exporter": "python",
   "pygments_lexer": "ipython3",
   "version": "3.9.12"
  }
 },
 "nbformat": 4,
 "nbformat_minor": 5
}
