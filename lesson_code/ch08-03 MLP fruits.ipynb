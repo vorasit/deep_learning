{
 "cells": [
  {
   "cell_type": "markdown",
   "id": "6774f218-907b-4e0d-8c61-380eebc2a5ff",
   "metadata": {},
   "source": [
    "# ANN/MLP จำแนกผลไม้ 2 Class\n",
    "Artificial Neural Network ด้วย MLP Scikit-learn จำแนก 2 Class (Binary Classification)"
   ]
  },
  {
   "cell_type": "code",
   "execution_count": 1,
   "id": "a7833bc1-da76-4b65-b38d-5f589efe2573",
   "metadata": {},
   "outputs": [],
   "source": [
    "import numpy as np\n",
    "import pandas as pd\n",
    "import seaborn as sns\n",
    "import matplotlib.pyplot as plt"
   ]
  },
  {
   "cell_type": "markdown",
   "id": "a0021b75-fe29-4b5b-8559-5d38a9735273",
   "metadata": {},
   "source": [
    "## Dataset"
   ]
  },
  {
   "cell_type": "code",
   "execution_count": 2,
   "id": "71589ed3-e813-4099-b49d-7f8cabe8079e",
   "metadata": {},
   "outputs": [
    {
     "data": {
      "text/html": [
       "<div>\n",
       "<style scoped>\n",
       "    .dataframe tbody tr th:only-of-type {\n",
       "        vertical-align: middle;\n",
       "    }\n",
       "\n",
       "    .dataframe tbody tr th {\n",
       "        vertical-align: top;\n",
       "    }\n",
       "\n",
       "    .dataframe thead th {\n",
       "        text-align: right;\n",
       "    }\n",
       "</style>\n",
       "<table border=\"1\" class=\"dataframe\">\n",
       "  <thead>\n",
       "    <tr style=\"text-align: right;\">\n",
       "      <th></th>\n",
       "      <th>m</th>\n",
       "      <th>d</th>\n",
       "      <th>target</th>\n",
       "    </tr>\n",
       "  </thead>\n",
       "  <tbody>\n",
       "    <tr>\n",
       "      <th>3</th>\n",
       "      <td>6.6</td>\n",
       "      <td>3.2</td>\n",
       "      <td>0</td>\n",
       "    </tr>\n",
       "    <tr>\n",
       "      <th>7</th>\n",
       "      <td>7.0</td>\n",
       "      <td>4.8</td>\n",
       "      <td>1</td>\n",
       "    </tr>\n",
       "    <tr>\n",
       "      <th>6</th>\n",
       "      <td>8.2</td>\n",
       "      <td>4.4</td>\n",
       "      <td>1</td>\n",
       "    </tr>\n",
       "    <tr>\n",
       "      <th>2</th>\n",
       "      <td>6.5</td>\n",
       "      <td>5.5</td>\n",
       "      <td>0</td>\n",
       "    </tr>\n",
       "    <tr>\n",
       "      <th>10</th>\n",
       "      <td>8.9</td>\n",
       "      <td>5.2</td>\n",
       "      <td>0</td>\n",
       "    </tr>\n",
       "    <tr>\n",
       "      <th>4</th>\n",
       "      <td>6.9</td>\n",
       "      <td>5.9</td>\n",
       "      <td>0</td>\n",
       "    </tr>\n",
       "  </tbody>\n",
       "</table>\n",
       "</div>"
      ],
      "text/plain": [
       "      m    d  target\n",
       "3   6.6  3.2       0\n",
       "7   7.0  4.8       1\n",
       "6   8.2  4.4       1\n",
       "2   6.5  5.5       0\n",
       "10  8.9  5.2       0\n",
       "4   6.9  5.9       0"
      ]
     },
     "execution_count": 2,
     "metadata": {},
     "output_type": "execute_result"
    }
   ],
   "source": [
    "df = pd.read_csv('data/fruit2class.csv')\n",
    "\n",
    "df.sample(7)\n",
    "df.sample(6,random_state=1)"
   ]
  },
  {
   "cell_type": "code",
   "execution_count": 3,
   "id": "ea2a8982-b98d-40a0-ae85-9babf5df435e",
   "metadata": {},
   "outputs": [
    {
     "data": {
      "text/plain": [
       "m         0\n",
       "d         0\n",
       "target    0\n",
       "dtype: int64"
      ]
     },
     "execution_count": 3,
     "metadata": {},
     "output_type": "execute_result"
    }
   ],
   "source": [
    "df.isnull().sum()   # Missing values"
   ]
  },
  {
   "cell_type": "code",
   "execution_count": 4,
   "id": "3b043571-dc29-4309-844e-a19554d9a61e",
   "metadata": {},
   "outputs": [
    {
     "data": {
      "text/plain": [
       "array([0, 1], dtype=int64)"
      ]
     },
     "execution_count": 4,
     "metadata": {},
     "output_type": "execute_result"
    }
   ],
   "source": [
    "df.target.unique()    # Class "
   ]
  },
  {
   "cell_type": "code",
   "execution_count": 5,
   "id": "4e802f0a-16f2-4d90-9007-997c92aae015",
   "metadata": {},
   "outputs": [
    {
     "data": {
      "image/png": "[encoded data removed]",
      "text/plain": [
       "<Figure size 432x288 with 1 Axes>"
      ]
     },
     "metadata": {
      "needs_background": "light"
     },
     "output_type": "display_data"
    }
   ],
   "source": [
    "# sns.scatterplot(x='m', y='d', data=df, hue='target', style='target',s=140) \n",
    "sns.scatterplot(x='m', y='d', data=df, hue='target', style='target',s=140, palette='Set1') \n",
    "plt.show()"
   ]
  },
  {
   "cell_type": "code",
   "execution_count": 6,
   "id": "4c27164d-75bf-45fd-9723-3d5db9cad714",
   "metadata": {},
   "outputs": [],
   "source": [
    "# เตรียม X (Features) และ y target(class)\n",
    "X = df.drop('target', axis=1)\n",
    "y = df.target"
   ]
  },
  {
   "cell_type": "markdown",
   "id": "c2210655-eb1f-45a6-9d6a-013bc361d204",
   "metadata": {},
   "source": [
    "## Feature Scaling\n",
    "ปรับค่าสเกล Feature"
   ]
  },
  {
   "cell_type": "code",
   "execution_count": 7,
   "id": "32282215-fd2e-45e8-9bc3-6725f59255cd",
   "metadata": {},
   "outputs": [],
   "source": [
    "from sklearn.preprocessing import StandardScaler\n",
    "sc = StandardScaler()\n",
    "\n",
    "X_train = sc.fit_transform(X)\n",
    "\n",
    "y_train = y"
   ]
  },
  {
   "cell_type": "code",
   "execution_count": 8,
   "id": "c4635d6f-ef84-4931-b04e-4546329e9642",
   "metadata": {},
   "outputs": [
    {
     "data": {
      "text/html": [
       "<div>\n",
       "<style scoped>\n",
       "    .dataframe tbody tr th:only-of-type {\n",
       "        vertical-align: middle;\n",
       "    }\n",
       "\n",
       "    .dataframe tbody tr th {\n",
       "        vertical-align: top;\n",
       "    }\n",
       "\n",
       "    .dataframe thead th {\n",
       "        text-align: right;\n",
       "    }\n",
       "</style>\n",
       "<table border=\"1\" class=\"dataframe\">\n",
       "  <thead>\n",
       "    <tr style=\"text-align: right;\">\n",
       "      <th></th>\n",
       "      <th>d</th>\n",
       "      <th>m</th>\n",
       "      <th>target</th>\n",
       "    </tr>\n",
       "  </thead>\n",
       "  <tbody>\n",
       "    <tr>\n",
       "      <th>3</th>\n",
       "      <td>-0.736514</td>\n",
       "      <td>-1.398477</td>\n",
       "      <td>0</td>\n",
       "    </tr>\n",
       "    <tr>\n",
       "      <th>7</th>\n",
       "      <td>-0.352246</td>\n",
       "      <td>0.340562</td>\n",
       "      <td>1</td>\n",
       "    </tr>\n",
       "    <tr>\n",
       "      <th>6</th>\n",
       "      <td>0.800559</td>\n",
       "      <td>-0.094198</td>\n",
       "      <td>1</td>\n",
       "    </tr>\n",
       "    <tr>\n",
       "      <th>2</th>\n",
       "      <td>-0.832581</td>\n",
       "      <td>1.101391</td>\n",
       "      <td>0</td>\n",
       "    </tr>\n",
       "    <tr>\n",
       "      <th>10</th>\n",
       "      <td>1.473028</td>\n",
       "      <td>0.775322</td>\n",
       "      <td>0</td>\n",
       "    </tr>\n",
       "    <tr>\n",
       "      <th>4</th>\n",
       "      <td>-0.448313</td>\n",
       "      <td>1.536151</td>\n",
       "      <td>0</td>\n",
       "    </tr>\n",
       "  </tbody>\n",
       "</table>\n",
       "</div>"
      ],
      "text/plain": [
       "           d         m  target\n",
       "3  -0.736514 -1.398477       0\n",
       "7  -0.352246  0.340562       1\n",
       "6   0.800559 -0.094198       1\n",
       "2  -0.832581  1.101391       0\n",
       "10  1.473028  0.775322       0\n",
       "4  -0.448313  1.536151       0"
      ]
     },
     "execution_count": 8,
     "metadata": {},
     "output_type": "execute_result"
    }
   ],
   "source": [
    "df_sc = pd.DataFrame(X_train, columns=['d','m'])\n",
    "df_sc['target'] = y_train\n",
    "df_sc.head(8)\n",
    "df_sc.sample(6,random_state=1)"
   ]
  },
  {
   "cell_type": "code",
   "execution_count": 9,
   "id": "de6c2695-418a-428e-8bb0-0f599fe8bfa4",
   "metadata": {},
   "outputs": [],
   "source": [
    "# df.sample(6,random_state=1)"
   ]
  },
  {
   "cell_type": "markdown",
   "id": "9ba30f9b-f319-4fd2-b661-4ccdf05435b5",
   "metadata": {},
   "source": [
    "## Model"
   ]
  },
  {
   "cell_type": "code",
   "execution_count": 10,
   "id": "c7b4dd68-bd88-459c-a251-7bf556101128",
   "metadata": {},
   "outputs": [],
   "source": [
    "from sklearn.neural_network import MLPClassifier"
   ]
  },
  {
   "cell_type": "markdown",
   "id": "e51379bb-e8f2-4e7c-b831-cb92f7eb44de",
   "metadata": {},
   "source": [
    "#### case 1: hidden=100, iteration=200 (default)"
   ]
  },
  {
   "cell_type": "code",
   "execution_count": 18,
   "id": "5adf4ea2-5b66-4277-b2b9-e7ccc049431f",
   "metadata": {},
   "outputs": [],
   "source": [
    "hidden = 100\n",
    "# model = MLPClassifier(random_state=1)    # default hidden_layer_sizes=100\n",
    "model = MLPClassifier(random_state=1, verbose=True) "
   ]
  },
  {
   "cell_type": "markdown",
   "id": "a7c76bd6-0f85-4425-80d1-dce93cd9c45f",
   "metadata": {},
   "source": [
    "#### case 2: hidden=100, iter=2000"
   ]
  },
  {
   "cell_type": "code",
   "execution_count": 30,
   "id": "82207966-62ca-4019-a44e-ccbb81eb94f0",
   "metadata": {},
   "outputs": [],
   "source": [
    "iter = 2000\n",
    "hidden = 100\n",
    "model = MLPClassifier(max_iter=iter, random_state=1)  # hidden=100"
   ]
  },
  {
   "cell_type": "markdown",
   "id": "4aa8d5b3-e274-44d8-8e92-d1e77c4e2072",
   "metadata": {},
   "source": [
    "#### case 3: hidden=150, iter=200"
   ]
  },
  {
   "cell_type": "code",
   "execution_count": null,
   "id": "c56ec48e-60ab-42fe-a320-05c381fcd08a",
   "metadata": {},
   "outputs": [],
   "source": [
    "hidden = 150\n",
    "iter = 200\n",
    "model = MLPClassifier(hidden_layer_sizes=(hidden), max_iter=iter, random_state=1) # **"
   ]
  },
  {
   "cell_type": "markdown",
   "id": "3c3df095-f245-41c4-a959-aa0dafe87c67",
   "metadata": {},
   "source": [
    "#### case 4: hidden=4, iter=1000"
   ]
  },
  {
   "cell_type": "code",
   "execution_count": null,
   "id": "8ae60904-0c2d-47d4-81d9-70c9f1e13839",
   "metadata": {},
   "outputs": [],
   "source": [
    "hidden = 4\n",
    "iter = 1000    # or 2000\n",
    "model = MLPClassifier(hidden_layer_sizes=(hidden), max_iter=iter, random_state=1)"
   ]
  },
  {
   "cell_type": "markdown",
   "id": "7a6072ff-d3b7-427c-adc9-c19b73e3cc44",
   "metadata": {},
   "source": [
    "#### case 5: hidden=10, iter=2000"
   ]
  },
  {
   "cell_type": "code",
   "execution_count": null,
   "id": "cd850e6f-2a6a-4b2d-8a7f-5224ea751f86",
   "metadata": {},
   "outputs": [],
   "source": [
    "hidden = 10\n",
    "iter = 2000    # or 2500\n",
    "model = MLPClassifier(hidden_layer_sizes=(hidden), max_iter=iter, random_state=1)"
   ]
  },
  {
   "cell_type": "markdown",
   "id": "40b9ac44-937c-45b3-92f9-4ed792bcd403",
   "metadata": {},
   "source": [
    "## Train the Model"
   ]
  },
  {
   "cell_type": "code",
   "execution_count": 31,
   "id": "380ffbd6-2733-4ada-902e-3523aedf21a9",
   "metadata": {},
   "outputs": [
    {
     "data": {
      "text/plain": [
       "MLPClassifier(max_iter=2000, random_state=1)"
      ]
     },
     "execution_count": 31,
     "metadata": {},
     "output_type": "execute_result"
    }
   ],
   "source": [
    "model.fit(X_train, y_train)"
   ]
  },
  {
   "cell_type": "code",
   "execution_count": 32,
   "id": "b8cb5195-7d65-4894-9d2a-442356f6bbe4",
   "metadata": {},
   "outputs": [
    {
     "name": "stdout",
     "output_type": "stream",
     "text": [
      "score: 1.0000\n",
      "actual y:  [0 0 0 0 0 0 1 1 1 1 0 0 0 0 0]\n",
      "predicted: [0 0 0 0 0 0 1 1 1 1 0 0 0 0 0]\n"
     ]
    }
   ],
   "source": [
    "print('score: {:.4f}'.format(model.score(X_train, y_train)))\n",
    "# print('score:', model.score(X_train, y_train).round(4)) \n",
    "print('actual y: ', np.array(y))\n",
    "print('predicted:', model.predict(X_train)) "
   ]
  },
  {
   "cell_type": "markdown",
   "id": "f517caca-b240-48d6-bc5b-8523a8492ea1",
   "metadata": {},
   "source": [
    "## Evaluation"
   ]
  },
  {
   "cell_type": "code",
   "execution_count": 33,
   "id": "1aae3cee-92a6-4724-891e-368967fbbb45",
   "metadata": {},
   "outputs": [
    {
     "name": "stdout",
     "output_type": "stream",
     "text": [
      "Score -> 1.0000\n",
      "              precision    recall  f1-score   support\n",
      "\n",
      "       Grape       1.00      1.00      1.00        11\n",
      "       Lemon       1.00      1.00      1.00         4\n",
      "\n",
      "    accuracy                           1.00        15\n",
      "   macro avg       1.00      1.00      1.00        15\n",
      "weighted avg       1.00      1.00      1.00        15\n",
      "\n",
      "[[11  0]\n",
      " [ 0  4]]\n"
     ]
    }
   ],
   "source": [
    "from sklearn.metrics import classification_report, confusion_matrix\n",
    "\n",
    "y_predict = model.predict(X_train)\n",
    "class_names = ['Grape', 'Lemon']\n",
    "\n",
    "print('Score -> {:.4f}' . format(model.score(X_train, y_train)))\n",
    "print(classification_report(y_train, y_predict, target_names=class_names))\n",
    "print(confusion_matrix(y_train, y_predict))"
   ]
  },
  {
   "cell_type": "code",
   "execution_count": 34,
   "id": "548b05b2-1d29-4dc3-a161-23e4eabee319",
   "metadata": {},
   "outputs": [
    {
     "data": {
      "image/png": "[encoded data removed]",
      "text/plain": [
       "<Figure size 432x288 with 2 Axes>"
      ]
     },
     "metadata": {
      "needs_background": "light"
     },
     "output_type": "display_data"
    }
   ],
   "source": [
    "from sklearn.metrics import confusion_matrix, ConfusionMatrixDisplay\n",
    "\n",
    "cm = confusion_matrix(y_train, y_predict)\n",
    "ConfusionMatrixDisplay(cm, display_labels=class_names).plot()\n",
    "plt.title('Confusion Matrix')\n",
    "plt.show()"
   ]
  },
  {
   "cell_type": "markdown",
   "id": "7392d1e3-f290-4a55-ad64-a128641f3c4b",
   "metadata": {},
   "source": [
    "## Decision Regions"
   ]
  },
  {
   "cell_type": "code",
   "execution_count": 35,
   "id": "dfb1f4db-7584-4192-80e0-11d10e1f20f5",
   "metadata": {},
   "outputs": [
    {
     "data": {
      "image/png": "[encoded data removed]",
      "text/plain": [
       "<Figure size 324x252 with 1 Axes>"
      ]
     },
     "metadata": {},
     "output_type": "display_data"
    }
   ],
   "source": [
    "from mlxtend.plotting import plot_decision_regions\n",
    "\n",
    "plt.figure(figsize=(4.5, 3.5))\n",
    "plot_decision_regions(X_train, np.array(y_train), clf=model, legend=2) \n",
    "\n",
    "plt.title('MLP: 2 Classes (hidden layer:{}, iter:{})'.format(hidden,iter))\n",
    "plt.xticks([])\n",
    "plt.yticks([])\n",
    "plt.xlabel('m (gram)')\n",
    "plt.ylabel('d (diameter)')\n",
    "\n",
    "plt.show()"
   ]
  },
  {
   "cell_type": "code",
   "execution_count": 36,
   "id": "c5a50fb5-248c-4d48-b3d6-2ab611127b89",
   "metadata": {},
   "outputs": [
    {
     "data": {
      "text/plain": [
       "[(2, 100), (100, 1)]"
      ]
     },
     "execution_count": 36,
     "metadata": {},
     "output_type": "execute_result"
    }
   ],
   "source": [
    "[coef.shape for coef in model.coefs_]"
   ]
  },
  {
   "cell_type": "code",
   "execution_count": 37,
   "id": "121f5141-7a45-4ae6-9356-77b3a92c6d5b",
   "metadata": {},
   "outputs": [
    {
     "data": {
      "text/plain": [
       "MLPClassifier(hidden_layer_sizes=(100, 20), max_iter=2000, random_state=1)"
      ]
     },
     "execution_count": 37,
     "metadata": {},
     "output_type": "execute_result"
    }
   ],
   "source": [
    "model = MLPClassifier(hidden_layer_sizes=(100,20), max_iter=iter, random_state=1)\n",
    "model.fit(X_train, y_train)"
   ]
  },
  {
   "cell_type": "markdown",
   "id": "fefe9971-4caa-4e4c-a4ab-3a5249fa79ad",
   "metadata": {},
   "source": [
    "## Loss Curve"
   ]
  },
  {
   "cell_type": "code",
   "execution_count": 38,
   "id": "de24b7e3-18f1-4626-b144-6754a1b24523",
   "metadata": {},
   "outputs": [
    {
     "data": {
      "image/png": "[encoded data removed]",
      "text/plain": [
       "<Figure size 360x216 with 1 Axes>"
      ]
     },
     "metadata": {
      "needs_background": "light"
     },
     "output_type": "display_data"
    }
   ],
   "source": [
    "plt.figure(figsize=(5,3))\n",
    "plt.title('Loss curve')\n",
    "plt.xlabel('Iteration')\n",
    "plt.plot(model.loss_curve_)\n",
    "plt.tight_layout()\n",
    "plt.show()"
   ]
  },
  {
   "cell_type": "code",
   "execution_count": null,
   "id": "e3216676-0ce9-495c-accf-ff2da5e56dca",
   "metadata": {},
   "outputs": [],
   "source": [
    "## try other cases"
   ]
  },
  {
   "cell_type": "markdown",
   "id": "198fe308-b5f1-4c5d-a92d-9d7fec2cbba9",
   "metadata": {},
   "source": [
    "# ANN/MLP จำแนกผลไม้ 3 Class\n",
    "Artificial Neural Network ด้วย MLP Scikit-learn จำแนก 3 Class "
   ]
  },
  {
   "cell_type": "code",
   "execution_count": 39,
   "id": "a4bdb5e8-8f85-447e-ab9c-080be34f0a04",
   "metadata": {},
   "outputs": [
    {
     "data": {
      "text/html": [
       "<div>\n",
       "<style scoped>\n",
       "    .dataframe tbody tr th:only-of-type {\n",
       "        vertical-align: middle;\n",
       "    }\n",
       "\n",
       "    .dataframe tbody tr th {\n",
       "        vertical-align: top;\n",
       "    }\n",
       "\n",
       "    .dataframe thead th {\n",
       "        text-align: right;\n",
       "    }\n",
       "</style>\n",
       "<table border=\"1\" class=\"dataframe\">\n",
       "  <thead>\n",
       "    <tr style=\"text-align: right;\">\n",
       "      <th></th>\n",
       "      <th>m</th>\n",
       "      <th>d</th>\n",
       "      <th>target</th>\n",
       "    </tr>\n",
       "  </thead>\n",
       "  <tbody>\n",
       "    <tr>\n",
       "      <th>3</th>\n",
       "      <td>6.6</td>\n",
       "      <td>3.2</td>\n",
       "      <td>0</td>\n",
       "    </tr>\n",
       "    <tr>\n",
       "      <th>7</th>\n",
       "      <td>7.0</td>\n",
       "      <td>4.8</td>\n",
       "      <td>1</td>\n",
       "    </tr>\n",
       "    <tr>\n",
       "      <th>6</th>\n",
       "      <td>8.2</td>\n",
       "      <td>4.4</td>\n",
       "      <td>1</td>\n",
       "    </tr>\n",
       "    <tr>\n",
       "      <th>2</th>\n",
       "      <td>6.5</td>\n",
       "      <td>5.5</td>\n",
       "      <td>0</td>\n",
       "    </tr>\n",
       "    <tr>\n",
       "      <th>10</th>\n",
       "      <td>8.9</td>\n",
       "      <td>5.2</td>\n",
       "      <td>2</td>\n",
       "    </tr>\n",
       "    <tr>\n",
       "      <th>4</th>\n",
       "      <td>6.9</td>\n",
       "      <td>5.9</td>\n",
       "      <td>0</td>\n",
       "    </tr>\n",
       "  </tbody>\n",
       "</table>\n",
       "</div>"
      ],
      "text/plain": [
       "      m    d  target\n",
       "3   6.6  3.2       0\n",
       "7   7.0  4.8       1\n",
       "6   8.2  4.4       1\n",
       "2   6.5  5.5       0\n",
       "10  8.9  5.2       2\n",
       "4   6.9  5.9       0"
      ]
     },
     "execution_count": 39,
     "metadata": {},
     "output_type": "execute_result"
    }
   ],
   "source": [
    "df = pd.read_csv('data/fruit3class.csv')\n",
    "\n",
    "# df.sample(7)\n",
    "df.sample(6,random_state=1)"
   ]
  },
  {
   "cell_type": "code",
   "execution_count": 40,
   "id": "4f92c697-4375-44b5-90e8-c7f1e501e3b4",
   "metadata": {},
   "outputs": [
    {
     "data": {
      "image/png": "[encoded data removed]",
      "text/plain": [
       "<Figure size 432x288 with 1 Axes>"
      ]
     },
     "metadata": {
      "needs_background": "light"
     },
     "output_type": "display_data"
    }
   ],
   "source": [
    "sns.scatterplot(x='m', y='d', data=df, hue='target', style='target',s=140, palette='Set1') \n",
    "plt.show()"
   ]
  },
  {
   "cell_type": "code",
   "execution_count": 41,
   "id": "081d42ae-bce0-4665-b532-766984a7c834",
   "metadata": {},
   "outputs": [
    {
     "data": {
      "text/plain": [
       "m         0\n",
       "d         0\n",
       "target    0\n",
       "dtype: int64"
      ]
     },
     "execution_count": 41,
     "metadata": {},
     "output_type": "execute_result"
    }
   ],
   "source": [
    "df.isnull().sum()   # มี Missing values หรือไม่"
   ]
  },
  {
   "cell_type": "code",
   "execution_count": 42,
   "id": "2b8fe9bf-cae2-42e8-92c4-1477c3aa8433",
   "metadata": {},
   "outputs": [
    {
     "data": {
      "text/plain": [
       "array([0, 1, 2], dtype=int64)"
      ]
     },
     "execution_count": 42,
     "metadata": {},
     "output_type": "execute_result"
    }
   ],
   "source": [
    "df.target.unique()   # target,class"
   ]
  },
  {
   "cell_type": "code",
   "execution_count": 43,
   "id": "fbce1405-ff23-48f7-b798-44e8ef3a7e7c",
   "metadata": {},
   "outputs": [],
   "source": [
    "X = df.drop('target', axis=1)\n",
    "y = df.target"
   ]
  },
  {
   "cell_type": "code",
   "execution_count": 44,
   "id": "de3a15d2-6107-46d9-b071-18442431c492",
   "metadata": {},
   "outputs": [],
   "source": [
    "from sklearn.preprocessing import StandardScaler\n",
    "sc = StandardScaler()\n",
    "\n",
    "X_train = sc.fit_transform(X)\n",
    "\n",
    "y_train = y"
   ]
  },
  {
   "cell_type": "code",
   "execution_count": 45,
   "id": "b51c5cc2-a38e-4757-acfc-6b649edc56cc",
   "metadata": {},
   "outputs": [],
   "source": [
    "from sklearn.neural_network import MLPClassifier"
   ]
  },
  {
   "cell_type": "markdown",
   "id": "ef565dce-75de-4176-9a69-49e30c697df7",
   "metadata": {},
   "source": [
    "#### case1: hidden=100, iteration=200"
   ]
  },
  {
   "cell_type": "code",
   "execution_count": 46,
   "id": "caf5fb28-dfef-430d-9be7-ef91c1b4ac10",
   "metadata": {},
   "outputs": [],
   "source": [
    "hidden = 100\n",
    "iter = 200\n",
    "model = MLPClassifier(random_state=1) "
   ]
  },
  {
   "cell_type": "markdown",
   "id": "39ca431d-05bb-40c2-81a0-f7d54d4e2752",
   "metadata": {},
   "source": [
    "#### case2: hidden=4, iter=2500"
   ]
  },
  {
   "cell_type": "code",
   "execution_count": 59,
   "id": "d622e1ad-8a4a-4f3a-ae61-110c4484b9c9",
   "metadata": {},
   "outputs": [],
   "source": [
    "hidden = 4\n",
    "iter = 2500\n",
    "model = MLPClassifier(hidden_layer_sizes=(hidden), max_iter=iter, random_state=1)"
   ]
  },
  {
   "cell_type": "markdown",
   "id": "5c2858ed-a752-4e11-bd89-c363665f0fa8",
   "metadata": {},
   "source": [
    "#### case 3: hidden=30, iter=2500"
   ]
  },
  {
   "cell_type": "code",
   "execution_count": null,
   "id": "73a1aa75-8625-448d-a4f0-bad99b6bc617",
   "metadata": {},
   "outputs": [],
   "source": [
    "hidden = 30\n",
    "iter = 2500\n",
    "model = MLPClassifier(hidden_layer_sizes=(hidden), max_iter=iter, random_state=1)"
   ]
  },
  {
   "cell_type": "markdown",
   "id": "0b7c4cc0-e36c-4e72-a289-15cc40eb58a4",
   "metadata": {},
   "source": [
    "#### case4: 2 hidden layers (100 x 30)"
   ]
  },
  {
   "cell_type": "code",
   "execution_count": null,
   "id": "31c32ef4-3f62-41ff-9f63-89334e2c71dc",
   "metadata": {},
   "outputs": [],
   "source": [
    "hidden = 100\n",
    "hidden2 = 30\n",
    "\n",
    "iter = 2500\n",
    "model = MLPClassifier(hidden_layer_sizes=(hidden, hidden2), max_iter=iter, random_state=1)\n",
    "# model = MLPClassifier(hidden_layer_sizes=(100, 30), max_iter=iter, random_state=1)"
   ]
  },
  {
   "cell_type": "markdown",
   "id": "356e7503-7658-4535-8ccf-c12ab87f547d",
   "metadata": {},
   "source": [
    "## Train the Model"
   ]
  },
  {
   "cell_type": "code",
   "execution_count": 60,
   "id": "fc686b19-2bec-4c14-a5ef-185f9ee5d494",
   "metadata": {},
   "outputs": [
    {
     "name": "stdout",
     "output_type": "stream",
     "text": [
      "score: 1.0000\n",
      "score: 1.0\n",
      "actual y:  [0 0 0 0 0 0 1 1 1 1 2 2 0 0 0]\n",
      "predicted: [0 0 0 0 0 0 1 1 1 1 2 2 0 0 0]\n"
     ]
    }
   ],
   "source": [
    "model.fit(X_train, y_train)\n",
    "\n",
    "print('score: {:.4f}'.format(model.score(X_train, y_train)))\n",
    "print('score:', model.score(X_train, y_train).round(4)) \n",
    "print('actual y: ', np.array(y))\n",
    "print('predicted:', model.predict(X_train)) "
   ]
  },
  {
   "cell_type": "markdown",
   "id": "2f0bff52-582b-41d6-b14b-ed21a5377d96",
   "metadata": {},
   "source": [
    "## Evaluation"
   ]
  },
  {
   "cell_type": "code",
   "execution_count": 61,
   "id": "2af3de45-2ede-4613-bc3b-34ac286f2533",
   "metadata": {},
   "outputs": [
    {
     "name": "stdout",
     "output_type": "stream",
     "text": [
      "Score -> 1.0000\n",
      "              precision    recall  f1-score   support\n",
      "\n",
      "       Grape       1.00      1.00      1.00         9\n",
      "       Lemon       1.00      1.00      1.00         4\n",
      "      Orange       1.00      1.00      1.00         2\n",
      "\n",
      "    accuracy                           1.00        15\n",
      "   macro avg       1.00      1.00      1.00        15\n",
      "weighted avg       1.00      1.00      1.00        15\n",
      "\n",
      "[[9 0 0]\n",
      " [0 4 0]\n",
      " [0 0 2]]\n"
     ]
    }
   ],
   "source": [
    "from sklearn.metrics import classification_report, confusion_matrix\n",
    "\n",
    "y_predict = model.predict(X_train)\n",
    "class_names = ['Grape', 'Lemon', 'Orange']  ## <-----\n",
    "\n",
    "print('Score -> {:.4f}' . format(model.score(X_train, y_train)))\n",
    "print(classification_report(y_train, y_predict, target_names=class_names))\n",
    "print(confusion_matrix(y_train, y_predict))"
   ]
  },
  {
   "cell_type": "code",
   "execution_count": 62,
   "id": "890c889f-8f31-4093-8473-ee11d7ae42bd",
   "metadata": {},
   "outputs": [
    {
     "data": {
      "image/png": "[encoded data removed]",
      "text/plain": [
       "<Figure size 432x288 with 2 Axes>"
      ]
     },
     "metadata": {
      "needs_background": "light"
     },
     "output_type": "display_data"
    }
   ],
   "source": [
    "# from sklearn.metrics import confusion_matrix, ConfusionMatrixDisplay\n",
    "\n",
    "cm = confusion_matrix(y_train, y_predict)\n",
    "ConfusionMatrixDisplay(cm, display_labels=class_names).plot()\n",
    "plt.title('Confusion Matrix')\n",
    "plt.show()"
   ]
  },
  {
   "cell_type": "markdown",
   "id": "c156cfae-bbc7-4179-b786-18b9b6955a00",
   "metadata": {},
   "source": [
    "## Decision Regions"
   ]
  },
  {
   "cell_type": "code",
   "execution_count": 63,
   "id": "49f90e5c-b01a-4d5d-8cd8-74cedd00ea37",
   "metadata": {},
   "outputs": [
    {
     "data": {
      "image/png": "[encoded data removed]",
      "text/plain": [
       "<Figure size 324x252 with 1 Axes>"
      ]
     },
     "metadata": {},
     "output_type": "display_data"
    }
   ],
   "source": [
    "# the same as above\n",
    "from mlxtend.plotting import plot_decision_regions\n",
    "\n",
    "plt.figure(figsize=(4.5, 3.5))\n",
    "plot_decision_regions(X_train, np.array(y_train), clf=model, legend=2) \n",
    "\n",
    "plt.title('MLP: 2 Classes (hidden layer:{}, iter:{})'.format(hidden,iter))\n",
    "plt.xticks([])\n",
    "plt.yticks([])\n",
    "plt.xlabel('m (gram)')\n",
    "plt.ylabel('d (diameter)')\n",
    "plt.show()"
   ]
  },
  {
   "cell_type": "markdown",
   "id": "6d64222e-ce10-446a-a70b-3980152a0a79",
   "metadata": {},
   "source": [
    "## Model info"
   ]
  },
  {
   "cell_type": "code",
   "execution_count": 64,
   "id": "1b54ead2-72b2-46be-baf6-eed7c6226953",
   "metadata": {},
   "outputs": [
    {
     "data": {
      "text/plain": [
       "[(2, 4), (4, 3)]"
      ]
     },
     "execution_count": 64,
     "metadata": {},
     "output_type": "execute_result"
    }
   ],
   "source": [
    "[coef.shape for coef in model.coefs_]"
   ]
  },
  {
   "cell_type": "code",
   "execution_count": 52,
   "id": "2ab991bd-acc7-43d1-8af1-c7b64e5f409a",
   "metadata": {},
   "outputs": [
    {
     "ename": "NameError",
     "evalue": "name 'Image' is not defined",
     "output_type": "error",
     "traceback": [
      "\u001b[1;31m---------------------------------------------------------------------------\u001b[0m",
      "\u001b[1;31mNameError\u001b[0m                                 Traceback (most recent call last)",
      "Input \u001b[1;32mIn [52]\u001b[0m, in \u001b[0;36m<cell line: 1>\u001b[1;34m()\u001b[0m\n\u001b[1;32m----> 1\u001b[0m \u001b[43mImage\u001b[49m(filename\u001b[38;5;241m=\u001b[39m\u001b[38;5;124m'\u001b[39m\u001b[38;5;124mimages/ch08 MLP scikit/fruit3c stru 20210523.png\u001b[39m\u001b[38;5;124m'\u001b[39m)\n",
      "\u001b[1;31mNameError\u001b[0m: name 'Image' is not defined"
     ]
    }
   ],
   "source": [
    "Image(filename='images/ch08 MLP scikit/fruit3c stru 20210523.png')"
   ]
  },
  {
   "cell_type": "code",
   "execution_count": 53,
   "id": "7f19a1e6-f021-49f7-b7e4-0493f65ade6b",
   "metadata": {},
   "outputs": [
    {
     "ename": "NameError",
     "evalue": "name 'Image' is not defined",
     "output_type": "error",
     "traceback": [
      "\u001b[1;31m---------------------------------------------------------------------------\u001b[0m",
      "\u001b[1;31mNameError\u001b[0m                                 Traceback (most recent call last)",
      "Input \u001b[1;32mIn [53]\u001b[0m, in \u001b[0;36m<cell line: 2>\u001b[1;34m()\u001b[0m\n\u001b[0;32m      1\u001b[0m \u001b[38;5;66;03m# 100x30   Shallow Learning Network\u001b[39;00m\n\u001b[1;32m----> 2\u001b[0m \u001b[43mImage\u001b[49m(filename\u001b[38;5;241m=\u001b[39m\u001b[38;5;124m'\u001b[39m\u001b[38;5;124mimages/ch08 MLP scikit/DL 20220428 194649.png\u001b[39m\u001b[38;5;124m'\u001b[39m)\n",
      "\u001b[1;31mNameError\u001b[0m: name 'Image' is not defined"
     ]
    }
   ],
   "source": [
    "# 100x30   Shallow Learning Network\n",
    "Image(filename='images/ch08 MLP scikit/DL 20220428 194649.png')"
   ]
  },
  {
   "cell_type": "markdown",
   "id": "cb3ffd3d-fdcd-43fb-ae0e-6f4bdf6553c8",
   "metadata": {},
   "source": [
    "## Predict"
   ]
  },
  {
   "cell_type": "code",
   "execution_count": 65,
   "id": "c3397b61-6b91-496c-84ad-435d612564c9",
   "metadata": {},
   "outputs": [
    {
     "data": {
      "text/plain": [
       "[[8.4, 5.2], [6.8, 4.2]]"
      ]
     },
     "execution_count": 65,
     "metadata": {},
     "output_type": "execute_result"
    }
   ],
   "source": [
    "# X_new = [[8.4, 5]]\n",
    "X_new = [[8.4, 5.2], \n",
    "         [6.8 , 4.2]]\n",
    "X_new"
   ]
  },
  {
   "cell_type": "code",
   "execution_count": 66,
   "id": "e8155f1f-3c8f-497e-9a49-105caf9deb3e",
   "metadata": {},
   "outputs": [
    {
     "name": "stderr",
     "output_type": "stream",
     "text": [
      "C:\\Users\\Asus\\anaconda3\\lib\\site-packages\\sklearn\\base.py:450: UserWarning: X does not have valid feature names, but StandardScaler was fitted with feature names\n",
      "  warnings.warn(\n"
     ]
    },
    {
     "data": {
      "text/plain": [
       "array([[ 0.99269274,  0.77532161],\n",
       "       [-0.54437989, -0.31157784]])"
      ]
     },
     "execution_count": 66,
     "metadata": {},
     "output_type": "execute_result"
    }
   ],
   "source": [
    "X_new_sc = sc.transform(X_new)\n",
    "X_new_sc"
   ]
  },
  {
   "cell_type": "code",
   "execution_count": 67,
   "id": "ca2b3b0d-0955-4549-8f98-c2701efae09e",
   "metadata": {},
   "outputs": [
    {
     "name": "stdout",
     "output_type": "stream",
     "text": [
      "Prediction: [2 1]\n"
     ]
    }
   ],
   "source": [
    "print('Prediction:', model.predict(X_new_sc))"
   ]
  },
  {
   "cell_type": "code",
   "execution_count": 68,
   "id": "035fd296-f0fc-46a3-9dc1-f7f3dc341e7b",
   "metadata": {},
   "outputs": [
    {
     "data": {
      "image/png": "[encoded data removed]",
      "text/plain": [
       "<Figure size 324x252 with 1 Axes>"
      ]
     },
     "metadata": {},
     "output_type": "display_data"
    }
   ],
   "source": [
    "plt.figure(figsize=(4.5, 3.5))\n",
    "plot_decision_regions(X_train, np.array(y_train), clf=model,\n",
    "                      legend=2)\n",
    "\n",
    "# plt.title('MLP: Prediction') \n",
    "plt.title('MLP: Prediction (hidden layer:{}, iter:{})'.format(hidden,iter))\n",
    "plt.xticks([])\n",
    "plt.yticks([])\n",
    "plt.xlabel('m (gram)')\n",
    "plt.ylabel('d (diameter)')\n",
    "\n",
    "plt.scatter(X_new_sc[:,0], X_new_sc[:,1], marker='o', s=120, c='r')\n",
    "plt.show()"
   ]
  },
  {
   "cell_type": "markdown",
   "id": "4222e375-698b-44ce-8b34-49f911558087",
   "metadata": {},
   "source": [
    "## Loss Curve"
   ]
  },
  {
   "cell_type": "code",
   "execution_count": 69,
   "id": "c7c5e0e8-8846-4f7c-85a9-1423e3ccecbf",
   "metadata": {},
   "outputs": [
    {
     "data": {
      "image/png": "[encoded data removed]",
      "text/plain": [
       "<Figure size 360x216 with 1 Axes>"
      ]
     },
     "metadata": {
      "needs_background": "light"
     },
     "output_type": "display_data"
    }
   ],
   "source": [
    "plt.figure(figsize=(5,3))\n",
    "plt.title('Loss curve')\n",
    "plt.xlabel('Iteration')\n",
    "plt.plot(model.loss_curve_)\n",
    "plt.tight_layout()\n",
    "plt.show()"
   ]
  },
  {
   "cell_type": "code",
   "execution_count": null,
   "id": "3dcf77b1-6d23-4845-a7c5-0e2872eac9c8",
   "metadata": {},
   "outputs": [],
   "source": []
  }
 ],
 "metadata": {
  "kernelspec": {
   "display_name": "Python 3 (ipykernel)",
   "language": "python",
   "name": "python3"
  },
  "language_info": {
   "codemirror_mode": {
    "name": "ipython",
    "version": 3
   },
   "file_extension": ".py",
   "mimetype": "text/x-python",
   "name": "python",
   "nbconvert_exporter": "python",
   "pygments_lexer": "ipython3",
   "version": "3.9.12"
  }
 },
 "nbformat": 4,
 "nbformat_minor": 5
}
