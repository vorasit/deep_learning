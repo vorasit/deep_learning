{
 "cells": [
  {
   "cell_type": "markdown",
   "id": "f958200f-bd56-4217-8af5-1597db651f97",
   "metadata": {},
   "source": [
    "# Loss, Cost\n",
    "หาค่า Loss, Cost"
   ]
  },
  {
   "cell_type": "markdown",
   "id": "5bca46b2-644a-4824-900a-a01b58c5ca3a",
   "metadata": {},
   "source": [
    "## MSE: Mean Squared Error"
   ]
  },
  {
   "cell_type": "code",
   "execution_count": 1,
   "id": "75113681-e926-499b-9d38-ac65177c55f9",
   "metadata": {},
   "outputs": [],
   "source": [
    "from sklearn.metrics import mean_squared_error"
   ]
  },
  {
   "cell_type": "code",
   "execution_count": 2,
   "id": "b402afeb-86be-4168-a899-b548b9bcabf5",
   "metadata": {},
   "outputs": [
    {
     "data": {
      "text/plain": [
       "0.5"
      ]
     },
     "execution_count": 2,
     "metadata": {},
     "output_type": "execute_result"
    }
   ],
   "source": [
    "y_true = [0, 0, 1, 1]  # ค่า y จริง (Target)\n",
    "y_pred = [0, 0, 0, 0]  # y ที่ Model predict ได้\n",
    "\n",
    "mean_squared_error(y_true, y_pred)"
   ]
  },
  {
   "cell_type": "code",
   "execution_count": 3,
   "id": "a8238742-e7d1-4753-80a0-3f707ddeb53e",
   "metadata": {},
   "outputs": [
    {
     "data": {
      "text/plain": [
       "0.5"
      ]
     },
     "execution_count": 3,
     "metadata": {},
     "output_type": "execute_result"
    }
   ],
   "source": [
    "(0 + 0 + 1**2 + 1**2)/4"
   ]
  },
  {
   "cell_type": "code",
   "execution_count": 4,
   "id": "d0e61649-cc11-4c5d-bd82-5fde6fa17af5",
   "metadata": {},
   "outputs": [
    {
     "data": {
      "text/plain": [
       "0.0"
      ]
     },
     "execution_count": 4,
     "metadata": {},
     "output_type": "execute_result"
    }
   ],
   "source": [
    "y_true = [0, 0, 1, 1]  # \n",
    "y_pred = [0, 0, 1, 1] \n",
    "\n",
    "mean_squared_error(y_true, y_pred)"
   ]
  },
  {
   "cell_type": "markdown",
   "id": "dfbbc48d-6e38-4978-bea1-f31056e8d751",
   "metadata": {},
   "source": [
    "## Binary Cross-Entropy"
   ]
  },
  {
   "cell_type": "code",
   "execution_count": 5,
   "id": "db994979-2641-4b72-82f1-fddf5919b219",
   "metadata": {},
   "outputs": [],
   "source": [
    "import numpy as np\n",
    "import tensorflow as tf\n",
    "\n",
    "y_true = [0, 0, 1, 1]    # ค่า y จริง (Target) \n",
    "y_pred = [0, 0, 1, 1]    # y ที่ Model predict ได้"
   ]
  },
  {
   "cell_type": "code",
   "execution_count": null,
   "id": "8f08369a-2877-4705-a490-f499727cbeeb",
   "metadata": {},
   "outputs": [],
   "source": [
    "y_true = [0, 0, 1, 1]  # 3.8562371730804443\n",
    "y_pred = [0, 0, 1, 0]"
   ]
  },
  {
   "cell_type": "code",
   "execution_count": null,
   "id": "3f42b5c9-c0a0-4dba-8f12-60a6a8dc408b",
   "metadata": {},
   "outputs": [],
   "source": [
    "y_true = [0, 0, 1, 1] # 7.712474346160889\n",
    "y_pred = [0, 0, 0, 0]"
   ]
  },
  {
   "cell_type": "code",
   "execution_count": null,
   "id": "e23c51a8-807b-452e-be1b-614b5da3b7da",
   "metadata": {},
   "outputs": [],
   "source": [
    "y_true = [0, 0, 1, 1]  # 15.424948692321777\n",
    "y_pred = [1, 1, 0, 0]"
   ]
  },
  {
   "cell_type": "code",
   "execution_count": 6,
   "id": "d34649fc-a276-4b32-a6f1-402ebaba94a1",
   "metadata": {},
   "outputs": [],
   "source": [
    "y_pred = np.array(y_pred).astype('float')"
   ]
  },
  {
   "cell_type": "code",
   "execution_count": 7,
   "id": "63e12a4a-b6cc-46c8-b99d-b984ced85559",
   "metadata": {},
   "outputs": [
    {
     "data": {
      "text/plain": [
       "0.0"
      ]
     },
     "execution_count": 7,
     "metadata": {},
     "output_type": "execute_result"
    }
   ],
   "source": [
    "bce = tf.keras.losses.BinaryCrossentropy() \n",
    "bce(y_true, y_pred).numpy()"
   ]
  },
  {
   "cell_type": "code",
   "execution_count": 12,
   "id": "ec4a1273-721e-46dd-bba2-2ff1d12f19fb",
   "metadata": {},
   "outputs": [
    {
     "data": {
      "image/png": "[encoded data removed]",
      "text/plain": [
       "<Figure size 432x288 with 1 Axes>"
      ]
     },
     "metadata": {
      "needs_background": "light"
     },
     "output_type": "display_data"
    }
   ],
   "source": [
    "import matplotlib.pyplot as plt\n",
    "\n",
    "# yHat คือ ค่าที่ Model คำนวณได้ (y_pred),  y คือค่าจาก y_true (actual label ค่า y จริง)\n",
    "def cross_entropy_loss(yHat, y):  \n",
    "    if y == 1:\n",
    "        return -np.log(yHat)\n",
    "    else:\n",
    "        return -np.log(1 - yHat)\n",
    "    \n",
    "\n",
    "# สร้างข้อมูลช่วง .01-.099 เพื่อป้อนให้ฟังก์ชัน (ไม่ใช้ 0 เนื่องจากป้องกัน Log Error)\n",
    "y_pred = np.arange(0.01, 0.999, 0.01)\n",
    "\n",
    "cost_1 = cross_entropy_loss(y_pred, 1)\n",
    "cost_0 = cross_entropy_loss(y_pred, 0)\n",
    "\n",
    "# Plot the cross entropy loss\n",
    "\n",
    "plt.plot(y_pred, cost_1, label='Actual (y_true) = 1', c='b', ls='-', lw=2)\n",
    "plt.plot(y_pred, cost_0, label='Actual (y_true) = 0', c='r',ls='--', lw=2)\n",
    "\n",
    "plt.xlabel('Predicted')\n",
    "plt.ylabel('Loss')\n",
    "plt.legend(loc='best')\n",
    "plt.tight_layout()\n",
    "plt.show()    "
   ]
  },
  {
   "cell_type": "code",
   "execution_count": null,
   "id": "82dd7234-dbbd-4b9c-b9bb-11b2ec4a41f2",
   "metadata": {},
   "outputs": [],
   "source": []
  }
 ],
 "metadata": {
  "kernelspec": {
   "display_name": "Python 3 (ipykernel)",
   "language": "python",
   "name": "python3"
  },
  "language_info": {
   "codemirror_mode": {
    "name": "ipython",
    "version": 3
   },
   "file_extension": ".py",
   "mimetype": "text/x-python",
   "name": "python",
   "nbconvert_exporter": "python",
   "pygments_lexer": "ipython3",
   "version": "3.9.12"
  }
 },
 "nbformat": 4,
 "nbformat_minor": 5
}
