{
 "cells": [
  {
   "cell_type": "markdown",
   "id": "b271787c-03eb-4b27-a1fe-13c8f489c1c5",
   "metadata": {
    "id": "b271787c-03eb-4b27-a1fe-13c8f489c1c5"
   },
   "source": [
    "# WS: CNN Model Kernels\n",
    "สร้าง CNN Model และแอบส่องดู Kernel"
   ]
  },
  {
   "cell_type": "code",
   "execution_count": null,
   "id": "v5wwyg7ATYxE",
   "metadata": {
    "id": "v5wwyg7ATYxE"
   },
   "outputs": [],
   "source": [
    "from tensorflow.keras import Sequential\n",
    "from tensorflow.keras.layers import Dense, Conv2D, MaxPool2D, Flatten \n",
    "import matplotlib.pyplot as plt\n",
    "import numpy as np"
   ]
  },
  {
   "cell_type": "code",
   "execution_count": null,
   "id": "232b654d-dab2-488c-88af-49a3df504913",
   "metadata": {
    "id": "232b654d-dab2-488c-88af-49a3df504913"
   },
   "outputs": [],
   "source": [
    "in_shape = (100, 100, 3)        # input image shape\n",
    "\n",
    "model = Sequential()\n",
    "\n",
    "model.add(Conv2D(32, (3,3), activation='relu', input_shape=in_shape)) \n",
    "model.add(MaxPool2D((2, 2)))\n",
    "\n",
    "model.add(Conv2D(64, (3,3), activation='relu')) \n",
    "model.add(MaxPool2D((2, 2)))\n",
    "\n",
    "model.add(Conv2D(128, (3,3), activation='relu')) \n",
    "model.add(MaxPool2D((2, 2)))\n",
    "\n",
    "model.add(Flatten())\n",
    "\n",
    "model.add(Dense(3, activation='softmax'))\n",
    "model.summary()"
   ]
  },
  {
   "cell_type": "markdown",
   "id": "mRIGJmkPQS5W",
   "metadata": {
    "id": "mRIGJmkPQS5W"
   },
   "source": [
    "## CNN Model"
   ]
  },
  {
   "cell_type": "markdown",
   "id": "DgOX4Jzksa5k",
   "metadata": {
    "id": "DgOX4Jzksa5k"
   },
   "source": [
    "## Create Model"
   ]
  },
  {
   "cell_type": "code",
   "execution_count": null,
   "id": "FxkOoYxBdf_Y",
   "metadata": {
    "colab": {
     "base_uri": "https://localhost:8080/"
    },
    "executionInfo": {
     "elapsed": 646,
     "status": "ok",
     "timestamp": 1657358676542,
     "user": {
      "displayName": "JKob San",
      "userId": "15910273739366067110"
     },
     "user_tz": -420
    },
    "id": "FxkOoYxBdf_Y",
    "outputId": "c41c1b01-397a-4931-b45d-961ace1fa5d9"
   },
   "outputs": [],
   "source": [
    "# assign name to each layer\n",
    "from tensorflow.keras import Sequential\n",
    "from tensorflow.keras.layers import Dense, Conv2D, MaxPool2D, Flatten \n",
    "import matplotlib.pyplot as plt\n",
    "import numpy as np\n",
    "\n",
    "in_shape = (100, 100, 3)        # input image shape\n",
    "\n",
    "model = Sequential()\n",
    "\n",
    "model.add(Conv2D(32, (3,3), activation='relu', input_shape=in_shape, name=\"conv2D_1\")) \n",
    "model.add(MaxPool2D((2, 2), name=\"MaxPool_1\"))\n",
    "\n",
    "model.add(Conv2D(64, (3,3), activation='relu', name=\"conv2D_2\")) \n",
    "model.add(MaxPool2D((2, 2), name=\"MaxPool_2\"))\n",
    "\n",
    "model.add(Conv2D(128, (3,3), activation='relu', name=\"conv2D_3\")) \n",
    "model.add(MaxPool2D((2, 2), name=\"MaxPool_3\"))\n",
    "\n",
    "model.add(Flatten())\n",
    "\n",
    "model.add(Dense(3, activation='softmax'))\n",
    "model.summary()"
   ]
  },
  {
   "cell_type": "code",
   "execution_count": null,
   "id": "ZXPCrZQK4TR7",
   "metadata": {
    "id": "ZXPCrZQK4TR7"
   },
   "outputs": [],
   "source": [
    "# !pip show pydot\n",
    "!pip show pydotplus"
   ]
  },
  {
   "cell_type": "code",
   "execution_count": null,
   "id": "eaf30c83-7d5d-4cbf-95b8-839671ed3825",
   "metadata": {
    "id": "eaf30c83-7d5d-4cbf-95b8-839671ed3825"
   },
   "outputs": [],
   "source": [
    "# pydot or pydotplus and Graphviz (https://graphviz.org/)\n",
    "from tensorflow.keras.utils import plot_model\n",
    "plot_model(model, to_file='model.png', show_shapes=True, show_layer_names=True, dpi=120)"
   ]
  },
  {
   "cell_type": "markdown",
   "id": "ba50fbca-4b0c-4ebe-acc7-c58aa74e76f2",
   "metadata": {
    "id": "ba50fbca-4b0c-4ebe-acc7-c58aa74e76f2"
   },
   "source": [
    "## Kernel"
   ]
  },
  {
   "cell_type": "code",
   "execution_count": null,
   "id": "RPvYTnKH440l",
   "metadata": {
    "id": "RPvYTnKH440l"
   },
   "outputs": [],
   "source": [
    "for layer in model.layers:\n",
    "    print(layer.name)"
   ]
  },
  {
   "cell_type": "code",
   "execution_count": null,
   "id": "625b50a3-a1ca-4f00-af54-ff04524f4280",
   "metadata": {
    "id": "625b50a3-a1ca-4f00-af54-ff04524f4280"
   },
   "outputs": [],
   "source": [
    "# filter กรองเอาเฉพาะที่เป็น conv2d\n",
    "for layer in model.layers:\n",
    "    if 'conv' not in layer.name:\n",
    "        continue\n",
    "    kernels, biases = layer.get_weights()\n",
    "    print(layer.name, ' shape:', kernels.shape)"
   ]
  },
  {
   "cell_type": "code",
   "execution_count": null,
   "id": "c9f0f5d1-a2f7-41ec-a118-e43eec94e271",
   "metadata": {
    "id": "c9f0f5d1-a2f7-41ec-a118-e43eec94e271"
   },
   "outputs": [],
   "source": [
    "model_layer_idx = 2         # 0 2 4\n",
    "kernels, biases = model.layers[model_layer_idx].get_weights()\n",
    "kernels.shape"
   ]
  },
  {
   "cell_type": "code",
   "execution_count": null,
   "id": "NUbB5frAeOca",
   "metadata": {
    "id": "NUbB5frAeOca"
   },
   "outputs": [],
   "source": [
    "kernels"
   ]
  },
  {
   "cell_type": "code",
   "execution_count": null,
   "id": "aIbmLOb1eUIb",
   "metadata": {
    "id": "aIbmLOb1eUIb"
   },
   "outputs": [],
   "source": [
    "biases"
   ]
  },
  {
   "cell_type": "code",
   "execution_count": null,
   "id": "fJ9AmLAxMln2",
   "metadata": {
    "id": "fJ9AmLAxMln2"
   },
   "outputs": [],
   "source": [
    "kernel_idx = 3               ##  0 1 2 3 ...\n",
    "kernel_i = kernels[:, :, 0 , kernel_idx]\n",
    "print(kernel_i.round(2))"
   ]
  },
  {
   "cell_type": "code",
   "execution_count": null,
   "id": "6ojOXr7L8zfo",
   "metadata": {
    "id": "6ojOXr7L8zfo"
   },
   "outputs": [],
   "source": [
    "plt.imshow(kernel_i, cmap=plt.cm.gray) \n",
    "plt.xticks([])\n",
    "plt.yticks([])\n",
    "plt.show()"
   ]
  },
  {
   "cell_type": "code",
   "execution_count": null,
   "id": "bf95ff90-a5b8-41ad-aece-e19edfc4919d",
   "metadata": {
    "id": "bf95ff90-a5b8-41ad-aece-e19edfc4919d"
   },
   "outputs": [],
   "source": [
    "# ถ้าต้องการ Normalize ( 0 .. 1)\n",
    "k_min, k_max = kernels.min(), kernels.max()\n",
    "kernels = (kernels - k_min) / (k_max - k_min)"
   ]
  },
  {
   "cell_type": "code",
   "execution_count": null,
   "id": "7SM9OV6r8p__",
   "metadata": {
    "id": "7SM9OV6r8p__"
   },
   "outputs": [],
   "source": [
    "kernel_idx = 0                ##  0 1 2 3 ...\n",
    "kernel_i = kernels[:, :, 0 , kernel_idx]\n",
    "print(kernel_i.round(2))"
   ]
  },
  {
   "cell_type": "code",
   "execution_count": null,
   "id": "S-8MHLn5lVkN",
   "metadata": {
    "id": "S-8MHLn5lVkN"
   },
   "outputs": [],
   "source": [
    "layername = model.layers[model_layer_idx].name\n",
    "layername"
   ]
  },
  {
   "cell_type": "code",
   "execution_count": null,
   "id": "e111d0e9-8171-4771-a9bb-960268f39fce",
   "metadata": {
    "id": "e111d0e9-8171-4771-a9bb-960268f39fce"
   },
   "outputs": [],
   "source": [
    "nplots = 20 \n",
    "fig = plt.figure(figsize=(8, 6.8))\n",
    "\n",
    "fig.suptitle(f'Kernel: Layer {model_layer_idx}  {layername}', fontsize=14)\n",
    "\n",
    "for j in range(nplots):\n",
    "    plt.subplot(4, 5, j+1)\n",
    "    plt.imshow(kernels[:, :, 0, j], cmap=plt.cm.gray)\n",
    "    plt.title(j)\n",
    "    plt.xticks([]); plt.yticks([])\n",
    "\n",
    "plt.savefig(f'kernel {layername}.png', dpi=120)\n",
    "plt.show()"
   ]
  },
  {
   "cell_type": "markdown",
   "id": "2ad8c50d-1e97-4e62-a090-cf071b8ad7d4",
   "metadata": {
    "id": "2ad8c50d-1e97-4e62-a090-cf071b8ad7d4"
   },
   "source": [
    "# WS: Input image and Feature maps\n",
    "- building1.jpg\n",
    "- others"
   ]
  },
  {
   "cell_type": "code",
   "execution_count": null,
   "id": "55182772-9ff4-47f6-9d49-4747a58d6325",
   "metadata": {
    "id": "55182772-9ff4-47f6-9d49-4747a58d6325"
   },
   "outputs": [],
   "source": [
    "# Anaconda/miniconda (local computer)\n",
    "from tensorflow.keras.preprocessing.image import load_img, img_to_array\n",
    "\n",
    "from tensorflow.keras.models import Model\n",
    "from matplotlib import pyplot\n",
    "\n",
    "image = load_img('building1.jpg', target_size=(100, 100))\n",
    "\n",
    "plt.imshow(image)\n",
    "plt.xticks([]), plt.yticks([])\n",
    "\n",
    "plt.show()"
   ]
  },
  {
   "cell_type": "code",
   "execution_count": null,
   "id": "XhsV1fQb-lCD",
   "metadata": {
    "colab": {
     "base_uri": "https://localhost:8080/",
     "height": 91,
     "resources": {
      "http://localhost:8080/nbextensions/google.colab/files.js": {
       "data": "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",
       "headers": [
        [
         "content-type",
         "application/javascript"
        ]
       ],
       "ok": true,
       "status": 200,
       "status_text": ""
      }
     }
    },
    "executionInfo": {
     "elapsed": 11778,
     "status": "ok",
     "timestamp": 1657360329022,
     "user": {
      "displayName": "JKob San",
      "userId": "15910273739366067110"
     },
     "user_tz": -420
    },
    "id": "XhsV1fQb-lCD",
    "outputId": "2430b103-e4cd-4efe-b727-33a053f54fa5"
   },
   "outputs": [],
   "source": [
    "# Colab Upload\n",
    "from google.colab import files\n",
    "\n",
    "uploaded = files.upload()\n",
    "\n",
    "filename = next(iter(uploaded))\n",
    "print(filename)"
   ]
  },
  {
   "cell_type": "code",
   "execution_count": null,
   "id": "UphOjqVq_A8I",
   "metadata": {
    "colab": {
     "base_uri": "https://localhost:8080/",
     "height": 117
    },
    "executionInfo": {
     "elapsed": 741,
     "status": "ok",
     "timestamp": 1657360336452,
     "user": {
      "displayName": "JKob San",
      "userId": "15910273739366067110"
     },
     "user_tz": -420
    },
    "id": "UphOjqVq_A8I",
    "outputId": "22fab3ec-da23-4457-ffdc-828c48355e1b"
   },
   "outputs": [],
   "source": [
    "from tensorflow.keras.preprocessing.image import load_img, img_to_array\n",
    "from tensorflow.image import rgb_to_grayscale\n",
    "import matplotlib.pyplot as plt\n",
    "import numpy as np\n",
    "\n",
    "image = load_img(filename, target_size=(100, 100))\n",
    "image"
   ]
  },
  {
   "cell_type": "code",
   "execution_count": null,
   "id": "6epyA7MxqTHY",
   "metadata": {
    "colab": {
     "base_uri": "https://localhost:8080/"
    },
    "executionInfo": {
     "elapsed": 499,
     "status": "ok",
     "timestamp": 1657358999161,
     "user": {
      "displayName": "JKob San",
      "userId": "15910273739366067110"
     },
     "user_tz": -420
    },
    "id": "6epyA7MxqTHY",
    "outputId": "2b1ff772-5e30-4eb2-b36e-75f65980e21d"
   },
   "outputs": [],
   "source": [
    "type(image)"
   ]
  },
  {
   "cell_type": "code",
   "execution_count": null,
   "id": "7dd01ec1-d182-4fad-ab48-b9d174f6cd93",
   "metadata": {
    "colab": {
     "base_uri": "https://localhost:8080/"
    },
    "executionInfo": {
     "elapsed": 489,
     "status": "ok",
     "timestamp": 1657360350138,
     "user": {
      "displayName": "JKob San",
      "userId": "15910273739366067110"
     },
     "user_tz": -420
    },
    "id": "7dd01ec1-d182-4fad-ab48-b9d174f6cd93",
    "outputId": "a0d1f9bf-e909-476a-a38c-51ac54ee9f1d"
   },
   "outputs": [],
   "source": [
    "img = img_to_array(image)\n",
    "print(type(img))\n",
    "print('shape=',img.shape)\n",
    "print('max max pixel value=',np.min(img), np.max(img))"
   ]
  },
  {
   "cell_type": "code",
   "execution_count": null,
   "id": "ec60ede9-81f5-4ce3-b945-3801ff1c7593",
   "metadata": {
    "colab": {
     "base_uri": "https://localhost:8080/"
    },
    "executionInfo": {
     "elapsed": 572,
     "status": "ok",
     "timestamp": 1657360354358,
     "user": {
      "displayName": "JKob San",
      "userId": "15910273739366067110"
     },
     "user_tz": -420
    },
    "id": "ec60ede9-81f5-4ce3-b945-3801ff1c7593",
    "outputId": "7ca4d244-9eee-4ccb-8965-9ead3cf04a8d"
   },
   "outputs": [],
   "source": [
    "# Reshape ให้เป็น 4D Tensor\n",
    "img = np.expand_dims(img, axis=0)\n",
    "img.shape"
   ]
  },
  {
   "cell_type": "markdown",
   "id": "odQcKqm9_twF",
   "metadata": {
    "id": "odQcKqm9_twF"
   },
   "source": [
    "## Convo n"
   ]
  },
  {
   "cell_type": "code",
   "execution_count": null,
   "id": "3a5ed8d5-e1ef-4482-a6fc-c0fff676a549",
   "metadata": {
    "colab": {
     "base_uri": "https://localhost:8080/"
    },
    "executionInfo": {
     "elapsed": 531,
     "status": "ok",
     "timestamp": 1657360473528,
     "user": {
      "displayName": "JKob San",
      "userId": "15910273739366067110"
     },
     "user_tz": -420
    },
    "id": "3a5ed8d5-e1ef-4482-a6fc-c0fff676a549",
    "outputId": "daa9e0b0-a8ab-4065-99a7-ba69b9bc66db"
   },
   "outputs": [],
   "source": [
    "from tensorflow.keras.models import Model\n",
    "\n",
    "model_layer_idx = 0           # model layer id \n",
    "md = Model(inputs=model.inputs, outputs=model.layers[model_layer_idx].output)\n",
    "\n",
    "feature_maps = md.predict(img)\n",
    "feature_maps.shape"
   ]
  },
  {
   "cell_type": "code",
   "execution_count": null,
   "id": "uP0ZR9kAOPAs",
   "metadata": {
    "colab": {
     "base_uri": "https://localhost:8080/",
     "height": 35
    },
    "executionInfo": {
     "elapsed": 475,
     "status": "ok",
     "timestamp": 1657360479263,
     "user": {
      "displayName": "JKob San",
      "userId": "15910273739366067110"
     },
     "user_tz": -420
    },
    "id": "uP0ZR9kAOPAs",
    "outputId": "dc5b13ef-2536-46af-fac7-b12f4241c84d"
   },
   "outputs": [],
   "source": [
    "layername = model.layers[model_layer_idx].name\n",
    "layername"
   ]
  },
  {
   "cell_type": "code",
   "execution_count": null,
   "id": "e75a6a9b-211a-412e-8065-ca76109ae435",
   "metadata": {
    "colab": {
     "base_uri": "https://localhost:8080/"
    },
    "executionInfo": {
     "elapsed": 466,
     "status": "ok",
     "timestamp": 1657360482878,
     "user": {
      "displayName": "JKob San",
      "userId": "15910273739366067110"
     },
     "user_tz": -420
    },
    "id": "e75a6a9b-211a-412e-8065-ca76109ae435",
    "outputId": "57a2a05e-ad21-4c0f-9360-ac3111a388e1"
   },
   "outputs": [],
   "source": [
    "feature_maps.min(), feature_maps.max()"
   ]
  },
  {
   "cell_type": "code",
   "execution_count": null,
   "id": "5faa4f0b-d489-4e39-a6ba-e36be04f4cd8",
   "metadata": {
    "colab": {
     "base_uri": "https://localhost:8080/"
    },
    "executionInfo": {
     "elapsed": 651,
     "status": "ok",
     "timestamp": 1657360485500,
     "user": {
      "displayName": "JKob San",
      "userId": "15910273739366067110"
     },
     "user_tz": -420
    },
    "id": "5faa4f0b-d489-4e39-a6ba-e36be04f4cd8",
    "outputId": "00aa1177-dd15-4f85-87cd-b07264e0ed18"
   },
   "outputs": [],
   "source": [
    "# Normalize (optional)\n",
    "f_min, f_max = feature_maps.min(), feature_maps.max()\n",
    "feature_maps = (feature_maps - f_min) / (f_max - f_min)\n",
    "feature_maps.min(), feature_maps.max()"
   ]
  },
  {
   "cell_type": "markdown",
   "id": "YbyOg_KdX87B",
   "metadata": {
    "id": "YbyOg_KdX87B"
   },
   "source": [
    "## Kernel"
   ]
  },
  {
   "cell_type": "code",
   "execution_count": null,
   "id": "cbP8x8FxPv9g",
   "metadata": {
    "colab": {
     "base_uri": "https://localhost:8080/",
     "height": 321
    },
    "executionInfo": {
     "elapsed": 499,
     "status": "ok",
     "timestamp": 1657360415735,
     "user": {
      "displayName": "JKob San",
      "userId": "15910273739366067110"
     },
     "user_tz": -420
    },
    "id": "cbP8x8FxPv9g",
    "outputId": "c6cb2beb-3599-4fed-8201-af84dfbffb5e"
   },
   "outputs": [],
   "source": [
    "# Kernel for Convo Only!\n",
    "kernels, biases = model.layers[model_layer_idx].get_weights()\n",
    "print(kernels.shape)\n",
    "\n",
    "kernel_idx = 0                ##  0 1 2 3 ...\n",
    "kernel_i = kernels[:, :, 0 , kernel_idx]\n",
    "print(kernel_i.round(2))\n",
    "\n",
    "plt.imshow(kernel_i, cmap=plt.cm.gray) \n",
    "plt.xticks([])\n",
    "plt.yticks([])\n",
    "plt.show()"
   ]
  },
  {
   "cell_type": "markdown",
   "id": "r38mn1v7ZRGS",
   "metadata": {
    "id": "r38mn1v7ZRGS"
   },
   "source": [
    "## Feature Maps"
   ]
  },
  {
   "cell_type": "code",
   "execution_count": null,
   "id": "2f9981a6-526c-4a40-960e-ad689b027124",
   "metadata": {
    "colab": {
     "base_uri": "https://localhost:8080/",
     "height": 281
    },
    "executionInfo": {
     "elapsed": 565,
     "status": "ok",
     "timestamp": 1657360508985,
     "user": {
      "displayName": "JKob San",
      "userId": "15910273739366067110"
     },
     "user_tz": -420
    },
    "id": "2f9981a6-526c-4a40-960e-ad689b027124",
    "outputId": "1280c9cd-420a-4351-9010-69c5351c38fc"
   },
   "outputs": [],
   "source": [
    "sample_idx = 0      # sample id\n",
    "fea_idx = 4        # feature map id\n",
    "feature_map_i = feature_maps[sample_idx, :, :, fea_idx]\n",
    "\n",
    "# plt.title('Feature Map: {}x{}'.format(feature_map_i.shape[0],feature_map_i.shape[0]))\n",
    "plt.title(f'Feature Map: {feature_map_i.shape[0]}x{feature_map_i.shape[0]}')\n",
    "plt.imshow(feature_map_i, cmap=plt.cm.gray)\n",
    "plt.show()"
   ]
  },
  {
   "cell_type": "code",
   "execution_count": null,
   "id": "54a9261b-097b-4b54-a85c-93271b752e34",
   "metadata": {
    "colab": {
     "base_uri": "https://localhost:8080/",
     "height": 650
    },
    "executionInfo": {
     "elapsed": 4332,
     "status": "ok",
     "timestamp": 1657360520724,
     "user": {
      "displayName": "JKob San",
      "userId": "15910273739366067110"
     },
     "user_tz": -420
    },
    "id": "54a9261b-097b-4b54-a85c-93271b752e34",
    "outputId": "6244f2e0-28d9-47b8-f1de-41515008a797"
   },
   "outputs": [],
   "source": [
    "nplots = 30\n",
    "fig = plt.figure(figsize=(12, 10)) \n",
    "fig.suptitle(f'Feature Map: Layer {model_layer_idx}  {layername} \\\n",
    "   {feature_map_i.shape[0]}x{feature_map_i.shape[0]}',\n",
    "             fontsize=14)\n",
    "\n",
    "for j in range(nplots):\n",
    "    plt.subplot(6, 5, j+1)\n",
    "    plt.imshow(feature_maps[sample_idx, :, :, j], cmap=plt.cm.gray)\n",
    "    plt.title(j)\n",
    "    plt.xticks([]) # ; plt.yticks([])\n",
    "\n",
    "plt.show()"
   ]
  },
  {
   "cell_type": "code",
   "execution_count": null,
   "id": "251f0d07-8a98-40b5-9daf-0f9b2017450c",
   "metadata": {
    "id": "251f0d07-8a98-40b5-9daf-0f9b2017450c"
   },
   "outputs": [],
   "source": []
  }
 ],
 "metadata": {
  "colab": {
   "collapsed_sections": [],
   "name": "ch14 CNN Model and Kernel.ipynb",
   "provenance": [],
   "toc_visible": true
  },
  "kernelspec": {
   "display_name": "Python 3 (ipykernel)",
   "language": "python",
   "name": "python3"
  },
  "language_info": {
   "codemirror_mode": {
    "name": "ipython",
    "version": 3
   },
   "file_extension": ".py",
   "mimetype": "text/x-python",
   "name": "python",
   "nbconvert_exporter": "python",
   "pygments_lexer": "ipython3",
   "version": "3.10.4"
  }
 },
 "nbformat": 4,
 "nbformat_minor": 5
}
