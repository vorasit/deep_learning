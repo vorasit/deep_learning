{
 "cells": [
  {
   "cell_type": "markdown",
   "metadata": {},
   "source": [
    "# Multilayer Perceptron (XOR)\n",
    "สร้าง XOR Gate ด้วย MLP โดยใช้ scikit-learn"
   ]
  },
  {
   "cell_type": "code",
   "execution_count": 14,
   "metadata": {},
   "outputs": [],
   "source": [
    "import numpy as np\n",
    "\n",
    "X = [[0, 0], \n",
    "     [0, 1], \n",
    "     [1, 0], \n",
    "     [1, 1]]\n",
    "\n",
    "X_train = np.array(X) \n",
    "\n",
    "y = [0, 1, 1, 0] \n",
    "y_train = np.array(y)"
   ]
  },
  {
   "cell_type": "markdown",
   "metadata": {},
   "source": [
    "# Train model"
   ]
  },
  {
   "cell_type": "code",
   "execution_count": null,
   "metadata": {},
   "outputs": [],
   "source": [
    "from sklearn.neural_network import MLPClassifier\n",
    "\n",
    "# model = MLPClassifier(hidden_layer_sizes=(3), random_state=1, verbose=True)\n",
    "model = MLPClassifier(hidden_layer_sizes=(3))\n",
    "\n",
    "# model = MLPClassifier(hidden_layer_sizes=(4), random_state=1, verbose=True)\n",
    "# model = MLPClassifier(hidden_layer_sizes=(50), random_state=1, verbose=True, max_iter=900) \n",
    "\n",
    "model.fit(X_train, y_train)"
   ]
  },
  {
   "cell_type": "markdown",
   "metadata": {},
   "source": [
    "# Evaluation"
   ]
  },
  {
   "cell_type": "code",
   "execution_count": null,
   "metadata": {},
   "outputs": [],
   "source": [
    "print('score:', model.score(X_train, y_train)) \n",
    "print('predicted:', model.predict(X_train))\n",
    "print('target:   ', np.array(y_train))"
   ]
  },
  {
   "cell_type": "markdown",
   "metadata": {},
   "source": [
    "# Model weights"
   ]
  },
  {
   "cell_type": "code",
   "execution_count": null,
   "metadata": {},
   "outputs": [],
   "source": [
    "[coef.shape for coef in model.coefs_]"
   ]
  },
  {
   "cell_type": "code",
   "execution_count": null,
   "metadata": {},
   "outputs": [],
   "source": [
    "print(model.coefs_) "
   ]
  },
  {
   "cell_type": "code",
   "execution_count": null,
   "metadata": {},
   "outputs": [],
   "source": [
    "print(model.intercepts_)"
   ]
  },
  {
   "cell_type": "markdown",
   "metadata": {},
   "source": [
    "# Plot Decision Regions"
   ]
  },
  {
   "cell_type": "code",
   "execution_count": null,
   "metadata": {},
   "outputs": [],
   "source": [
    "!pip install mglearn"
   ]
  },
  {
   "cell_type": "code",
   "execution_count": null,
   "metadata": {},
   "outputs": [],
   "source": [
    "import matplotlib.pyplot as plt\n",
    "import mglearn\n",
    "\n",
    "plt.figure(figsize=(5, 4))\n",
    "mk = {0: 'o', 1: 's'} # or mk = ['o','s']  # \n",
    "\n",
    "mglearn.plots.plot_2d_separator(model, X_train, fill=True, eps=1.5, alpha=.28)\n",
    "mglearn.discrete_scatter(X_train[:, 0], X_train[:, 1], y, s=12, markers=mk)\n",
    "\n",
    "# plt.legend(loc='upper left')\n",
    "plt.xlabel('x1')\n",
    "plt.ylabel('x2')\n",
    "plt.legend(loc='upper left')\n",
    "plt.title('MLP Perceptron')\n",
    "plt.show()"
   ]
  },
  {
   "cell_type": "code",
   "execution_count": null,
   "metadata": {},
   "outputs": [],
   "source": []
  }
 ],
 "metadata": {
  "kernelspec": {
   "display_name": "Python 3 (ipykernel)",
   "language": "python",
   "name": "python3"
  },
  "language_info": {
   "codemirror_mode": {
    "name": "ipython",
    "version": 3
   },
   "file_extension": ".py",
   "mimetype": "text/x-python",
   "name": "python",
   "nbconvert_exporter": "python",
   "pygments_lexer": "ipython3",
   "version": "3.10.4"
  }
 },
 "nbformat": 4,
 "nbformat_minor": 4
}
