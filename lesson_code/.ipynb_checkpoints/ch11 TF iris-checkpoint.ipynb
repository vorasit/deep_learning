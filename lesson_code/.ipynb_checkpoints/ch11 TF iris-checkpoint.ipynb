{
 "cells": [
  {
   "cell_type": "markdown",
   "id": "296a98f5-4a2d-495c-bd06-937342ab6845",
   "metadata": {},
   "source": [
    "# ANN - Iris\n",
    "- TensorFlow & Keras \n",
    "-3 class (Multi-class Classification)"
   ]
  },
  {
   "cell_type": "code",
   "execution_count": null,
   "id": "500acb6a-f5d5-4da3-885e-b5d3766cd25c",
   "metadata": {},
   "outputs": [],
   "source": [
    "import pandas as pd\n",
    "import numpy as np\n",
    "import seaborn as sns\n",
    "import matplotlib.pyplot as plt"
   ]
  },
  {
   "cell_type": "markdown",
   "id": "751fd190-041f-4047-9b82-67298bbff55a",
   "metadata": {},
   "source": [
    "## Dataset"
   ]
  },
  {
   "cell_type": "code",
   "execution_count": null,
   "id": "2d812440-a6cd-4d19-891e-67eba9049905",
   "metadata": {},
   "outputs": [],
   "source": [
    "df = sns.load_dataset('iris')\n",
    "# df.head()\n",
    "df.sample(5, random_state=1)"
   ]
  },
  {
   "cell_type": "code",
   "execution_count": null,
   "id": "b7e796df-4f71-4bf8-8d4a-fd5ebf0e5f43",
   "metadata": {},
   "outputs": [],
   "source": [
    "df.isnull().sum()"
   ]
  },
  {
   "cell_type": "code",
   "execution_count": null,
   "id": "3bbd3804-2efb-4961-8b3b-80caf0a35742",
   "metadata": {},
   "outputs": [],
   "source": [
    "sns.scatterplot(x='petal_length', y='petal_width', data=df, hue='species', style='species', \n",
    "                alpha=0.85, edgecolor='w', s=100)\n",
    "plt.show()"
   ]
  },
  {
   "cell_type": "code",
   "execution_count": null,
   "id": "ff69f8dc-6a22-4d64-ac19-bba51d1a1a05",
   "metadata": {},
   "outputs": [],
   "source": [
    "class_names = np.unique(df.species)\n",
    "class_names"
   ]
  },
  {
   "cell_type": "markdown",
   "id": "eb538234-a5e6-419b-8e49-5c56a4c5deca",
   "metadata": {},
   "source": [
    "## X and y"
   ]
  },
  {
   "cell_type": "code",
   "execution_count": null,
   "id": "d43494d5-8f4a-4ba5-bb36-f7beafe7678f",
   "metadata": {},
   "outputs": [],
   "source": [
    "X = df.drop('species', axis=1)\n",
    "# X.head(6)\n",
    "X.sample(6, random_state=1)"
   ]
  },
  {
   "cell_type": "code",
   "execution_count": null,
   "id": "f3d9b8bc-95c7-40e9-b928-4f21a08504d7",
   "metadata": {},
   "outputs": [],
   "source": [
    "X[:5]"
   ]
  },
  {
   "cell_type": "code",
   "execution_count": null,
   "id": "63d67fad-dca9-456a-b023-c5e2d5629595",
   "metadata": {},
   "outputs": [],
   "source": [
    "y = df.species"
   ]
  },
  {
   "cell_type": "code",
   "execution_count": null,
   "id": "7afc64f5-c733-4c5c-9d5f-039bdde044c8",
   "metadata": {},
   "outputs": [],
   "source": [
    "y[:5]\n",
    "# y[45:105]"
   ]
  },
  {
   "cell_type": "markdown",
   "id": "43d09a2f-c576-45b3-85bb-ca2fd5274348",
   "metadata": {},
   "source": [
    "## Feature Scaling"
   ]
  },
  {
   "cell_type": "code",
   "execution_count": null,
   "id": "95475465-c940-46d4-a948-b762600aecea",
   "metadata": {},
   "outputs": [],
   "source": [
    "from sklearn.preprocessing import StandardScaler\n",
    "\n",
    "sc = StandardScaler()\n",
    "X_sc = sc.fit_transform(X)\n",
    "X_sc[:4]"
   ]
  },
  {
   "cell_type": "markdown",
   "id": "3d4697ad-0203-4638-9414-f7e11dcc5127",
   "metadata": {},
   "source": [
    "## Train-test Split"
   ]
  },
  {
   "cell_type": "code",
   "execution_count": null,
   "id": "24f15445-138e-438a-858c-706c35698d14",
   "metadata": {},
   "outputs": [],
   "source": [
    "from sklearn.model_selection import train_test_split\n",
    "\n",
    "X_train, X_test, y_train, y_test = train_test_split(X_sc, y, test_size=0.25, random_state=1) #\n",
    "\n",
    "X_train.shape, X_test.shape"
   ]
  },
  {
   "cell_type": "code",
   "execution_count": null,
   "id": "8330f139-90c7-49f1-96cf-8b47c8f4cfa1",
   "metadata": {},
   "outputs": [],
   "source": [
    "y_train.shape, y_test.shape "
   ]
  },
  {
   "cell_type": "code",
   "execution_count": null,
   "id": "0d3a67ce-f76b-4d22-a241-a47cba004238",
   "metadata": {},
   "outputs": [],
   "source": [
    "y_train[:5]"
   ]
  },
  {
   "cell_type": "code",
   "execution_count": null,
   "id": "d34a2d88-d6b4-4302-a68d-6a2b2ef97100",
   "metadata": {},
   "outputs": [],
   "source": [
    "y_test[:5]"
   ]
  },
  {
   "cell_type": "markdown",
   "id": "62d64d3f-d0c8-4533-b726-1bbe6452a8f9",
   "metadata": {},
   "source": [
    "## One-Hot Encoding"
   ]
  },
  {
   "cell_type": "code",
   "execution_count": null,
   "id": "1759ba93-5d85-47e6-a951-80a9818866b3",
   "metadata": {},
   "outputs": [],
   "source": [
    "from tensorflow.keras.utils import to_categorical\n",
    "\n",
    "def one_hot_encode(arr):\n",
    "    categories, ids = np.unique(arr, return_inverse=True)\n",
    "    print(categories)\n",
    "    return to_categorical(ids, len(categories))\n",
    "\n",
    "y_train_1h = one_hot_encode(y_train).astype('int')\n",
    "y_test_1h = one_hot_encode(y_test).astype('int')"
   ]
  },
  {
   "cell_type": "code",
   "execution_count": null,
   "id": "fc7dd1d2-a73c-4870-92a1-a4602d88bcb7",
   "metadata": {},
   "outputs": [],
   "source": [
    "y_train_1h[:4]"
   ]
  },
  {
   "cell_type": "code",
   "execution_count": null,
   "id": "14e974e9-265e-4324-86a7-0e757dbe9928",
   "metadata": {},
   "outputs": [],
   "source": [
    "y_test_1h[:4]"
   ]
  },
  {
   "cell_type": "code",
   "execution_count": null,
   "id": "55b58507-3a8e-42a7-9313-4543458c23ad",
   "metadata": {},
   "outputs": [],
   "source": [
    "y_train_1h.shape, y_test_1h.shape "
   ]
  },
  {
   "cell_type": "code",
   "execution_count": null,
   "id": "8dfbcd71-319f-4de1-bff4-f961747e156f",
   "metadata": {},
   "outputs": [],
   "source": [
    "X_train[:4]"
   ]
  },
  {
   "cell_type": "code",
   "execution_count": null,
   "id": "afeef49a-af9f-4044-bcfd-bcfdb7524b40",
   "metadata": {},
   "outputs": [],
   "source": [
    "y_train[:4]"
   ]
  },
  {
   "cell_type": "code",
   "execution_count": null,
   "id": "45f201cf-4c24-45c1-a98a-b2c1868ea1ab",
   "metadata": {},
   "outputs": [],
   "source": [
    "y_train_1h[:4]"
   ]
  },
  {
   "cell_type": "markdown",
   "id": "0db7ceba-63c1-479a-a57b-7b0721d4b0e3",
   "metadata": {},
   "source": [
    "## Model\n",
    "- Create a Model\n",
    "- Compile\n",
    "- Train"
   ]
  },
  {
   "cell_type": "markdown",
   "id": "c4e5287d-452b-480f-b178-6b14dd7e8262",
   "metadata": {},
   "source": [
    "### Create\n"
   ]
  },
  {
   "cell_type": "code",
   "execution_count": null,
   "id": "71820c44-f920-470b-b12a-dcbe4762eb59",
   "metadata": {},
   "outputs": [],
   "source": [
    "from tensorflow.keras import Sequential\n",
    "from tensorflow.keras.layers import Dense \n",
    "\n",
    "model = Sequential()\n",
    "\n",
    "hidden_node = 64\n",
    "model.add(Dense(hidden_node, activation='relu', input_shape=(4,))) \n",
    "# model.add(Dense(128, activation='relu))\n",
    "\n",
    "model.add(Dense(3, activation='softmax'))     # 3 class ขึ้นไป (Multi-class classification)\n",
    "# model.add(Dense(1, activation='sigmoid'))   # 2 class (Binary classification)"
   ]
  },
  {
   "cell_type": "code",
   "execution_count": null,
   "id": "f2b64147-c44f-45da-990b-142a6a873098",
   "metadata": {},
   "outputs": [],
   "source": [
    "model.summary()"
   ]
  },
  {
   "cell_type": "code",
   "execution_count": null,
   "id": "5c9b2ca3-e401-4fa9-b56f-4f90c4db8874",
   "metadata": {
    "tags": []
   },
   "outputs": [],
   "source": [
    "model.output_shape"
   ]
  },
  {
   "cell_type": "code",
   "execution_count": null,
   "id": "801417a1-2a50-46eb-8c2b-67902b5d35e5",
   "metadata": {
    "tags": []
   },
   "outputs": [],
   "source": [
    "# model.get_config()"
   ]
  },
  {
   "cell_type": "markdown",
   "id": "daa3bd16-9cd6-4b4a-a9ef-cd38fdf0345e",
   "metadata": {},
   "source": [
    "### Compile & Train"
   ]
  },
  {
   "cell_type": "code",
   "execution_count": null,
   "id": "590a0fd7-dda0-4f2a-bc08-fd9679fe0171",
   "metadata": {},
   "outputs": [],
   "source": [
    "model.compile(loss='categorical_crossentropy',  # รองรับ Classification 3 class ขึ้นไป\n",
    "              optimizer='adam',\n",
    "              metrics=['accuracy'])"
   ]
  },
  {
   "cell_type": "code",
   "execution_count": null,
   "id": "f84b7311-abfe-4e58-b982-7d372adce187",
   "metadata": {},
   "outputs": [],
   "source": [
    "# categorical_crossentropy ใช้ y train แบบ One-hot Encoding\n",
    "\n",
    "import time\n",
    "\n",
    "start = time.time()\n",
    "history = model.fit(X_train, y_train_1h, epochs=80, batch_size=64, verbose=1, validation_split=0.25) \n",
    "end = time.time()\n",
    "\n",
    "print(f\"Time Taken {end - start:.3f} secs\")"
   ]
  },
  {
   "cell_type": "markdown",
   "id": "e4d91f0b-74c6-4a2d-9e76-957c160c0390",
   "metadata": {
    "tags": []
   },
   "source": [
    "## Evaluate"
   ]
  },
  {
   "cell_type": "code",
   "execution_count": null,
   "id": "b070c1c5-6fc7-4dda-b19e-94f7b9d135c7",
   "metadata": {
    "tags": []
   },
   "outputs": [],
   "source": [
    "score = model.evaluate(X_test, y_test_1h, verbose=0)\n",
    "\n",
    "print(\"Test loss:\", score[0])\n",
    "print(f\"Test accuracy: {score[1]:.4f}\")"
   ]
  },
  {
   "cell_type": "code",
   "execution_count": null,
   "id": "020bd907-0383-4433-8534-a1c46cef1f21",
   "metadata": {
    "tags": []
   },
   "outputs": [],
   "source": [
    "model.metrics_names"
   ]
  },
  {
   "cell_type": "code",
   "execution_count": null,
   "id": "8ffecbb9-6b70-4bed-bc57-509d85003380",
   "metadata": {
    "tags": []
   },
   "outputs": [],
   "source": [
    "y_pred = model.predict(X_test)\n",
    "\n",
    "y_pred[:4]\n",
    "y_pred[:4].round(3)"
   ]
  },
  {
   "cell_type": "code",
   "execution_count": null,
   "id": "ceba5860-775c-48b6-b186-fa166d760421",
   "metadata": {},
   "outputs": [],
   "source": [
    "y_pred_cat = np.argmax(y_pred, axis=1)\n",
    "y_pred_cat[:4]"
   ]
  },
  {
   "cell_type": "code",
   "execution_count": null,
   "id": "e47772eb-5820-4f16-9460-71272c6f2853",
   "metadata": {},
   "outputs": [],
   "source": [
    "y_test[:4]"
   ]
  },
  {
   "cell_type": "code",
   "execution_count": null,
   "id": "8e3d8856-4702-45f5-9da1-312007a07230",
   "metadata": {},
   "outputs": [],
   "source": [
    "_, y_test_enc = np.unique(y_test, return_inverse=True)  # Label encoding\n",
    "y_test_enc[:4]"
   ]
  },
  {
   "cell_type": "code",
   "execution_count": null,
   "id": "da1c219a-c272-491d-b5a5-bc3ae125a39c",
   "metadata": {},
   "outputs": [],
   "source": [
    "from sklearn.metrics import classification_report, confusion_matrix\n",
    "\n",
    "print(classification_report(y_test_enc, y_pred_cat, target_names=class_names))\n",
    "print(confusion_matrix(y_test_enc, y_pred_cat))"
   ]
  },
  {
   "cell_type": "code",
   "execution_count": null,
   "id": "a84a58fa-6437-41f3-8095-ecaeeea85b33",
   "metadata": {},
   "outputs": [],
   "source": [
    "from sklearn.metrics import confusion_matrix, ConfusionMatrixDisplay\n",
    "\n",
    "cm = confusion_matrix(y_test_enc, y_pred_cat)   ## <-- \n",
    "ConfusionMatrixDisplay(cm, display_labels=class_names).plot()\n",
    "plt.title('Confusion Matrix')\n",
    "plt.show()"
   ]
  },
  {
   "cell_type": "markdown",
   "id": "d9d7b794-4a40-449d-b36c-e93e9a78a022",
   "metadata": {},
   "source": [
    "## Loss and Accuracy Curves"
   ]
  },
  {
   "cell_type": "code",
   "execution_count": null,
   "id": "b01553e4-2356-4c88-9364-21e137c617a6",
   "metadata": {},
   "outputs": [],
   "source": [
    "# 2 Columns\n",
    "plt.figure(figsize=(12, 4))\n",
    "\n",
    "plt.subplot(1, 2, 1)   # row column index\n",
    "plt.plot(history.history['loss'], '--', c='b', lw=2, label='Trainning')\n",
    "plt.plot(history.history['val_loss'], c='r', lw=3, label='Validation')\n",
    "plt.title('Loss Curve')\n",
    "plt.legend()\n",
    "plt.xlabel('Epoch')\n",
    "plt.ylabel('Loss')\n",
    "\n",
    "plt.subplot(1, 2, 2)   # row column index\n",
    "plt.plot(history.history['accuracy'], '--', c='b', lw=2, label='Trainning')\n",
    "plt.plot(history.history['val_accuracy'], c='r', lw=3, label='Validation')\n",
    "plt.xlabel('Epoch')\n",
    "plt.ylabel('Loss')\n",
    "plt.legend()\n",
    "plt.title('Accuracy Curve')\n",
    "plt.show()"
   ]
  },
  {
   "cell_type": "markdown",
   "id": "588bed5a-8ea7-4964-8d5a-26447ee5ad0a",
   "metadata": {},
   "source": [
    "## Predict"
   ]
  },
  {
   "cell_type": "code",
   "execution_count": null,
   "id": "4ea00601-37bd-4547-b731-b9513dd7415c",
   "metadata": {},
   "outputs": [],
   "source": [
    "X_new = [[8.1, 4.0, 5.9, 2.1], #  1\n",
    "         [6.8, 3.6, 3.5, 1.4]] #  2\n",
    "\n",
    "# X_new = [[8.1, 4.0, 5.9, 2.1]]\n",
    "\n",
    "X_new_sc = sc.transform(X_new)\n",
    "X_new_sc"
   ]
  },
  {
   "cell_type": "code",
   "execution_count": null,
   "id": "67107750-18bd-4089-9c8a-304de923393a",
   "metadata": {},
   "outputs": [],
   "source": [
    "y_pred_pr = model.predict(X_new_sc)\n",
    "y_pred_pr.round(3)"
   ]
  },
  {
   "cell_type": "code",
   "execution_count": null,
   "id": "467f5b0f-aab1-4c49-a23b-6b3620fbe792",
   "metadata": {},
   "outputs": [],
   "source": [
    "y_pred = np.argmax(y_pred_pr, axis=1)\n",
    "y_pred"
   ]
  },
  {
   "cell_type": "code",
   "execution_count": null,
   "id": "12e387fd-6ea1-4375-b1df-70be5ac781a5",
   "metadata": {},
   "outputs": [],
   "source": [
    "print(class_names[y_pred])"
   ]
  },
  {
   "cell_type": "markdown",
   "id": "ff220d0a-d36c-46c3-8620-f2578c70d00d",
   "metadata": {},
   "source": [
    "## Decision Regions"
   ]
  },
  {
   "cell_type": "code",
   "execution_count": null,
   "id": "8afbaa8b-aabc-4e89-ba0e-71d91e40cad7",
   "metadata": {},
   "outputs": [],
   "source": [
    "class Onehot2Int(object):\n",
    "    def __init__(self, model):\n",
    "        self.model = model\n",
    "\n",
    "    def predict(self, X):\n",
    "        y_pred = self.model.predict(X)\n",
    "        return np.argmax(y_pred, axis=1)\n",
    "    \n",
    "model_no_ohe = Onehot2Int(model)    "
   ]
  },
  {
   "cell_type": "code",
   "execution_count": null,
   "id": "4b270a6d-c12e-4c15-9cae-01c520d69728",
   "metadata": {},
   "outputs": [],
   "source": [
    "from mlxtend.plotting import plot_decision_regions\n",
    "\n",
    "value = 0\n",
    "width = 5.5\n",
    "\n",
    "ax = plot_decision_regions(X_test, np.array(y_test_enc),\n",
    "\n",
    "                    clf=model_no_ohe, feature_index=[2, 3],  \n",
    "                    filler_feature_values={0: value, 1: value},\n",
    "                    filler_feature_ranges={0: width, 1: width},\n",
    "                    legend=2)\n",
    "\n",
    "handles, labels = ax.get_legend_handles_labels()\n",
    "ax.legend(handles, class_names, framealpha=0.5)\n",
    "\n",
    "plt.title('Iris (Hidden={})'.format(hidden_node))\n",
    "# plt.xticks([])\n",
    "plt.yticks([])\n",
    "plt.xlabel('petal_length')\n",
    "plt.ylabel('petal_width')\n",
    "\n",
    "plt.scatter(X_new_sc[:,2][y_pred==0], X_new_sc[:,3][y_pred==0], marker='s', s=180, c='b')\n",
    "plt.scatter(X_new_sc[:,2][y_pred==1], X_new_sc[:,3][y_pred==1], marker='^', s=230, c='#7d4128') # \n",
    "plt.scatter(X_new_sc[:,2][y_pred==2], X_new_sc[:,3][y_pred==2], marker='o', s=150, c='b')\n",
    "plt.show()"
   ]
  },
  {
   "cell_type": "markdown",
   "id": "c5899212-d84b-45f3-b685-ad0251e7323a",
   "metadata": {},
   "source": [
    "## แบบฝึกหัด"
   ]
  },
  {
   "cell_type": "markdown",
   "id": "184ce893-d57e-42f4-8f0e-a8cda909d872",
   "metadata": {},
   "source": [
    "- epochs 100 (เท่าเดิม) batch_size 64 (ใหญ่ขึ้น) ความแม่นยำจะได้น้อยกว่า เนื่องจาก batch_size ขนาดใหญ่ขึ้นทำให้จำนวนรอบย่อย (Iterations) ลดลง ถึงแม้ epochs เท่าเดิม เส้นกราฟของพล็อต Loss ยังไม่นิ่ง ดูเหมือนว่าจะมีแนวโน้มลงไปได้อีก\n",
    "- epochs 100 (เท่าเดิม) batch_size (เล็กลง) ความแม่นยำจะได้ประมาณสูง แต่ละ epochs มีการวนรอบย่อย (Iterations) มากขึ้น เนื่องจาก batch_size ขนาดเล็กลง เมื่อ ดูกราฟของพล็อต Loss และ Accuracy พบว่า ประมาณ epoch 40 Loss เริ่มนิ่งแล้ว และ Accuracy ได้ค่าสูงสุด จากนั้น Train epoch ต่อไป ทำให้ Accuracy ตกลง ลักษณะ นี้ epochs สูงเกินไป ใช้เพียงแค่ 40-50 ก็เหมาะสมแล้ว (Train มากแล้วแย่ลง)\n",
    "- epochs 10, batch_size 32\n",
    "- เปลี่ยน Dense เป็น 8 หรือ 16\n",
    "- ลองเพิ่มจำนวนชั้น Layer แล้วดูพล็อตขอบเขตการจำแนกของ Model"
   ]
  },
  {
   "cell_type": "code",
   "execution_count": null,
   "id": "2998c4dd-f209-4c5e-a170-c778894e3cdd",
   "metadata": {},
   "outputs": [],
   "source": []
  }
 ],
 "metadata": {
  "kernelspec": {
   "display_name": "Python 3 (ipykernel)",
   "language": "python",
   "name": "python3"
  },
  "language_info": {
   "codemirror_mode": {
    "name": "ipython",
    "version": 3
   },
   "file_extension": ".py",
   "mimetype": "text/x-python",
   "name": "python",
   "nbconvert_exporter": "python",
   "pygments_lexer": "ipython3",
   "version": "3.10.4"
  }
 },
 "nbformat": 4,
 "nbformat_minor": 5
}
