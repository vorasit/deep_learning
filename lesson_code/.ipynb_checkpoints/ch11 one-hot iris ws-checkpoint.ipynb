{
 "cells": [
  {
   "cell_type": "markdown",
   "id": "296a98f5-4a2d-495c-bd06-937342ab6845",
   "metadata": {},
   "source": [
    "# Encoding\n"
   ]
  },
  {
   "cell_type": "code",
   "execution_count": null,
   "id": "500acb6a-f5d5-4da3-885e-b5d3766cd25c",
   "metadata": {},
   "outputs": [],
   "source": [
    "import pandas as pd\n",
    "import numpy as np\n",
    "import seaborn as sns"
   ]
  },
  {
   "cell_type": "code",
   "execution_count": null,
   "id": "75900792-7c79-4a74-91ef-d5b9803e06b3",
   "metadata": {},
   "outputs": [],
   "source": [
    "df = sns.load_dataset('iris')\n",
    "# df.head()\n",
    "df.sample(5, random_state=1)"
   ]
  },
  {
   "cell_type": "code",
   "execution_count": null,
   "id": "0d6bf478-d132-49c9-b7ba-4ff39bca02df",
   "metadata": {},
   "outputs": [],
   "source": [
    "# Label encoding\n",
    "y, class_names = pd.factorize(df.species, sort=True) \n",
    "# print(pd.unique(y))\n",
    "\n",
    "class_names"
   ]
  },
  {
   "cell_type": "code",
   "execution_count": null,
   "id": "ac4a6809-7deb-4018-90b3-9e56f8250770",
   "metadata": {},
   "outputs": [],
   "source": [
    "y[45:55]"
   ]
  },
  {
   "cell_type": "markdown",
   "id": "2e277db2-c31c-498e-937a-dbf8ad9522e5",
   "metadata": {},
   "source": [
    "## Keras: to_categorical"
   ]
  },
  {
   "cell_type": "code",
   "execution_count": null,
   "id": "26986ae1-a3dc-4418-b862-2c52597f15db",
   "metadata": {},
   "outputs": [],
   "source": [
    "from tensorflow.keras.utils import to_categorical\n",
    "\n",
    "to_categorical(1, 3).astype('int')"
   ]
  },
  {
   "cell_type": "code",
   "execution_count": null,
   "id": "50b98b9f-d1b9-4751-9bf1-52e54357d984",
   "metadata": {},
   "outputs": [],
   "source": [
    "categories, ids = np.unique(df.species, return_inverse=True)"
   ]
  },
  {
   "cell_type": "code",
   "execution_count": null,
   "id": "5649f28e-2251-4ca0-b41f-469d605b2d57",
   "metadata": {},
   "outputs": [],
   "source": [
    "categories"
   ]
  },
  {
   "cell_type": "code",
   "execution_count": null,
   "id": "41b08448-0105-46b6-a57b-39f9d0b3ad09",
   "metadata": {},
   "outputs": [],
   "source": [
    "df.species"
   ]
  },
  {
   "cell_type": "code",
   "execution_count": null,
   "id": "1b71f619-5487-4588-86d0-ab648ddbc5e2",
   "metadata": {},
   "outputs": [],
   "source": [
    "ids"
   ]
  },
  {
   "cell_type": "code",
   "execution_count": null,
   "id": "e1c28439-7f10-4767-9449-dc620f6b219d",
   "metadata": {},
   "outputs": [],
   "source": [
    "from tensorflow.keras.utils import to_categorical\n",
    "\n",
    "def one_hot_encode(arr):  # array (String or int)\n",
    "    categories, ids = np.unique(arr, return_inverse=True)\n",
    "    return to_categorical(ids, len(categories))\n",
    "\n",
    "y_1h = one_hot_encode(df.species).astype('int')\n",
    "\n",
    "y_1h[47:52]\n",
    "y_1h[130:138]"
   ]
  },
  {
   "cell_type": "code",
   "execution_count": null,
   "id": "4067e15f-66ba-4f6c-85f2-7c0907da9fb7",
   "metadata": {},
   "outputs": [],
   "source": [
    "df.iloc[14].species"
   ]
  },
  {
   "cell_type": "code",
   "execution_count": null,
   "id": "cd8a6bc2-f30b-4236-83f6-e3a856c04fd3",
   "metadata": {},
   "outputs": [],
   "source": [
    "y[14]"
   ]
  },
  {
   "cell_type": "code",
   "execution_count": null,
   "id": "42ee2f87-2456-4572-ac1f-a674a707d308",
   "metadata": {},
   "outputs": [],
   "source": [
    "y_1h[14]"
   ]
  },
  {
   "cell_type": "code",
   "execution_count": null,
   "id": "744cfa7a-a440-4e76-90eb-eb3b918c7c5a",
   "metadata": {},
   "outputs": [],
   "source": [
    "df.iloc[98].species"
   ]
  },
  {
   "cell_type": "code",
   "execution_count": null,
   "id": "74ff2548-67c8-4f28-af74-740e14a66f4c",
   "metadata": {},
   "outputs": [],
   "source": [
    "y[98]"
   ]
  },
  {
   "cell_type": "code",
   "execution_count": null,
   "id": "74617dc8-de18-41ca-8252-7959cfd4bd19",
   "metadata": {},
   "outputs": [],
   "source": [
    "y_1h[98]"
   ]
  },
  {
   "cell_type": "code",
   "execution_count": null,
   "id": "08a83982-08ae-466c-bf6b-b6ba1809a06a",
   "metadata": {},
   "outputs": [],
   "source": [
    "print('  data      Label-Encoded   one-hot')\n",
    "print('-----------------------------------')\n",
    "for k in [14, 98, 131]:\n",
    "    # print(k)\n",
    "    print(f'{df.loc[k].species:17} {y[k]:<8}  {y_1h[k]}')"
   ]
  },
  {
   "cell_type": "markdown",
   "id": "d746aba9-ff2a-4c3b-bb1c-23904fd20f85",
   "metadata": {},
   "source": [
    "## Pandas: get_dummies"
   ]
  },
  {
   "cell_type": "code",
   "execution_count": null,
   "id": "f032da71-6072-4034-a575-38a573a09821",
   "metadata": {},
   "outputs": [],
   "source": [
    "y[:5]"
   ]
  },
  {
   "cell_type": "code",
   "execution_count": null,
   "id": "235c6918-14fe-475d-a7ed-cff7dc4de5f5",
   "metadata": {},
   "outputs": [],
   "source": [
    "y_1hgd = pd.get_dummies(y)"
   ]
  },
  {
   "cell_type": "code",
   "execution_count": null,
   "id": "01a3a33d-9c85-43a6-b208-6155bcc5db6b",
   "metadata": {},
   "outputs": [],
   "source": [
    "y_1hgd[130:131].to_numpy()"
   ]
  },
  {
   "cell_type": "markdown",
   "id": "a38bc719-9ac7-4609-a223-78c05f701e9b",
   "metadata": {},
   "source": [
    "## Scikit-learn: OneHotEncoder"
   ]
  },
  {
   "cell_type": "code",
   "execution_count": null,
   "id": "7527dbd2-8909-4502-a3bb-88a6ef9040a3",
   "metadata": {},
   "outputs": [],
   "source": [
    "from sklearn.preprocessing import OneHotEncoder\n",
    "\n",
    "enc = OneHotEncoder()\n",
    "\n",
    "y2 = df.species.to_numpy()\n",
    "y2 = y2.reshape(-1, 1)\n",
    "\n",
    "y2[:5]"
   ]
  },
  {
   "cell_type": "code",
   "execution_count": null,
   "id": "2e80833e-3496-44b2-89f1-b48bf6218709",
   "metadata": {},
   "outputs": [],
   "source": [
    "y_1hsk = enc.fit_transform(y2).toarray().astype('int')"
   ]
  },
  {
   "cell_type": "code",
   "execution_count": null,
   "id": "b0e8f46b-9d41-46c6-9e6a-ff74d676772f",
   "metadata": {},
   "outputs": [],
   "source": [
    "y_1hsk[14]"
   ]
  },
  {
   "cell_type": "code",
   "execution_count": null,
   "id": "5ebf5fdf-1244-474d-8859-8659efddd03a",
   "metadata": {},
   "outputs": [],
   "source": [
    "y_1hsk[131]"
   ]
  },
  {
   "cell_type": "code",
   "execution_count": null,
   "id": "62c1f60c-9645-4dfa-b49e-6626c6f67f39",
   "metadata": {},
   "outputs": [],
   "source": [
    "df.iloc[131].species"
   ]
  },
  {
   "cell_type": "code",
   "execution_count": null,
   "id": "b0a3c468-963f-424e-b272-2686c354bcd5",
   "metadata": {},
   "outputs": [],
   "source": []
  }
 ],
 "metadata": {
  "kernelspec": {
   "display_name": "Python 3 (ipykernel)",
   "language": "python",
   "name": "python3"
  },
  "language_info": {
   "codemirror_mode": {
    "name": "ipython",
    "version": 3
   },
   "file_extension": ".py",
   "mimetype": "text/x-python",
   "name": "python",
   "nbconvert_exporter": "python",
   "pygments_lexer": "ipython3",
   "version": "3.10.4"
  }
 },
 "nbformat": 4,
 "nbformat_minor": 5
}
