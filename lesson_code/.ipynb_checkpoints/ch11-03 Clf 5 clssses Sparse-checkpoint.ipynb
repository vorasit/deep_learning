{
 "cells": [
  {
   "cell_type": "markdown",
   "id": "ba5f402f-d3e8-447e-8498-f8b708b1736a",
   "metadata": {},
   "source": [
    "# ANN Classify 5 classes using Sparse categorical-entropy\n",
    "- class: horse, bird, fish, cat & dog\n",
    "- loss: compile(loss='sparse_categorical_crossentropy', .. )"
   ]
  },
  {
   "cell_type": "code",
   "execution_count": null,
   "id": "ac3a43a8-e6f4-447a-a692-c8b1c8400c99",
   "metadata": {},
   "outputs": [],
   "source": [
    "from sklearn.datasets import make_blobs\n",
    "import matplotlib.pyplot as plt\n",
    "import seaborn as sns\n",
    "import pandas as pd\n",
    "import numpy as np"
   ]
  },
  {
   "cell_type": "markdown",
   "id": "763a0f29-c5ce-41f7-941d-2afb5659f86c",
   "metadata": {},
   "source": [
    "## Dataset"
   ]
  },
  {
   "cell_type": "code",
   "execution_count": null,
   "id": "fec3771c-2ff5-4abb-9507-b1ec32295a19",
   "metadata": {},
   "outputs": [],
   "source": [
    "# Gen Dataset 1\n",
    "X, y = make_blobs(n_samples=1000, centers=5, n_features=2, cluster_std=1.1, random_state=1)"
   ]
  },
  {
   "cell_type": "code",
   "execution_count": null,
   "id": "e4f09463-cc73-48ab-996b-1e1ba0e1d6ab",
   "metadata": {},
   "outputs": [],
   "source": [
    "# Dataset 2\n",
    "X, y = make_blobs(n_samples=1000, centers=5, n_features=2, cluster_std=1.8, random_state=1)"
   ]
  },
  {
   "cell_type": "code",
   "execution_count": null,
   "id": "b323de2a-79fe-47d8-8ee8-4531dd1a7dea",
   "metadata": {},
   "outputs": [],
   "source": [
    "X_df = pd.DataFrame(X, columns=['weight', 'height'])\n",
    "y_df = pd.DataFrame(y, columns=['class'])\n",
    "\n",
    "df = pd.concat([X_df, y_df], axis=1)   # รวม X_df และ y_df เข้าด้วยกัน \n",
    "\n",
    "target_map = {0:'horse', 1:'bird', 2:'fish', 3:'cat',4:'dog'}  # target (class)\n",
    "df['class'] = df['class'].map(target_map)\n",
    "\n",
    "# df.head()\n",
    "df.sample(5, random_state=100)"
   ]
  },
  {
   "cell_type": "code",
   "execution_count": null,
   "id": "4af17b71-428a-414b-accb-b9554fc24df7",
   "metadata": {},
   "outputs": [],
   "source": [
    "sns.scatterplot(x='weight', y='height', data=df, s=70,\n",
    "                hue=df['class'], style=df['class'])\n",
    "\n",
    "plt.title('Scatter Plot')\n",
    "plt.xticks([])\n",
    "plt.yticks([])\n",
    "plt.show()"
   ]
  },
  {
   "cell_type": "code",
   "execution_count": null,
   "id": "ea99587d-c4be-4a34-b902-5caa08dddc64",
   "metadata": {},
   "outputs": [],
   "source": [
    "sns.pairplot(df, hue='class')\n",
    "plt.show()"
   ]
  },
  {
   "cell_type": "code",
   "execution_count": null,
   "id": "c327d274-d73d-4211-9a89-9cd944a78839",
   "metadata": {},
   "outputs": [],
   "source": [
    "# Label Encoding\n",
    "class_names, y = np.unique(df['class'], return_inverse=True)\n",
    "class_names"
   ]
  },
  {
   "cell_type": "code",
   "execution_count": null,
   "id": "53cdcefe-a62b-4c2a-9dcf-709f56cd387f",
   "metadata": {},
   "outputs": [],
   "source": [
    "y[:10]"
   ]
  },
  {
   "cell_type": "code",
   "execution_count": null,
   "id": "ce114940-5ec3-4ad8-a8bb-8b29107fbd44",
   "metadata": {},
   "outputs": [],
   "source": [
    "X = df.drop('class', axis=1)\n",
    "X.head()"
   ]
  },
  {
   "cell_type": "code",
   "execution_count": null,
   "id": "9aab4e5f-1555-48db-8bfb-48a0f7d3ad39",
   "metadata": {},
   "outputs": [],
   "source": [
    "from sklearn.preprocessing import StandardScaler\n",
    "\n",
    "sc = StandardScaler()\n",
    "X_sc = sc.fit_transform(X)\n",
    "X_sc[:4]"
   ]
  },
  {
   "cell_type": "code",
   "execution_count": null,
   "id": "21a9994a-b07a-4e57-b190-87888a3b92ff",
   "metadata": {},
   "outputs": [],
   "source": [
    "from sklearn.model_selection import train_test_split\n",
    "\n",
    "X_train, X_test, y_train, y_test = train_test_split(X_sc, y, test_size=0.25, random_state=1) #\n",
    "\n",
    "X_train.shape, X_test.shape"
   ]
  },
  {
   "cell_type": "code",
   "execution_count": null,
   "id": "33a59cd4-e4c6-498b-a340-5dbbab6c6b7b",
   "metadata": {},
   "outputs": [],
   "source": [
    "y_train.shape"
   ]
  },
  {
   "cell_type": "code",
   "execution_count": null,
   "id": "aba6c532-1d53-4fb1-b448-8cb401402a4c",
   "metadata": {},
   "outputs": [],
   "source": [
    "y_train[:10]"
   ]
  },
  {
   "cell_type": "markdown",
   "id": "bc2b11f1-0a71-4294-8e63-72d83860e9f1",
   "metadata": {},
   "source": [
    "## Model"
   ]
  },
  {
   "cell_type": "code",
   "execution_count": null,
   "id": "4100bdd0-6b5f-49b4-9e3a-ec2242cd42a8",
   "metadata": {},
   "outputs": [],
   "source": [
    "from tensorflow.keras import Sequential\n",
    "from tensorflow.keras.layers import Dense \n",
    "\n",
    "# Case 1\n",
    "model = Sequential()\n",
    "\n",
    "model.add(Dense(100, activation='relu', input_shape=(2,)))  #  \n",
    "\n",
    "model.add(Dense(5, activation='softmax'))  # สำหรับ 5 classes"
   ]
  },
  {
   "cell_type": "code",
   "execution_count": null,
   "id": "69f525fe-555c-44c8-9b1e-128aa343d8a1",
   "metadata": {},
   "outputs": [],
   "source": [
    "# Case 2\n",
    "model = Sequential()\n",
    "\n",
    "model.add(Dense(100, activation='relu', input_shape=(2,)))  #  \n",
    "model.add(Dense(64, activation='relu'))\n",
    "model.add(Dense(64, activation='relu'))\n",
    "\n",
    "model.add(Dense(5, activation='softmax'))  # สำหรับ 5 classes"
   ]
  },
  {
   "cell_type": "code",
   "execution_count": null,
   "id": "b6792025-d066-4d9a-9051-92d08cd9f84e",
   "metadata": {},
   "outputs": [],
   "source": [
    "model.summary()"
   ]
  },
  {
   "cell_type": "code",
   "execution_count": null,
   "id": "83c90f4d-c220-4c59-b79e-8baf537df824",
   "metadata": {},
   "outputs": [],
   "source": [
    "model.compile(loss='sparse_categorical_crossentropy',    # <<---\n",
    "             optimizer='adam', \n",
    "             metrics=['accuracy'])"
   ]
  },
  {
   "cell_type": "code",
   "execution_count": null,
   "id": "2633849c-1e74-4278-aab8-ea40d4107a3d",
   "metadata": {},
   "outputs": [],
   "source": [
    "import time\n",
    "\n",
    "start = time.time()\n",
    "history = model.fit(X_train, y_train, epochs=50, batch_size=32, verbose=0, validation_split=0.25) # no1\n",
    "end = time.time()\n",
    "\n",
    "print(f\"Time Taken {end - start:.2f} secs\")"
   ]
  },
  {
   "cell_type": "code",
   "execution_count": null,
   "id": "f7f870b4-b776-4c1e-ab26-6a30cb6d0071",
   "metadata": {},
   "outputs": [],
   "source": [
    "score = model.evaluate(X_test, y_test, verbose=0)\n",
    "\n",
    "print(\"Test loss:\", score[0])\n",
    "print(f\"Test accuracy: {score[1]:.4f}\")"
   ]
  },
  {
   "cell_type": "markdown",
   "id": "50d130bf-d3f4-4675-a9a2-2a75a81b3bc2",
   "metadata": {},
   "source": [
    "## Loss and Accuracy Curves"
   ]
  },
  {
   "cell_type": "code",
   "execution_count": null,
   "id": "f0bb0912-9edf-4d7d-821c-bf66f7d2ff76",
   "metadata": {},
   "outputs": [],
   "source": [
    "# 2 Columns\n",
    "plt.figure(figsize=(12, 4))\n",
    "\n",
    "plt.subplot(1, 2, 1)   # row column index\n",
    "plt.plot(history.history['loss'], '--', c='b', lw=2, label='Trainning')\n",
    "plt.plot(history.history['val_loss'], c='r', lw=3, label='Validation')\n",
    "plt.title('Loss Curve')\n",
    "plt.legend()\n",
    "plt.xlabel('Epoch')\n",
    "plt.ylabel('Loss')\n",
    "\n",
    "plt.subplot(1, 2, 2)   # row column index\n",
    "plt.plot(history.history['accuracy'], '--', c='b', lw=2, label='Trainning')\n",
    "plt.plot(history.history['val_accuracy'], c='r', lw=3, label='Validation')\n",
    "plt.xlabel('Epoch')\n",
    "plt.ylabel('Loss')\n",
    "plt.legend()\n",
    "plt.title('Accuracy Curve')\n",
    "plt.show()"
   ]
  },
  {
   "cell_type": "markdown",
   "id": "46ff3094-cb0d-499f-8f80-b57c4f7d2ab4",
   "metadata": {},
   "source": [
    "## Predict"
   ]
  },
  {
   "cell_type": "code",
   "execution_count": null,
   "id": "de97c60e-7431-453b-9387-75c56238003a",
   "metadata": {},
   "outputs": [],
   "source": [
    "y_pred = model.predict(X_test)\n",
    "\n",
    "y_pred[:4]\n",
    "y_pred[:4].round(3)"
   ]
  },
  {
   "cell_type": "code",
   "execution_count": null,
   "id": "2dc8aea2-f628-4755-952a-39f1af9842b2",
   "metadata": {},
   "outputs": [],
   "source": [
    "y_pred_cat = np.argmax(y_pred, axis=1)\n",
    "y_pred_cat[:4]"
   ]
  },
  {
   "cell_type": "code",
   "execution_count": null,
   "id": "0a6fa763-e0f3-44d9-a630-465819a09e0b",
   "metadata": {},
   "outputs": [],
   "source": [
    "class_names[y_pred_cat[:4]]"
   ]
  },
  {
   "cell_type": "markdown",
   "id": "61f516d5-2c3c-4ce7-ade0-824aa63cbef5",
   "metadata": {},
   "source": [
    "## Confusion Matrix"
   ]
  },
  {
   "cell_type": "code",
   "execution_count": null,
   "id": "9df8f369-5bf5-4661-9e38-ea87ff6317c0",
   "metadata": {},
   "outputs": [],
   "source": [
    "from sklearn.metrics import confusion_matrix, ConfusionMatrixDisplay\n",
    "\n",
    "cm = confusion_matrix(y_test, y_pred_cat)   ## <-- \n",
    "ConfusionMatrixDisplay(cm, display_labels=class_names).plot()\n",
    "plt.title('Confusion Matrix')\n",
    "plt.show()"
   ]
  },
  {
   "cell_type": "markdown",
   "id": "d94be458-e551-4ba3-b06d-65114d9c103e",
   "metadata": {},
   "source": [
    "## Decision Regions"
   ]
  },
  {
   "cell_type": "code",
   "execution_count": null,
   "id": "4d6309d9-3b31-4327-b025-5ca758cdd810",
   "metadata": {},
   "outputs": [],
   "source": [
    "# \n",
    "class Onehot2Int(object):\n",
    "    def __init__(self, model):\n",
    "        self.model = model\n",
    "\n",
    "    def predict(self, X):\n",
    "        y_pred = self.model.predict(X)\n",
    "        return np.argmax(y_pred, axis=1)\n",
    "\n",
    "model_no_ohe = Onehot2Int(model)    "
   ]
  },
  {
   "cell_type": "code",
   "execution_count": null,
   "id": "af25c4c6-2009-4f02-ae15-fce26cbd3bdc",
   "metadata": {},
   "outputs": [],
   "source": [
    "from mlxtend.plotting import plot_decision_regions\n",
    "\n",
    "ax = plot_decision_regions(X_train, y_train, clf=model_no_ohe,\n",
    "                          zoom_factor=1.)\n",
    "\n",
    "handles, labels = ax.get_legend_handles_labels()\n",
    "ax.legend(handles, class_names, framealpha=0.5)\n",
    "\n",
    "plt.title('Model Regions') \n",
    "plt.xticks([])\n",
    "plt.yticks([])\n",
    "plt.xlabel('weight')\n",
    "plt.ylabel('height')\n",
    "plt.show()"
   ]
  },
  {
   "cell_type": "markdown",
   "id": "cfbb8d24-e081-42ff-a981-c28db1be5a11",
   "metadata": {},
   "source": [
    "## Drill: แบบฝึกหัด\n",
    "- ปรับ Dataset ให้ค่าข้อมูล มีการคาบเกี่ยวกันมากขึ้น (เพิ่ม cluster_std เช่น 1.8) จะพบว่า Accuracy ลดลง เนื่องจากลักษณะการกระจายข้อมูลมีการคาบเกี่ยวกันมากขึ้น\n",
    "- เพิ่มข้อมูล Dataset เป็น 2000 เพิ่มจำนวน Class เช่น 6, 7 Classes (กำหนด centers และ target_map)\n",
    "- สร้าง NN ให้มีจำนวน Hidden Layer ต่าง ๆ เช่น 64, 128x64, 128x64x32 แล้วดูผล Accuracy\n",
    "- วิเคราะห์ Loss Curve ว่ากำหนด Epochs เหมาะสมหรือไม่\n",
    "- เพิ่มจำนวน Features ให้มากกว่า 2 เช่น 3 4 ... ฯลฯ (กำหนดที่ n_features, กำหนด columns ให้สอดคล้องกับจำนวน, และกำหนด input ที่ input_shape ด้วย) ** ไม่ต้องพล๊อต Decision Regions\n"
   ]
  },
  {
   "cell_type": "code",
   "execution_count": null,
   "id": "de45e4ae-c6a2-49a8-aeba-fb67c1254f73",
   "metadata": {},
   "outputs": [],
   "source": []
  },
  {
   "cell_type": "code",
   "execution_count": null,
   "id": "10925525-c078-4981-96b7-aaa15e84f93e",
   "metadata": {},
   "outputs": [],
   "source": []
  }
 ],
 "metadata": {
  "kernelspec": {
   "display_name": "Python 3 (ipykernel)",
   "language": "python",
   "name": "python3"
  },
  "language_info": {
   "codemirror_mode": {
    "name": "ipython",
    "version": 3
   },
   "file_extension": ".py",
   "mimetype": "text/x-python",
   "name": "python",
   "nbconvert_exporter": "python",
   "pygments_lexer": "ipython3",
   "version": "3.10.4"
  }
 },
 "nbformat": 4,
 "nbformat_minor": 5
}
