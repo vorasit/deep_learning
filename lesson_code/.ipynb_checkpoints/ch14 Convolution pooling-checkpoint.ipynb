{
 "cells": [
  {
   "cell_type": "markdown",
   "id": "1d02a071-f819-4355-bf5f-1917967eb15e",
   "metadata": {
    "id": "d796070e-937a-48ea-9953-7d5269402c5b"
   },
   "source": [
    "# Workshop: Convolution\n",
    "Convolution, Kernel, Pooling"
   ]
  },
  {
   "cell_type": "markdown",
   "id": "8fb6e12b-1ae1-4e59-ac05-177b18adb7ff",
   "metadata": {
    "id": "d796070e-937a-48ea-9953-7d5269402c5b"
   },
   "source": [
    "# Library"
   ]
  },
  {
   "cell_type": "code",
   "execution_count": null,
   "id": "05970bba-821b-4678-82e1-656676c8454e",
   "metadata": {
    "id": "20e388fb-282b-4309-8192-c172b0553ca3"
   },
   "outputs": [],
   "source": [
    "# check opencv\n",
    "!conda list opencv"
   ]
  },
  {
   "cell_type": "code",
   "execution_count": null,
   "id": "9228a18f-c33a-42a4-beea-cda272f2acca",
   "metadata": {
    "id": "20e388fb-282b-4309-8192-c172b0553ca3"
   },
   "outputs": [],
   "source": [
    "!pip show opencv-python"
   ]
  },
  {
   "cell_type": "code",
   "execution_count": null,
   "id": "e40031e8-9e68-4355-b9a4-c8ca9a95f91c",
   "metadata": {
    "id": "20e388fb-282b-4309-8192-c172b0553ca3"
   },
   "outputs": [],
   "source": [
    "# Install\n",
    "!pip install opencv-python\n",
    "!conda install -c conda-forge opencv -y"
   ]
  },
  {
   "cell_type": "code",
   "execution_count": null,
   "id": "2a8042bf-0b33-46aa-9992-7d35cedd0ec0",
   "metadata": {
    "id": "20e388fb-282b-4309-8192-c172b0553ca3"
   },
   "outputs": [],
   "source": [
    "import cv2\n",
    "import numpy as np\n",
    "import matplotlib.pyplot as plt"
   ]
  },
  {
   "cell_type": "markdown",
   "id": "b2a39bac-78d0-4dc6-b93d-a1fc67ff530f",
   "metadata": {
    "colab": {
     "base_uri": "https://localhost:8080/"
    },
    "executionInfo": {
     "elapsed": 500,
     "status": "ok",
     "timestamp": 1655007190050,
     "user": {
      "displayName": "JKob San",
      "userId": "15910273739366067110"
     },
     "user_tz": -420
    },
    "id": "fadf4733-76e7-481b-9b82-c1f4efd08ec1",
    "outputId": "e562ce0a-5486-49b5-b0bc-3f7a4c005886"
   },
   "source": [
    "# Convolution & Kernel"
   ]
  },
  {
   "cell_type": "code",
   "execution_count": null,
   "id": "c182d0fb-fce0-4fc1-adcf-116c6f32d0c3",
   "metadata": {
    "colab": {
     "base_uri": "https://localhost:8080/"
    },
    "executionInfo": {
     "elapsed": 500,
     "status": "ok",
     "timestamp": 1655007190050,
     "user": {
      "displayName": "JKob San",
      "userId": "15910273739366067110"
     },
     "user_tz": -420
    },
    "id": "fadf4733-76e7-481b-9b82-c1f4efd08ec1",
    "outputId": "e562ce0a-5486-49b5-b0bc-3f7a4c005886"
   },
   "outputs": [],
   "source": [
    "image = np.array([[1, 0, 2, 1, 0],           # \n",
    "                  [0, 2, 3, 0, 1],\n",
    "                  [1, 0, 1, 1, 2],\n",
    "                  [0, 2, 2, 0, 3],                \n",
    "                  [0, 4, 1, 2, 0]])\n",
    "\n",
    "image = image / 5.0              # \n",
    "image"
   ]
  },
  {
   "cell_type": "code",
   "execution_count": null,
   "id": "Rw_qLQfUHbgF",
   "metadata": {
    "colab": {
     "base_uri": "https://localhost:8080/"
    },
    "executionInfo": {
     "elapsed": 449,
     "status": "ok",
     "timestamp": 1655007245184,
     "user": {
      "displayName": "JKob San",
      "userId": "15910273739366067110"
     },
     "user_tz": -420
    },
    "id": "Rw_qLQfUHbgF",
    "outputId": "fc1cb636-4ac7-4224-ff42-0ef3579e4a6e"
   },
   "outputs": [],
   "source": [
    "np.max(image)"
   ]
  },
  {
   "cell_type": "code",
   "execution_count": null,
   "id": "726cded0-6e93-43c3-83f7-ddd7e391393d",
   "metadata": {
    "id": "793e482e-4b6f-42a5-9d83-c95162d0caaa"
   },
   "outputs": [],
   "source": [
    "# สร้าง Kernel (filter, mask)\n",
    "kernel1 = np.array([[-1, 0, 1],\n",
    "                    [-1, 0, 1],\n",
    "                    [-1, 0, 1]])\n",
    "\n",
    "im2 = cv2.filter2D(src=image, ddepth=-1, kernel=kernel1)"
   ]
  },
  {
   "cell_type": "code",
   "execution_count": null,
   "id": "527a1526-fe4b-42ad-bf08-d48a91cbfb85",
   "metadata": {
    "id": "527a1526-fe4b-42ad-bf08-d48a91cbfb85"
   },
   "outputs": [],
   "source": [
    "im2_int = (im2*5).astype('int')  # \n",
    "im2_int                          # ได้ Feature Map"
   ]
  },
  {
   "cell_type": "markdown",
   "id": "53d6518b-cc62-4eb0-bf23-f84e870a3703",
   "metadata": {
    "id": "53d6518b-cc62-4eb0-bf23-f84e870a3703"
   },
   "source": [
    "# Convolution"
   ]
  },
  {
   "cell_type": "code",
   "execution_count": null,
   "id": "Gglh4ASlkuVI",
   "metadata": {
    "colab": {
     "base_uri": "https://localhost:8080/"
    },
    "executionInfo": {
     "elapsed": 3218,
     "status": "ok",
     "timestamp": 1655008650424,
     "user": {
      "displayName": "JKob San",
      "userId": "15910273739366067110"
     },
     "user_tz": -420
    },
    "id": "Gglh4ASlkuVI",
    "outputId": "86fbc322-89ac-478a-e0a1-a91b1fd77ea1"
   },
   "outputs": [],
   "source": [
    "# Colab\n",
    "from google.colab import drive\n",
    "drive.mount('/content/drive')\n",
    "\n",
    "# !ls\n",
    "!ls '/content/drive/MyDrive/Colab Notebooks/datasets'"
   ]
  },
  {
   "cell_type": "markdown",
   "id": "7139ec26-b96a-4f1b-a234-3312631c90e2",
   "metadata": {
    "colab": {
     "base_uri": "https://localhost:8080/",
     "height": 205
    },
    "executionInfo": {
     "elapsed": 18,
     "status": "ok",
     "timestamp": 1655009139932,
     "user": {
      "displayName": "JKob San",
      "userId": "15910273739366067110"
     },
     "user_tz": -420
    },
    "id": "XImAk1T0lkzW",
    "outputId": "3dcf6b5d-3604-41dd-88ba-0be77df821d9"
   },
   "source": [
    "## Read image"
   ]
  },
  {
   "cell_type": "code",
   "execution_count": null,
   "id": "63f74170-e8a6-47e1-94bc-97b6c53c1e6c",
   "metadata": {
    "colab": {
     "base_uri": "https://localhost:8080/",
     "height": 205
    },
    "executionInfo": {
     "elapsed": 18,
     "status": "ok",
     "timestamp": 1655009139932,
     "user": {
      "displayName": "JKob San",
      "userId": "15910273739366067110"
     },
     "user_tz": -420
    },
    "id": "XImAk1T0lkzW",
    "outputId": "3dcf6b5d-3604-41dd-88ba-0be77df821d9"
   },
   "outputs": [],
   "source": [
    "import numpy as np\n",
    "from PIL import Image, ImageOps\n",
    "\n",
    "imgfile = '/content/drive/MyDrive/Colab Notebooks/datasets/building1.jpg' # 'feature_map1.jpg'\n",
    "\n",
    "image = Image.open(imgfile).convert('L')\n",
    "image"
   ]
  },
  {
   "cell_type": "code",
   "execution_count": null,
   "id": "f82030e3-d357-4051-ac77-3bd1377772da",
   "metadata": {
    "id": "s2THRWVCwq22"
   },
   "outputs": [],
   "source": [
    "# Conda\n",
    "import numpy as np\n",
    "from PIL import Image, ImageOps\n",
    "\n",
    "imgfile = 'data/building1.jpg'     #  input image\n",
    "\n",
    "image = Image.open(imgfile)#.convert('L')  # convert to grayscale\n",
    "image"
   ]
  },
  {
   "cell_type": "markdown",
   "id": "d5ff15d3-001b-45e1-ab1e-bc1c3ef2f677",
   "metadata": {
    "id": "s2THRWVCwq22"
   },
   "source": [
    "## Kernel"
   ]
  },
  {
   "cell_type": "code",
   "execution_count": null,
   "id": "83ffa05a-630f-4f63-a80e-8a53144abc1e",
   "metadata": {
    "id": "s2THRWVCwq22"
   },
   "outputs": [],
   "source": [
    "kernel1 = np.array([[-1, 0, 1], # v\n",
    "                    [-3, 0, 3],\n",
    "                    [-1, 0, 1]])"
   ]
  },
  {
   "cell_type": "code",
   "execution_count": null,
   "id": "e47ebf95-b2dd-4d20-bf57-5592b6335493",
   "metadata": {
    "id": "6b46feb0-0621-48c9-a451-7ac675da68ef"
   },
   "outputs": [],
   "source": [
    "kernel1 = np.array([[-1,-3, -1], # h\n",
    "                    [0,  0,  0],\n",
    "                    [1,  3,  1]])"
   ]
  },
  {
   "cell_type": "code",
   "execution_count": null,
   "id": "c4b3be89-cc0d-4d42-8756-e531845e9499",
   "metadata": {
    "id": "6b46feb0-0621-48c9-a451-7ac675da68ef"
   },
   "outputs": [],
   "source": [
    "kernel1 = np.array([[0,  1,  3], # \\\n",
    "                    [-1, 0, 1],\n",
    "                    [-3,-1,  0]])"
   ]
  },
  {
   "cell_type": "code",
   "execution_count": null,
   "id": "513b26db-9b3b-4738-8d3f-7d00f3085d89",
   "metadata": {
    "id": "6b46feb0-0621-48c9-a451-7ac675da68ef"
   },
   "outputs": [],
   "source": [
    "kernel1 = np.array([[-3, -1, 0], # /\n",
    "                    [-1,  0, 1],\n",
    "                    [0,  1, 3]])"
   ]
  },
  {
   "cell_type": "code",
   "execution_count": null,
   "id": "de6a18f4-402b-4036-9acc-540538b7d6d4",
   "metadata": {
    "id": "6b46feb0-0621-48c9-a451-7ac675da68ef"
   },
   "outputs": [],
   "source": [
    "kernel1 = np.array([[-1, -1, -1], # edge\n",
    "                    [-1, 8, -1],\n",
    "                    [-1, -1, -1]])"
   ]
  },
  {
   "cell_type": "markdown",
   "id": "75b4f7a8-98f1-4a3c-9d42-8f2cf6083c3c",
   "metadata": {
    "id": "CEOFCGtOwwiy"
   },
   "source": [
    "## Convolution2D"
   ]
  },
  {
   "cell_type": "code",
   "execution_count": null,
   "id": "e8f8e828-07de-48b1-9df4-a98c1e5e58d0",
   "metadata": {
    "id": "CEOFCGtOwwiy"
   },
   "outputs": [],
   "source": [
    "from PIL import Image, ImageOps\n",
    "\n",
    "pixel = np.array(image)\n",
    "fea_map = cv2.filter2D(src=pixel, ddepth=-1, kernel=kernel1)  # Feature Map"
   ]
  },
  {
   "cell_type": "code",
   "execution_count": null,
   "id": "kjwKWeugw7h1",
   "metadata": {
    "colab": {
     "base_uri": "https://localhost:8080/",
     "height": 205
    },
    "executionInfo": {
     "elapsed": 680,
     "status": "ok",
     "timestamp": 1655009830963,
     "user": {
      "displayName": "JKob San",
      "userId": "15910273739366067110"
     },
     "user_tz": -420
    },
    "id": "kjwKWeugw7h1",
    "outputId": "50966f48-49d4-482b-948c-a73699eb052b"
   },
   "outputs": [],
   "source": [
    "Image.fromarray(fea_map)"
   ]
  },
  {
   "cell_type": "code",
   "execution_count": null,
   "id": "JPUUYIEFmTsp",
   "metadata": {
    "id": "JPUUYIEFmTsp"
   },
   "outputs": [],
   "source": [
    "# use Matplot lib\n",
    "plt.imshow(fea_map, cmap=plt.cm.gray)\n",
    "plt.show()"
   ]
  },
  {
   "cell_type": "code",
   "execution_count": null,
   "id": "u5P8n9wxnpqI",
   "metadata": {
    "colab": {
     "base_uri": "https://localhost:8080/",
     "height": 205
    },
    "executionInfo": {
     "elapsed": 2137,
     "status": "ok",
     "timestamp": 1655009163526,
     "user": {
      "displayName": "JKob San",
      "userId": "15910273739366067110"
     },
     "user_tz": -420
    },
    "id": "u5P8n9wxnpqI",
    "outputId": "ddfb0e7d-aec0-494b-84f7-30a9a8b0411d"
   },
   "outputs": [],
   "source": [
    "image"
   ]
  },
  {
   "cell_type": "markdown",
   "id": "d3a4ebff-2471-4abe-af35-87f211b6097a",
   "metadata": {
    "id": "d3a4ebff-2471-4abe-af35-87f211b6097a"
   },
   "source": [
    "# Pooling"
   ]
  },
  {
   "cell_type": "code",
   "execution_count": null,
   "id": "31b47120-fc30-463b-b094-029a6e75d897",
   "metadata": {
    "colab": {
     "base_uri": "https://localhost:8080/",
     "height": 205
    },
    "executionInfo": {
     "elapsed": 848,
     "status": "ok",
     "timestamp": 1655010021355,
     "user": {
      "displayName": "JKob San",
      "userId": "15910273739366067110"
     },
     "user_tz": -420
    },
    "id": "31b47120-fc30-463b-b094-029a6e75d897",
    "outputId": "9cd4ebb1-7e7a-4734-9458-19199a9f5768"
   },
   "outputs": [],
   "source": [
    "# import numpy as np\n",
    "from PIL import Image, ImageOps\n",
    "\n",
    "imgfile = 'data/building1.jpg'     #  input image\n",
    "\n",
    "image = Image.open(imgfile).convert('L')\n",
    "image"
   ]
  },
  {
   "cell_type": "code",
   "execution_count": null,
   "id": "28798fb3-c3e7-498b-9406-444cd471bd17",
   "metadata": {
    "colab": {
     "base_uri": "https://localhost:8080/"
    },
    "executionInfo": {
     "elapsed": 480,
     "status": "ok",
     "timestamp": 1655010027519,
     "user": {
      "displayName": "JKob San",
      "userId": "15910273739366067110"
     },
     "user_tz": -420
    },
    "id": "28798fb3-c3e7-498b-9406-444cd471bd17",
    "outputId": "81509168-b876-4d26-c0da-583dd979a364"
   },
   "outputs": [],
   "source": [
    "pixel = np.array(image)\n",
    "pixel.shape"
   ]
  },
  {
   "cell_type": "code",
   "execution_count": null,
   "id": "12333dfa-d97c-4f1d-919a-f672d28cedc1",
   "metadata": {
    "colab": {
     "base_uri": "https://localhost:8080/",
     "height": 111
    },
    "executionInfo": {
     "elapsed": 4320,
     "status": "ok",
     "timestamp": 1655010044556,
     "user": {
      "displayName": "JKob San",
      "userId": "15910273739366067110"
     },
     "user_tz": -420
    },
    "id": "12333dfa-d97c-4f1d-919a-f672d28cedc1",
    "outputId": "aabe2022-5d97-46f6-aa57-0b6ddc008c1e"
   },
   "outputs": [],
   "source": [
    "from tensorflow.keras import Sequential\n",
    "from tensorflow.keras.layers import MaxPool2D, AveragePooling2D \n",
    "from PIL import Image, ImageOps\n",
    "\n",
    "arr = pixel.reshape(1, 188, 268, 1)  \n",
    "   \n",
    "model = Sequential() \n",
    "model.add(MaxPool2D(pool_size=(2, 2)))\n",
    "# model.add(MaxPool2D(pool_size=(3, 3)))\n",
    "   \n",
    "output = model.predict(arr) \n",
    " \n",
    "output = np.squeeze(output) \n",
    "Image.fromarray(output)"
   ]
  },
  {
   "cell_type": "code",
   "execution_count": null,
   "id": "6742954a-2cd6-448c-bee7-c38052176639",
   "metadata": {
    "colab": {
     "base_uri": "https://localhost:8080/"
    },
    "executionInfo": {
     "elapsed": 482,
     "status": "ok",
     "timestamp": 1655010053897,
     "user": {
      "displayName": "JKob San",
      "userId": "15910273739366067110"
     },
     "user_tz": -420
    },
    "id": "90bbe913-1c89-42a7-a24a-424041dcae48",
    "outputId": "ce163a1d-f9a5-4750-fbb7-0a6f52892cce"
   },
   "outputs": [],
   "source": [
    "from IPython.display import Image\n",
    "Image(filename='images/ch14 CNN/data.png')"
   ]
  },
  {
   "cell_type": "code",
   "execution_count": null,
   "id": "829fb903-c6e4-493a-a147-c22649e7b522",
   "metadata": {
    "colab": {
     "base_uri": "https://localhost:8080/"
    },
    "executionInfo": {
     "elapsed": 482,
     "status": "ok",
     "timestamp": 1655010053897,
     "user": {
      "displayName": "JKob San",
      "userId": "15910273739366067110"
     },
     "user_tz": -420
    },
    "id": "90bbe913-1c89-42a7-a24a-424041dcae48",
    "outputId": "ce163a1d-f9a5-4750-fbb7-0a6f52892cce"
   },
   "outputs": [],
   "source": [
    "output.shape"
   ]
  },
  {
   "cell_type": "code",
   "execution_count": null,
   "id": "27ea1672-e9e5-490f-952b-72d508b6d2c7",
   "metadata": {
    "colab": {
     "base_uri": "https://localhost:8080/"
    },
    "executionInfo": {
     "elapsed": 482,
     "status": "ok",
     "timestamp": 1655010053897,
     "user": {
      "displayName": "JKob San",
      "userId": "15910273739366067110"
     },
     "user_tz": -420
    },
    "id": "90bbe913-1c89-42a7-a24a-424041dcae48",
    "outputId": "ce163a1d-f9a5-4750-fbb7-0a6f52892cce"
   },
   "outputs": [],
   "source": [
    "from tensorflow.keras import Sequential\n",
    "from tensorflow.keras.layers import MaxPool2D, AveragePooling2D \n",
    "from PIL import Image, ImageOps\n",
    "\n",
    "pixel2 = pixel.astype('float')\n",
    "arr = pixel2.reshape(1, 188, 268, 1)  \n",
    "   \n",
    "model = Sequential() \n",
    "model.add(AveragePooling2D(pool_size=(2, 2)))\n",
    "\n",
    "output = model.predict(arr).astype('uint8') \n",
    " \n",
    "output = np.squeeze(output) \n",
    "Image.fromarray(output)"
   ]
  },
  {
   "cell_type": "code",
   "execution_count": null,
   "id": "b81f94da-d543-4a1a-a1d5-756fa493d917",
   "metadata": {
    "colab": {
     "base_uri": "https://localhost:8080/"
    },
    "executionInfo": {
     "elapsed": 482,
     "status": "ok",
     "timestamp": 1655010053897,
     "user": {
      "displayName": "JKob San",
      "userId": "15910273739366067110"
     },
     "user_tz": -420
    },
    "id": "90bbe913-1c89-42a7-a24a-424041dcae48",
    "outputId": "ce163a1d-f9a5-4750-fbb7-0a6f52892cce"
   },
   "outputs": [],
   "source": [
    "plt.imshow(output, cmap=plt.cm.gray)\n",
    "plt.show()"
   ]
  },
  {
   "cell_type": "code",
   "execution_count": null,
   "id": "b6fdb881-05b4-4e4c-bda4-b6a66b3bc73b",
   "metadata": {
    "colab": {
     "base_uri": "https://localhost:8080/"
    },
    "executionInfo": {
     "elapsed": 482,
     "status": "ok",
     "timestamp": 1655010053897,
     "user": {
      "displayName": "JKob San",
      "userId": "15910273739366067110"
     },
     "user_tz": -420
    },
    "id": "90bbe913-1c89-42a7-a24a-424041dcae48",
    "outputId": "ce163a1d-f9a5-4750-fbb7-0a6f52892cce"
   },
   "outputs": [],
   "source": [
    "output.shape"
   ]
  },
  {
   "cell_type": "code",
   "execution_count": null,
   "id": "69405cf5-8a85-48fa-8a20-db476bed40fa",
   "metadata": {
    "colab": {
     "base_uri": "https://localhost:8080/"
    },
    "executionInfo": {
     "elapsed": 482,
     "status": "ok",
     "timestamp": 1655010053897,
     "user": {
      "displayName": "JKob San",
      "userId": "15910273739366067110"
     },
     "user_tz": -420
    },
    "id": "90bbe913-1c89-42a7-a24a-424041dcae48",
    "outputId": "ce163a1d-f9a5-4750-fbb7-0a6f52892cce"
   },
   "outputs": [],
   "source": [
    "output"
   ]
  },
  {
   "cell_type": "markdown",
   "id": "d6de44dd-697d-4b12-b53e-512c594ff321",
   "metadata": {
    "id": "d6de44dd-697d-4b12-b53e-512c594ff321"
   },
   "source": [
    "# Squeeze, Max & Avg Pooling"
   ]
  },
  {
   "cell_type": "code",
   "execution_count": null,
   "id": "63dc9820-6da8-43e5-b313-51e5d285f8d2",
   "metadata": {
    "colab": {
     "base_uri": "https://localhost:8080/"
    },
    "executionInfo": {
     "elapsed": 301,
     "status": "ok",
     "timestamp": 1656419639677,
     "user": {
      "displayName": "JKob San",
      "userId": "15910273739366067110"
     },
     "user_tz": -420
    },
    "id": "8dd4fa42-82c1-4eeb-b8aa-0b500b1036d4",
    "outputId": "3bfa0dd8-f71c-4f9f-f665-5865f64dabd4"
   },
   "outputs": [],
   "source": [
    "import numpy as np\n",
    "from tensorflow.keras import Sequential\n",
    "from tensorflow.keras.layers import MaxPool2D, AveragePooling2D \n",
    " \n",
    "image = np.array([[2, 3, 4, 2], \n",
    "                  [8, 5, 5, 1], \n",
    "                  [6, 7, 9, 4], \n",
    "                  [3, 1, 4, 5]]) \n",
    " \n",
    "arr = image.reshape(1, 4, 4, 1) "
   ]
  },
  {
   "cell_type": "markdown",
   "id": "d7297545-3078-4578-9635-9039281bc850",
   "metadata": {
    "colab": {
     "base_uri": "https://localhost:8080/"
    },
    "executionInfo": {
     "elapsed": 301,
     "status": "ok",
     "timestamp": 1656419639677,
     "user": {
      "displayName": "JKob San",
      "userId": "15910273739366067110"
     },
     "user_tz": -420
    },
    "id": "8dd4fa42-82c1-4eeb-b8aa-0b500b1036d4",
    "outputId": "3bfa0dd8-f71c-4f9f-f665-5865f64dabd4"
   },
   "source": [
    "## Max Pooling"
   ]
  },
  {
   "cell_type": "code",
   "execution_count": null,
   "id": "2aa24e6a-185a-442c-b4c4-b4922b1643d3",
   "metadata": {
    "colab": {
     "base_uri": "https://localhost:8080/"
    },
    "executionInfo": {
     "elapsed": 301,
     "status": "ok",
     "timestamp": 1656419639677,
     "user": {
      "displayName": "JKob San",
      "userId": "15910273739366067110"
     },
     "user_tz": -420
    },
    "id": "8dd4fa42-82c1-4eeb-b8aa-0b500b1036d4",
    "outputId": "3bfa0dd8-f71c-4f9f-f665-5865f64dabd4"
   },
   "outputs": [],
   "source": [
    "model = Sequential() \n",
    "model.add(MaxPool2D(pool_size=(2, 2))) \n",
    "\n",
    "output = model.predict(arr)\n",
    "output.shape\n",
    "\n",
    "print(output)"
   ]
  },
  {
   "cell_type": "code",
   "execution_count": null,
   "id": "cf699c2d-de59-4239-90f4-bd2f0c0ddc61",
   "metadata": {
    "colab": {
     "base_uri": "https://localhost:8080/"
    },
    "executionInfo": {
     "elapsed": 326,
     "status": "ok",
     "timestamp": 1656419690447,
     "user": {
      "displayName": "JKob San",
      "userId": "15910273739366067110"
     },
     "user_tz": -420
    },
    "id": "l2f1MnhuTYUm",
    "outputId": "beab987e-580e-459e-aa98-b53ece44c449"
   },
   "outputs": [],
   "source": [
    "output.shape"
   ]
  },
  {
   "cell_type": "code",
   "execution_count": null,
   "id": "4fddb79c-13a3-43cf-8201-21647f89abc3",
   "metadata": {
    "colab": {
     "base_uri": "https://localhost:8080/"
    },
    "executionInfo": {
     "elapsed": 326,
     "status": "ok",
     "timestamp": 1656419690447,
     "user": {
      "displayName": "JKob San",
      "userId": "15910273739366067110"
     },
     "user_tz": -420
    },
    "id": "l2f1MnhuTYUm",
    "outputId": "beab987e-580e-459e-aa98-b53ece44c449"
   },
   "outputs": [],
   "source": [
    "output = np.squeeze(output) \n",
    "output"
   ]
  },
  {
   "cell_type": "code",
   "execution_count": null,
   "id": "45499585-0139-4506-9761-f89396d320ee",
   "metadata": {
    "colab": {
     "base_uri": "https://localhost:8080/"
    },
    "executionInfo": {
     "elapsed": 326,
     "status": "ok",
     "timestamp": 1656419690447,
     "user": {
      "displayName": "JKob San",
      "userId": "15910273739366067110"
     },
     "user_tz": -420
    },
    "id": "l2f1MnhuTYUm",
    "outputId": "beab987e-580e-459e-aa98-b53ece44c449"
   },
   "outputs": [],
   "source": [
    "output.shape"
   ]
  },
  {
   "cell_type": "markdown",
   "id": "65acd096-4f60-4153-b38b-f063708d17be",
   "metadata": {
    "colab": {
     "base_uri": "https://localhost:8080/"
    },
    "executionInfo": {
     "elapsed": 308,
     "status": "ok",
     "timestamp": 1656419686451,
     "user": {
      "displayName": "JKob San",
      "userId": "15910273739366067110"
     },
     "user_tz": -420
    },
    "id": "-ECzpLH4R0zo",
    "outputId": "800922f6-be35-489a-e9dd-cd96f61bd721"
   },
   "source": [
    "## Average Pooling"
   ]
  },
  {
   "cell_type": "code",
   "execution_count": null,
   "id": "4f88aada-f57c-4947-bf42-07c78df010cf",
   "metadata": {
    "colab": {
     "base_uri": "https://localhost:8080/"
    },
    "executionInfo": {
     "elapsed": 308,
     "status": "ok",
     "timestamp": 1656419686451,
     "user": {
      "displayName": "JKob San",
      "userId": "15910273739366067110"
     },
     "user_tz": -420
    },
    "id": "-ECzpLH4R0zo",
    "outputId": "800922f6-be35-489a-e9dd-cd96f61bd721"
   },
   "outputs": [],
   "source": [
    "model = Sequential() \n",
    "\n",
    "model.add(AveragePooling2D(pool_size=(2, 2))) \n",
    "output = model.predict(arr.astype('float'))\n",
    "print(output)"
   ]
  },
  {
   "cell_type": "code",
   "execution_count": null,
   "id": "2b6f239f-ff15-473e-98f4-cc0f6fa3724b",
   "metadata": {
    "colab": {
     "base_uri": "https://localhost:8080/"
    },
    "executionInfo": {
     "elapsed": 308,
     "status": "ok",
     "timestamp": 1656419686451,
     "user": {
      "displayName": "JKob San",
      "userId": "15910273739366067110"
     },
     "user_tz": -420
    },
    "id": "-ECzpLH4R0zo",
    "outputId": "800922f6-be35-489a-e9dd-cd96f61bd721"
   },
   "outputs": [],
   "source": [
    "output.shape"
   ]
  },
  {
   "cell_type": "code",
   "execution_count": null,
   "id": "SBc3reglSkum",
   "metadata": {
    "colab": {
     "base_uri": "https://localhost:8080/"
    },
    "executionInfo": {
     "elapsed": 8,
     "status": "ok",
     "timestamp": 1656419699048,
     "user": {
      "displayName": "JKob San",
      "userId": "15910273739366067110"
     },
     "user_tz": -420
    },
    "id": "SBc3reglSkum",
    "outputId": "45688836-b55c-4490-afbc-64e5976c017d"
   },
   "outputs": [],
   "source": [
    "output = np.squeeze(output) \n",
    "output"
   ]
  },
  {
   "cell_type": "code",
   "execution_count": null,
   "id": "hA3KYqMeTsRG",
   "metadata": {
    "id": "hA3KYqMeTsRG"
   },
   "outputs": [],
   "source": [
    "output.shape"
   ]
  },
  {
   "cell_type": "code",
   "execution_count": null,
   "id": "28e7b65f-8088-4d78-bcb8-16def07acf48",
   "metadata": {},
   "outputs": [],
   "source": []
  }
 ],
 "metadata": {
  "colab": {
   "name": "Convolution pooling.ipynb",
   "provenance": [],
   "toc_visible": true
  },
  "kernelspec": {
   "display_name": "Python 3 (ipykernel)",
   "language": "python",
   "name": "python3"
  },
  "language_info": {
   "codemirror_mode": {
    "name": "ipython",
    "version": 3
   },
   "file_extension": ".py",
   "mimetype": "text/x-python",
   "name": "python",
   "nbconvert_exporter": "python",
   "pygments_lexer": "ipython3",
   "version": "3.10.4"
  }
 },
 "nbformat": 4,
 "nbformat_minor": 5
}
