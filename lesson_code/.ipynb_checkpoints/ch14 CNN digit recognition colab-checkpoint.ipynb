{
 "cells": [
  {
   "cell_type": "markdown",
   "id": "b271787c-03eb-4b27-a1fe-13c8f489c1c5",
   "metadata": {
    "id": "b271787c-03eb-4b27-a1fe-13c8f489c1c5"
   },
   "source": [
    "# Handwritten Digit Recognition\n",
    "- Dataset\n",
    "- Visualization\n",
    "- CNN\n",
    "- CPU & GPU"
   ]
  },
  {
   "cell_type": "code",
   "execution_count": null,
   "id": "rtfIaH6LjILT",
   "metadata": {
    "executionInfo": {
     "elapsed": 3,
     "status": "ok",
     "timestamp": 1657366805389,
     "user": {
      "displayName": "JKob San",
      "userId": "15910273739366067110"
     },
     "user_tz": -420
    },
    "id": "rtfIaH6LjILT"
   },
   "outputs": [],
   "source": [
    "import numpy as np\n",
    "import matplotlib.pyplot as plt"
   ]
  },
  {
   "cell_type": "code",
   "execution_count": null,
   "id": "e300983c-7431-4438-86e5-75e3dffd09b1",
   "metadata": {
    "colab": {
     "base_uri": "https://localhost:8080/"
    },
    "executionInfo": {
     "elapsed": 3139,
     "status": "ok",
     "timestamp": 1657366816889,
     "user": {
      "displayName": "JKob San",
      "userId": "15910273739366067110"
     },
     "user_tz": -420
    },
    "id": "e300983c-7431-4438-86e5-75e3dffd09b1",
    "outputId": "d9215e94-5ef0-4659-ac80-ec4208ca62a1"
   },
   "outputs": [],
   "source": [
    "from tensorflow.keras.datasets.mnist import load_data\n",
    "\n",
    "(X_train, y_train), (X_test, y_test) = load_data()"
   ]
  },
  {
   "cell_type": "code",
   "execution_count": null,
   "id": "678444ce-b1cd-4ea6-bd39-733ad78e5dab",
   "metadata": {
    "colab": {
     "base_uri": "https://localhost:8080/"
    },
    "executionInfo": {
     "elapsed": 540,
     "status": "ok",
     "timestamp": 1657366819524,
     "user": {
      "displayName": "JKob San",
      "userId": "15910273739366067110"
     },
     "user_tz": -420
    },
    "id": "678444ce-b1cd-4ea6-bd39-733ad78e5dab",
    "outputId": "4a4b867c-e979-44d1-b8c6-4624b2fb74aa"
   },
   "outputs": [],
   "source": [
    "print(X_train.shape)\n",
    "print(X_test.shape)"
   ]
  },
  {
   "cell_type": "code",
   "execution_count": null,
   "id": "eaff61f1-0e9f-4b39-b400-4333ed324071",
   "metadata": {
    "colab": {
     "base_uri": "https://localhost:8080/"
    },
    "executionInfo": {
     "elapsed": 9,
     "status": "ok",
     "timestamp": 1657366823084,
     "user": {
      "displayName": "JKob San",
      "userId": "15910273739366067110"
     },
     "user_tz": -420
    },
    "id": "eaff61f1-0e9f-4b39-b400-4333ed324071",
    "outputId": "9ae1b468-5321-4312-8dd4-54f271a2e7c8"
   },
   "outputs": [],
   "source": [
    "print(y_train.shape)\n",
    "print(y_test.shape)"
   ]
  },
  {
   "cell_type": "code",
   "execution_count": null,
   "id": "1a0b839d-2272-4a3b-9e41-4cc933cd5fce",
   "metadata": {
    "colab": {
     "base_uri": "https://localhost:8080/"
    },
    "executionInfo": {
     "elapsed": 5,
     "status": "ok",
     "timestamp": 1657366826355,
     "user": {
      "displayName": "JKob San",
      "userId": "15910273739366067110"
     },
     "user_tz": -420
    },
    "id": "1a0b839d-2272-4a3b-9e41-4cc933cd5fce",
    "outputId": "8907f6d0-caae-4626-a935-d9f130f2b830"
   },
   "outputs": [],
   "source": [
    "X_test.shape , y_test.shape"
   ]
  },
  {
   "cell_type": "code",
   "execution_count": null,
   "id": "2399d264-98a6-416a-a6bb-ecb4e4b78bee",
   "metadata": {
    "colab": {
     "base_uri": "https://localhost:8080/"
    },
    "executionInfo": {
     "elapsed": 3,
     "status": "ok",
     "timestamp": 1657366827877,
     "user": {
      "displayName": "JKob San",
      "userId": "15910273739366067110"
     },
     "user_tz": -420
    },
    "id": "2399d264-98a6-416a-a6bb-ecb4e4b78bee",
    "outputId": "cf24ea73-d058-4c72-8dfd-7dce124355ce"
   },
   "outputs": [],
   "source": [
    "y_train[0:10]"
   ]
  },
  {
   "cell_type": "code",
   "execution_count": null,
   "id": "fac4b23c-4caf-4058-b15d-15334d7c490f",
   "metadata": {
    "colab": {
     "base_uri": "https://localhost:8080/"
    },
    "executionInfo": {
     "elapsed": 312,
     "status": "ok",
     "timestamp": 1657362033254,
     "user": {
      "displayName": "JKob San",
      "userId": "15910273739366067110"
     },
     "user_tz": -420
    },
    "id": "fac4b23c-4caf-4058-b15d-15334d7c490f",
    "outputId": "0bb84ec7-00cc-4695-ddf5-84a046502a55"
   },
   "outputs": [],
   "source": [
    "np.min(X_train), np.max(X_train)"
   ]
  },
  {
   "cell_type": "code",
   "execution_count": null,
   "id": "948bd45d-b6ac-43a9-a3c9-38b3142c6c46",
   "metadata": {
    "colab": {
     "base_uri": "https://localhost:8080/"
    },
    "executionInfo": {
     "elapsed": 316,
     "status": "ok",
     "timestamp": 1657362056874,
     "user": {
      "displayName": "JKob San",
      "userId": "15910273739366067110"
     },
     "user_tz": -420
    },
    "id": "948bd45d-b6ac-43a9-a3c9-38b3142c6c46",
    "outputId": "dac280d2-f117-474e-fb35-40ce945976e4"
   },
   "outputs": [],
   "source": [
    "np.isnan(X_train).sum()"
   ]
  },
  {
   "cell_type": "code",
   "execution_count": null,
   "id": "9915eee8-c62b-4019-acc9-abea6b3bc4e7",
   "metadata": {
    "colab": {
     "base_uri": "https://localhost:8080/"
    },
    "executionInfo": {
     "elapsed": 325,
     "status": "ok",
     "timestamp": 1657362062373,
     "user": {
      "displayName": "JKob San",
      "userId": "15910273739366067110"
     },
     "user_tz": -420
    },
    "id": "9915eee8-c62b-4019-acc9-abea6b3bc4e7",
    "outputId": "bcd44a64-91ba-464d-b145-f86d06451436"
   },
   "outputs": [],
   "source": [
    "print(np.unique(y_train))   #"
   ]
  },
  {
   "cell_type": "markdown",
   "id": "92d471b5-9949-4b8a-a4f4-4ff5d05e5d47",
   "metadata": {
    "id": "92d471b5-9949-4b8a-a4f4-4ff5d05e5d47"
   },
   "source": [
    "## Visualization"
   ]
  },
  {
   "cell_type": "code",
   "execution_count": null,
   "id": "4TUKpRz_7y1w",
   "metadata": {
    "colab": {
     "base_uri": "https://localhost:8080/"
    },
    "executionInfo": {
     "elapsed": 308,
     "status": "ok",
     "timestamp": 1657362082812,
     "user": {
      "displayName": "JKob San",
      "userId": "15910273739366067110"
     },
     "user_tz": -420
    },
    "id": "4TUKpRz_7y1w",
    "outputId": "c43358b0-bfe3-490f-be93-fe5447dfa472"
   },
   "outputs": [],
   "source": [
    "X_train[0]\n",
    "X_train[0][0:, 7:20]"
   ]
  },
  {
   "cell_type": "code",
   "execution_count": null,
   "id": "4a99ea9f-d547-45d0-9fb4-fba49a0501e4",
   "metadata": {
    "colab": {
     "base_uri": "https://localhost:8080/",
     "height": 265
    },
    "executionInfo": {
     "elapsed": 391,
     "status": "ok",
     "timestamp": 1657363661361,
     "user": {
      "displayName": "JKob San",
      "userId": "15910273739366067110"
     },
     "user_tz": -420
    },
    "id": "4a99ea9f-d547-45d0-9fb4-fba49a0501e4",
    "outputId": "0f24c7c6-692b-47c7-d538-67c366eb1989"
   },
   "outputs": [],
   "source": [
    "import matplotlib.pyplot as plt\n",
    "\n",
    "idx = 1\n",
    "img = X_train[idx]                       # \n",
    "plt.imshow(img, cmap=plt.cm.gray_r)      # actutal BG is black\n",
    "# plt.imshow(img, cmap=plt.cm.gray) \n",
    "\n",
    "# plt.grid()\n",
    "plt.show()"
   ]
  },
  {
   "cell_type": "code",
   "execution_count": null,
   "id": "0bPHnwS64Vfz",
   "metadata": {
    "colab": {
     "base_uri": "https://localhost:8080/"
    },
    "executionInfo": {
     "elapsed": 367,
     "status": "ok",
     "timestamp": 1657363667390,
     "user": {
      "displayName": "JKob San",
      "userId": "15910273739366067110"
     },
     "user_tz": -420
    },
    "id": "0bPHnwS64Vfz",
    "outputId": "511e1889-2670-4e05-a0bc-008487dfedd7"
   },
   "outputs": [],
   "source": [
    "y_train[idx]              # class"
   ]
  },
  {
   "cell_type": "code",
   "execution_count": null,
   "id": "c8789260-cfcb-42e9-bdf5-d16c6deeb6f4",
   "metadata": {
    "colab": {
     "base_uri": "https://localhost:8080/",
     "height": 319
    },
    "executionInfo": {
     "elapsed": 4307,
     "status": "ok",
     "timestamp": 1657363762435,
     "user": {
      "displayName": "JKob San",
      "userId": "15910273739366067110"
     },
     "user_tz": -420
    },
    "id": "c8789260-cfcb-42e9-bdf5-d16c6deeb6f4",
    "outputId": "198d6c02-c42e-4e9b-9c22-82187d9c585c"
   },
   "outputs": [],
   "source": [
    "def visual_multi(i):\n",
    "    nplots = 40\n",
    "    fig = plt.figure(figsize=(9, 5)) \n",
    "    for j in range(nplots):\n",
    "        plt.subplot(4, 10, j+1)\n",
    "        plt.imshow(X_train[i+j], cmap=plt.cm.gray_r)\n",
    "        plt.title(y_train[i+j])\n",
    "        # plt.xticks([]); # plt.yticks([])\n",
    "    plt.show()\n",
    "\n",
    "visual_multi(0)"
   ]
  },
  {
   "cell_type": "markdown",
   "id": "cfd00e7d-b9c5-4246-8b4c-001128de5345",
   "metadata": {
    "id": "cfd00e7d-b9c5-4246-8b4c-001128de5345"
   },
   "source": [
    "## Prepare Dataset (Re-shape the Structure)\n",
    "--> 60000x28x28x1 for Gray images"
   ]
  },
  {
   "cell_type": "code",
   "execution_count": null,
   "id": "455dce2e-e8c4-4799-b65a-e6303db0603b",
   "metadata": {
    "colab": {
     "base_uri": "https://localhost:8080/"
    },
    "executionInfo": {
     "elapsed": 361,
     "status": "ok",
     "timestamp": 1657364107471,
     "user": {
      "displayName": "JKob San",
      "userId": "15910273739366067110"
     },
     "user_tz": -420
    },
    "id": "455dce2e-e8c4-4799-b65a-e6303db0603b",
    "outputId": "317ecaa7-e601-49ec-c5cd-3e76a3d78938"
   },
   "outputs": [],
   "source": [
    "print(X_train.shape)\n",
    "print(X_test.shape) "
   ]
  },
  {
   "cell_type": "code",
   "execution_count": null,
   "id": "fb9808a3-707c-427a-ba1b-19f6342d8149",
   "metadata": {
    "executionInfo": {
     "elapsed": 1582,
     "status": "ok",
     "timestamp": 1657366849303,
     "user": {
      "displayName": "JKob San",
      "userId": "15910273739366067110"
     },
     "user_tz": -420
    },
    "id": "fb9808a3-707c-427a-ba1b-19f6342d8149"
   },
   "outputs": [],
   "source": [
    "# X_train = X_train.reshape((X_train.shape[0], \n",
    "#                            X_train.shape[1], \n",
    "#                            X_train.shape[2], \n",
    "#                            1)) # \n",
    "# X_test = X_test.reshape((X_test.shape[0], X_test.shape[1], X_test.shape[2], 1))\n",
    "\n",
    "# X_train = X_train.reshape((60000, 28, 28, 1)) # \n",
    "# X_test = X_test.reshape((10000, 28, 28, 1))\n",
    "\n",
    "# X_train = X_train.reshape(-1, 28, 28, 1)\n",
    "# X_test = X_test.reshape(-1, 28, 28, 1)\n",
    "\n",
    "X_train = np.expand_dims(X_train, -1)     # run only Once! or  np.squeeze(X_train)\n",
    "X_test = np.expand_dims(X_test, -1)"
   ]
  },
  {
   "cell_type": "code",
   "execution_count": null,
   "id": "HOkpUkAVjBdz",
   "metadata": {
    "colab": {
     "base_uri": "https://localhost:8080/"
    },
    "executionInfo": {
     "elapsed": 5,
     "status": "ok",
     "timestamp": 1657366852637,
     "user": {
      "displayName": "JKob San",
      "userId": "15910273739366067110"
     },
     "user_tz": -420
    },
    "id": "HOkpUkAVjBdz",
    "outputId": "cb9bbad8-05e7-4c7c-fd07-1b74598d69e3"
   },
   "outputs": [],
   "source": [
    "print(X_train.shape)\n",
    "print(X_test.shape) "
   ]
  },
  {
   "cell_type": "code",
   "execution_count": null,
   "id": "53e0a35a-8111-4c0a-ae46-315fed5e5bf6",
   "metadata": {
    "executionInfo": {
     "elapsed": 542,
     "status": "ok",
     "timestamp": 1657366861815,
     "user": {
      "displayName": "JKob San",
      "userId": "15910273739366067110"
     },
     "user_tz": -420
    },
    "id": "53e0a35a-8111-4c0a-ae46-315fed5e5bf6"
   },
   "outputs": [],
   "source": [
    "# Normalize\n",
    "X_train = X_train.astype('float32') / 255.0\n",
    "X_test = X_test.astype('float32') / 255.0"
   ]
  },
  {
   "cell_type": "code",
   "execution_count": null,
   "id": "55c9c458-0d18-47c5-84c4-f9495d20e80e",
   "metadata": {
    "colab": {
     "base_uri": "https://localhost:8080/"
    },
    "executionInfo": {
     "elapsed": 5,
     "status": "ok",
     "timestamp": 1657366865166,
     "user": {
      "displayName": "JKob San",
      "userId": "15910273739366067110"
     },
     "user_tz": -420
    },
    "id": "55c9c458-0d18-47c5-84c4-f9495d20e80e",
    "outputId": "e000de4c-086e-4042-9fc0-fa5a63617a35"
   },
   "outputs": [],
   "source": [
    "np.min(X_train), np.max(X_train)"
   ]
  },
  {
   "cell_type": "code",
   "execution_count": null,
   "id": "t-qAHqVjvHgB",
   "metadata": {
    "colab": {
     "base_uri": "https://localhost:8080/"
    },
    "executionInfo": {
     "elapsed": 355,
     "status": "ok",
     "timestamp": 1657364165622,
     "user": {
      "displayName": "JKob San",
      "userId": "15910273739366067110"
     },
     "user_tz": -420
    },
    "id": "t-qAHqVjvHgB",
    "outputId": "4c52f5b6-f942-4053-ec77-8a6a140dc034"
   },
   "outputs": [],
   "source": [
    "X_train[0, :, 7:18, 0].round(2)"
   ]
  },
  {
   "cell_type": "code",
   "execution_count": null,
   "id": "2eaf2251-7406-4f78-87ca-2746aaeb2213",
   "metadata": {
    "colab": {
     "base_uri": "https://localhost:8080/"
    },
    "executionInfo": {
     "elapsed": 349,
     "status": "ok",
     "timestamp": 1657364181894,
     "user": {
      "displayName": "JKob San",
      "userId": "15910273739366067110"
     },
     "user_tz": -420
    },
    "id": "2eaf2251-7406-4f78-87ca-2746aaeb2213",
    "outputId": "ade1af08-c192-4302-b60b-b56bca58c78c"
   },
   "outputs": [],
   "source": [
    "X_train[0, 5, 7:, 0].round(2)\n",
    "# X_train.shape"
   ]
  },
  {
   "cell_type": "markdown",
   "id": "1c90060c-13f8-45e3-9b35-d6d606d03e3e",
   "metadata": {
    "id": "1c90060c-13f8-45e3-9b35-d6d606d03e3e"
   },
   "source": [
    "select samples"
   ]
  },
  {
   "cell_type": "code",
   "execution_count": null,
   "id": "f49f1c43-a308-4229-9d57-47f80a853651",
   "metadata": {
    "executionInfo": {
     "elapsed": 3,
     "status": "ok",
     "timestamp": 1657366873991,
     "user": {
      "displayName": "JKob San",
      "userId": "15910273739366067110"
     },
     "user_tz": -420
    },
    "id": "f49f1c43-a308-4229-9d57-47f80a853651"
   },
   "outputs": [],
   "source": [
    "num_samples = 10000         # number of samples\n",
    "\n",
    "X_train = X_train[:num_samples]\n",
    "y_train = y_train[:num_samples]\n",
    "\n",
    "X_test = X_test[:num_samples]\n",
    "y_test = y_test[:num_samples]"
   ]
  },
  {
   "cell_type": "code",
   "execution_count": null,
   "id": "67e385d4-e51c-4e62-8a43-aaaa07045651",
   "metadata": {
    "colab": {
     "base_uri": "https://localhost:8080/"
    },
    "executionInfo": {
     "elapsed": 550,
     "status": "ok",
     "timestamp": 1657366883768,
     "user": {
      "displayName": "JKob San",
      "userId": "15910273739366067110"
     },
     "user_tz": -420
    },
    "id": "67e385d4-e51c-4e62-8a43-aaaa07045651",
    "outputId": "bfba1460-6cb7-4c34-f47c-32665cb05b8d"
   },
   "outputs": [],
   "source": [
    "X_train.shape"
   ]
  },
  {
   "cell_type": "code",
   "execution_count": null,
   "id": "cf6b1080-20e9-4c60-9d6e-d701a0806de5",
   "metadata": {
    "colab": {
     "base_uri": "https://localhost:8080/",
     "height": 265
    },
    "executionInfo": {
     "elapsed": 394,
     "status": "ok",
     "timestamp": 1657364310383,
     "user": {
      "displayName": "JKob San",
      "userId": "15910273739366067110"
     },
     "user_tz": -420
    },
    "id": "cf6b1080-20e9-4c60-9d6e-d701a0806de5",
    "outputId": "2be78d24-e13c-4ae2-ce8b-7d17794486b7"
   },
   "outputs": [],
   "source": [
    "import warnings\n",
    "warnings.filterwarnings(\"ignore\")\n",
    "import matplotlib.pyplot as plt\n",
    "import seaborn as sns\n",
    "\n",
    "sns.countplot(y_train)\n",
    "\n",
    "plt.show()\n",
    "del sns, warnings"
   ]
  },
  {
   "cell_type": "code",
   "execution_count": null,
   "id": "cb61d752-5e33-4a5c-a3c3-e7552d8f3381",
   "metadata": {
    "colab": {
     "base_uri": "https://localhost:8080/"
    },
    "executionInfo": {
     "elapsed": 1000,
     "status": "ok",
     "timestamp": 1657366892008,
     "user": {
      "displayName": "JKob San",
      "userId": "15910273739366067110"
     },
     "user_tz": -420
    },
    "id": "cb61d752-5e33-4a5c-a3c3-e7552d8f3381",
    "outputId": "3052d47a-435e-4d4a-8e6c-a76f2cf42bae"
   },
   "outputs": [],
   "source": [
    "print('Train: X={}, y={}'.format(X_train.shape, y_train.shape))\n",
    "print('Test: X={}, y={}'.format(X_test.shape, y_test.shape))"
   ]
  },
  {
   "cell_type": "markdown",
   "id": "f2e6dad5-d8cf-4e3b-b8b9-421ac752276b",
   "metadata": {
    "id": "f2e6dad5-d8cf-4e3b-b8b9-421ac752276b"
   },
   "source": [
    "## Create Model"
   ]
  },
  {
   "cell_type": "code",
   "execution_count": null,
   "id": "a050c1a0-072c-46fd-bd14-69829fd09b7e",
   "metadata": {
    "colab": {
     "base_uri": "https://localhost:8080/"
    },
    "executionInfo": {
     "elapsed": 1074,
     "status": "ok",
     "timestamp": 1657366896383,
     "user": {
      "displayName": "JKob San",
      "userId": "15910273739366067110"
     },
     "user_tz": -420
    },
    "id": "a050c1a0-072c-46fd-bd14-69829fd09b7e",
    "outputId": "c5f8276b-d41b-44d2-e989-127eafcd6683"
   },
   "outputs": [],
   "source": [
    "num_classes = len(np.unique(y_train))\n",
    "num_classes     # total classes"
   ]
  },
  {
   "cell_type": "code",
   "execution_count": null,
   "id": "7e6f93a8-5260-4567-b948-32061538a873",
   "metadata": {
    "colab": {
     "base_uri": "https://localhost:8080/"
    },
    "executionInfo": {
     "elapsed": 5,
     "status": "ok",
     "timestamp": 1657366899775,
     "user": {
      "displayName": "JKob San",
      "userId": "15910273739366067110"
     },
     "user_tz": -420
    },
    "id": "7e6f93a8-5260-4567-b948-32061538a873",
    "outputId": "d8a7516d-a0f0-4f30-a80b-58d1b235ea64"
   },
   "outputs": [],
   "source": [
    "in_shape = X_train.shape[1:]\n",
    "in_shape"
   ]
  },
  {
   "cell_type": "code",
   "execution_count": null,
   "id": "31eda112-ae1b-467c-b1d1-76e4cc2669a3",
   "metadata": {
    "executionInfo": {
     "elapsed": 4107,
     "status": "ok",
     "timestamp": 1657366908414,
     "user": {
      "displayName": "JKob San",
      "userId": "15910273739366067110"
     },
     "user_tz": -420
    },
    "id": "31eda112-ae1b-467c-b1d1-76e4cc2669a3"
   },
   "outputs": [],
   "source": [
    "from tensorflow.keras import Sequential\n",
    "from tensorflow.keras.layers import Dense, Conv2D, MaxPool2D, Flatten #, Dropout\n",
    "\n",
    "model = Sequential()\n",
    "model.add(Conv2D(32, (3,3), activation='relu', input_shape=in_shape)) \n",
    "model.add(MaxPool2D((2, 2)))\n",
    "\n",
    "model.add(Conv2D(64, (3,3), activation='relu'))\n",
    "model.add(MaxPool2D((2, 2)))\n",
    "\n",
    "model.add(Flatten())\n",
    "\n",
    "model.add(Dense(128, activation='relu')) \n",
    "\n",
    "model.add(Dense(num_classes, activation='softmax'))"
   ]
  },
  {
   "cell_type": "code",
   "execution_count": null,
   "id": "30565b23-8ce1-45c7-b43c-7593d67700a1",
   "metadata": {
    "id": "30565b23-8ce1-45c7-b43c-7593d67700a1"
   },
   "outputs": [],
   "source": [
    "model.summary()"
   ]
  },
  {
   "cell_type": "code",
   "execution_count": null,
   "id": "f3ba39c6-5090-48fc-ae36-207afadb9e97",
   "metadata": {
    "id": "f3ba39c6-5090-48fc-ae36-207afadb9e97"
   },
   "outputs": [],
   "source": [
    "from tensorflow.keras.utils import plot_model\n",
    "\n",
    "plot_model(model, 'digit.png', show_shapes=True, show_layer_names=True)"
   ]
  },
  {
   "cell_type": "code",
   "execution_count": null,
   "id": "2ea5aac6-db42-46ea-b7b2-4e39c41bfd15",
   "metadata": {
    "executionInfo": {
     "elapsed": 1087,
     "status": "ok",
     "timestamp": 1657366924826,
     "user": {
      "displayName": "JKob San",
      "userId": "15910273739366067110"
     },
     "user_tz": -420
    },
    "id": "2ea5aac6-db42-46ea-b7b2-4e39c41bfd15"
   },
   "outputs": [],
   "source": [
    "model.compile(optimizer='adam', \n",
    "              loss='sparse_categorical_crossentropy', \n",
    "              metrics=['accuracy'])"
   ]
  },
  {
   "cell_type": "code",
   "execution_count": null,
   "id": "6gImFACnbKRv",
   "metadata": {
    "colab": {
     "base_uri": "https://localhost:8080/"
    },
    "executionInfo": {
     "elapsed": 6109,
     "status": "ok",
     "timestamp": 1657366974785,
     "user": {
      "displayName": "JKob San",
      "userId": "15910273739366067110"
     },
     "user_tz": -420
    },
    "id": "6gImFACnbKRv",
    "outputId": "b867e59f-9b19-4ed5-a85f-242e754aadc8"
   },
   "outputs": [],
   "source": [
    "import time\n",
    "start = time.time()\n",
    "\n",
    "history = model.fit(X_train, y_train, epochs=10, batch_size=128, verbose=1, validation_split=0.15) \n",
    "\n",
    "end = time.time()\n",
    "\n",
    "print(\"Time Taken: {:.2f} minutes\".format((end - start)/60))"
   ]
  },
  {
   "cell_type": "code",
   "execution_count": null,
   "id": "a2e331c6-adb6-4171-8a1e-9af7437a335f",
   "metadata": {
    "colab": {
     "base_uri": "https://localhost:8080/"
    },
    "executionInfo": {
     "elapsed": 1960,
     "status": "ok",
     "timestamp": 1657366983116,
     "user": {
      "displayName": "JKob San",
      "userId": "15910273739366067110"
     },
     "user_tz": -420
    },
    "id": "a2e331c6-adb6-4171-8a1e-9af7437a335f",
    "outputId": "dee87762-d407-4d4c-c691-9334d2a32411"
   },
   "outputs": [],
   "source": [
    "score = model.evaluate(X_test, y_test, verbose=1)\n",
    "print('Accuracy: {:.3f}'.format(score[1]))"
   ]
  },
  {
   "cell_type": "code",
   "execution_count": null,
   "id": "42aa6284-5073-4616-a2cd-3db9c65ba072",
   "metadata": {
    "colab": {
     "base_uri": "https://localhost:8080/",
     "height": 254
    },
    "executionInfo": {
     "elapsed": 408,
     "status": "ok",
     "timestamp": 1657365365967,
     "user": {
      "displayName": "JKob San",
      "userId": "15910273739366067110"
     },
     "user_tz": -420
    },
    "id": "42aa6284-5073-4616-a2cd-3db9c65ba072",
    "outputId": "05cb8b4c-3193-4a56-e29e-0b85a16b602b"
   },
   "outputs": [],
   "source": [
    "plt.figure(figsize=(4.7, 3.5))\n",
    "plt.plot(history.history['loss'], color='b', label=\"Training\")\n",
    "plt.plot(history.history['val_loss'], 'r--', label=\"validation\")\n",
    "plt.title('Loss')\n",
    "plt.legend()\n",
    "plt.show()"
   ]
  },
  {
   "cell_type": "markdown",
   "id": "c0272737-9400-434e-8d02-d0e5b293b36a",
   "metadata": {
    "id": "c0272737-9400-434e-8d02-d0e5b293b36a",
    "tags": []
   },
   "source": [
    "## Predict X_test"
   ]
  },
  {
   "cell_type": "code",
   "execution_count": null,
   "id": "60eda0d8-6cd2-462f-befb-15abbd2f0963",
   "metadata": {
    "colab": {
     "base_uri": "https://localhost:8080/"
    },
    "executionInfo": {
     "elapsed": 2868,
     "status": "ok",
     "timestamp": 1657365424301,
     "user": {
      "displayName": "JKob San",
      "userId": "15910273739366067110"
     },
     "user_tz": -420
    },
    "id": "60eda0d8-6cd2-462f-befb-15abbd2f0963",
    "outputId": "0f5a6df3-c6e0-45ba-dd91-38e981255e38"
   },
   "outputs": [],
   "source": [
    "y_pred = model.predict(X_test)\n",
    "y_pred[:8].round(2)"
   ]
  },
  {
   "cell_type": "code",
   "execution_count": null,
   "id": "IsOGG4HK3kKj",
   "metadata": {
    "colab": {
     "base_uri": "https://localhost:8080/"
    },
    "executionInfo": {
     "elapsed": 399,
     "status": "ok",
     "timestamp": 1657365527324,
     "user": {
      "displayName": "JKob San",
      "userId": "15910273739366067110"
     },
     "user_tz": -420
    },
    "id": "IsOGG4HK3kKj",
    "outputId": "86567f3b-b76f-420d-c8ce-bf1042db3fe7"
   },
   "outputs": [],
   "source": [
    "y_pred_cls = np.argmax(y_pred, axis=1)\n",
    "y_pred_cls[:10].round(2)"
   ]
  },
  {
   "cell_type": "code",
   "execution_count": null,
   "id": "-iRIWIJCrRSD",
   "metadata": {
    "colab": {
     "base_uri": "https://localhost:8080/"
    },
    "executionInfo": {
     "elapsed": 4,
     "status": "ok",
     "timestamp": 1657365611474,
     "user": {
      "displayName": "JKob San",
      "userId": "15910273739366067110"
     },
     "user_tz": -420
    },
    "id": "-iRIWIJCrRSD",
    "outputId": "acb21cb5-252f-4040-adf5-0412fc12380f"
   },
   "outputs": [],
   "source": [
    "y_test[:10]             # actual class (real number) เลขจริง"
   ]
  },
  {
   "cell_type": "code",
   "execution_count": null,
   "id": "576edfcc-cc3a-4d6c-9e41-e8d8c6ef8782",
   "metadata": {
    "colab": {
     "base_uri": "https://localhost:8080/"
    },
    "executionInfo": {
     "elapsed": 352,
     "status": "ok",
     "timestamp": 1657365679090,
     "user": {
      "displayName": "JKob San",
      "userId": "15910273739366067110"
     },
     "user_tz": -420
    },
    "id": "576edfcc-cc3a-4d6c-9e41-e8d8c6ef8782",
    "outputId": "c849ede1-4aaf-44e6-86ba-dc8580315e94"
   },
   "outputs": [],
   "source": [
    "idx_miss = np.where(y_pred_cls != y_test)\n",
    "\n",
    "print(len(idx_miss[0]))"
   ]
  },
  {
   "cell_type": "code",
   "execution_count": null,
   "id": "ee378ae4-f339-47ed-a69c-8567e7de4255",
   "metadata": {
    "colab": {
     "base_uri": "https://localhost:8080/"
    },
    "executionInfo": {
     "elapsed": 365,
     "status": "ok",
     "timestamp": 1657365732257,
     "user": {
      "displayName": "JKob San",
      "userId": "15910273739366067110"
     },
     "user_tz": -420
    },
    "id": "ee378ae4-f339-47ed-a69c-8567e7de4255",
    "outputId": "eac11d41-61fb-4fd1-b22c-de22ff105fe8"
   },
   "outputs": [],
   "source": [
    "print(idx_miss[0][:15])"
   ]
  },
  {
   "cell_type": "code",
   "execution_count": null,
   "id": "2e132a18-0e45-4551-94b0-a3f4e61fa9c1",
   "metadata": {
    "colab": {
     "base_uri": "https://localhost:8080/"
    },
    "executionInfo": {
     "elapsed": 348,
     "status": "ok",
     "timestamp": 1657365771938,
     "user": {
      "displayName": "JKob San",
      "userId": "15910273739366067110"
     },
     "user_tz": -420
    },
    "id": "2e132a18-0e45-4551-94b0-a3f4e61fa9c1",
    "outputId": "6d5e76d1-8bcf-4290-ffd8-ca42d5ade4c5"
   },
   "outputs": [],
   "source": [
    "y_test[idx_miss][:15]           # actual class (real number)  เลขจริง"
   ]
  },
  {
   "cell_type": "code",
   "execution_count": null,
   "id": "08dcb93c-1a19-4008-9893-c931b6d3470f",
   "metadata": {
    "colab": {
     "base_uri": "https://localhost:8080/"
    },
    "executionInfo": {
     "elapsed": 334,
     "status": "ok",
     "timestamp": 1657365787728,
     "user": {
      "displayName": "JKob San",
      "userId": "15910273739366067110"
     },
     "user_tz": -420
    },
    "id": "08dcb93c-1a19-4008-9893-c931b6d3470f",
    "outputId": "148177cb-c3cb-4387-a0ac-71990ef9e50f"
   },
   "outputs": [],
   "source": [
    "y_pred_cls[idx_miss][:15]       # Predicted"
   ]
  },
  {
   "cell_type": "code",
   "execution_count": null,
   "id": "214db290-fea1-47f8-b025-fa6b97aa1eff",
   "metadata": {
    "colab": {
     "base_uri": "https://localhost:8080/",
     "height": 159
    },
    "executionInfo": {
     "elapsed": 386,
     "status": "ok",
     "timestamp": 1657365805704,
     "user": {
      "displayName": "JKob San",
      "userId": "15910273739366067110"
     },
     "user_tz": -420
    },
    "id": "214db290-fea1-47f8-b025-fa6b97aa1eff",
    "outputId": "e4f4a1cd-0898-40bc-de92-424adc994e99"
   },
   "outputs": [],
   "source": [
    "fig = plt.figure(figsize=(2, 2)) \n",
    "plt.imshow(X_test[idx_miss][0].reshape(28,28), cmap=plt.cm.gray_r)\n",
    "plt.show()"
   ]
  },
  {
   "cell_type": "code",
   "execution_count": null,
   "id": "dc885341-c75d-4c96-9b0d-c71d628cfe0e",
   "metadata": {
    "colab": {
     "base_uri": "https://localhost:8080/",
     "height": 221
    },
    "executionInfo": {
     "elapsed": 1365,
     "status": "ok",
     "timestamp": 1657365835191,
     "user": {
      "displayName": "JKob San",
      "userId": "15910273739366067110"
     },
     "user_tz": -420
    },
    "id": "dc885341-c75d-4c96-9b0d-c71d628cfe0e",
    "outputId": "7631e9de-2aef-496a-dd3e-233636923f29"
   },
   "outputs": [],
   "source": [
    "nplots = 16 \n",
    "\n",
    "fig = plt.figure(figsize=(10, 3.4)) \n",
    "for j,k in enumerate(idx_miss[0]):\n",
    "    plt.subplot(2, 8, j+1)\n",
    "    plt.imshow(X_test[k].reshape(28, 28), cmap=plt.cm.gray_r)\n",
    "    plt.title('p--> {}'.format(y_pred_cls[k]))\n",
    "    plt.xticks([])\n",
    "    plt.yticks([])\n",
    "    plt.xlabel(y_test[k])\n",
    "    if j >= nplots-1:\n",
    "        break\n",
    "#     plt.axis('off')\n",
    "\n",
    "plt.show()"
   ]
  },
  {
   "cell_type": "markdown",
   "id": "e5f06228-dc58-442e-a5f0-cc54b8466190",
   "metadata": {
    "id": "e5f06228-dc58-442e-a5f0-cc54b8466190"
   },
   "source": [
    "## Predict an image"
   ]
  },
  {
   "cell_type": "markdown",
   "id": "aJddKLAVEz67",
   "metadata": {
    "id": "aJddKLAVEz67"
   },
   "source": [
    "### Upload"
   ]
  },
  {
   "cell_type": "code",
   "execution_count": null,
   "id": "1R8s4i9kES9l",
   "metadata": {
    "colab": {
     "base_uri": "https://localhost:8080/",
     "height": 91,
     "resources": {
      "http://localhost:8080/nbextensions/google.colab/files.js": {
       "data": "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",
       "headers": [
        [
         "content-type",
         "application/javascript"
        ]
       ],
       "ok": true,
       "status": 200,
       "status_text": ""
      }
     }
    },
    "executionInfo": {
     "elapsed": 9444,
     "status": "ok",
     "timestamp": 1657366461405,
     "user": {
      "displayName": "JKob San",
      "userId": "15910273739366067110"
     },
     "user_tz": -420
    },
    "id": "1R8s4i9kES9l",
    "outputId": "4478992f-2046-4fe7-9617-2f71fb71aefc"
   },
   "outputs": [],
   "source": [
    "# Upload\n",
    "from google.colab import files\n",
    "\n",
    "uploaded = files.upload()\n",
    "\n",
    "filename = next(iter(uploaded))\n",
    "print(filename)"
   ]
  },
  {
   "cell_type": "code",
   "execution_count": null,
   "id": "nd9848XMEaCh",
   "metadata": {
    "colab": {
     "base_uri": "https://localhost:8080/",
     "height": 45
    },
    "executionInfo": {
     "elapsed": 346,
     "status": "ok",
     "timestamp": 1657366481172,
     "user": {
      "displayName": "JKob San",
      "userId": "15910273739366067110"
     },
     "user_tz": -420
    },
    "id": "nd9848XMEaCh",
    "outputId": "f8167ca8-52fc-41c6-9c25-25e319b50b20"
   },
   "outputs": [],
   "source": [
    "from tensorflow.keras.preprocessing.image import load_img, img_to_array\n",
    "from tensorflow.image import rgb_to_grayscale\n",
    "\n",
    "img = load_img(filename, target_size=(28, 28))\n",
    "img"
   ]
  },
  {
   "cell_type": "markdown",
   "id": "dERmDM17vY8s",
   "metadata": {
    "id": "dERmDM17vY8s"
   },
   "source": []
  },
  {
   "cell_type": "markdown",
   "id": "v23ot52JEbwI",
   "metadata": {
    "id": "v23ot52JEbwI"
   },
   "source": [
    "### Gdrive"
   ]
  },
  {
   "cell_type": "code",
   "execution_count": null,
   "id": "bF41j5n0ZTXn",
   "metadata": {
    "id": "bF41j5n0ZTXn"
   },
   "outputs": [],
   "source": [
    "from google.colab import drive\n",
    "drive.mount('/content/drive')\n",
    "\n",
    "!ls '/content/drive/MyDrive/Colab Notebooks/datasets'"
   ]
  },
  {
   "cell_type": "code",
   "execution_count": null,
   "id": "399414bf-9a77-4a43-96d5-1dae790bb318",
   "metadata": {
    "id": "399414bf-9a77-4a43-96d5-1dae790bb318"
   },
   "outputs": [],
   "source": [
    "from tensorflow.keras.preprocessing.image import load_img, img_to_array\n",
    "from tensorflow.image import rgb_to_grayscale\n",
    "\n",
    "gpath = '/content/drive/MyDrive/Colab Notebooks/'\n",
    "\n",
    "img = load_img(gpath + 'datasets/digit2-1.png', target_size=(28, 28))\n",
    "img"
   ]
  },
  {
   "cell_type": "markdown",
   "id": "wIXj6XmdE6EY",
   "metadata": {
    "id": "wIXj6XmdE6EY"
   },
   "source": [
    "### Read image"
   ]
  },
  {
   "cell_type": "code",
   "execution_count": null,
   "id": "1f1a26d4-e42c-4b22-864b-f678636ff2f4",
   "metadata": {
    "colab": {
     "base_uri": "https://localhost:8080/"
    },
    "executionInfo": {
     "elapsed": 365,
     "status": "ok",
     "timestamp": 1657366487655,
     "user": {
      "displayName": "JKob San",
      "userId": "15910273739366067110"
     },
     "user_tz": -420
    },
    "id": "1f1a26d4-e42c-4b22-864b-f678636ff2f4",
    "outputId": "e47ae810-149b-40fa-d606-6f82a004c9ae"
   },
   "outputs": [],
   "source": [
    "from PIL import Image, ImageOps\n",
    "\n",
    "img = ImageOps.invert(img)\n",
    "img = img_to_array(img)\n",
    "img = rgb_to_grayscale(img)\n",
    "\n",
    "print('shape=',img.shape)\n",
    "print('max pixel value=',np.max(img))\n",
    "\n",
    "img = img /255.0\n",
    "print('max pixel value=',np.max(img))\n",
    "\n",
    "img = np.expand_dims(img, axis=0)\n",
    "img.shape"
   ]
  },
  {
   "cell_type": "code",
   "execution_count": null,
   "id": "f5534287-893c-48e3-aaf4-ae9ead1e0ee5",
   "metadata": {
    "colab": {
     "base_uri": "https://localhost:8080/"
    },
    "executionInfo": {
     "elapsed": 355,
     "status": "ok",
     "timestamp": 1657366498339,
     "user": {
      "displayName": "JKob San",
      "userId": "15910273739366067110"
     },
     "user_tz": -420
    },
    "id": "f5534287-893c-48e3-aaf4-ae9ead1e0ee5",
    "outputId": "a87b83dd-28d3-4545-da4a-6e1ca7a06d56"
   },
   "outputs": [],
   "source": [
    "y_pred = model.predict(img)\n",
    "\n",
    "print(y_pred.round(3))"
   ]
  },
  {
   "cell_type": "code",
   "execution_count": null,
   "id": "647a2745-9efc-4cdb-a6b6-8370bbf0df5a",
   "metadata": {
    "colab": {
     "base_uri": "https://localhost:8080/"
    },
    "executionInfo": {
     "elapsed": 360,
     "status": "ok",
     "timestamp": 1657366504065,
     "user": {
      "displayName": "JKob San",
      "userId": "15910273739366067110"
     },
     "user_tz": -420
    },
    "id": "647a2745-9efc-4cdb-a6b6-8370bbf0df5a",
    "outputId": "0137fc8a-0ac6-46fb-9532-7182f0a653d4"
   },
   "outputs": [],
   "source": [
    "predicted = np.argmax(y_pred, -1) \n",
    "print(predicted)"
   ]
  },
  {
   "cell_type": "code",
   "execution_count": null,
   "id": "37f02170-874d-433f-acee-c76f35e32dc5",
   "metadata": {
    "colab": {
     "base_uri": "https://localhost:8080/",
     "height": 159
    },
    "executionInfo": {
     "elapsed": 349,
     "status": "ok",
     "timestamp": 1657366510144,
     "user": {
      "displayName": "JKob San",
      "userId": "15910273739366067110"
     },
     "user_tz": -420
    },
    "id": "37f02170-874d-433f-acee-c76f35e32dc5",
    "outputId": "13fb964d-4121-4b85-fc3b-8484a1a0f976"
   },
   "outputs": [],
   "source": [
    "plt.figure(figsize=(2, 2))\n",
    "plt.imshow(img[0].reshape(28,28), cmap=plt.cm.gray_r)\n",
    "plt.title('Predicted:{}'. format(predicted[0]))\n",
    "plt.xticks([])\n",
    "plt.yticks([])\n",
    "plt.show()"
   ]
  },
  {
   "cell_type": "markdown",
   "id": "vQ9rZ9-qfSzt",
   "metadata": {
    "id": "vQ9rZ9-qfSzt"
   },
   "source": [
    "## Save Model"
   ]
  },
  {
   "cell_type": "code",
   "execution_count": null,
   "id": "cIyrzKRc0Vhu",
   "metadata": {
    "executionInfo": {
     "elapsed": 4,
     "status": "ok",
     "timestamp": 1657366539191,
     "user": {
      "displayName": "JKob San",
      "userId": "15910273739366067110"
     },
     "user_tz": -420
    },
    "id": "cIyrzKRc0Vhu"
   },
   "outputs": [],
   "source": [
    "model.save('digitmodel.h5')"
   ]
  },
  {
   "cell_type": "code",
   "execution_count": null,
   "id": "CBGtW8Jjce9P",
   "metadata": {
    "id": "CBGtW8Jjce9P"
   },
   "outputs": [],
   "source": []
  },
  {
   "cell_type": "code",
   "execution_count": null,
   "id": "TOO0mkmNce3Z",
   "metadata": {
    "id": "TOO0mkmNce3Z"
   },
   "outputs": [],
   "source": []
  },
  {
   "cell_type": "code",
   "execution_count": null,
   "id": "a7W8oW-fgWzQ",
   "metadata": {
    "id": "a7W8oW-fgWzQ"
   },
   "outputs": [],
   "source": []
  }
 ],
 "metadata": {
  "accelerator": "GPU",
  "colab": {
   "name": "ch14 CNN digit recognition.ipynb",
   "provenance": [],
   "toc_visible": true
  },
  "gpuClass": "standard",
  "kernelspec": {
   "display_name": "Python 3 (ipykernel)",
   "language": "python",
   "name": "python3"
  },
  "language_info": {
   "codemirror_mode": {
    "name": "ipython",
    "version": 3
   },
   "file_extension": ".py",
   "mimetype": "text/x-python",
   "name": "python",
   "nbconvert_exporter": "python",
   "pygments_lexer": "ipython3",
   "version": "3.10.4"
  }
 },
 "nbformat": 4,
 "nbformat_minor": 5
}
