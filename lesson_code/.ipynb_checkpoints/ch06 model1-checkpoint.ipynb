{
 "cells": [
  {
   "cell_type": "markdown",
   "id": "b7e5eb9f",
   "metadata": {},
   "source": [
    "## การเขียนโปรแกรมปกติ (Traditional Programming)"
   ]
  },
  {
   "cell_type": "code",
   "execution_count": null,
   "id": "3e4d5ed3",
   "metadata": {},
   "outputs": [],
   "source": [
    "m = (3.6-1) / (6-1)\n",
    "m"
   ]
  },
  {
   "cell_type": "code",
   "execution_count": null,
   "id": "abdac80b",
   "metadata": {},
   "outputs": [],
   "source": [
    "b = 3.6 - m * 6\n",
    "b"
   ]
  },
  {
   "cell_type": "code",
   "execution_count": null,
   "id": "4eb3dce8",
   "metadata": {},
   "outputs": [],
   "source": [
    "x_in = 2.5\n",
    "y2 = m * x_in + b\n",
    "y2"
   ]
  },
  {
   "cell_type": "code",
   "execution_count": null,
   "id": "b1130bbf",
   "metadata": {},
   "outputs": [],
   "source": [
    "x_input = [2.0, 2.5, 3, 5.0]\n",
    "\n",
    "for k in x_input:\n",
    "    y2 = m * k + b\n",
    "    print('x={:3.1f} y={:4.2f} '.format(k, y2))"
   ]
  },
  {
   "cell_type": "code",
   "execution_count": null,
   "id": "0203fd8d",
   "metadata": {},
   "outputs": [],
   "source": [
    "import matplotlib.pyplot as plt\n",
    "\n",
    "x_data = [1.0, 1.8, 3.0, 4.1, 5.2, 6.0]\n",
    "y_data = [1,   1.3, 2.2, 2.5, 2.8, 3.6]\n",
    "\n",
    "plt.xlabel('Investment')\n",
    "plt.ylabel('Profit')\n",
    "plt.scatter(x_data, y_data)\n",
    "plt.grid()\n",
    "plt.show()"
   ]
  },
  {
   "cell_type": "markdown",
   "id": "c0f8a5d8-5e5b-451a-bda5-b63ddb6cdfac",
   "metadata": {
    "tags": []
   },
   "source": [
    "## Machine Learning (ใช้ Scikit-learn)"
   ]
  },
  {
   "cell_type": "code",
   "execution_count": null,
   "id": "d1925c77-8a87-41ff-bccf-ae23e7654ac7",
   "metadata": {},
   "outputs": [],
   "source": [
    "!conda list scikit-learn"
   ]
  },
  {
   "cell_type": "code",
   "execution_count": null,
   "id": "65180553-e79a-47cc-998e-f7937309f3fa",
   "metadata": {},
   "outputs": [],
   "source": [
    "import matplotlib.pyplot as plt\n",
    "import numpy as np"
   ]
  },
  {
   "cell_type": "markdown",
   "id": "2686c037",
   "metadata": {},
   "source": [
    "### Dataset"
   ]
  },
  {
   "cell_type": "code",
   "execution_count": null,
   "id": "fb85a56f-1a3f-4619-8a28-ec69243b7421",
   "metadata": {},
   "outputs": [],
   "source": [
    "x_data = [1.0, 1.8, 3.0, 4.1, 5.2, 6.0]\n",
    "y_data = [1,   1.3, 2.2, 2.5, 2.8, 3.6]\n",
    "\n",
    "x = np.array(x_data)        # Numpy Array\n",
    "y = np.array(y_data)"
   ]
  },
  {
   "cell_type": "code",
   "execution_count": null,
   "id": "1553eefe",
   "metadata": {},
   "outputs": [],
   "source": [
    "x"
   ]
  },
  {
   "cell_type": "code",
   "execution_count": null,
   "id": "44c882fb",
   "metadata": {},
   "outputs": [],
   "source": [
    "y"
   ]
  },
  {
   "cell_type": "markdown",
   "id": "120d05c7",
   "metadata": {},
   "source": [
    "### Data Visualization"
   ]
  },
  {
   "cell_type": "code",
   "execution_count": null,
   "id": "ed0de90f",
   "metadata": {},
   "outputs": [],
   "source": [
    "plt.scatter(x, y)\n",
    "plt.grid()\n",
    "plt.show()"
   ]
  },
  {
   "cell_type": "code",
   "execution_count": null,
   "id": "c323041a",
   "metadata": {},
   "outputs": [],
   "source": [
    "x = x.reshape(-1, 1)\n",
    "x"
   ]
  },
  {
   "cell_type": "markdown",
   "id": "3fa7090a",
   "metadata": {},
   "source": [
    "### Model & Train"
   ]
  },
  {
   "cell_type": "code",
   "execution_count": null,
   "id": "0be1140e-7db1-4438-9981-1226e974649d",
   "metadata": {},
   "outputs": [],
   "source": [
    "from sklearn.linear_model import LinearRegression"
   ]
  },
  {
   "cell_type": "code",
   "execution_count": null,
   "id": "99854c79-cc27-4513-86fa-151ba727a91b",
   "metadata": {},
   "outputs": [],
   "source": [
    "model = LinearRegression()\n",
    "model.fit(x, y)"
   ]
  },
  {
   "cell_type": "markdown",
   "id": "ae84440c",
   "metadata": {},
   "source": [
    "### Predict ทำนาย"
   ]
  },
  {
   "cell_type": "code",
   "execution_count": null,
   "id": "e2fe9be5-3ea0-4b70-98d0-b2060132dbcb",
   "metadata": {},
   "outputs": [],
   "source": [
    "new_input = 2.5\n",
    "model.predict([[new_input]])"
   ]
  },
  {
   "cell_type": "code",
   "execution_count": null,
   "id": "91eb7ece-29ff-4e4e-ac84-6bc3a53e9586",
   "metadata": {},
   "outputs": [],
   "source": [
    "x_input = [[2.0],\n",
    "           [2.5],\n",
    "           [3],\n",
    "           [7.0]] # ไม่จำเป็นต้องเรียงตรงแนว\n",
    "\n",
    "y_predict = model.predict(x_input)\n",
    "y_predict"
   ]
  },
  {
   "cell_type": "code",
   "execution_count": null,
   "id": "f2420156-0d4d-42a1-a3fa-42f456c93af5",
   "metadata": {},
   "outputs": [],
   "source": [
    "# y_predict[0]\n",
    "y_predict[1]"
   ]
  },
  {
   "cell_type": "code",
   "execution_count": null,
   "id": "dcd1ff74-1069-4621-8845-8c9b87183dac",
   "metadata": {},
   "outputs": [],
   "source": [
    "x_input = [2.0, 2.5, 3, 7.0]\n",
    "# x_input = np.array(x_input)\n",
    "# x_input = x_input.reshape(-1, 1)\n",
    "x_input = np.array(x_input).reshape(-1, 1)\n",
    "\n",
    "x_input"
   ]
  },
  {
   "cell_type": "code",
   "execution_count": null,
   "id": "875a04c9-d4bc-4a6a-bfc8-2b682f68c31d",
   "metadata": {},
   "outputs": [],
   "source": [
    "y_predict = model.predict(x_input)\n",
    "y_predict"
   ]
  },
  {
   "cell_type": "code",
   "execution_count": null,
   "id": "3a5f1807",
   "metadata": {},
   "outputs": [],
   "source": [
    "# วนรอบแสดงผลลัพธ์\n",
    "for y in (y_predict):\n",
    "    print(y)\n"
   ]
  },
  {
   "cell_type": "code",
   "execution_count": null,
   "id": "f07f6b2f",
   "metadata": {},
   "outputs": [],
   "source": [
    "# วนรอบแสดง input และ ผลลัพธ์\n",
    "for i, y in enumerate(y_predict):\n",
    "    print('x={} y={:.4f} '.format(x_input[i], y) )"
   ]
  },
  {
   "cell_type": "code",
   "execution_count": null,
   "id": "59c23f4f",
   "metadata": {},
   "outputs": [],
   "source": [
    "prd = model.predict(x)\n",
    "\n",
    "# plt.rcParams['figure.figsize'] = 4, 3  # \n",
    "\n",
    "plt.grid()\n",
    "plt.scatter(x_data, y_data, color='b')        # ข้อมูลจริง (real data points)\n",
    "plt.plot(x_data, prd, linewidth='1')          # ทำนาย (prediction)\n",
    "plt.scatter(x_data, prd, color='r', marker='s')\n",
    "# plt.savefig('model1.png', dpi=100)\n",
    "plt.show()"
   ]
  },
  {
   "cell_type": "code",
   "execution_count": null,
   "id": "a1bd5bfe",
   "metadata": {},
   "outputs": [],
   "source": [
    "model.coef_ , model.intercept_      # m and b"
   ]
  },
  {
   "cell_type": "markdown",
   "id": "5bb9a072",
   "metadata": {},
   "source": [
    "### Save Model"
   ]
  },
  {
   "cell_type": "code",
   "execution_count": null,
   "id": "ffcf408f",
   "metadata": {},
   "outputs": [],
   "source": [
    "import joblib\n",
    "joblib.dump(model, 'my_model.pkl')"
   ]
  },
  {
   "cell_type": "code",
   "execution_count": null,
   "id": "687025b3",
   "metadata": {},
   "outputs": [],
   "source": []
  }
 ],
 "metadata": {
  "kernelspec": {
   "display_name": "Python 3",
   "language": "python",
   "name": "python3"
  },
  "language_info": {
   "codemirror_mode": {
    "name": "ipython",
    "version": 3
   },
   "file_extension": ".py",
   "mimetype": "text/x-python",
   "name": "python",
   "nbconvert_exporter": "python",
   "pygments_lexer": "ipython3",
   "version": "3.9.5"
  }
 },
 "nbformat": 4,
 "nbformat_minor": 5
}
