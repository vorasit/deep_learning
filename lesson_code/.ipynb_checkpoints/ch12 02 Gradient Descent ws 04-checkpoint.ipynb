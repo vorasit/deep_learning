{
 "cells": [
  {
   "cell_type": "markdown",
   "id": "6a77b9ad-dee2-4b17-97a3-3f58f8e02d7b",
   "metadata": {},
   "source": [
    "# Gradient Descent"
   ]
  },
  {
   "cell_type": "code",
   "execution_count": null,
   "id": "05d9aea4-ea36-4df5-91bf-a57c7a5b4aad",
   "metadata": {},
   "outputs": [],
   "source": [
    "import numpy as np  \n",
    "import matplotlib.pyplot as plt  \n",
    "import seaborn as sns  "
   ]
  },
  {
   "cell_type": "markdown",
   "id": "1025d3fc-ed70-4ad2-a887-03cb33e68f9e",
   "metadata": {},
   "source": [
    "## Dataset"
   ]
  },
  {
   "cell_type": "code",
   "execution_count": null,
   "id": "a83657a0-b69a-45ad-9256-6ecea9a35ee3",
   "metadata": {},
   "outputs": [],
   "source": [
    "sns.set_style('darkgrid')\n",
    "np.random.seed(seed=1) \n",
    "\n",
    "x = np.random.uniform(0, 1, 12) \n",
    "\n",
    "def f(x):              #  y \n",
    "    return 3*x + 0     #  2x or 3x\n",
    "\n",
    "noise = 0.15 \n",
    "noise = np.random.randn(x.shape[0]) * noise\n",
    "\n",
    "y = f(x) + noise  "
   ]
  },
  {
   "cell_type": "code",
   "execution_count": null,
   "id": "8bc47591-95ed-43bb-9f1c-76fc4b6dcfa4",
   "metadata": {},
   "outputs": [],
   "source": [
    "x.shape , y.shape"
   ]
  },
  {
   "cell_type": "code",
   "execution_count": null,
   "id": "b67e0c93-a6c4-42ac-8b27-9692c3f2eed7",
   "metadata": {},
   "outputs": [],
   "source": [
    "plt.scatter(x, y, marker='o', s=50, label='data point')\n",
    "\n",
    "plt.plot([0, .7], [f(0),1.4], 'g--', lw=1, label='$f(x)$=2.x')\n",
    "plt.xlabel('x (advertisment)')\n",
    "plt.ylabel('y (profit)')\n",
    "\n",
    "plt.title('Profit')\n",
    "plt.legend(loc=2)\n",
    "plt.show()"
   ]
  },
  {
   "cell_type": "markdown",
   "id": "47b44313-e5cb-4ddd-82c5-0d19771f22d5",
   "metadata": {},
   "source": [
    "## Neuron and Cost function (MSE)"
   ]
  },
  {
   "cell_type": "code",
   "execution_count": null,
   "id": "4c1f6c39-9465-4168-b15e-f9e6607cbe23",
   "metadata": {},
   "outputs": [],
   "source": [
    "# 1 Neuron\n",
    "def neuron(x, w):\n",
    "    return w*x + 0"
   ]
  },
  {
   "cell_type": "code",
   "execution_count": null,
   "id": "82de9359-9e49-41fb-bb94-633fc2baf4b6",
   "metadata": {},
   "outputs": [],
   "source": [
    "def loss_mse(y_pred, y_true):\n",
    "    return np.mean((y_true - y_pred)**2)"
   ]
  },
  {
   "cell_type": "code",
   "execution_count": null,
   "id": "bff20cab-c567-4bef-8cce-a5a2afe84e95",
   "metadata": {},
   "outputs": [],
   "source": [
    "ws = np.linspace(0, 4, num=50) \n",
    "print(ws)\n",
    "\n",
    "loss_ws = [loss_mse(neuron(x,w), y) for w in ws]\n",
    "\n",
    "plt.plot(ws, loss_ws, 'r--', lw=2, label='Cost function (MSE)')\n",
    "\n",
    "plt.xlabel('$w$', fontsize=12)\n",
    "plt.ylabel('Cost (Loss)', fontsize=12)\n",
    "plt.title('Cost function')\n",
    "plt.legend()\n",
    "plt.show()"
   ]
  },
  {
   "cell_type": "markdown",
   "id": "4984c277-7c02-4273-bda5-0e0e0a77a18f",
   "metadata": {},
   "source": [
    "## Gradient and Train"
   ]
  },
  {
   "cell_type": "code",
   "execution_count": null,
   "id": "2ae5424f-4522-41c1-84b1-a9137b80962a",
   "metadata": {},
   "outputs": [],
   "source": [
    "np.random.rand() * 4"
   ]
  },
  {
   "cell_type": "code",
   "execution_count": null,
   "id": "52b2a7ad-bb0c-4fd6-addc-1726ecf5985c",
   "metadata": {},
   "outputs": [],
   "source": [
    "def gradient(w, x, y_true):\n",
    "    y_pred = neuron(x, w)\n",
    "    return 2 * x * (y_pred - y_true) # use this\n",
    "\n",
    "def delta_w(w_k, x, y, learning_rate):\n",
    "    \"\"\"Update function delta w\"\"\"\n",
    "    return learning_rate * np.mean(gradient(w_k, x, y))\n",
    "\n",
    "# w = np.random.rand() * 4  \n",
    "w = .08                # .08, 3.7 initial weight\n",
    "learning_rate = 0.9       # 0.9  # 4.9      # Alpha \n",
    "\n",
    "no_of_iterations = 22 # 3   # epochs\n",
    "\n",
    "history_loss = [(w, loss_mse(neuron(x, w), y))] \n",
    "for i in range(no_of_iterations):\n",
    "    dw = delta_w(w, x, y, learning_rate)  \n",
    "    w = w - dw  \n",
    "    history_loss.append((w, loss_mse(neuron(x, w), y)))  \n",
    "\n",
    "for i in range(0, len(history_loss)):\n",
    "    print('{} -> w: {:.2f} \\t loss: {} '.format(i, history_loss[i][0], history_loss[i][1]))"
   ]
  },
  {
   "cell_type": "markdown",
   "id": "d5dfa476-9673-4ae8-bd33-d8bf31a6f1c4",
   "metadata": {},
   "source": [
    "## Plot steps"
   ]
  },
  {
   "cell_type": "code",
   "execution_count": null,
   "id": "fadf557c-445c-4086-817b-d8eeccc688e2",
   "metadata": {},
   "outputs": [],
   "source": [
    "plt.plot(ws, loss_ws, 'r--', label='Cost function (MSE)') \n",
    "\n",
    "for i in range(0, len(history_loss)-1):\n",
    "    w1, c1 = history_loss[i]\n",
    "    w2, c2 = history_loss[i+1]\n",
    "    plt.plot(w1, c1, 'bo')\n",
    "    plt.plot([w1, w2],[c1, c2], 'b-')\n",
    "    plt.text(w1, c1+0.02, f'{i+1}', ha='right')\n",
    "\n",
    "plt.plot(w2, c2, 'bo', label='$w(i)$')\n",
    "plt.text(w2, c2+0.02, f'${i+2}$', ha='right')\n",
    "\n",
    "plt.xlabel('$w$', fontsize=12)\n",
    "plt.ylabel('Cost (Loss)', fontsize=12)\n",
    "plt.title('Gradient descent on Cost function')\n",
    "\n",
    "plt.legend(loc=1)\n",
    "plt.show()"
   ]
  },
  {
   "cell_type": "markdown",
   "id": "057348e8-afd1-49db-a174-f54db8b47f92",
   "metadata": {},
   "source": [
    "## Loss Curve"
   ]
  },
  {
   "cell_type": "code",
   "execution_count": null,
   "id": "3b10bcfd-4c14-4c99-bae7-309f4c1b4593",
   "metadata": {},
   "outputs": [],
   "source": [
    "epoch = np.linspace(0, len(history_loss), num=len(history_loss)).astype('int')\n",
    "step_loss = [ls[1] for ls in history_loss]\n",
    "\n",
    "plt.plot(epoch, step_loss, lw=2, label='Loss')\n",
    "plt.ylabel('Loss')\n",
    "plt.xlabel('epoch')\n",
    "plt.legend()\n",
    "plt.show()"
   ]
  },
  {
   "cell_type": "markdown",
   "id": "90fb0dde-cf9a-478c-9102-28d9414aa3bd",
   "metadata": {},
   "source": [
    "## Sklearn"
   ]
  },
  {
   "cell_type": "code",
   "execution_count": null,
   "id": "105ae1b9-cf39-49d8-afff-c0ce7b57a940",
   "metadata": {},
   "outputs": [],
   "source": [
    "# use Sklearn\n",
    "\n",
    "from sklearn import linear_model\n",
    "lm = linear_model.LinearRegression()\n",
    "X = x.reshape(-1, 1)\n",
    "\n",
    "lm.fit(X, y)\n",
    "\n",
    "print(lm.coef_, lm.intercept_)  # w and b"
   ]
  },
  {
   "cell_type": "markdown",
   "id": "45ae89f0-c669-4916-9ed9-08a9879412cd",
   "metadata": {},
   "source": [
    "# จำนวนรอบในการ Train (Epochs)\n",
    "ตั้งค่าจำนวนรอบในการ Train\n",
    "- เช่น 3, 9, 22"
   ]
  },
  {
   "cell_type": "code",
   "execution_count": null,
   "id": "a3441386-84c4-4da0-b00b-4017c2c762eb",
   "metadata": {},
   "outputs": [],
   "source": [
    "no_of_iterations = 3   # epochs"
   ]
  },
  {
   "cell_type": "markdown",
   "id": "c4b02cf3-c25b-4194-8d88-a626af17f0b1",
   "metadata": {},
   "source": [
    "# อัตราความเร็วในการเรียนรู้ (Learning Rate: Alpha)\n",
    "- เช่น Learning rate 0.9, 0.1, 2, 4.9 (try epochs=3)"
   ]
  },
  {
   "cell_type": "code",
   "execution_count": null,
   "id": "56e7607a-e914-4658-ae7f-3a006cd1d72f",
   "metadata": {},
   "outputs": [],
   "source": [
    "learning_rate = 2.0      # Alpha (Learning Rate)"
   ]
  },
  {
   "cell_type": "markdown",
   "id": "d8859303-59da-4968-985b-ea8c076374c2",
   "metadata": {},
   "source": [
    "# เริ่มต้น Weight ที่ค่าใด ๆ (Initial Weight)"
   ]
  },
  {
   "cell_type": "code",
   "execution_count": null,
   "id": "46f12e69-95b3-47ca-a3bf-e1ffdfde008a",
   "metadata": {},
   "outputs": [],
   "source": [
    "w = np.random.rand() * 4  \n",
    "# w = 0.08                # initial weight"
   ]
  },
  {
   "cell_type": "markdown",
   "id": "c2c2ff29-1987-4df5-a244-c2a5b7b8c857",
   "metadata": {},
   "source": [
    "# ลองเปลี่ยน Dataset \n",
    "ให้มีค่า w เป็นค่าอื่น เช่น w=3  สำหรับ y=3x"
   ]
  },
  {
   "cell_type": "code",
   "execution_count": null,
   "id": "76e10bbf-618c-4012-8ebe-b48c45220878",
   "metadata": {},
   "outputs": [],
   "source": [
    "def f(x):              #  y \n",
    "    return 3*x + 0     #  2x or 3x"
   ]
  },
  {
   "cell_type": "code",
   "execution_count": null,
   "id": "3ef2ad46-c20c-41ec-a2c2-558bb5a804e1",
   "metadata": {},
   "outputs": [],
   "source": []
  }
 ],
 "metadata": {
  "kernelspec": {
   "display_name": "Python 3 (ipykernel)",
   "language": "python",
   "name": "python3"
  },
  "language_info": {
   "codemirror_mode": {
    "name": "ipython",
    "version": 3
   },
   "file_extension": ".py",
   "mimetype": "text/x-python",
   "name": "python",
   "nbconvert_exporter": "python",
   "pygments_lexer": "ipython3",
   "version": "3.10.4"
  }
 },
 "nbformat": 4,
 "nbformat_minor": 5
}
