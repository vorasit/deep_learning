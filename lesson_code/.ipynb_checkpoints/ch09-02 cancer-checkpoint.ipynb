{
 "cells": [
  {
   "cell_type": "markdown",
   "id": "296a98f5-4a2d-495c-bd06-937342ab6845",
   "metadata": {},
   "source": [
    "# TensorFlow\n",
    "- สร้าง Neural Network Model โดยใช้ TensorFlow & Keras<br>\n",
    "- Dataset: Breast Cancer, 2 Features\n",
    "- Binary Classification"
   ]
  },
  {
   "cell_type": "markdown",
   "id": "1150a71a",
   "metadata": {},
   "source": [
    "## Check Environment and TensorFlow\n"
   ]
  },
  {
   "cell_type": "code",
   "execution_count": null,
   "id": "78d75128-2e61-4683-ad62-92e2b457d0fc",
   "metadata": {},
   "outputs": [],
   "source": [
    "!conda info"
   ]
  },
  {
   "cell_type": "code",
   "execution_count": null,
   "id": "ba532070-f924-4789-a7bc-c8ce16ecdcf6",
   "metadata": {},
   "outputs": [],
   "source": [
    "!pip show tensorflow"
   ]
  },
  {
   "cell_type": "code",
   "execution_count": null,
   "id": "550a469f-aa7d-4f17-9ba5-f2cacbf6ada9",
   "metadata": {},
   "outputs": [],
   "source": [
    "import tensorflow as tf\n",
    "tf.__version__"
   ]
  },
  {
   "cell_type": "code",
   "execution_count": null,
   "id": "6ea6faad-68ad-4d7f-8e78-65e21204500a",
   "metadata": {},
   "outputs": [],
   "source": [
    "from sklearn.datasets import load_breast_cancer\n",
    "import numpy as np\n",
    "import pandas as pd\n",
    "import matplotlib.pyplot as plt\n",
    "import seaborn as sns"
   ]
  },
  {
   "cell_type": "markdown",
   "id": "313222ef-b3fa-469a-be7f-e317a5c49b56",
   "metadata": {},
   "source": [
    "## Dataset"
   ]
  },
  {
   "cell_type": "code",
   "execution_count": null,
   "id": "eb0b82db-2e24-44fe-952b-4ad7cad68b4e",
   "metadata": {},
   "outputs": [],
   "source": [
    "cancer = load_breast_cancer()"
   ]
  },
  {
   "cell_type": "code",
   "execution_count": null,
   "id": "1b904197-a299-4a1b-b3c3-24747f29b120",
   "metadata": {},
   "outputs": [],
   "source": [
    "cancer.keys()"
   ]
  },
  {
   "cell_type": "code",
   "execution_count": null,
   "id": "39e64903-f2fa-40ef-b3d8-254b1bc92219",
   "metadata": {},
   "outputs": [],
   "source": [
    "print(cancer.DESCR)"
   ]
  },
  {
   "cell_type": "code",
   "execution_count": null,
   "id": "1b90f107-99ea-4f0c-a69c-f75acb41ce1b",
   "metadata": {},
   "outputs": [],
   "source": [
    "cancer.target_names"
   ]
  },
  {
   "cell_type": "code",
   "execution_count": null,
   "id": "73a0c5ee",
   "metadata": {},
   "outputs": [],
   "source": [
    "# cancer.target[:15]\n",
    "cancer.target[40:50]"
   ]
  },
  {
   "cell_type": "code",
   "execution_count": null,
   "id": "29ff1bde-21e2-4f12-829f-9101e919b028",
   "metadata": {},
   "outputs": [],
   "source": [
    "df = pd.DataFrame(cancer.data[:,0:2], columns=cancer.feature_names[0:2])    # 2 Features\n",
    "\n",
    "# df = pd.DataFrame(cancer.data[:,0:4], columns=cancer.feature_names[0:4])  # 4 Features\n",
    "\n",
    "df['class'] = cancer.target\n",
    "\n",
    "df.sample(5, random_state=1)\n",
    "# df.head()\n",
    "df.tail()"
   ]
  },
  {
   "cell_type": "code",
   "execution_count": null,
   "id": "b1dfd0b1-fb38-48ef-81e1-07462fef10c1",
   "metadata": {},
   "outputs": [],
   "source": [
    "df.describe().round(2)"
   ]
  },
  {
   "cell_type": "code",
   "execution_count": null,
   "id": "020273c7",
   "metadata": {},
   "outputs": [],
   "source": [
    "df.groupby('class').count()"
   ]
  },
  {
   "cell_type": "markdown",
   "id": "bcd512ab-7ba7-45e1-8344-48f997b66faf",
   "metadata": {},
   "source": [
    "Convert class to string"
   ]
  },
  {
   "cell_type": "code",
   "execution_count": null,
   "id": "69720103-f4f0-4cab-bf90-407f7778b44f",
   "metadata": {},
   "outputs": [],
   "source": [
    "# df['class'] = np.where(df['class']==0, 'yes', 'no')  \n",
    "# df['class'] = np.where(df['class']==0, 'malignant', 'benign') \n",
    "\n",
    "target_map = {0:'malignant', 1:'benign'}  # ได้ผลลัพธ์เหมือนด้านบน\n",
    "df['class'] = df['class'].map(target_map)\n",
    "\n",
    "# df.head()\n",
    "df.sample(5, random_state=1)"
   ]
  },
  {
   "cell_type": "code",
   "execution_count": null,
   "id": "a1c7f9a3-aa20-4c48-ad60-d0f33156e385",
   "metadata": {},
   "outputs": [],
   "source": [
    "df.head()\n",
    "# df.tail()"
   ]
  },
  {
   "cell_type": "code",
   "execution_count": null,
   "id": "a7fd9d95-2fa3-4914-8276-a9ba42519d35",
   "metadata": {},
   "outputs": [],
   "source": [
    "df.tail()"
   ]
  },
  {
   "cell_type": "code",
   "execution_count": null,
   "id": "16c8290a-d7a1-4216-bf2d-b0bf624bd9aa",
   "metadata": {},
   "outputs": [],
   "source": [
    "df.isnull().sum()"
   ]
  },
  {
   "cell_type": "markdown",
   "id": "ca003bf1-2614-4a0f-98b8-b4458286dabd",
   "metadata": {},
   "source": [
    "## Data visualization"
   ]
  },
  {
   "cell_type": "code",
   "execution_count": null,
   "id": "35c0e383-535b-405b-b93c-e00f6de9eec7",
   "metadata": {},
   "outputs": [],
   "source": [
    "plt.figure(figsize=(5.2, 4))\n",
    "\n",
    "sns.scatterplot(x='mean radius', y='mean texture', data=df, hue='class', style='class', \n",
    "                alpha=0.9, edgecolor='w', s=80)\n",
    "\n",
    "plt.show()"
   ]
  },
  {
   "cell_type": "markdown",
   "id": "8f61801c-5654-4def-8ab4-6099a7296e70",
   "metadata": {},
   "source": [
    "## Label Encoding"
   ]
  },
  {
   "cell_type": "code",
   "execution_count": null,
   "id": "65bb5b29-8bb8-4c91-93b8-ff16bc2f3687",
   "metadata": {},
   "outputs": [],
   "source": [
    "# y, class_names = pd.factorize(df['class'], sort=True)   # use Pandas\n",
    "y, class_names = pd.factorize(df['class'])\n",
    "class_names"
   ]
  },
  {
   "cell_type": "code",
   "execution_count": null,
   "id": "6e6091bf-4a77-47b9-b0a6-e9716043b4e6",
   "metadata": {},
   "outputs": [],
   "source": [
    "y[40:50]\n",
    "# y[:15]"
   ]
  },
  {
   "cell_type": "code",
   "execution_count": null,
   "id": "8ca73343-0c26-4ab6-be88-071a9f338600",
   "metadata": {},
   "outputs": [],
   "source": [
    "# class_names, y = np.unique(df['class'], return_inverse=True)  # use Numpy\n",
    "# class_names"
   ]
  },
  {
   "cell_type": "code",
   "execution_count": null,
   "id": "4c19c42e",
   "metadata": {},
   "outputs": [],
   "source": [
    "print('Class 0:', len(y[y==0]))\n",
    "print('Class 1:', len(y[y==1]))"
   ]
  },
  {
   "cell_type": "code",
   "execution_count": null,
   "id": "de4c38ef-e55f-4c4f-9f51-02d47c881fc0",
   "metadata": {},
   "outputs": [],
   "source": [
    "np.unique(y)"
   ]
  },
  {
   "cell_type": "markdown",
   "id": "98e791ef-6525-4a2b-8e7b-afaaa97899b7",
   "metadata": {},
   "source": [
    "## X and y"
   ]
  },
  {
   "cell_type": "code",
   "execution_count": null,
   "id": "3a73b14b-aa3a-4a3b-b379-de06301bfb88",
   "metadata": {},
   "outputs": [],
   "source": [
    "X = df.drop('class', axis=1)\n",
    "X.head()\n",
    "X.tail()"
   ]
  },
  {
   "cell_type": "code",
   "execution_count": null,
   "id": "cf5628f3-c0ae-4fa8-8aed-9826ab723cd3",
   "metadata": {},
   "outputs": [],
   "source": [
    "# if label Encoding, skip this command\n",
    "# y = df['class']     # กรณี: ไม่ทำ Label Encoding. "
   ]
  },
  {
   "cell_type": "code",
   "execution_count": null,
   "id": "33c31d24-9555-4aee-a39e-0cc1935a6ccd",
   "metadata": {},
   "outputs": [],
   "source": [
    "y[:15]"
   ]
  },
  {
   "cell_type": "code",
   "execution_count": null,
   "id": "1319902c",
   "metadata": {},
   "outputs": [],
   "source": [
    "np.unique(y)"
   ]
  },
  {
   "cell_type": "markdown",
   "id": "d75b78df-b59d-4e4e-904c-12a85f18ca23",
   "metadata": {},
   "source": [
    "## Feature Scaling using StandardScaler "
   ]
  },
  {
   "cell_type": "code",
   "execution_count": null,
   "id": "e1be5db1-ff6f-40a0-a1e2-b5541e1ad4d3",
   "metadata": {},
   "outputs": [],
   "source": [
    "from sklearn.preprocessing import StandardScaler\n",
    "\n",
    "sc = StandardScaler()\n",
    "X_sc = sc.fit_transform(X)\n",
    "X_sc[:5]"
   ]
  },
  {
   "cell_type": "code",
   "execution_count": null,
   "id": "a7e14dff-5323-4528-8d4d-a73abbd3daad",
   "metadata": {},
   "outputs": [],
   "source": [
    "cancer.feature_names[0:2]    # ชื่อ columns 2 features แรก"
   ]
  },
  {
   "cell_type": "code",
   "execution_count": null,
   "id": "aab4ec5a-5c14-4ace-ad81-9720e2a45974",
   "metadata": {},
   "outputs": [],
   "source": [
    "dfsc = pd.DataFrame(X_sc, columns=['mean radius','mean texture']) #  \n",
    "# dfsc = pd.DataFrame(X_sc, columns=cancer.feature_names[0:2])  # หรือแบบนี้ก็ได้\n",
    "dfsc['class'] = y\n",
    "\n",
    "dfsc.describe().round(3)"
   ]
  },
  {
   "cell_type": "code",
   "execution_count": null,
   "id": "61582430-a21f-4145-85ee-8f2b07c6a27f",
   "metadata": {},
   "outputs": [],
   "source": [
    "dfsc.head()"
   ]
  },
  {
   "cell_type": "markdown",
   "id": "700f0b1b",
   "metadata": {},
   "source": [
    "## KDE plot"
   ]
  },
  {
   "cell_type": "code",
   "execution_count": null,
   "id": "4e759732",
   "metadata": {},
   "outputs": [],
   "source": [
    "fig, (ax1, ax2) = plt.subplots(ncols=2, figsize=(8, 3.5))\n",
    "\n",
    "ax1.set_title('Before Scale (Raw data)')\n",
    "sns.kdeplot(df['mean radius'], fill=True, ax=ax1)\n",
    "sns.kdeplot(df['mean texture'], fill=True, ax=ax1)\n",
    "\n",
    "ax2.set_title('After Scale')\n",
    "sns.kdeplot(X_sc[:,0], fill=True, ax=ax2)\n",
    "sns.kdeplot(X_sc[:,1], fill=True, ax=ax2)\n",
    "sns.kdeplot(df['mean texture'], fill=True, ax=ax1)\n",
    "\n",
    "plt.show()"
   ]
  },
  {
   "cell_type": "code",
   "execution_count": null,
   "id": "13948ad2-55e1-41c6-9edc-1a8ebe914a6d",
   "metadata": {},
   "outputs": [],
   "source": [
    "plt.figure(figsize=(5.2, 4))\n",
    "\n",
    "sns.scatterplot(x='mean radius', y='mean texture', data=dfsc, hue='class', style='class', \n",
    "                alpha=0.9, edgecolor='w', s=80)\n",
    "plt.title('After Scaling')\n",
    "plt.show()"
   ]
  },
  {
   "cell_type": "code",
   "execution_count": null,
   "id": "52c86e2a-568b-4376-8d97-0999453f9eaf",
   "metadata": {},
   "outputs": [],
   "source": [
    "# use  Scatter; Matplotlib\n",
    "plt.scatter(X_sc[:,0][y==0], X_sc[:,1][y==0], marker='o', edgecolor='w', s=60, label='Benign')\n",
    "plt.scatter(X_sc[:,0][y==1], X_sc[:,1][y==1], marker='x', s=50, label='Malignant')\n",
    "plt.legend()\n",
    "plt.show()"
   ]
  },
  {
   "cell_type": "markdown",
   "id": "4cc07618-3c23-40a1-8a4c-50af28e5d387",
   "metadata": {},
   "source": [
    "## Train-test Split"
   ]
  },
  {
   "cell_type": "code",
   "execution_count": null,
   "id": "d5a00ce4",
   "metadata": {},
   "outputs": [],
   "source": [
    "X_sc[:5]"
   ]
  },
  {
   "cell_type": "code",
   "execution_count": null,
   "id": "d209560c",
   "metadata": {},
   "outputs": [],
   "source": [
    "y[:5]"
   ]
  },
  {
   "cell_type": "code",
   "execution_count": null,
   "id": "bc35e8b5",
   "metadata": {},
   "outputs": [],
   "source": [
    "from sklearn.model_selection import train_test_split\n",
    "\n",
    "X_train, X_test, y_train, y_test = train_test_split(X_sc, y, test_size=0.25, random_state=1) #\n",
    "\n",
    "X_train.shape, X_test.shape"
   ]
  },
  {
   "cell_type": "code",
   "execution_count": null,
   "id": "92c98428-9d06-4664-ac54-77bb76d47966",
   "metadata": {},
   "outputs": [],
   "source": [
    "y_train.shape, y_test.shape "
   ]
  },
  {
   "cell_type": "code",
   "execution_count": null,
   "id": "8dfbcd71-319f-4de1-bff4-f961747e156f",
   "metadata": {},
   "outputs": [],
   "source": [
    "X_train[:5]"
   ]
  },
  {
   "cell_type": "code",
   "execution_count": null,
   "id": "afeef49a-af9f-4044-bcfd-bcfdb7524b40",
   "metadata": {},
   "outputs": [],
   "source": [
    "y_train[:5]"
   ]
  },
  {
   "cell_type": "code",
   "execution_count": null,
   "id": "4833b053",
   "metadata": {},
   "outputs": [],
   "source": [
    "## Training set (class 0 & 1)\n",
    "print('Train; Class 0:', len(y_train[y_train==0]))\n",
    "print('Train; Class 1:', len(y_train[y_train==1]))\n",
    "print('Total:',len(y_train))"
   ]
  },
  {
   "cell_type": "markdown",
   "id": "0db7ceba-63c1-479a-a57b-7b0721d4b0e3",
   "metadata": {},
   "source": [
    "## Model"
   ]
  },
  {
   "cell_type": "code",
   "execution_count": null,
   "id": "a7dd6703-e028-4b1b-a144-f386e88bc26d",
   "metadata": {},
   "outputs": [],
   "source": [
    "from tensorflow.keras import Sequential\n",
    "from tensorflow.keras.layers import Dense, Input "
   ]
  },
  {
   "cell_type": "code",
   "execution_count": null,
   "id": "4c626de1-17fb-4c4a-a2af-cdac94e90494",
   "metadata": {},
   "outputs": [],
   "source": [
    "X_train.shape"
   ]
  },
  {
   "cell_type": "code",
   "execution_count": null,
   "id": "4be4f8ac-b6db-441c-9dcb-244213148918",
   "metadata": {},
   "outputs": [],
   "source": [
    "input_size = X_train.shape[-1]     # input size\n",
    "input_size"
   ]
  },
  {
   "cell_type": "markdown",
   "id": "1aec608a",
   "metadata": {},
   "source": [
    "### Create a Model"
   ]
  },
  {
   "cell_type": "raw",
   "id": "743091cf-6d4c-450a-909b-6292844f244e",
   "metadata": {},
   "source": [
    "(input: 2-dim)\n",
    "       ↧\n",
    "[Dense (32 units, relu activation)]\n",
    "       ↧\n",
    "[Dense (1 unit, sigmoid activation)]\n",
    "       ↧\n",
    "(output: probability 2 classes)"
   ]
  },
  {
   "cell_type": "code",
   "execution_count": null,
   "id": "4f4d145b",
   "metadata": {},
   "outputs": [],
   "source": [
    "# Sequential Model using Input\n",
    "model = Sequential()\n",
    "\n",
    "# model.add(Input(shape=(2,)))\n",
    "model.add(Input(shape=(input_size,)))\n",
    "\n",
    "model.add(Dense(32, activation='relu'))  \n",
    "# model.add(Dense(128, activation='relu'))  \n",
    "# model.add(Dense(128, activation='relu'))  \n",
    "\n",
    "model.add(Dense(1, activation='sigmoid'))   # 2 class (Binary classification)"
   ]
  },
  {
   "cell_type": "code",
   "execution_count": null,
   "id": "9f6ee1e0-e720-4e7f-be67-1ca5a9c78d90",
   "metadata": {},
   "outputs": [],
   "source": [
    "# Sequential Model  (ไม่ใช้ Input แต่กำหนดที่ Dense Layer)\n",
    "model = Sequential()\n",
    "\n",
    "model.add(Dense(32, activation='relu', input_shape=(2,)))  \n",
    "# model.add(Dense(32, activation='relu', input_shape=(input_size,) ))   # \n",
    "\n",
    "model.add(Dense(1, activation='sigmoid')) # "
   ]
  },
  {
   "cell_type": "code",
   "execution_count": null,
   "id": "5e63d3fc",
   "metadata": {},
   "outputs": [],
   "source": [
    "# หรือแบบนี้\n",
    "# input_size = X_train.shape[-1]\n",
    "# model = Sequential([\n",
    "#     Dense(32, activation='relu', input_shape=(input_size,)),\n",
    "#     Dense(1, activation='sigmoid')\n",
    "# ])"
   ]
  },
  {
   "cell_type": "code",
   "execution_count": null,
   "id": "120922a7-267c-40ed-a759-5a357391e87e",
   "metadata": {},
   "outputs": [],
   "source": [
    " # Functional Model\n",
    "from tensorflow.keras.layers import Dense, Input\n",
    "from tensorflow.keras import Model\n",
    "\n",
    "inputs = Input(shape=(2,))    \n",
    "\n",
    "x = Dense(32, activation=\"relu\")(inputs)\n",
    "\n",
    "outputs = Dense(1, activation=\"relu\")(x)\n",
    "\n",
    "model = Model(inputs=inputs, outputs=outputs, name=\"my_model\")\n",
    "model.summary()"
   ]
  },
  {
   "cell_type": "markdown",
   "id": "4a7cc412",
   "metadata": {},
   "source": [
    "### Model Info"
   ]
  },
  {
   "cell_type": "code",
   "execution_count": null,
   "id": "0eff0b77-5b0d-4277-baf5-39c8503ec6c6",
   "metadata": {},
   "outputs": [],
   "source": [
    "model.summary()"
   ]
  },
  {
   "cell_type": "code",
   "execution_count": null,
   "id": "5c9b2ca3-e401-4fa9-b56f-4f90c4db8874",
   "metadata": {},
   "outputs": [],
   "source": [
    "model.output_shape"
   ]
  },
  {
   "cell_type": "code",
   "execution_count": null,
   "id": "64295e02-18ca-48da-962b-87f3982676a2",
   "metadata": {
    "tags": []
   },
   "outputs": [],
   "source": [
    "model.get_config()"
   ]
  },
  {
   "cell_type": "code",
   "execution_count": null,
   "id": "96385a55",
   "metadata": {},
   "outputs": [],
   "source": [
    "# !pip install pydotplus\n",
    "# ติดตั้ง Graphviz (https://graphviz.org/download) และ set path (Windows)"
   ]
  },
  {
   "cell_type": "code",
   "execution_count": null,
   "id": "79c5d29d",
   "metadata": {},
   "outputs": [],
   "source": [
    "# ถ้ารันไม่ได้ ให้ใช้ Colab แทน\n",
    "from tensorflow.keras.utils import plot_model\n",
    "\n",
    "plot_model(model, show_shapes=True, show_layer_names=True)"
   ]
  },
  {
   "cell_type": "markdown",
   "id": "eaa38368-3093-4771-ae39-31fe63b9d10a",
   "metadata": {},
   "source": [
    "### Compile"
   ]
  },
  {
   "cell_type": "code",
   "execution_count": null,
   "id": "4a476110-35e7-4b84-8621-c9805e1c7fd4",
   "metadata": {},
   "outputs": [],
   "source": [
    "model.compile(loss='binary_crossentropy',\n",
    "              optimizer='adam',\n",
    "              metrics=['accuracy'])"
   ]
  },
  {
   "cell_type": "markdown",
   "id": "49a40a9a",
   "metadata": {},
   "source": [
    "### Train"
   ]
  },
  {
   "cell_type": "code",
   "execution_count": null,
   "id": "5fb563f0-7c98-4458-b16b-54998fd52ce1",
   "metadata": {},
   "outputs": [],
   "source": [
    "import time\n",
    "\n",
    "start = time.time()\n",
    "history = model.fit(X_train, y_train, epochs=40, verbose=1, batch_size=32, validation_split=0.25) # 10 +10 40 100\n",
    "end = time.time()\n",
    "\n",
    "print(f\"Time Taken {end - start:.3f} secs\")\n",
    "print(\"Time Taken: {:.3f} secs\".format(end - start))"
   ]
  },
  {
   "cell_type": "markdown",
   "id": "545f9539",
   "metadata": {},
   "source": [
    "## Loss and Accuracy Curves"
   ]
  },
  {
   "cell_type": "code",
   "execution_count": null,
   "id": "cb73ad86-391c-4a69-a307-4d9778161451",
   "metadata": {},
   "outputs": [],
   "source": [
    "history.params"
   ]
  },
  {
   "cell_type": "code",
   "execution_count": null,
   "id": "1d300efe",
   "metadata": {},
   "outputs": [],
   "source": [
    "history.history.keys()"
   ]
  },
  {
   "cell_type": "code",
   "execution_count": null,
   "id": "bec156e8",
   "metadata": {},
   "outputs": [],
   "source": [
    "# plt.figure(figsize=(4.7, 3.5))\n",
    "\n",
    "plt.plot(history.history['loss'], '--', c='b', lw=2, label='Trainning')\n",
    "plt.plot(history.history['val_loss'], c='r', lw=3, label='Validation')\n",
    "\n",
    "plt.xlabel('Epoch')\n",
    "plt.ylabel('Loss')\n",
    "\n",
    "plt.legend()\n",
    "plt.title('Loss Curve')\n",
    "plt.show()"
   ]
  },
  {
   "cell_type": "code",
   "execution_count": null,
   "id": "86ad550c",
   "metadata": {},
   "outputs": [],
   "source": [
    "plt.plot(history.history['accuracy'], '--', c='b', lw=2, label='Trainning')\n",
    "plt.plot(history.history['val_accuracy'], c='r', lw=3, label='Validation')\n",
    "plt.xlabel('Epoch')\n",
    "plt.ylabel('Loss')\n",
    "plt.legend()\n",
    "plt.title('Accuracy Curve')\n",
    "plt.show()"
   ]
  },
  {
   "cell_type": "markdown",
   "id": "e2fc7303",
   "metadata": {},
   "source": [
    "### Loss and Accuracy (2-Column curve)"
   ]
  },
  {
   "cell_type": "code",
   "execution_count": null,
   "id": "466fa4f8",
   "metadata": {},
   "outputs": [],
   "source": [
    "# 2 Columns\n",
    "plt.figure(figsize=(12, 4))\n",
    "\n",
    "plt.subplot(1, 2, 1)   # row column index\n",
    "plt.plot(history.history['loss'], '--', c='b', lw=2, label='Trainning')\n",
    "plt.plot(history.history['val_loss'], c='r', lw=3, label='Validation')\n",
    "plt.title('Loss Curve')\n",
    "plt.legend()\n",
    "plt.xlabel('Epoch')\n",
    "plt.ylabel('Loss')\n",
    "\n",
    "plt.subplot(1, 2, 2)   # row column index\n",
    "plt.plot(history.history['accuracy'], '--', c='b', lw=2, label='Trainning')\n",
    "plt.plot(history.history['val_accuracy'], c='r', lw=3, label='Validation')\n",
    "plt.xlabel('Epoch')\n",
    "plt.ylabel('Loss')\n",
    "plt.legend()\n",
    "plt.title('Accuracy Curve')\n",
    "plt.show()"
   ]
  },
  {
   "cell_type": "code",
   "execution_count": null,
   "id": "c1fe8310",
   "metadata": {},
   "outputs": [],
   "source": [
    "Image(filename='images/ch09 Tensorflow/DL 20220506 144438.png')"
   ]
  },
  {
   "cell_type": "markdown",
   "id": "e16f7046-27f6-48cb-83e8-07d37b7b8366",
   "metadata": {},
   "source": [
    "## Tensor board"
   ]
  },
  {
   "cell_type": "code",
   "execution_count": null,
   "id": "bccc3643-43d6-43c3-b0e3-e671d4ce19b1",
   "metadata": {},
   "outputs": [],
   "source": [
    "from keras.callbacks import TensorBoard\n",
    "\n",
    "history = model.fit(X_train, y_train, epochs=40, verbose=0, \n",
    "                    batch_size=32, validation_split=0.25,\n",
    "                    callbacks=[TensorBoard(log_dir='./log')])  \n"
   ]
  },
  {
   "cell_type": "code",
   "execution_count": null,
   "id": "8bcc2f07-39b2-499e-bcaa-5fb287259a64",
   "metadata": {},
   "outputs": [],
   "source": [
    "%load_ext tensorboard\n",
    "# %reload_ext tensorboard\n",
    "%tensorboard --logdir ./log"
   ]
  },
  {
   "cell_type": "markdown",
   "id": "7b8afbf2",
   "metadata": {},
   "source": [
    "## Evaluate\n",
    "- epochs=10, Hidden=32, accuracy: 0.8252\n",
    "- epochs=20 (train +10), Hidden=32, accuracy: 0.85\n",
    "- epochs=40, Hidden=32, accuracy: 0.86"
   ]
  },
  {
   "cell_type": "code",
   "execution_count": null,
   "id": "70265107-2a2b-4688-82ab-dd3055d93c51",
   "metadata": {},
   "outputs": [],
   "source": [
    "score = model.evaluate(X_test, y_test, verbose=0)\n",
    "print(\"Test loss:\", score[0])\n",
    "print(f\"Test accuracy: {score[1]:.4f}\")"
   ]
  },
  {
   "cell_type": "code",
   "execution_count": null,
   "id": "0786adeb-b7e4-4998-bf96-c6dba159eb06",
   "metadata": {},
   "outputs": [],
   "source": [
    "y_pred_pr = model.predict(X_test)\n",
    "y_pred_pr[:4]"
   ]
  },
  {
   "cell_type": "code",
   "execution_count": null,
   "id": "a2f67e3e-6b86-4cef-bcd0-1eca9a77bbf6",
   "metadata": {},
   "outputs": [],
   "source": [
    "Image(filename='images/ch09 Tensorflow/DL 20220506 143228.png')"
   ]
  },
  {
   "cell_type": "code",
   "execution_count": null,
   "id": "1408414f",
   "metadata": {},
   "outputs": [],
   "source": [
    "y_pred = (y_pred_pr > 0.5).astype(int)  \n",
    "# y_pred = np.where(y_pred_pr > .5, 1,0)\n",
    "\n",
    "y_pred[:4]"
   ]
  },
  {
   "cell_type": "code",
   "execution_count": null,
   "id": "5caa5897",
   "metadata": {},
   "outputs": [],
   "source": [
    "from sklearn.metrics import classification_report, confusion_matrix\n",
    "\n",
    "print('Score->',score[1])\n",
    "\n",
    "print(classification_report(y_test, y_pred))\n",
    "print(confusion_matrix(y_test, y_pred))"
   ]
  },
  {
   "cell_type": "code",
   "execution_count": null,
   "id": "0db193d2",
   "metadata": {},
   "outputs": [],
   "source": [
    "from sklearn.metrics import confusion_matrix, ConfusionMatrixDisplay\n",
    "\n",
    "cm = confusion_matrix(y_test, y_pred)   ## <-- \n",
    "ConfusionMatrixDisplay(cm, display_labels=class_names).plot()\n",
    "plt.title('Confusion Matrix')\n",
    "plt.show()"
   ]
  },
  {
   "cell_type": "markdown",
   "id": "24c6cbe3",
   "metadata": {},
   "source": [
    "## Decision Regions"
   ]
  },
  {
   "cell_type": "code",
   "execution_count": null,
   "id": "f6d8c1fc-026a-47d1-9a80-8ac54a70b52d",
   "metadata": {},
   "outputs": [],
   "source": [
    "from mlxtend.plotting import plot_decision_regions\n",
    "\n",
    "ax = plot_decision_regions(X_test, y_test, clf=model)\n",
    "\n",
    "handles, labels = ax.get_legend_handles_labels()\n",
    "ax.legend(handles, class_names, framealpha=0.5)\n",
    "\n",
    "plt.title('Breast Cancer:') \n",
    "plt.xticks([])\n",
    "plt.yticks([])\n",
    "plt.xlabel('mean radius')\n",
    "plt.ylabel('mean texture')\n",
    "plt.show()"
   ]
  },
  {
   "cell_type": "markdown",
   "id": "bb71ecd7-8edb-4aba-bd37-a0c1af2d2ccc",
   "metadata": {},
   "source": [
    "## Predict"
   ]
  },
  {
   "cell_type": "code",
   "execution_count": null,
   "id": "b49502ca-bb61-4c8e-80a7-9d98ca2fc1aa",
   "metadata": {},
   "outputs": [],
   "source": [
    "# X_new = [[16.4, 14.1]] #\n",
    "X_new = [[16.4, 14.1],  # \n",
    "         [18.5, 15.1]] #\n",
    "\n",
    "X_new_sc = sc.transform(X_new)\n",
    "X_new_sc"
   ]
  },
  {
   "cell_type": "code",
   "execution_count": null,
   "id": "f27a255f-5eec-4bbb-84c7-040c828c0a14",
   "metadata": {},
   "outputs": [],
   "source": [
    "y_pred_pr = model.predict(X_new_sc)\n",
    "y_pred_pr"
   ]
  },
  {
   "cell_type": "code",
   "execution_count": null,
   "id": "a616d326",
   "metadata": {},
   "outputs": [],
   "source": [
    "y_pred = (y_pred_pr > 0.5).astype(int) \n",
    "y_pred"
   ]
  },
  {
   "cell_type": "code",
   "execution_count": null,
   "id": "37c40d6c",
   "metadata": {},
   "outputs": [],
   "source": [
    "y_pred = y_pred.reshape(1,-1)[0]\n",
    "y_pred"
   ]
  },
  {
   "cell_type": "code",
   "execution_count": null,
   "id": "ae899748",
   "metadata": {},
   "outputs": [],
   "source": [
    "print(class_names[y_pred])"
   ]
  },
  {
   "cell_type": "code",
   "execution_count": null,
   "id": "fe501b9a-4227-4eba-81d6-953139003ebc",
   "metadata": {},
   "outputs": [],
   "source": [
    "from mlxtend.plotting import plot_decision_regions\n",
    "\n",
    "ax = plot_decision_regions(X_test, y_test, clf=model)\n",
    "\n",
    "handles, labels = ax.get_legend_handles_labels()\n",
    "ax.legend(handles, class_names, framealpha=0.5)\n",
    "\n",
    "plt.title('Breast Cancer: New data points')\n",
    "plt.xticks([])\n",
    "plt.yticks([])\n",
    "plt.xlabel('mean radius')\n",
    "plt.ylabel('mean texture')\n",
    "\n",
    "plt.scatter(X_new_sc[:,0][y_pred==0], X_new_sc[:,1][y_pred==0], marker='s', s=200, c='b')\n",
    "plt.scatter(X_new_sc[:,0][y_pred==1], X_new_sc[:,1][y_pred==1], marker='^', s=320, c='r') # \n",
    "\n",
    "plt.show()"
   ]
  },
  {
   "cell_type": "markdown",
   "id": "2705320f-ab6f-413b-b642-1389f6079ae9",
   "metadata": {},
   "source": [
    "# Save Model"
   ]
  },
  {
   "cell_type": "code",
   "execution_count": null,
   "id": "c56cadc9-9671-41f3-a6f8-63be4007e2ea",
   "metadata": {},
   "outputs": [],
   "source": [
    "model.save('./mymodel.h5')"
   ]
  },
  {
   "cell_type": "code",
   "execution_count": null,
   "id": "ba0e2751-526d-451b-a157-28707dabd3cb",
   "metadata": {},
   "outputs": [],
   "source": [
    "model.save('./mymodel1')"
   ]
  },
  {
   "cell_type": "markdown",
   "id": "73f41662-eb5d-4272-8924-8142fccc3c18",
   "metadata": {},
   "source": [
    "# Save Feature Scaler"
   ]
  },
  {
   "cell_type": "code",
   "execution_count": null,
   "id": "e198a3bb-3e6c-4b61-89e3-417278a0362b",
   "metadata": {},
   "outputs": [],
   "source": [
    "import pickle\n",
    "pickle.dump(sc, open('./scaler.pkl','wb'))"
   ]
  },
  {
   "cell_type": "markdown",
   "id": "4ec41f7a-4dd2-430f-8f2a-185700d714bb",
   "metadata": {},
   "source": [
    "# Save Classnames"
   ]
  },
  {
   "cell_type": "code",
   "execution_count": null,
   "id": "e6cbdeee-4d60-4862-879c-d57e8123c0ab",
   "metadata": {},
   "outputs": [],
   "source": [
    "file_name = \"classname.pkl\"\n",
    "\n",
    "open_file = open(file_name, \"wb\")\n",
    "pickle.dump(class_names, open_file)\n",
    "open_file.close()"
   ]
  },
  {
   "cell_type": "code",
   "execution_count": null,
   "id": "4cf10d96-0d47-4192-87d6-b7c42b9671a1",
   "metadata": {},
   "outputs": [],
   "source": [
    "class_names"
   ]
  },
  {
   "cell_type": "code",
   "execution_count": null,
   "id": "b24a3b63-030f-47f1-a751-400243ec947b",
   "metadata": {},
   "outputs": [],
   "source": []
  },
  {
   "cell_type": "markdown",
   "id": "be6934b7-17e3-49ca-8c33-10abf7033e7b",
   "metadata": {},
   "source": [
    "# Load Model & Feature Scaler"
   ]
  },
  {
   "cell_type": "code",
   "execution_count": null,
   "id": "0b839ee7-53c4-482f-8c6a-714e08c6380c",
   "metadata": {},
   "outputs": [],
   "source": [
    "from tensorflow.keras.models import load_model\n",
    "\n",
    "my_model = load_model('./mymodel.h5') "
   ]
  },
  {
   "cell_type": "code",
   "execution_count": null,
   "id": "f6989e65-56a3-4e38-ab42-e837186b0e5f",
   "metadata": {},
   "outputs": [],
   "source": [
    "my_model.summary()"
   ]
  },
  {
   "cell_type": "code",
   "execution_count": null,
   "id": "3fdcb3a9-2d4a-444f-9b50-974bbd681676",
   "metadata": {},
   "outputs": [],
   "source": [
    "from tensorflow.keras.models import load_model\n",
    "\n",
    "new_model = load_model('./mymodel1')"
   ]
  },
  {
   "cell_type": "code",
   "execution_count": null,
   "id": "d5df0261-5353-4315-a7c2-f8f6cce8245f",
   "metadata": {
    "tags": []
   },
   "outputs": [],
   "source": [
    "model = new_model"
   ]
  },
  {
   "cell_type": "code",
   "execution_count": null,
   "id": "4f4ade13-0687-4a91-834f-70857d207352",
   "metadata": {
    "tags": []
   },
   "outputs": [],
   "source": [
    "# List all weight tensors \n",
    "model.get_weights()"
   ]
  },
  {
   "cell_type": "markdown",
   "id": "b6bfba23",
   "metadata": {},
   "source": [
    "# Load Feature Scaler"
   ]
  },
  {
   "cell_type": "code",
   "execution_count": null,
   "id": "71e3fca2-6a2d-45ee-b7ab-f031b971d44e",
   "metadata": {
    "tags": []
   },
   "outputs": [],
   "source": [
    "import pickle\n",
    "sc2 = pickle.load(open('./scaler.pkl','rb'))"
   ]
  },
  {
   "cell_type": "code",
   "execution_count": null,
   "id": "9cf127df-7e44-4d05-89b7-fa03be4e415d",
   "metadata": {
    "tags": []
   },
   "outputs": [],
   "source": [
    "file_name = \"classname.pkl\"\n",
    "open_file = open(file_name, \"rb\")\n",
    "class_names = pickle.load(open_file)\n",
    "open_file.close()\n",
    "\n",
    "class_names"
   ]
  },
  {
   "cell_type": "code",
   "execution_count": null,
   "id": "492488c8-64ff-4659-9514-c05efcc751a3",
   "metadata": {
    "tags": []
   },
   "outputs": [],
   "source": [
    "X_new = [[16.4, 14.1]] # \n",
    "X_new = [[16.4, 14.1],  # \n",
    "         [18.5, 15.1],\n",
    "         [17.7, 18.7]] #\n",
    "\n",
    "X_new_sc = sc2.transform(X_new)"
   ]
  },
  {
   "cell_type": "code",
   "execution_count": null,
   "id": "28dc048f-fe36-499a-94e4-c2fa3c90c79e",
   "metadata": {
    "tags": []
   },
   "outputs": [],
   "source": [
    "y_pred_pr = my_model.predict(X_new_sc)\n",
    "y_pred = (y_pred_pr > 0.5).astype(int) \n",
    "y_pred"
   ]
  },
  {
   "cell_type": "code",
   "execution_count": null,
   "id": "204ddebf-344d-43a9-bd95-918917aa5fbd",
   "metadata": {
    "tags": []
   },
   "outputs": [],
   "source": [
    "print(class_names[y_pred])"
   ]
  },
  {
   "cell_type": "code",
   "execution_count": null,
   "id": "5dbb263e-5e6e-48ea-9cef-d1a607d71794",
   "metadata": {
    "tags": []
   },
   "outputs": [],
   "source": [
    "import matplotlib.pyplot as plt\n",
    "from mlxtend.plotting import plot_decision_regions\n",
    "\n",
    "y = y_pred.reshape(1, -1)[0]\n",
    "\n",
    "ax = plot_decision_regions(X_new_sc, y, clf=my_model)\n",
    "\n",
    "handles, labels = ax.get_legend_handles_labels()\n",
    "ax.legend(handles, class_names, framealpha=0.5)\n",
    "\n",
    "plt.title('Breast Cancer (from saved model)') \n",
    "# plt.xticks([])\n",
    "plt.yticks([])\n",
    "plt.xlabel('mean radius')\n",
    "plt.ylabel('mean texture')\n",
    "\n",
    "plt.scatter(X_new_sc[:,0][y==0], X_new_sc[:,1][y==0], marker='s', s=150, c='b')\n",
    "plt.scatter(X_new_sc[:,0][y==1], X_new_sc[:,1][y==1], marker='^', s=150, c='r')\n",
    "plt.show()"
   ]
  },
  {
   "cell_type": "code",
   "execution_count": null,
   "id": "ec07a2a9",
   "metadata": {},
   "outputs": [],
   "source": []
  },
  {
   "cell_type": "code",
   "execution_count": null,
   "id": "8c4ff977",
   "metadata": {},
   "outputs": [],
   "source": []
  },
  {
   "cell_type": "markdown",
   "id": "b9e862f1",
   "metadata": {},
   "source": [
    "# Summary\n",
    "- Instance Model (create a model)\n",
    "- Add Layers\n",
    "- Compile\n",
    "- Train"
   ]
  },
  {
   "cell_type": "code",
   "execution_count": null,
   "id": "b86f0d8b",
   "metadata": {},
   "outputs": [],
   "source": [
    "from tensorflow.keras import Sequential\n",
    "from tensorflow.keras.layers import Dense\n",
    "\n",
    "model = Sequential()\n",
    "model.add(Dense(32, activation='relu', input_shape=(2,)))     # \n",
    "model.add(Dense(1, activation='sigmoid')) # \n",
    "\n",
    "model.compile(loss='binary_crossentropy',\n",
    "              optimizer='adam',\n",
    "              metrics=['accuracy'])\n",
    "\n",
    "model.fit(X_train, y_train, epochs=40, verbose=1, batch_size=32, validation_split=0.25)  \n",
    "# verbose=1 with progrss bar\n",
    "# history = model.fit(X_train, y_train, epochs=40, verbose=1, batch_size=32, validation_split=0.25)"
   ]
  },
  {
   "cell_type": "code",
   "execution_count": null,
   "id": "42628879",
   "metadata": {},
   "outputs": [],
   "source": [
    "# ดูสรุป model\n",
    "\n",
    "model.summary()\n",
    "\n",
    "model.output_shape\n",
    "\n",
    "model.get_config()\n",
    "\n",
    "from tensorflow.keras.utils import plot_model\n",
    "plot_model(model, show_shapes=True, show_layer_names=True)   # plot model structure\n"
   ]
  }
 ],
 "metadata": {
  "kernelspec": {
   "display_name": "Python 3 (ipykernel)",
   "language": "python",
   "name": "python3"
  },
  "language_info": {
   "codemirror_mode": {
    "name": "ipython",
    "version": 3
   },
   "file_extension": ".py",
   "mimetype": "text/x-python",
   "name": "python",
   "nbconvert_exporter": "python",
   "pygments_lexer": "ipython3",
   "version": "3.10.4"
  }
 },
 "nbformat": 4,
 "nbformat_minor": 5
}
