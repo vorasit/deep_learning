{
 "cells": [
  {
   "cell_type": "markdown",
   "id": "c0f8a5d8-5e5b-451a-bda5-b63ddb6cdfac",
   "metadata": {
    "tags": []
   },
   "source": [
    "# Load ใช้งาน Model \n"
   ]
  },
  {
   "cell_type": "code",
   "execution_count": null,
   "id": "f4e43c2e-70c3-4e88-a599-5962828489a8",
   "metadata": {},
   "outputs": [],
   "source": [
    "from tensorflow.keras.models import load_model\n",
    "\n",
    "my_model = load_model('./mymodel.h5') "
   ]
  },
  {
   "cell_type": "code",
   "execution_count": null,
   "id": "fb85a56f-1a3f-4619-8a28-ec69243b7421",
   "metadata": {},
   "outputs": [],
   "source": [
    "my_model.summary()"
   ]
  },
  {
   "cell_type": "code",
   "execution_count": null,
   "id": "194958e8",
   "metadata": {},
   "outputs": [],
   "source": [
    "my_model.get_config()"
   ]
  },
  {
   "cell_type": "code",
   "execution_count": null,
   "id": "5f48762c",
   "metadata": {},
   "outputs": [],
   "source": [
    "my_model.get_weights()"
   ]
  },
  {
   "cell_type": "code",
   "execution_count": null,
   "id": "0fc57b8f",
   "metadata": {},
   "outputs": [],
   "source": [
    "from tensorflow.keras.utils import plot_model\n",
    "\n",
    "plot_model(my_model, show_shapes=True, show_layer_names=True)"
   ]
  },
  {
   "cell_type": "markdown",
   "id": "c3fc1c03-7d7c-4981-9bdb-f4de81b98532",
   "metadata": {
    "tags": []
   },
   "source": [
    "## Load Feature Scaler"
   ]
  },
  {
   "cell_type": "code",
   "execution_count": null,
   "id": "ab775017-fd4d-4a51-bd40-420873010148",
   "metadata": {},
   "outputs": [],
   "source": [
    "import pickle\n",
    "\n",
    "sc2 = pickle.load(open('./scaler.pkl','rb'))"
   ]
  },
  {
   "cell_type": "markdown",
   "id": "32e091dd",
   "metadata": {},
   "source": [
    "## Load Classnames"
   ]
  },
  {
   "cell_type": "code",
   "execution_count": null,
   "id": "42692886-3e89-44cc-a602-b302a7e09a31",
   "metadata": {},
   "outputs": [],
   "source": [
    "file_name = \"classname.pkl\"\n",
    "open_file = open(file_name, \"rb\")\n",
    "class_names = pickle.load(open_file)\n",
    "open_file.close()\n",
    "\n",
    "class_names"
   ]
  },
  {
   "cell_type": "markdown",
   "id": "1ce75674",
   "metadata": {},
   "source": [
    "## Prediction"
   ]
  },
  {
   "cell_type": "code",
   "execution_count": null,
   "id": "6fc1b573",
   "metadata": {},
   "outputs": [],
   "source": [
    "# X_new = [[16.4, 14.1]] # \n",
    "X_new = [[16.4, 14.1],  # \n",
    "         [18.5, 15.1],\n",
    "         [17.7, 18.7]] #\n",
    "\n",
    "X_new_sc = sc2.transform(X_new)\n",
    "X_new_sc"
   ]
  },
  {
   "cell_type": "code",
   "execution_count": null,
   "id": "b8cd16d1",
   "metadata": {},
   "outputs": [],
   "source": [
    "y_pred_pr = my_model.predict(X_new_sc)\n",
    "y_pred = (y_pred_pr > 0.5).astype(int) \n",
    "y_pred"
   ]
  },
  {
   "cell_type": "code",
   "execution_count": null,
   "id": "2beb0960",
   "metadata": {},
   "outputs": [],
   "source": [
    "y_pred = y_pred.reshape(1,-1)[0]\n",
    "y_pred"
   ]
  },
  {
   "cell_type": "code",
   "execution_count": null,
   "id": "1bddf5a5",
   "metadata": {},
   "outputs": [],
   "source": [
    "print(class_names[y_pred])"
   ]
  },
  {
   "cell_type": "markdown",
   "id": "0bc2403d",
   "metadata": {},
   "source": [
    "## Decision Regions"
   ]
  },
  {
   "cell_type": "code",
   "execution_count": null,
   "id": "4842eac9",
   "metadata": {},
   "outputs": [],
   "source": [
    "import matplotlib.pyplot as plt\n",
    "from mlxtend.plotting import plot_decision_regions\n",
    "\n",
    "y = y_pred\n",
    "ax = plot_decision_regions(X_new_sc, y, clf=my_model)\n",
    "\n",
    "handles, labels = ax.get_legend_handles_labels()\n",
    "ax.legend(handles, class_names, framealpha=0.5)\n",
    "\n",
    "plt.title('Breast Cancer (from saved model)') \n",
    "# plt.xticks([])\n",
    "plt.yticks([])\n",
    "plt.xlabel('mean radius')\n",
    "plt.ylabel('mean texture')\n",
    "\n",
    "plt.scatter(X_new_sc[:,0][y==0], X_new_sc[:,1][y==0], marker='s', s=150, c='b')\n",
    "plt.scatter(X_new_sc[:,0][y==1], X_new_sc[:,1][y==1], marker='^', s=150, c='r')\n",
    "plt.show()"
   ]
  },
  {
   "cell_type": "code",
   "execution_count": null,
   "id": "603bee9e-1fdd-4ad7-8c5d-ea5964914b9a",
   "metadata": {},
   "outputs": [],
   "source": []
  }
 ],
 "metadata": {
  "kernelspec": {
   "display_name": "Python 3 (ipykernel)",
   "language": "python",
   "name": "python3"
  },
  "language_info": {
   "codemirror_mode": {
    "name": "ipython",
    "version": 3
   },
   "file_extension": ".py",
   "mimetype": "text/x-python",
   "name": "python",
   "nbconvert_exporter": "python",
   "pygments_lexer": "ipython3",
   "version": "3.10.4"
  }
 },
 "nbformat": 4,
 "nbformat_minor": 5
}
