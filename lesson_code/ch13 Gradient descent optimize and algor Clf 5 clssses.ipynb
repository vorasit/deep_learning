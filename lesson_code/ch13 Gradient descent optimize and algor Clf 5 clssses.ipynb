{
 "cells": [
  {
   "cell_type": "markdown",
   "id": "ba5f402f-d3e8-447e-8498-f8b708b1736a",
   "metadata": {},
   "source": [
    "# ANN Classify 5 classes using Sparse categorical-entropy\n",
    "- class: horse, bird, fish, cat & dog\n",
    "- loss: compile(loss='sparse_categorical_crossentropy', .. )"
   ]
  },
  {
   "cell_type": "code",
   "execution_count": null,
   "id": "ac3a43a8-e6f4-447a-a692-c8b1c8400c99",
   "metadata": {},
   "outputs": [],
   "source": [
    "from sklearn.datasets import make_blobs\n",
    "import matplotlib.pyplot as plt\n",
    "import seaborn as sns\n",
    "import pandas as pd\n",
    "import numpy as np"
   ]
  },
  {
   "cell_type": "markdown",
   "id": "763a0f29-c5ce-41f7-941d-2afb5659f86c",
   "metadata": {},
   "source": [
    "## Dataset"
   ]
  },
  {
   "cell_type": "code",
   "execution_count": null,
   "id": "fec3771c-2ff5-4abb-9507-b1ec32295a19",
   "metadata": {},
   "outputs": [],
   "source": [
    "# Gen Dataset 1\n",
    "X, y = make_blobs(n_samples=1000, centers=5, n_features=2, cluster_std=1.1, random_state=1)"
   ]
  },
  {
   "cell_type": "code",
   "execution_count": null,
   "id": "e4f09463-cc73-48ab-996b-1e1ba0e1d6ab",
   "metadata": {},
   "outputs": [],
   "source": [
    "# Dataset 2\n",
    "# X, y = make_blobs(n_samples=1000, centers=5, n_features=2, cluster_std=1.8, random_state=1)"
   ]
  },
  {
   "cell_type": "code",
   "execution_count": null,
   "id": "b323de2a-79fe-47d8-8ee8-4531dd1a7dea",
   "metadata": {},
   "outputs": [],
   "source": [
    "X_df = pd.DataFrame(X, columns=['weight', 'height'])\n",
    "y_df = pd.DataFrame(y, columns=['class'])\n",
    "\n",
    "df = pd.concat([X_df, y_df], axis=1)   # \n",
    "\n",
    "target_map = {0:'horse', 1:'bird', 2:'fish', 3:'cat',4:'dog'}  # target (class)\n",
    "df['class'] = df['class'].map(target_map)\n",
    "\n",
    "# df.head()\n",
    "df.sample(5, random_state=100)"
   ]
  },
  {
   "cell_type": "code",
   "execution_count": null,
   "id": "4af17b71-428a-414b-accb-b9554fc24df7",
   "metadata": {},
   "outputs": [],
   "source": [
    "sns.scatterplot(x='weight', y='height', data=df, s=70,\n",
    "                hue=df['class'], style=df['class'])\n",
    "\n",
    "plt.title('Scatter Plot')\n",
    "plt.xticks([])\n",
    "plt.yticks([])\n",
    "plt.show()"
   ]
  },
  {
   "cell_type": "code",
   "execution_count": null,
   "id": "ea99587d-c4be-4a34-b902-5caa08dddc64",
   "metadata": {},
   "outputs": [],
   "source": [
    "sns.pairplot(df, hue='class')\n",
    "plt.show()"
   ]
  },
  {
   "cell_type": "code",
   "execution_count": null,
   "id": "c327d274-d73d-4211-9a89-9cd944a78839",
   "metadata": {},
   "outputs": [],
   "source": [
    "# Label Encoding\n",
    "class_names, y = np.unique(df['class'], return_inverse=True)\n",
    "class_names"
   ]
  },
  {
   "cell_type": "code",
   "execution_count": null,
   "id": "53cdcefe-a62b-4c2a-9dcf-709f56cd387f",
   "metadata": {},
   "outputs": [],
   "source": [
    "y[:10]"
   ]
  },
  {
   "cell_type": "code",
   "execution_count": null,
   "id": "ce114940-5ec3-4ad8-a8bb-8b29107fbd44",
   "metadata": {},
   "outputs": [],
   "source": [
    "X = df.drop('class', axis=1)\n",
    "X.head()"
   ]
  },
  {
   "cell_type": "code",
   "execution_count": null,
   "id": "9aab4e5f-1555-48db-8bfb-48a0f7d3ad39",
   "metadata": {},
   "outputs": [],
   "source": [
    "from sklearn.preprocessing import StandardScaler\n",
    "\n",
    "sc = StandardScaler()\n",
    "X_sc = sc.fit_transform(X)\n",
    "X_sc[:4]"
   ]
  },
  {
   "cell_type": "code",
   "execution_count": null,
   "id": "21a9994a-b07a-4e57-b190-87888a3b92ff",
   "metadata": {},
   "outputs": [],
   "source": [
    "from sklearn.model_selection import train_test_split\n",
    "\n",
    "X_train, X_test, y_train, y_test = train_test_split(X_sc, y, test_size=0.25, random_state=1) #\n",
    "\n",
    "X_train.shape, X_test.shape"
   ]
  },
  {
   "cell_type": "code",
   "execution_count": null,
   "id": "33a59cd4-e4c6-498b-a340-5dbbab6c6b7b",
   "metadata": {},
   "outputs": [],
   "source": [
    "y_train.shape"
   ]
  },
  {
   "cell_type": "code",
   "execution_count": null,
   "id": "aba6c532-1d53-4fb1-b448-8cb401402a4c",
   "metadata": {},
   "outputs": [],
   "source": [
    "y_train[:10]"
   ]
  },
  {
   "cell_type": "markdown",
   "id": "bc2b11f1-0a71-4294-8e63-72d83860e9f1",
   "metadata": {},
   "source": [
    "## Model"
   ]
  },
  {
   "cell_type": "code",
   "execution_count": null,
   "id": "4100bdd0-6b5f-49b4-9e3a-ec2242cd42a8",
   "metadata": {},
   "outputs": [],
   "source": [
    "from tensorflow.keras import Sequential\n",
    "from tensorflow.keras.layers import Dense \n",
    "\n",
    "# Case 1\n",
    "model = Sequential()\n",
    "\n",
    "model.add(Dense(100, activation='relu', input_shape=(2,)))  # features: 2 attributes  # \n",
    "\n",
    "model.add(Dense(5, activation='softmax'))  # สำหรับ 5 classes"
   ]
  },
  {
   "cell_type": "code",
   "execution_count": null,
   "id": "69f525fe-555c-44c8-9b1e-128aa343d8a1",
   "metadata": {},
   "outputs": [],
   "source": [
    "# Case 2\n",
    "# model = Sequential()\n",
    "\n",
    "# model.add(Dense(100, activation='relu', input_shape=(2,)))  # features: 2 attributes  # \n",
    "# model.add(Dense(64, activation='relu'))\n",
    "# model.add(Dense(64, activation='relu'))\n",
    "\n",
    "# model.add(Dense(5, activation='softmax'))  # สำหรับ 5 classes"
   ]
  },
  {
   "cell_type": "code",
   "execution_count": null,
   "id": "b6792025-d066-4d9a-9051-92d08cd9f84e",
   "metadata": {},
   "outputs": [],
   "source": [
    "model.summary()"
   ]
  },
  {
   "cell_type": "markdown",
   "id": "c604ddea-8b6f-41de-8b02-e7eea71663e7",
   "metadata": {},
   "source": [
    "## SGD"
   ]
  },
  {
   "cell_type": "code",
   "execution_count": null,
   "id": "f89280de-488e-4e5a-bd7f-7b56c7cdc19a",
   "metadata": {},
   "outputs": [],
   "source": [
    "# No momentum\n",
    "opt_name = 'SGD No Momentum'\n",
    "\n",
    "model.compile(loss='sparse_categorical_crossentropy', \n",
    "              optimizer='SGD', \n",
    "              metrics=['accuracy'])"
   ]
  },
  {
   "cell_type": "code",
   "execution_count": null,
   "id": "f217c788-bf4c-4a23-b603-f4e3ba5cf3b5",
   "metadata": {},
   "outputs": [],
   "source": [
    "# With momentum\n",
    "opt_name = 'SGD with Momentum'\n",
    "\n",
    "import tensorflow as tf\n",
    "opt = tf.keras.optimizers.SGD(learning_rate=0.01, momentum=0.9)\n",
    "model.compile(loss='sparse_categorical_crossentropy', \n",
    "              optimizer=opt, \n",
    "              metrics=['accuracy'])"
   ]
  },
  {
   "cell_type": "markdown",
   "id": "acaa369d-8700-4b95-b246-340ec3d78a8d",
   "metadata": {},
   "source": [
    "## RMSProp"
   ]
  },
  {
   "cell_type": "code",
   "execution_count": null,
   "id": "86a8c00f-819d-48c2-9182-16cee9bc9786",
   "metadata": {},
   "outputs": [],
   "source": [
    "opt_name = 'RMSProp'\n",
    "\n",
    "model.compile(loss='sparse_categorical_crossentropy', \n",
    "              optimizer='RMSprop', \n",
    "              metrics=['accuracy'])"
   ]
  },
  {
   "cell_type": "markdown",
   "id": "d761d79b-30df-4612-816f-ad3cbdb48812",
   "metadata": {},
   "source": [
    "## Adam"
   ]
  },
  {
   "cell_type": "code",
   "execution_count": null,
   "id": "5d11999e-5ec8-42f6-b168-f62b15f58fb4",
   "metadata": {},
   "outputs": [],
   "source": [
    "opt_name = 'Adam'\n",
    "\n",
    "model.compile(loss='sparse_categorical_crossentropy',    # <<---\n",
    "             optimizer='adam', \n",
    "             metrics=['accuracy'])"
   ]
  },
  {
   "cell_type": "markdown",
   "id": "e9001b54-ae29-4c58-8de2-b8a3a2705b27",
   "metadata": {},
   "source": [
    "## Train & Eval"
   ]
  },
  {
   "cell_type": "code",
   "execution_count": null,
   "id": "aaacc351-df9a-43e9-b3c2-f4e27df8b6e5",
   "metadata": {},
   "outputs": [],
   "source": [
    "import time\n",
    "\n",
    "start = time.time()\n",
    "history = model.fit(X_train, y_train, epochs=20, batch_size=32, verbose=0, validation_split=0.25) # no1\n",
    "end = time.time()\n",
    "\n",
    "print(f\"Time Taken {end - start:.2f} secs\")"
   ]
  },
  {
   "cell_type": "code",
   "execution_count": null,
   "id": "f7f870b4-b776-4c1e-ab26-6a30cb6d0071",
   "metadata": {},
   "outputs": [],
   "source": [
    "score = model.evaluate(X_test, y_test, verbose=0)\n",
    "\n",
    "print(\"Test loss:\", score[0])\n",
    "print(f\"Test accuracy: {score[1]:.4f}\")"
   ]
  },
  {
   "cell_type": "markdown",
   "id": "97200800-3c61-4a51-bca8-3ee5a113d5f7",
   "metadata": {},
   "source": [
    "## Results\n",
    "- SGD without Momentum: accuracy=65 - 75 %\n",
    "- SGD with Momentum: accuracy=86-97 %\n",
    "- RMSProp: accuracy=84-95 %\n",
    "- Adam: accuracy=85-95 %"
   ]
  },
  {
   "cell_type": "markdown",
   "id": "50d130bf-d3f4-4675-a9a2-2a75a81b3bc2",
   "metadata": {},
   "source": [
    "## Loss and Accuracy Curves"
   ]
  },
  {
   "cell_type": "code",
   "execution_count": null,
   "id": "669909b9-e5fd-46a9-8a1d-1b461b3de111",
   "metadata": {},
   "outputs": [],
   "source": [
    "# 2 Columns\n",
    "\n",
    "def loss_acc_plot():\n",
    "\n",
    "    plt.figure(figsize=(12, 4))\n",
    "\n",
    "    plt.subplot(1, 2, 1)   # row column index\n",
    "    plt.plot(history.history['loss'], '--', c='b', lw=2, label='Trainning')\n",
    "    plt.plot(history.history['val_loss'], c='r', lw=3, label='Validation')\n",
    "    plt.title('Loss Curve : ' + opt_name)\n",
    "    plt.legend()\n",
    "    plt.xlabel('Epoch')\n",
    "    plt.ylabel('Loss')\n",
    "\n",
    "    plt.subplot(1, 2, 2)   # row column index\n",
    "    plt.plot(history.history['accuracy'], '--', c='b', lw=2, label='Trainning')\n",
    "    plt.plot(history.history['val_accuracy'], c='r', lw=3, label='Validation')\n",
    "    plt.xlabel('Epoch')\n",
    "    plt.ylabel('Score')\n",
    "    plt.legend()\n",
    "    plt.title('Accuracy Curve : ' + opt_name)\n",
    "    plt.show()"
   ]
  },
  {
   "cell_type": "code",
   "execution_count": null,
   "id": "ee7c389c-b382-4d08-b843-6c061d24c97a",
   "metadata": {},
   "outputs": [],
   "source": [
    "# Loss and Accuracy Plots\n",
    "loss_acc_plot()     "
   ]
  },
  {
   "cell_type": "code",
   "execution_count": null,
   "id": "bb6f617b-cd2c-49a5-86ab-9c1a36fa5313",
   "metadata": {},
   "outputs": [],
   "source": [
    "# 2 Columns\n",
    "\n",
    "# opt_name = model.optimizer.get_config()[\"name\"]\n",
    "\n",
    "plt.figure(figsize=(12, 4))\n",
    "\n",
    "plt.subplot(1, 2, 1)   # row column index\n",
    "plt.plot(history.history['loss'], '--', c='b', lw=2, label='Trainning')\n",
    "plt.plot(history.history['val_loss'], c='r', lw=3, label='Validation')\n",
    "plt.title('Loss Curve : ' + opt_name)\n",
    "plt.legend()\n",
    "plt.xlabel('Epoch')\n",
    "plt.ylabel('Loss')\n",
    "\n",
    "plt.subplot(1, 2, 2)   # row column index\n",
    "plt.plot(history.history['accuracy'], '--', c='b', lw=2, label='Trainning')\n",
    "plt.plot(history.history['val_accuracy'], c='r', lw=3, label='Validation')\n",
    "plt.xlabel('Epoch')\n",
    "plt.ylabel('Score')\n",
    "plt.legend()\n",
    "plt.title('Accuracy Curve : ' + opt_name)\n",
    "plt.show()"
   ]
  },
  {
   "cell_type": "code",
   "execution_count": null,
   "id": "8506e415-1ed1-4460-82ea-5f47cef1ec4f",
   "metadata": {},
   "outputs": [],
   "source": []
  },
  {
   "cell_type": "markdown",
   "id": "46ff3094-cb0d-499f-8f80-b57c4f7d2ab4",
   "metadata": {},
   "source": [
    "## Predict"
   ]
  },
  {
   "cell_type": "code",
   "execution_count": null,
   "id": "de97c60e-7431-453b-9387-75c56238003a",
   "metadata": {},
   "outputs": [],
   "source": [
    "y_pred = model.predict(X_test)\n",
    "\n",
    "y_pred[:4]\n",
    "y_pred[:4].round(3)"
   ]
  },
  {
   "cell_type": "code",
   "execution_count": null,
   "id": "0ba6e86f-4c84-4c70-b291-c08d7932bee7",
   "metadata": {},
   "outputs": [],
   "source": [
    "Image(filename='images/ch11 TF Iris/DL 20220515 121011.png')"
   ]
  },
  {
   "cell_type": "code",
   "execution_count": null,
   "id": "2dc8aea2-f628-4755-952a-39f1af9842b2",
   "metadata": {},
   "outputs": [],
   "source": [
    "y_pred_cat = np.argmax(y_pred, axis=1)\n",
    "y_pred_cat[:4]"
   ]
  },
  {
   "cell_type": "code",
   "execution_count": null,
   "id": "0a6fa763-e0f3-44d9-a630-465819a09e0b",
   "metadata": {},
   "outputs": [],
   "source": [
    "class_names[y_pred_cat[:4]]"
   ]
  },
  {
   "cell_type": "code",
   "execution_count": null,
   "id": "f8463fdc-0f5c-4759-9810-0b1d908bff25",
   "metadata": {},
   "outputs": [],
   "source": []
  },
  {
   "cell_type": "markdown",
   "id": "61f516d5-2c3c-4ce7-ade0-824aa63cbef5",
   "metadata": {},
   "source": [
    "## Confusion Matrix"
   ]
  },
  {
   "cell_type": "code",
   "execution_count": null,
   "id": "9df8f369-5bf5-4661-9e38-ea87ff6317c0",
   "metadata": {},
   "outputs": [],
   "source": [
    "from sklearn.metrics import confusion_matrix, ConfusionMatrixDisplay\n",
    "\n",
    "cm = confusion_matrix(y_test, y_pred_cat)   ## <-- \n",
    "ConfusionMatrixDisplay(cm, display_labels=class_names).plot()\n",
    "plt.title('Confusion Matrix')\n",
    "plt.show()"
   ]
  },
  {
   "cell_type": "markdown",
   "id": "d94be458-e551-4ba3-b06d-65114d9c103e",
   "metadata": {},
   "source": [
    "## Decision Regions **"
   ]
  },
  {
   "cell_type": "code",
   "execution_count": null,
   "id": "4d6309d9-3b31-4327-b025-5ca758cdd810",
   "metadata": {},
   "outputs": [],
   "source": [
    "# return เปลี่ยนผล Predict 5 columns (Propability) -> output class (integer) \n",
    "class Onehot2Int(object):\n",
    "    def __init__(self, model):\n",
    "        self.model = model\n",
    "\n",
    "    def predict(self, X):\n",
    "        y_pred = self.model.predict(X)\n",
    "        return np.argmax(y_pred, axis=1)\n",
    "\n",
    "model_no_ohe = Onehot2Int(model)    "
   ]
  },
  {
   "cell_type": "code",
   "execution_count": null,
   "id": "af25c4c6-2009-4f02-ae15-fce26cbd3bdc",
   "metadata": {},
   "outputs": [],
   "source": [
    "# Training set\n",
    "from mlxtend.plotting import plot_decision_regions\n",
    "\n",
    "plt.figure(figsize=(12, 9))\n",
    "ax = plot_decision_regions(X_train, y_train, clf=model_no_ohe,\n",
    "                          zoom_factor=4.)\n",
    "\n",
    "handles, labels = ax.get_legend_handles_labels()\n",
    "ax.legend(handles, class_names, framealpha=0.5)\n",
    "\n",
    "plt.title(f'Model Regions - {opt_name}: Training set') \n",
    "plt.xticks([])\n",
    "plt.yticks([])\n",
    "plt.xlabel('weight')\n",
    "plt.ylabel('height')\n",
    "plt.show()"
   ]
  },
  {
   "cell_type": "code",
   "execution_count": null,
   "id": "de45e4ae-c6a2-49a8-aeba-fb67c1254f73",
   "metadata": {},
   "outputs": [],
   "source": [
    "# Test set\n",
    "from mlxtend.plotting import plot_decision_regions\n",
    "\n",
    "plt.figure(figsize=(12, 9))\n",
    "ax = plot_decision_regions(X_test, y_test, clf=model_no_ohe,\n",
    "                          zoom_factor=4.)\n",
    "\n",
    "handles, labels = ax.get_legend_handles_labels()\n",
    "ax.legend(handles, class_names, framealpha=0.5)\n",
    "\n",
    "# plt.title('Model Regions: Test set') \n",
    "plt.title(f'Model Regions - {opt_name}: Test set') \n",
    "plt.xticks([])\n",
    "plt.yticks([])\n",
    "plt.xlabel('weight')\n",
    "plt.ylabel('height')\n",
    "plt.show()"
   ]
  },
  {
   "cell_type": "code",
   "execution_count": null,
   "id": "be8f5494-3eda-4a49-9fc3-2cdf0779db6e",
   "metadata": {},
   "outputs": [],
   "source": []
  },
  {
   "cell_type": "code",
   "execution_count": null,
   "id": "883ceca9-6fc6-4567-ac78-afc883459af6",
   "metadata": {},
   "outputs": [],
   "source": [
    "# Gen dataset; Features=2\n",
    "X, y = make_blobs(n_samples=2000, centers=6, n_features=2, cluster_std=1.1, random_state=1)"
   ]
  },
  {
   "cell_type": "code",
   "execution_count": null,
   "id": "3279c9bd-6ab2-4eae-990c-02b39ea661d3",
   "metadata": {},
   "outputs": [],
   "source": [
    "# Gen dataset; Features=3\n",
    "X, y = make_blobs(n_samples=1200, centers=6, n_features=3, cluster_std=1.1, random_state=1)\n",
    "\n",
    "X_df = pd.DataFrame(X, columns=['weight', 'height', 'feature3'])\n",
    "y_df = pd.DataFrame(y, columns=['class'])\n",
    "\n",
    "df = pd.concat([X_df, y_df], axis=1)   # รวม X_df และ y_df เข้าด้วยกัน \n",
    "\n",
    "target_map = {0:'horse', 1:'bird', 2:'fish', 3:'cat',4:'dog', 5:'class5'}  # target (class)\n",
    "df['class'] = df['class'].map(target_map)"
   ]
  },
  {
   "cell_type": "code",
   "execution_count": null,
   "id": "f9e310d6-6b82-491f-9755-30f8e2f8ccfe",
   "metadata": {},
   "outputs": [],
   "source": [
    "model = Sequential()\n",
    "\n",
    "model.add(Dense(128, activation='relu', input_shape=(3,)))  # features: 3 attributes  # 100\n",
    "model.add(Dense(64, activation='relu'))\n",
    "model.add(Dense(32, activation='relu'))\n",
    "\n",
    "\n",
    "model.add(Dense(6, activation='softmax'))  # สำหรับ 6 classes"
   ]
  },
  {
   "cell_type": "code",
   "execution_count": null,
   "id": "7acc4cff-99d9-41e5-bc36-cd42ae05ea2b",
   "metadata": {},
   "outputs": [],
   "source": [
    "# สำหรับ 3 features\n",
    "from mlxtend.plotting import plot_decision_regions\n",
    "\n",
    "value = 0\n",
    "width = 5.5\n",
    "\n",
    "ax = plot_decision_regions(X_test, y_test,\n",
    "                    clf=model_no_ohe, feature_index=[0, 1],  \n",
    "                    filler_feature_values={2: value},\n",
    "                    filler_feature_ranges={2: width},\n",
    "                    legend=2)\n",
    "\n",
    "handles, labels = ax.get_legend_handles_labels()\n",
    "ax.legend(handles, class_names, framealpha=0.5)\n",
    "\n",
    "plt.title('Decision Regions')\n",
    "# plt.xticks([])\n",
    "plt.yticks([])\n",
    "plt.xlabel('petal_length')\n",
    "plt.ylabel('petal_width')\n",
    "\n",
    "plt.show()"
   ]
  },
  {
   "cell_type": "code",
   "execution_count": null,
   "id": "0cbc4dc8-3eae-4202-a428-9247512ba1f7",
   "metadata": {},
   "outputs": [],
   "source": [
    "# PCA (Principal component analysis)  Project datapoints 3 features to 2 มิติ\n",
    "from sklearn.decomposition import PCA\n",
    "from sklearn.neural_network import MLPClassifier\n",
    "\n",
    "pca = PCA(n_components=2)\n",
    "\n",
    "X_pca = pca.fit_transform(X_sc)\n",
    "X_train, X_test,y_train,y_test = train_test_split(X_pca, y, test_size=0.25, random_state=20)  # 20 1\n",
    "\n",
    "model = Sequential()\n",
    "\n",
    "model.add(Dense(128, activation='relu', input_shape=(2,)))  # features: 2 attributes  # 100\n",
    "model.add(Dense(64, activation='relu'))\n",
    "\n",
    "model.add(Dense(6, activation='softmax'))\n",
    "\n",
    "model.compile(loss='sparse_categorical_crossentropy',    # <<---\n",
    "             optimizer='adam', \n",
    "             metrics=['accuracy'])\n",
    "\n",
    "history = model.fit(X_train, y_train, epochs=50, batch_size=32, verbose=0, validation_split=0.25) # no1\n",
    "\n",
    "class Onehot2Int(object):\n",
    "    def __init__(self, model):\n",
    "        self.model = model\n",
    "\n",
    "    def predict(self, X):\n",
    "        y_pred = self.model.predict(X)\n",
    "        return np.argmax(y_pred, axis=1)\n",
    "\n",
    "model_no_ohe = Onehot2Int(model)  \n",
    "\n",
    "from mlxtend.plotting import plot_decision_regions\n",
    "ax = plot_decision_regions(X_train, y_train, clf=model_no_ohe,\n",
    "                          zoom_factor=1.)\n",
    "\n",
    "handles, labels = ax.get_legend_handles_labels()\n",
    "ax.legend(handles, class_names, framealpha=0.5)\n",
    "\n",
    "plt.title('Model Regions') \n",
    "plt.xticks([])\n",
    "plt.yticks([])\n",
    "plt.xlabel('PCA1')\n",
    "plt.ylabel('PCA2')\n",
    "plt.show()\n"
   ]
  },
  {
   "cell_type": "markdown",
   "id": "96f0392f-940c-4fff-8ae6-a33e318d9bc6",
   "metadata": {},
   "source": [
    "# Overfitting: Train-test set \n",
    "without L1,L2"
   ]
  },
  {
   "cell_type": "code",
   "execution_count": null,
   "id": "88acb944-f0a3-456e-b660-d16f34bae81f",
   "metadata": {},
   "outputs": [],
   "source": [
    "X, y = make_blobs(n_samples=300, centers=5, n_features=2, cluster_std=1.5, random_state=1)\n",
    "\n",
    "X_df = pd.DataFrame(X, columns=['weight', 'height'])\n",
    "y_df = pd.DataFrame(y, columns=['class'])\n",
    "\n",
    "df = pd.concat([X_df, y_df], axis=1)   # รวม X_df และ y_df เข้าด้วยกัน \n",
    "\n",
    "target_map = {0:'horse', 1:'bird', 2:'fish', 3:'cat',4:'dog'}  # target (class)\n",
    "df['class'] = df['class'].map(target_map)\n",
    "\n",
    "# Label Encoding\n",
    "class_names, y = np.unique(df['class'], return_inverse=True)\n",
    "class_names\n",
    "\n",
    "# df.head()\n",
    "df.sample(5, random_state=100)\n",
    "\n",
    "X = df.drop('class', axis=1)\n",
    "X.head()\n",
    "\n",
    "from sklearn.preprocessing import StandardScaler\n",
    "sc = StandardScaler()\n",
    "X_sc = sc.fit_transform(X)\n",
    "X_sc[:4]\n",
    "\n",
    "from sklearn.model_selection import train_test_split\n",
    "X_train, X_test, y_train, y_test = train_test_split(X_sc, y, test_size=0.25, random_state=1) #\n",
    "\n",
    "X_train.shape, X_test.shape"
   ]
  },
  {
   "cell_type": "code",
   "execution_count": null,
   "id": "6a53f822-dd32-462c-83a9-51d0166021b1",
   "metadata": {},
   "outputs": [],
   "source": [
    "opt_name = ''\n",
    "model = Sequential()\n",
    "\n",
    "model.add(Dense(256, activation='relu', input_shape=(2,)))  \n",
    "model.add(Dense(128, activation='relu'))  # \n",
    "model.add(Dense(64, activation='relu'))   # \n",
    "\n",
    "model.add(Dense(5, activation='softmax'))"
   ]
  },
  {
   "cell_type": "markdown",
   "id": "1da05097-5be4-4635-b973-c633d92e3c37",
   "metadata": {},
   "source": [
    "## Compile Train and Eval **"
   ]
  },
  {
   "cell_type": "code",
   "execution_count": null,
   "id": "fb4dca13-5718-4215-bc1c-79b2a4831610",
   "metadata": {},
   "outputs": [],
   "source": [
    "model.compile(loss='sparse_categorical_crossentropy',    # <<---\n",
    "             optimizer='adam', \n",
    "             metrics=['accuracy'])"
   ]
  },
  {
   "cell_type": "code",
   "execution_count": null,
   "id": "ea376bc7-efbf-4951-b8d3-527f4c9e9c2b",
   "metadata": {},
   "outputs": [],
   "source": [
    "import time\n",
    "\n",
    "start = time.time()\n",
    "history = model.fit(X_train, y_train, epochs=1000, batch_size=256, verbose=0, \n",
    "                    validation_data=(X_test, y_test)) \n",
    "# history = model.fit(X_train, y_train, epochs=1000, batch_size=256, verbose=0, \n",
    "#                     validation_split=0.25) \n",
    "end = time.time()\n",
    "\n",
    "print(f\"Time Taken {end - start:.2f} secs\")"
   ]
  },
  {
   "cell_type": "code",
   "execution_count": null,
   "id": "f39bb1e7-5881-4073-9420-998d4d036ee5",
   "metadata": {},
   "outputs": [],
   "source": [
    "score = model.evaluate(X_test, y_test, verbose=0)\n",
    "\n",
    "print(\"Test loss:\", score[0])\n",
    "print(f\"Test accuracy: {score[1]:.4f}\")"
   ]
  },
  {
   "cell_type": "markdown",
   "id": "722548cd-50a8-4fc8-bb30-fa1b9b189943",
   "metadata": {},
   "source": [
    "## Loss and Accuracy Curves"
   ]
  },
  {
   "cell_type": "code",
   "execution_count": null,
   "id": "ebba9228-8a92-42aa-b343-622fbebada1e",
   "metadata": {},
   "outputs": [],
   "source": [
    "loss_acc_plot()"
   ]
  },
  {
   "cell_type": "markdown",
   "id": "d3147c81-31b0-404c-9474-a3f11e4445b9",
   "metadata": {},
   "source": [
    "# Results\n",
    "- Without Regularization : accuracy=85.33 \n",
    "- With Regularization L1 : accuracy=89.33 \n",
    "- With Regularization L2 : accuracy=86.67 \n",
    "- With Regularization L2 (0.01) : accuracy=90.67\n",
    "- With Regularization & Dropout : accuracy=90.67"
   ]
  },
  {
   "cell_type": "markdown",
   "id": "43d29d5b-5d4c-4a16-86fa-ccdc76492064",
   "metadata": {},
   "source": [
    "# Regularization: L1"
   ]
  },
  {
   "cell_type": "code",
   "execution_count": null,
   "id": "fbed37cb-b1da-4d1d-b5b3-0122fd9beacb",
   "metadata": {},
   "outputs": [],
   "source": [
    "from tensorflow.keras.regularizers import l1, l2, l1_l2\n",
    "opt_name = 'L1'\n",
    "\n",
    "model = Sequential()\n",
    "\n",
    "model.add(Dense(256, activation='relu', kernel_regularizer=l1(0.001), input_shape=(2,)))  \n",
    "model.add(Dense(128, activation='relu', kernel_regularizer=l1(0.001)))  # \n",
    "model.add(Dense(64, activation='relu', kernel_regularizer=l1(0.001)))  # \n",
    "\n",
    "model.add(Dense(5, activation='softmax'))"
   ]
  },
  {
   "cell_type": "markdown",
   "id": "bc4ad9ac-1829-44f0-a2a3-aa9a185adc56",
   "metadata": {
    "tags": []
   },
   "source": [
    "# Regularization: L2"
   ]
  },
  {
   "cell_type": "code",
   "execution_count": null,
   "id": "c3918fa7-1599-496b-b0a2-de88c798b920",
   "metadata": {},
   "outputs": [],
   "source": [
    "model = Sequential()\n",
    "opt_name = 'L2 .001'\n",
    "\n",
    "model.add(Dense(256, activation='relu', kernel_regularizer=l2(0.001), input_shape=(2,)))  # .001\n",
    "model.add(Dense(128, activation='relu', kernel_regularizer=l2(0.001)))  \n",
    "model.add(Dense(64, activation='relu', kernel_regularizer=l2(0.001)))  \n",
    "\n",
    "model.add(Dense(5, activation='softmax'))"
   ]
  },
  {
   "cell_type": "code",
   "execution_count": null,
   "id": "f9f5097a-c6be-42f1-9c86-581c6261943f",
   "metadata": {},
   "outputs": [],
   "source": [
    "model = Sequential()\n",
    "opt_name = 'L2 .01'\n",
    "\n",
    "model.add(Dense(256, activation='relu', kernel_regularizer=l2(0.01), input_shape=(2,)))  #.01\n",
    "model.add(Dense(128, activation='relu', kernel_regularizer=l2(0.01)))  #\n",
    "model.add(Dense(64, activation='relu', kernel_regularizer=l2(0.01)))  # \n",
    "\n",
    "model.add(Dense(5, activation='softmax'))"
   ]
  },
  {
   "cell_type": "markdown",
   "id": "0ac86f6a-d1bf-4057-b8a7-2227d612e936",
   "metadata": {},
   "source": [
    "# Dropout"
   ]
  },
  {
   "cell_type": "code",
   "execution_count": null,
   "id": "4c752996-3cd1-4680-a747-5cbeb3f8a7cb",
   "metadata": {},
   "outputs": [],
   "source": [
    "from tensorflow.keras.layers import Dropout\n",
    "\n",
    "opt_name = 'Dropout'\n",
    "model = Sequential()\n",
    "\n",
    "model.add(Dense(256, activation='relu', kernel_regularizer=l2(0.01), input_shape=(2,)))  #.01\n",
    "model.add(Dropout(.4))\n",
    "model.add(Dense(128, activation='relu', kernel_regularizer=l2(0.01)))  #\n",
    "model.add(Dropout(.4))\n",
    "model.add(Dense(64, activation='relu', kernel_regularizer=l2(0.01)))  # \n",
    "model.add(Dropout(.4))\n",
    "\n",
    "model.add(Dense(5, activation='softmax'))"
   ]
  },
  {
   "cell_type": "markdown",
   "id": "fc6cc101-9007-44f0-985f-cd1a4a4e8a9e",
   "metadata": {},
   "source": [
    "# Early Stopping"
   ]
  },
  {
   "cell_type": "code",
   "execution_count": null,
   "id": "ee6d1efd-0fe1-472a-bcd0-10b777810e15",
   "metadata": {},
   "outputs": [],
   "source": [
    "from tensorflow.keras.callbacks import EarlyStopping\n",
    "opt_name = 'Early Stopping'\n",
    "\n",
    "# es = EarlyStopping(monitor='val_loss', verbose=1, patience=20) # \n",
    "es = EarlyStopping(monitor='val_loss', verbose=1, patience=5)\n",
    "\n",
    "from tensorflow.keras.models import Sequential\n",
    "from tensorflow.keras.layers import Dense # , Dropout\n",
    "\n",
    "model = Sequential()\n",
    "\n",
    "model.add(Dense(256, activation='relu', input_shape=(2,)))   # \n",
    "model.add(Dense(128, activation='relu'))  # \n",
    "model.add(Dense(64, activation='relu'))  # \n",
    "\n",
    "model.add(Dense(5, activation='softmax'))\n",
    "\n",
    "model.compile(loss='sparse_categorical_crossentropy', optimizer='adam', \n",
    "             metrics=['accuracy'])\n",
    "\n",
    "history = model.fit(X_train, y_train, batch_size=256, validation_data=(X_test, y_test), \n",
    "                    epochs=1000, verbose=0, callbacks=[es])"
   ]
  },
  {
   "cell_type": "code",
   "execution_count": null,
   "id": "22244030-972d-4398-b263-7f7b6b42d675",
   "metadata": {},
   "outputs": [],
   "source": [
    "loss_acc_plot()"
   ]
  },
  {
   "cell_type": "code",
   "execution_count": null,
   "id": "3d235bde-c243-44a4-884a-665b81f70352",
   "metadata": {},
   "outputs": [],
   "source": []
  },
  {
   "cell_type": "markdown",
   "id": "03bf705a-7a70-4e27-8817-408692656de7",
   "metadata": {},
   "source": [
    "# ws14"
   ]
  },
  {
   "cell_type": "code",
   "execution_count": null,
   "id": "0e961725-1539-4937-a016-e41f011e6839",
   "metadata": {},
   "outputs": [],
   "source": [
    "from tensorflow.keras.callbacks import EarlyStopping\n",
    "from tensorflow.keras.callbacks import ModelCheckpoint\n",
    "\n",
    "\n",
    "es = EarlyStopping(monitor='val_loss', verbose=1, patience=20)\n",
    "mc = ModelCheckpoint('best_model.h5', monitor='val_accuracy', verbose=1, save_best_only=True) # mode='auto'\n",
    "\n",
    "from tensorflow.keras.models import Sequential\n",
    "from tensorflow.keras.layers import Dense, Dropout\n",
    "\n",
    "model = Sequential()\n",
    "\n",
    "\n",
    "model.add(Dense(256, activation='relu', input_shape=(2,))) \n",
    "model.add(Dense(128, activation='relu'))\n",
    "model.add(Dense(64, activation='relu'))  \n",
    "\n",
    "model.add(Dense(5, activation='softmax'))\n",
    "model.summary()"
   ]
  },
  {
   "cell_type": "code",
   "execution_count": null,
   "id": "10925525-c078-4981-96b7-aaa15e84f93e",
   "metadata": {},
   "outputs": [],
   "source": []
  }
 ],
 "metadata": {
  "kernelspec": {
   "display_name": "Python 3 (ipykernel)",
   "language": "python",
   "name": "python3"
  },
  "language_info": {
   "codemirror_mode": {
    "name": "ipython",
    "version": 3
   },
   "file_extension": ".py",
   "mimetype": "text/x-python",
   "name": "python",
   "nbconvert_exporter": "python",
   "pygments_lexer": "ipython3",
   "version": "3.10.4"
  }
 },
 "nbformat": 4,
 "nbformat_minor": 5
}
