{
 "cells": [
  {
   "cell_type": "markdown",
   "id": "296a98f5-4a2d-495c-bd06-937342ab6845",
   "metadata": {},
   "source": [
    "# TensorFlow\n",
    "- สร้าง Neural Network Model โดยใช้ TensorFlow & Keras<br>\n",
    "- Dataset: Breast Cancer, 2 Features\n",
    "- Binary Classification"
   ]
  },
  {
   "cell_type": "markdown",
   "id": "1150a71a",
   "metadata": {},
   "source": [
    "## Check Environment and TensorFlow\n"
   ]
  },
  {
   "cell_type": "code",
   "execution_count": 1,
   "id": "78d75128-2e61-4683-ad62-92e2b457d0fc",
   "metadata": {},
   "outputs": [
    {
     "name": "stdout",
     "output_type": "stream",
     "text": [
      "\n",
      "     active environment : base\n",
      "    active env location : C:\\Users\\Asus\\anaconda3\n",
      "            shell level : 1\n",
      "       user config file : C:\\Users\\Asus\\.condarc\n",
      " populated config files : C:\\Users\\Asus\\.condarc\n",
      "          conda version : 4.13.0\n",
      "    conda-build version : 3.21.8\n",
      "         python version : 3.9.12.final.0\n",
      "       virtual packages : __cuda=11.6=0\n",
      "                          __win=0=0\n",
      "                          __archspec=1=x86_64\n",
      "       base environment : C:\\Users\\Asus\\anaconda3  (writable)\n",
      "      conda av data dir : C:\\Users\\Asus\\anaconda3\\etc\\conda\n",
      "  conda av metadata url : None\n",
      "           channel URLs : https://conda.anaconda.org/conda-forge/win-64\n",
      "                          https://conda.anaconda.org/conda-forge/noarch\n",
      "                          https://repo.anaconda.com/pkgs/main/win-64\n",
      "                          https://repo.anaconda.com/pkgs/main/noarch\n",
      "                          https://repo.anaconda.com/pkgs/r/win-64\n",
      "                          https://repo.anaconda.com/pkgs/r/noarch\n",
      "                          https://repo.anaconda.com/pkgs/msys2/win-64\n",
      "                          https://repo.anaconda.com/pkgs/msys2/noarch\n",
      "          package cache : C:\\Users\\Asus\\anaconda3\\pkgs\n",
      "                          C:\\Users\\Asus\\.conda\\pkgs\n",
      "                          C:\\Users\\Asus\\AppData\\Local\\conda\\conda\\pkgs\n",
      "       envs directories : C:\\Users\\Asus\\anaconda3\\envs\n",
      "                          C:\\Users\\Asus\\.conda\\envs\n",
      "                          C:\\Users\\Asus\\AppData\\Local\\conda\\conda\\envs\n",
      "               platform : win-64\n",
      "             user-agent : conda/4.13.0 requests/2.27.1 CPython/3.9.12 Windows/10 Windows/10.0.22000\n",
      "          administrator : False\n",
      "             netrc file : None\n",
      "           offline mode : False\n",
      "\n"
     ]
    }
   ],
   "source": [
    "!conda info"
   ]
  },
  {
   "cell_type": "code",
   "execution_count": 2,
   "id": "ba532070-f924-4789-a7bc-c8ce16ecdcf6",
   "metadata": {},
   "outputs": [
    {
     "name": "stdout",
     "output_type": "stream",
     "text": [
      "Name: tensorflow\n",
      "Version: 2.10.0\n",
      "Summary: TensorFlow is an open source machine learning framework for everyone.\n",
      "Home-page: https://www.tensorflow.org/\n",
      "Author: Google Inc.\n",
      "Author-email: packages@tensorflow.org\n",
      "License: Apache 2.0\n",
      "Location: c:\\users\\asus\\anaconda3\\lib\\site-packages\n",
      "Requires: absl-py, astunparse, flatbuffers, gast, google-pasta, grpcio, h5py, keras, keras-preprocessing, libclang, numpy, opt-einsum, packaging, protobuf, setuptools, six, tensorboard, tensorflow-estimator, tensorflow-io-gcs-filesystem, termcolor, typing-extensions, wrapt\n",
      "Required-by: \n"
     ]
    }
   ],
   "source": [
    "!pip show tensorflow"
   ]
  },
  {
   "cell_type": "code",
   "execution_count": 3,
   "id": "550a469f-aa7d-4f17-9ba5-f2cacbf6ada9",
   "metadata": {},
   "outputs": [
    {
     "data": {
      "text/plain": [
       "'2.10.0'"
      ]
     },
     "execution_count": 3,
     "metadata": {},
     "output_type": "execute_result"
    }
   ],
   "source": [
    "import tensorflow as tf\n",
    "tf.__version__"
   ]
  },
  {
   "cell_type": "code",
   "execution_count": 4,
   "id": "6ea6faad-68ad-4d7f-8e78-65e21204500a",
   "metadata": {},
   "outputs": [],
   "source": [
    "from sklearn.datasets import load_breast_cancer\n",
    "import numpy as np\n",
    "import pandas as pd\n",
    "import matplotlib.pyplot as plt\n",
    "import seaborn as sns"
   ]
  },
  {
   "cell_type": "markdown",
   "id": "313222ef-b3fa-469a-be7f-e317a5c49b56",
   "metadata": {},
   "source": [
    "## Dataset"
   ]
  },
  {
   "cell_type": "code",
   "execution_count": 5,
   "id": "eb0b82db-2e24-44fe-952b-4ad7cad68b4e",
   "metadata": {},
   "outputs": [],
   "source": [
    "cancer = load_breast_cancer()"
   ]
  },
  {
   "cell_type": "code",
   "execution_count": 6,
   "id": "1b904197-a299-4a1b-b3c3-24747f29b120",
   "metadata": {},
   "outputs": [
    {
     "data": {
      "text/plain": [
       "dict_keys(['data', 'target', 'frame', 'target_names', 'DESCR', 'feature_names', 'filename', 'data_module'])"
      ]
     },
     "execution_count": 6,
     "metadata": {},
     "output_type": "execute_result"
    }
   ],
   "source": [
    "cancer.keys()"
   ]
  },
  {
   "cell_type": "code",
   "execution_count": 7,
   "id": "39e64903-f2fa-40ef-b3d8-254b1bc92219",
   "metadata": {},
   "outputs": [
    {
     "name": "stdout",
     "output_type": "stream",
     "text": [
      ".. _breast_cancer_dataset:\n",
      "\n",
      "Breast cancer wisconsin (diagnostic) dataset\n",
      "--------------------------------------------\n",
      "\n",
      "**Data Set Characteristics:**\n",
      "\n",
      "    :Number of Instances: 569\n",
      "\n",
      "    :Number of Attributes: 30 numeric, predictive attributes and the class\n",
      "\n",
      "    :Attribute Information:\n",
      "        - radius (mean of distances from center to points on the perimeter)\n",
      "        - texture (standard deviation of gray-scale values)\n",
      "        - perimeter\n",
      "        - area\n",
      "        - smoothness (local variation in radius lengths)\n",
      "        - compactness (perimeter^2 / area - 1.0)\n",
      "        - concavity (severity of concave portions of the contour)\n",
      "        - concave points (number of concave portions of the contour)\n",
      "        - symmetry\n",
      "        - fractal dimension (\"coastline approximation\" - 1)\n",
      "\n",
      "        The mean, standard error, and \"worst\" or largest (mean of the three\n",
      "        worst/largest values) of these features were computed for each image,\n",
      "        resulting in 30 features.  For instance, field 0 is Mean Radius, field\n",
      "        10 is Radius SE, field 20 is Worst Radius.\n",
      "\n",
      "        - class:\n",
      "                - WDBC-Malignant\n",
      "                - WDBC-Benign\n",
      "\n",
      "    :Summary Statistics:\n",
      "\n",
      "    ===================================== ====== ======\n",
      "                                           Min    Max\n",
      "    ===================================== ====== ======\n",
      "    radius (mean):                        6.981  28.11\n",
      "    texture (mean):                       9.71   39.28\n",
      "    perimeter (mean):                     43.79  188.5\n",
      "    area (mean):                          143.5  2501.0\n",
      "    smoothness (mean):                    0.053  0.163\n",
      "    compactness (mean):                   0.019  0.345\n",
      "    concavity (mean):                     0.0    0.427\n",
      "    concave points (mean):                0.0    0.201\n",
      "    symmetry (mean):                      0.106  0.304\n",
      "    fractal dimension (mean):             0.05   0.097\n",
      "    radius (standard error):              0.112  2.873\n",
      "    texture (standard error):             0.36   4.885\n",
      "    perimeter (standard error):           0.757  21.98\n",
      "    area (standard error):                6.802  542.2\n",
      "    smoothness (standard error):          0.002  0.031\n",
      "    compactness (standard error):         0.002  0.135\n",
      "    concavity (standard error):           0.0    0.396\n",
      "    concave points (standard error):      0.0    0.053\n",
      "    symmetry (standard error):            0.008  0.079\n",
      "    fractal dimension (standard error):   0.001  0.03\n",
      "    radius (worst):                       7.93   36.04\n",
      "    texture (worst):                      12.02  49.54\n",
      "    perimeter (worst):                    50.41  251.2\n",
      "    area (worst):                         185.2  4254.0\n",
      "    smoothness (worst):                   0.071  0.223\n",
      "    compactness (worst):                  0.027  1.058\n",
      "    concavity (worst):                    0.0    1.252\n",
      "    concave points (worst):               0.0    0.291\n",
      "    symmetry (worst):                     0.156  0.664\n",
      "    fractal dimension (worst):            0.055  0.208\n",
      "    ===================================== ====== ======\n",
      "\n",
      "    :Missing Attribute Values: None\n",
      "\n",
      "    :Class Distribution: 212 - Malignant, 357 - Benign\n",
      "\n",
      "    :Creator:  Dr. William H. Wolberg, W. Nick Street, Olvi L. Mangasarian\n",
      "\n",
      "    :Donor: Nick Street\n",
      "\n",
      "    :Date: November, 1995\n",
      "\n",
      "This is a copy of UCI ML Breast Cancer Wisconsin (Diagnostic) datasets.\n",
      "https://goo.gl/U2Uwz2\n",
      "\n",
      "Features are computed from a digitized image of a fine needle\n",
      "aspirate (FNA) of a breast mass.  They describe\n",
      "characteristics of the cell nuclei present in the image.\n",
      "\n",
      "Separating plane described above was obtained using\n",
      "Multisurface Method-Tree (MSM-T) [K. P. Bennett, \"Decision Tree\n",
      "Construction Via Linear Programming.\" Proceedings of the 4th\n",
      "Midwest Artificial Intelligence and Cognitive Science Society,\n",
      "pp. 97-101, 1992], a classification method which uses linear\n",
      "programming to construct a decision tree.  Relevant features\n",
      "were selected using an exhaustive search in the space of 1-4\n",
      "features and 1-3 separating planes.\n",
      "\n",
      "The actual linear program used to obtain the separating plane\n",
      "in the 3-dimensional space is that described in:\n",
      "[K. P. Bennett and O. L. Mangasarian: \"Robust Linear\n",
      "Programming Discrimination of Two Linearly Inseparable Sets\",\n",
      "Optimization Methods and Software 1, 1992, 23-34].\n",
      "\n",
      "This database is also available through the UW CS ftp server:\n",
      "\n",
      "ftp ftp.cs.wisc.edu\n",
      "cd math-prog/cpo-dataset/machine-learn/WDBC/\n",
      "\n",
      ".. topic:: References\n",
      "\n",
      "   - W.N. Street, W.H. Wolberg and O.L. Mangasarian. Nuclear feature extraction \n",
      "     for breast tumor diagnosis. IS&T/SPIE 1993 International Symposium on \n",
      "     Electronic Imaging: Science and Technology, volume 1905, pages 861-870,\n",
      "     San Jose, CA, 1993.\n",
      "   - O.L. Mangasarian, W.N. Street and W.H. Wolberg. Breast cancer diagnosis and \n",
      "     prognosis via linear programming. Operations Research, 43(4), pages 570-577, \n",
      "     July-August 1995.\n",
      "   - W.H. Wolberg, W.N. Street, and O.L. Mangasarian. Machine learning techniques\n",
      "     to diagnose breast cancer from fine-needle aspirates. Cancer Letters 77 (1994) \n",
      "     163-171.\n"
     ]
    }
   ],
   "source": [
    "print(cancer.DESCR)"
   ]
  },
  {
   "cell_type": "code",
   "execution_count": 8,
   "id": "1b90f107-99ea-4f0c-a69c-f75acb41ce1b",
   "metadata": {},
   "outputs": [
    {
     "data": {
      "text/plain": [
       "array(['malignant', 'benign'], dtype='<U9')"
      ]
     },
     "execution_count": 8,
     "metadata": {},
     "output_type": "execute_result"
    }
   ],
   "source": [
    "cancer.target_names"
   ]
  },
  {
   "cell_type": "code",
   "execution_count": 9,
   "id": "73a0c5ee",
   "metadata": {},
   "outputs": [
    {
     "data": {
      "text/plain": [
       "array([0, 0, 0, 0, 0, 0, 1, 0, 1, 1])"
      ]
     },
     "execution_count": 9,
     "metadata": {},
     "output_type": "execute_result"
    }
   ],
   "source": [
    "# cancer.target[:15]\n",
    "cancer.target[40:50]"
   ]
  },
  {
   "cell_type": "code",
   "execution_count": 10,
   "id": "29ff1bde-21e2-4f12-829f-9101e919b028",
   "metadata": {},
   "outputs": [
    {
     "data": {
      "text/html": [
       "<div>\n",
       "<style scoped>\n",
       "    .dataframe tbody tr th:only-of-type {\n",
       "        vertical-align: middle;\n",
       "    }\n",
       "\n",
       "    .dataframe tbody tr th {\n",
       "        vertical-align: top;\n",
       "    }\n",
       "\n",
       "    .dataframe thead th {\n",
       "        text-align: right;\n",
       "    }\n",
       "</style>\n",
       "<table border=\"1\" class=\"dataframe\">\n",
       "  <thead>\n",
       "    <tr style=\"text-align: right;\">\n",
       "      <th></th>\n",
       "      <th>mean radius</th>\n",
       "      <th>mean texture</th>\n",
       "      <th>class</th>\n",
       "    </tr>\n",
       "  </thead>\n",
       "  <tbody>\n",
       "    <tr>\n",
       "      <th>564</th>\n",
       "      <td>21.56</td>\n",
       "      <td>22.39</td>\n",
       "      <td>0</td>\n",
       "    </tr>\n",
       "    <tr>\n",
       "      <th>565</th>\n",
       "      <td>20.13</td>\n",
       "      <td>28.25</td>\n",
       "      <td>0</td>\n",
       "    </tr>\n",
       "    <tr>\n",
       "      <th>566</th>\n",
       "      <td>16.60</td>\n",
       "      <td>28.08</td>\n",
       "      <td>0</td>\n",
       "    </tr>\n",
       "    <tr>\n",
       "      <th>567</th>\n",
       "      <td>20.60</td>\n",
       "      <td>29.33</td>\n",
       "      <td>0</td>\n",
       "    </tr>\n",
       "    <tr>\n",
       "      <th>568</th>\n",
       "      <td>7.76</td>\n",
       "      <td>24.54</td>\n",
       "      <td>1</td>\n",
       "    </tr>\n",
       "  </tbody>\n",
       "</table>\n",
       "</div>"
      ],
      "text/plain": [
       "     mean radius  mean texture  class\n",
       "564        21.56         22.39      0\n",
       "565        20.13         28.25      0\n",
       "566        16.60         28.08      0\n",
       "567        20.60         29.33      0\n",
       "568         7.76         24.54      1"
      ]
     },
     "execution_count": 10,
     "metadata": {},
     "output_type": "execute_result"
    }
   ],
   "source": [
    "df = pd.DataFrame(cancer.data[:,0:2], columns=cancer.feature_names[0:2])    # 2 Features\n",
    "\n",
    "# df = pd.DataFrame(cancer.data[:,0:4], columns=cancer.feature_names[0:4])  # 4 Features\n",
    "\n",
    "df['class'] = cancer.target\n",
    "\n",
    "df.sample(5, random_state=1)\n",
    "# df.head()\n",
    "df.tail()"
   ]
  },
  {
   "cell_type": "code",
   "execution_count": 11,
   "id": "b1dfd0b1-fb38-48ef-81e1-07462fef10c1",
   "metadata": {},
   "outputs": [
    {
     "data": {
      "text/html": [
       "<div>\n",
       "<style scoped>\n",
       "    .dataframe tbody tr th:only-of-type {\n",
       "        vertical-align: middle;\n",
       "    }\n",
       "\n",
       "    .dataframe tbody tr th {\n",
       "        vertical-align: top;\n",
       "    }\n",
       "\n",
       "    .dataframe thead th {\n",
       "        text-align: right;\n",
       "    }\n",
       "</style>\n",
       "<table border=\"1\" class=\"dataframe\">\n",
       "  <thead>\n",
       "    <tr style=\"text-align: right;\">\n",
       "      <th></th>\n",
       "      <th>mean radius</th>\n",
       "      <th>mean texture</th>\n",
       "      <th>class</th>\n",
       "    </tr>\n",
       "  </thead>\n",
       "  <tbody>\n",
       "    <tr>\n",
       "      <th>count</th>\n",
       "      <td>569.00</td>\n",
       "      <td>569.00</td>\n",
       "      <td>569.00</td>\n",
       "    </tr>\n",
       "    <tr>\n",
       "      <th>mean</th>\n",
       "      <td>14.13</td>\n",
       "      <td>19.29</td>\n",
       "      <td>0.63</td>\n",
       "    </tr>\n",
       "    <tr>\n",
       "      <th>std</th>\n",
       "      <td>3.52</td>\n",
       "      <td>4.30</td>\n",
       "      <td>0.48</td>\n",
       "    </tr>\n",
       "    <tr>\n",
       "      <th>min</th>\n",
       "      <td>6.98</td>\n",
       "      <td>9.71</td>\n",
       "      <td>0.00</td>\n",
       "    </tr>\n",
       "    <tr>\n",
       "      <th>25%</th>\n",
       "      <td>11.70</td>\n",
       "      <td>16.17</td>\n",
       "      <td>0.00</td>\n",
       "    </tr>\n",
       "    <tr>\n",
       "      <th>50%</th>\n",
       "      <td>13.37</td>\n",
       "      <td>18.84</td>\n",
       "      <td>1.00</td>\n",
       "    </tr>\n",
       "    <tr>\n",
       "      <th>75%</th>\n",
       "      <td>15.78</td>\n",
       "      <td>21.80</td>\n",
       "      <td>1.00</td>\n",
       "    </tr>\n",
       "    <tr>\n",
       "      <th>max</th>\n",
       "      <td>28.11</td>\n",
       "      <td>39.28</td>\n",
       "      <td>1.00</td>\n",
       "    </tr>\n",
       "  </tbody>\n",
       "</table>\n",
       "</div>"
      ],
      "text/plain": [
       "       mean radius  mean texture   class\n",
       "count       569.00        569.00  569.00\n",
       "mean         14.13         19.29    0.63\n",
       "std           3.52          4.30    0.48\n",
       "min           6.98          9.71    0.00\n",
       "25%          11.70         16.17    0.00\n",
       "50%          13.37         18.84    1.00\n",
       "75%          15.78         21.80    1.00\n",
       "max          28.11         39.28    1.00"
      ]
     },
     "execution_count": 11,
     "metadata": {},
     "output_type": "execute_result"
    }
   ],
   "source": [
    "df.describe().round(2)"
   ]
  },
  {
   "cell_type": "code",
   "execution_count": 12,
   "id": "020273c7",
   "metadata": {},
   "outputs": [
    {
     "data": {
      "text/html": [
       "<div>\n",
       "<style scoped>\n",
       "    .dataframe tbody tr th:only-of-type {\n",
       "        vertical-align: middle;\n",
       "    }\n",
       "\n",
       "    .dataframe tbody tr th {\n",
       "        vertical-align: top;\n",
       "    }\n",
       "\n",
       "    .dataframe thead th {\n",
       "        text-align: right;\n",
       "    }\n",
       "</style>\n",
       "<table border=\"1\" class=\"dataframe\">\n",
       "  <thead>\n",
       "    <tr style=\"text-align: right;\">\n",
       "      <th></th>\n",
       "      <th>mean radius</th>\n",
       "      <th>mean texture</th>\n",
       "    </tr>\n",
       "    <tr>\n",
       "      <th>class</th>\n",
       "      <th></th>\n",
       "      <th></th>\n",
       "    </tr>\n",
       "  </thead>\n",
       "  <tbody>\n",
       "    <tr>\n",
       "      <th>0</th>\n",
       "      <td>212</td>\n",
       "      <td>212</td>\n",
       "    </tr>\n",
       "    <tr>\n",
       "      <th>1</th>\n",
       "      <td>357</td>\n",
       "      <td>357</td>\n",
       "    </tr>\n",
       "  </tbody>\n",
       "</table>\n",
       "</div>"
      ],
      "text/plain": [
       "       mean radius  mean texture\n",
       "class                           \n",
       "0              212           212\n",
       "1              357           357"
      ]
     },
     "execution_count": 12,
     "metadata": {},
     "output_type": "execute_result"
    }
   ],
   "source": [
    "df.groupby('class').count()"
   ]
  },
  {
   "cell_type": "markdown",
   "id": "bcd512ab-7ba7-45e1-8344-48f997b66faf",
   "metadata": {},
   "source": [
    "Convert class to string"
   ]
  },
  {
   "cell_type": "code",
   "execution_count": 13,
   "id": "69720103-f4f0-4cab-bf90-407f7778b44f",
   "metadata": {},
   "outputs": [
    {
     "data": {
      "text/html": [
       "<div>\n",
       "<style scoped>\n",
       "    .dataframe tbody tr th:only-of-type {\n",
       "        vertical-align: middle;\n",
       "    }\n",
       "\n",
       "    .dataframe tbody tr th {\n",
       "        vertical-align: top;\n",
       "    }\n",
       "\n",
       "    .dataframe thead th {\n",
       "        text-align: right;\n",
       "    }\n",
       "</style>\n",
       "<table border=\"1\" class=\"dataframe\">\n",
       "  <thead>\n",
       "    <tr style=\"text-align: right;\">\n",
       "      <th></th>\n",
       "      <th>mean radius</th>\n",
       "      <th>mean texture</th>\n",
       "      <th>class</th>\n",
       "    </tr>\n",
       "  </thead>\n",
       "  <tbody>\n",
       "    <tr>\n",
       "      <th>421</th>\n",
       "      <td>14.69</td>\n",
       "      <td>13.98</td>\n",
       "      <td>benign</td>\n",
       "    </tr>\n",
       "    <tr>\n",
       "      <th>47</th>\n",
       "      <td>13.17</td>\n",
       "      <td>18.66</td>\n",
       "      <td>malignant</td>\n",
       "    </tr>\n",
       "    <tr>\n",
       "      <th>292</th>\n",
       "      <td>12.95</td>\n",
       "      <td>16.02</td>\n",
       "      <td>benign</td>\n",
       "    </tr>\n",
       "    <tr>\n",
       "      <th>186</th>\n",
       "      <td>18.31</td>\n",
       "      <td>18.58</td>\n",
       "      <td>malignant</td>\n",
       "    </tr>\n",
       "    <tr>\n",
       "      <th>414</th>\n",
       "      <td>15.13</td>\n",
       "      <td>29.81</td>\n",
       "      <td>malignant</td>\n",
       "    </tr>\n",
       "  </tbody>\n",
       "</table>\n",
       "</div>"
      ],
      "text/plain": [
       "     mean radius  mean texture      class\n",
       "421        14.69         13.98     benign\n",
       "47         13.17         18.66  malignant\n",
       "292        12.95         16.02     benign\n",
       "186        18.31         18.58  malignant\n",
       "414        15.13         29.81  malignant"
      ]
     },
     "execution_count": 13,
     "metadata": {},
     "output_type": "execute_result"
    }
   ],
   "source": [
    "# df['class'] = np.where(df['class']==0, 'yes', 'no')  \n",
    "# df['class'] = np.where(df['class']==0, 'malignant', 'benign') \n",
    "\n",
    "target_map = {0:'malignant', 1:'benign'}  # ได้ผลลัพธ์เหมือนด้านบน\n",
    "df['class'] = df['class'].map(target_map)\n",
    "\n",
    "# df.head()\n",
    "df.sample(5, random_state=1)"
   ]
  },
  {
   "cell_type": "code",
   "execution_count": 14,
   "id": "a1c7f9a3-aa20-4c48-ad60-d0f33156e385",
   "metadata": {},
   "outputs": [
    {
     "data": {
      "text/html": [
       "<div>\n",
       "<style scoped>\n",
       "    .dataframe tbody tr th:only-of-type {\n",
       "        vertical-align: middle;\n",
       "    }\n",
       "\n",
       "    .dataframe tbody tr th {\n",
       "        vertical-align: top;\n",
       "    }\n",
       "\n",
       "    .dataframe thead th {\n",
       "        text-align: right;\n",
       "    }\n",
       "</style>\n",
       "<table border=\"1\" class=\"dataframe\">\n",
       "  <thead>\n",
       "    <tr style=\"text-align: right;\">\n",
       "      <th></th>\n",
       "      <th>mean radius</th>\n",
       "      <th>mean texture</th>\n",
       "      <th>class</th>\n",
       "    </tr>\n",
       "  </thead>\n",
       "  <tbody>\n",
       "    <tr>\n",
       "      <th>0</th>\n",
       "      <td>17.99</td>\n",
       "      <td>10.38</td>\n",
       "      <td>malignant</td>\n",
       "    </tr>\n",
       "    <tr>\n",
       "      <th>1</th>\n",
       "      <td>20.57</td>\n",
       "      <td>17.77</td>\n",
       "      <td>malignant</td>\n",
       "    </tr>\n",
       "    <tr>\n",
       "      <th>2</th>\n",
       "      <td>19.69</td>\n",
       "      <td>21.25</td>\n",
       "      <td>malignant</td>\n",
       "    </tr>\n",
       "    <tr>\n",
       "      <th>3</th>\n",
       "      <td>11.42</td>\n",
       "      <td>20.38</td>\n",
       "      <td>malignant</td>\n",
       "    </tr>\n",
       "    <tr>\n",
       "      <th>4</th>\n",
       "      <td>20.29</td>\n",
       "      <td>14.34</td>\n",
       "      <td>malignant</td>\n",
       "    </tr>\n",
       "  </tbody>\n",
       "</table>\n",
       "</div>"
      ],
      "text/plain": [
       "   mean radius  mean texture      class\n",
       "0        17.99         10.38  malignant\n",
       "1        20.57         17.77  malignant\n",
       "2        19.69         21.25  malignant\n",
       "3        11.42         20.38  malignant\n",
       "4        20.29         14.34  malignant"
      ]
     },
     "execution_count": 14,
     "metadata": {},
     "output_type": "execute_result"
    }
   ],
   "source": [
    "df.head()\n",
    "# df.tail()"
   ]
  },
  {
   "cell_type": "code",
   "execution_count": 15,
   "id": "a7fd9d95-2fa3-4914-8276-a9ba42519d35",
   "metadata": {},
   "outputs": [
    {
     "data": {
      "text/html": [
       "<div>\n",
       "<style scoped>\n",
       "    .dataframe tbody tr th:only-of-type {\n",
       "        vertical-align: middle;\n",
       "    }\n",
       "\n",
       "    .dataframe tbody tr th {\n",
       "        vertical-align: top;\n",
       "    }\n",
       "\n",
       "    .dataframe thead th {\n",
       "        text-align: right;\n",
       "    }\n",
       "</style>\n",
       "<table border=\"1\" class=\"dataframe\">\n",
       "  <thead>\n",
       "    <tr style=\"text-align: right;\">\n",
       "      <th></th>\n",
       "      <th>mean radius</th>\n",
       "      <th>mean texture</th>\n",
       "      <th>class</th>\n",
       "    </tr>\n",
       "  </thead>\n",
       "  <tbody>\n",
       "    <tr>\n",
       "      <th>564</th>\n",
       "      <td>21.56</td>\n",
       "      <td>22.39</td>\n",
       "      <td>malignant</td>\n",
       "    </tr>\n",
       "    <tr>\n",
       "      <th>565</th>\n",
       "      <td>20.13</td>\n",
       "      <td>28.25</td>\n",
       "      <td>malignant</td>\n",
       "    </tr>\n",
       "    <tr>\n",
       "      <th>566</th>\n",
       "      <td>16.60</td>\n",
       "      <td>28.08</td>\n",
       "      <td>malignant</td>\n",
       "    </tr>\n",
       "    <tr>\n",
       "      <th>567</th>\n",
       "      <td>20.60</td>\n",
       "      <td>29.33</td>\n",
       "      <td>malignant</td>\n",
       "    </tr>\n",
       "    <tr>\n",
       "      <th>568</th>\n",
       "      <td>7.76</td>\n",
       "      <td>24.54</td>\n",
       "      <td>benign</td>\n",
       "    </tr>\n",
       "  </tbody>\n",
       "</table>\n",
       "</div>"
      ],
      "text/plain": [
       "     mean radius  mean texture      class\n",
       "564        21.56         22.39  malignant\n",
       "565        20.13         28.25  malignant\n",
       "566        16.60         28.08  malignant\n",
       "567        20.60         29.33  malignant\n",
       "568         7.76         24.54     benign"
      ]
     },
     "execution_count": 15,
     "metadata": {},
     "output_type": "execute_result"
    }
   ],
   "source": [
    "df.tail()"
   ]
  },
  {
   "cell_type": "code",
   "execution_count": 16,
   "id": "16c8290a-d7a1-4216-bf2d-b0bf624bd9aa",
   "metadata": {},
   "outputs": [
    {
     "data": {
      "text/plain": [
       "mean radius     0\n",
       "mean texture    0\n",
       "class           0\n",
       "dtype: int64"
      ]
     },
     "execution_count": 16,
     "metadata": {},
     "output_type": "execute_result"
    }
   ],
   "source": [
    "df.isnull().sum()"
   ]
  },
  {
   "cell_type": "markdown",
   "id": "ca003bf1-2614-4a0f-98b8-b4458286dabd",
   "metadata": {},
   "source": [
    "## Data visualization"
   ]
  },
  {
   "cell_type": "code",
   "execution_count": 17,
   "id": "35c0e383-535b-405b-b93c-e00f6de9eec7",
   "metadata": {},
   "outputs": [
    {
     "data": {
      "image/png": "[encoded data removed]",
      "text/plain": [
       "<Figure size 374.4x288 with 1 Axes>"
      ]
     },
     "metadata": {
      "needs_background": "light"
     },
     "output_type": "display_data"
    }
   ],
   "source": [
    "plt.figure(figsize=(5.2, 4))\n",
    "\n",
    "sns.scatterplot(x='mean radius', y='mean texture', data=df, hue='class', style='class', \n",
    "                alpha=0.9, edgecolor='w', s=80)\n",
    "\n",
    "plt.show()"
   ]
  },
  {
   "cell_type": "markdown",
   "id": "8f61801c-5654-4def-8ab4-6099a7296e70",
   "metadata": {},
   "source": [
    "## Label Encoding"
   ]
  },
  {
   "cell_type": "code",
   "execution_count": 58,
   "id": "65bb5b29-8bb8-4c91-93b8-ff16bc2f3687",
   "metadata": {},
   "outputs": [
    {
     "data": {
      "text/plain": [
       "Index(['malignant', 'benign'], dtype='object')"
      ]
     },
     "execution_count": 58,
     "metadata": {},
     "output_type": "execute_result"
    }
   ],
   "source": [
    "# y, class_names = pd.factorize(df['class'], sort=True)   # use Pandas\n",
    "y, class_names = pd.factorize(df['class'])\n",
    "class_names"
   ]
  },
  {
   "cell_type": "code",
   "execution_count": 59,
   "id": "6e6091bf-4a77-47b9-b0a6-e9716043b4e6",
   "metadata": {},
   "outputs": [
    {
     "data": {
      "text/plain": [
       "array([0, 0, 0, 0, 0, 0, 1, 0, 1, 1], dtype=int64)"
      ]
     },
     "execution_count": 59,
     "metadata": {},
     "output_type": "execute_result"
    }
   ],
   "source": [
    "y[40:50]\n",
    "# y[:15]"
   ]
  },
  {
   "cell_type": "code",
   "execution_count": 60,
   "id": "8ca73343-0c26-4ab6-be88-071a9f338600",
   "metadata": {},
   "outputs": [],
   "source": [
    "# class_names, y = np.unique(df['class'], return_inverse=True)  # use Numpy\n",
    "# class_names"
   ]
  },
  {
   "cell_type": "code",
   "execution_count": 61,
   "id": "4c19c42e",
   "metadata": {},
   "outputs": [
    {
     "name": "stdout",
     "output_type": "stream",
     "text": [
      "Class 0: 212\n",
      "Class 1: 357\n"
     ]
    }
   ],
   "source": [
    "print('Class 0:', len(y[y==0]))\n",
    "print('Class 1:', len(y[y==1]))"
   ]
  },
  {
   "cell_type": "code",
   "execution_count": 62,
   "id": "de4c38ef-e55f-4c4f-9f51-02d47c881fc0",
   "metadata": {},
   "outputs": [
    {
     "data": {
      "text/plain": [
       "array([0, 1], dtype=int64)"
      ]
     },
     "execution_count": 62,
     "metadata": {},
     "output_type": "execute_result"
    }
   ],
   "source": [
    "np.unique(y)"
   ]
  },
  {
   "cell_type": "markdown",
   "id": "98e791ef-6525-4a2b-8e7b-afaaa97899b7",
   "metadata": {},
   "source": [
    "## X and y"
   ]
  },
  {
   "cell_type": "code",
   "execution_count": 63,
   "id": "3a73b14b-aa3a-4a3b-b379-de06301bfb88",
   "metadata": {},
   "outputs": [
    {
     "data": {
      "text/html": [
       "<div>\n",
       "<style scoped>\n",
       "    .dataframe tbody tr th:only-of-type {\n",
       "        vertical-align: middle;\n",
       "    }\n",
       "\n",
       "    .dataframe tbody tr th {\n",
       "        vertical-align: top;\n",
       "    }\n",
       "\n",
       "    .dataframe thead th {\n",
       "        text-align: right;\n",
       "    }\n",
       "</style>\n",
       "<table border=\"1\" class=\"dataframe\">\n",
       "  <thead>\n",
       "    <tr style=\"text-align: right;\">\n",
       "      <th></th>\n",
       "      <th>mean radius</th>\n",
       "      <th>mean texture</th>\n",
       "    </tr>\n",
       "  </thead>\n",
       "  <tbody>\n",
       "    <tr>\n",
       "      <th>564</th>\n",
       "      <td>21.56</td>\n",
       "      <td>22.39</td>\n",
       "    </tr>\n",
       "    <tr>\n",
       "      <th>565</th>\n",
       "      <td>20.13</td>\n",
       "      <td>28.25</td>\n",
       "    </tr>\n",
       "    <tr>\n",
       "      <th>566</th>\n",
       "      <td>16.60</td>\n",
       "      <td>28.08</td>\n",
       "    </tr>\n",
       "    <tr>\n",
       "      <th>567</th>\n",
       "      <td>20.60</td>\n",
       "      <td>29.33</td>\n",
       "    </tr>\n",
       "    <tr>\n",
       "      <th>568</th>\n",
       "      <td>7.76</td>\n",
       "      <td>24.54</td>\n",
       "    </tr>\n",
       "  </tbody>\n",
       "</table>\n",
       "</div>"
      ],
      "text/plain": [
       "     mean radius  mean texture\n",
       "564        21.56         22.39\n",
       "565        20.13         28.25\n",
       "566        16.60         28.08\n",
       "567        20.60         29.33\n",
       "568         7.76         24.54"
      ]
     },
     "execution_count": 63,
     "metadata": {},
     "output_type": "execute_result"
    }
   ],
   "source": [
    "X = df.drop('class', axis=1)\n",
    "X.head()\n",
    "X.tail()"
   ]
  },
  {
   "cell_type": "code",
   "execution_count": 56,
   "id": "cf5628f3-c0ae-4fa8-8aed-9826ab723cd3",
   "metadata": {},
   "outputs": [],
   "source": [
    "# if label Encoding, skip this command\n",
    "y = df['class']     # กรณี: ไม่ทำ Label Encoding. "
   ]
  },
  {
   "cell_type": "code",
   "execution_count": 64,
   "id": "33c31d24-9555-4aee-a39e-0cc1935a6ccd",
   "metadata": {},
   "outputs": [
    {
     "data": {
      "text/plain": [
       "array([0, 0, 0, 0, 0, 0, 0, 0, 0, 0, 0, 0, 0, 0, 0], dtype=int64)"
      ]
     },
     "execution_count": 64,
     "metadata": {},
     "output_type": "execute_result"
    }
   ],
   "source": [
    "y[:15]"
   ]
  },
  {
   "cell_type": "code",
   "execution_count": 65,
   "id": "1319902c",
   "metadata": {},
   "outputs": [
    {
     "data": {
      "text/plain": [
       "array([0, 1], dtype=int64)"
      ]
     },
     "execution_count": 65,
     "metadata": {},
     "output_type": "execute_result"
    }
   ],
   "source": [
    "np.unique(y)"
   ]
  },
  {
   "cell_type": "markdown",
   "id": "d75b78df-b59d-4e4e-904c-12a85f18ca23",
   "metadata": {},
   "source": [
    "## Feature Scaling using StandardScaler "
   ]
  },
  {
   "cell_type": "code",
   "execution_count": 24,
   "id": "e1be5db1-ff6f-40a0-a1e2-b5541e1ad4d3",
   "metadata": {},
   "outputs": [
    {
     "data": {
      "text/plain": [
       "array([[ 1.09706398, -2.07333501],\n",
       "       [ 1.82982061, -0.35363241],\n",
       "       [ 1.57988811,  0.45618695],\n",
       "       [-0.76890929,  0.25373211],\n",
       "       [ 1.75029663, -1.15181643]])"
      ]
     },
     "execution_count": 24,
     "metadata": {},
     "output_type": "execute_result"
    }
   ],
   "source": [
    "from sklearn.preprocessing import StandardScaler\n",
    "\n",
    "sc = StandardScaler()\n",
    "X_sc = sc.fit_transform(X)\n",
    "X_sc[:5]"
   ]
  },
  {
   "cell_type": "code",
   "execution_count": 25,
   "id": "a7e14dff-5323-4528-8d4d-a73abbd3daad",
   "metadata": {},
   "outputs": [
    {
     "data": {
      "text/plain": [
       "array(['mean radius', 'mean texture'], dtype='<U23')"
      ]
     },
     "execution_count": 25,
     "metadata": {},
     "output_type": "execute_result"
    }
   ],
   "source": [
    "cancer.feature_names[0:2]    # ชื่อ columns 2 features แรก"
   ]
  },
  {
   "cell_type": "code",
   "execution_count": 66,
   "id": "aab4ec5a-5c14-4ace-ad81-9720e2a45974",
   "metadata": {},
   "outputs": [
    {
     "data": {
      "text/html": [
       "<div>\n",
       "<style scoped>\n",
       "    .dataframe tbody tr th:only-of-type {\n",
       "        vertical-align: middle;\n",
       "    }\n",
       "\n",
       "    .dataframe tbody tr th {\n",
       "        vertical-align: top;\n",
       "    }\n",
       "\n",
       "    .dataframe thead th {\n",
       "        text-align: right;\n",
       "    }\n",
       "</style>\n",
       "<table border=\"1\" class=\"dataframe\">\n",
       "  <thead>\n",
       "    <tr style=\"text-align: right;\">\n",
       "      <th></th>\n",
       "      <th>mean radius</th>\n",
       "      <th>mean texture</th>\n",
       "      <th>class</th>\n",
       "    </tr>\n",
       "  </thead>\n",
       "  <tbody>\n",
       "    <tr>\n",
       "      <th>count</th>\n",
       "      <td>569.000</td>\n",
       "      <td>569.000</td>\n",
       "      <td>569.000</td>\n",
       "    </tr>\n",
       "    <tr>\n",
       "      <th>mean</th>\n",
       "      <td>-0.000</td>\n",
       "      <td>0.000</td>\n",
       "      <td>0.627</td>\n",
       "    </tr>\n",
       "    <tr>\n",
       "      <th>std</th>\n",
       "      <td>1.001</td>\n",
       "      <td>1.001</td>\n",
       "      <td>0.484</td>\n",
       "    </tr>\n",
       "    <tr>\n",
       "      <th>min</th>\n",
       "      <td>-2.030</td>\n",
       "      <td>-2.229</td>\n",
       "      <td>0.000</td>\n",
       "    </tr>\n",
       "    <tr>\n",
       "      <th>25%</th>\n",
       "      <td>-0.689</td>\n",
       "      <td>-0.726</td>\n",
       "      <td>0.000</td>\n",
       "    </tr>\n",
       "    <tr>\n",
       "      <th>50%</th>\n",
       "      <td>-0.215</td>\n",
       "      <td>-0.105</td>\n",
       "      <td>1.000</td>\n",
       "    </tr>\n",
       "    <tr>\n",
       "      <th>75%</th>\n",
       "      <td>0.469</td>\n",
       "      <td>0.584</td>\n",
       "      <td>1.000</td>\n",
       "    </tr>\n",
       "    <tr>\n",
       "      <th>max</th>\n",
       "      <td>3.971</td>\n",
       "      <td>4.652</td>\n",
       "      <td>1.000</td>\n",
       "    </tr>\n",
       "  </tbody>\n",
       "</table>\n",
       "</div>"
      ],
      "text/plain": [
       "       mean radius  mean texture    class\n",
       "count      569.000       569.000  569.000\n",
       "mean        -0.000         0.000    0.627\n",
       "std          1.001         1.001    0.484\n",
       "min         -2.030        -2.229    0.000\n",
       "25%         -0.689        -0.726    0.000\n",
       "50%         -0.215        -0.105    1.000\n",
       "75%          0.469         0.584    1.000\n",
       "max          3.971         4.652    1.000"
      ]
     },
     "execution_count": 66,
     "metadata": {},
     "output_type": "execute_result"
    }
   ],
   "source": [
    "dfsc = pd.DataFrame(X_sc, columns=['mean radius','mean texture']) #  \n",
    "# dfsc = pd.DataFrame(X_sc, columns=cancer.feature_names[0:2])  # หรือแบบนี้ก็ได้\n",
    "dfsc['class'] = y\n",
    "\n",
    "dfsc.describe().round(3)"
   ]
  },
  {
   "cell_type": "code",
   "execution_count": 67,
   "id": "61582430-a21f-4145-85ee-8f2b07c6a27f",
   "metadata": {},
   "outputs": [
    {
     "data": {
      "text/html": [
       "<div>\n",
       "<style scoped>\n",
       "    .dataframe tbody tr th:only-of-type {\n",
       "        vertical-align: middle;\n",
       "    }\n",
       "\n",
       "    .dataframe tbody tr th {\n",
       "        vertical-align: top;\n",
       "    }\n",
       "\n",
       "    .dataframe thead th {\n",
       "        text-align: right;\n",
       "    }\n",
       "</style>\n",
       "<table border=\"1\" class=\"dataframe\">\n",
       "  <thead>\n",
       "    <tr style=\"text-align: right;\">\n",
       "      <th></th>\n",
       "      <th>mean radius</th>\n",
       "      <th>mean texture</th>\n",
       "      <th>class</th>\n",
       "    </tr>\n",
       "  </thead>\n",
       "  <tbody>\n",
       "    <tr>\n",
       "      <th>0</th>\n",
       "      <td>1.097064</td>\n",
       "      <td>-2.073335</td>\n",
       "      <td>0</td>\n",
       "    </tr>\n",
       "    <tr>\n",
       "      <th>1</th>\n",
       "      <td>1.829821</td>\n",
       "      <td>-0.353632</td>\n",
       "      <td>0</td>\n",
       "    </tr>\n",
       "    <tr>\n",
       "      <th>2</th>\n",
       "      <td>1.579888</td>\n",
       "      <td>0.456187</td>\n",
       "      <td>0</td>\n",
       "    </tr>\n",
       "    <tr>\n",
       "      <th>3</th>\n",
       "      <td>-0.768909</td>\n",
       "      <td>0.253732</td>\n",
       "      <td>0</td>\n",
       "    </tr>\n",
       "    <tr>\n",
       "      <th>4</th>\n",
       "      <td>1.750297</td>\n",
       "      <td>-1.151816</td>\n",
       "      <td>0</td>\n",
       "    </tr>\n",
       "  </tbody>\n",
       "</table>\n",
       "</div>"
      ],
      "text/plain": [
       "   mean radius  mean texture  class\n",
       "0     1.097064     -2.073335      0\n",
       "1     1.829821     -0.353632      0\n",
       "2     1.579888      0.456187      0\n",
       "3    -0.768909      0.253732      0\n",
       "4     1.750297     -1.151816      0"
      ]
     },
     "execution_count": 67,
     "metadata": {},
     "output_type": "execute_result"
    }
   ],
   "source": [
    "dfsc.head()"
   ]
  },
  {
   "cell_type": "markdown",
   "id": "700f0b1b",
   "metadata": {},
   "source": [
    "## KDE plot"
   ]
  },
  {
   "cell_type": "code",
   "execution_count": 68,
   "id": "4e759732",
   "metadata": {},
   "outputs": [
    {
     "data": {
      "image/png": "[encoded data removed]",
      "text/plain": [
       "<Figure size 576x252 with 2 Axes>"
      ]
     },
     "metadata": {
      "needs_background": "light"
     },
     "output_type": "display_data"
    }
   ],
   "source": [
    "fig, (ax1, ax2) = plt.subplots(ncols=2, figsize=(8, 3.5))\n",
    "\n",
    "ax1.set_title('Before Scale (Raw data)')\n",
    "sns.kdeplot(df['mean radius'], fill=True, ax=ax1)\n",
    "sns.kdeplot(df['mean texture'], fill=True, ax=ax1)\n",
    "\n",
    "ax2.set_title('After Scale')\n",
    "sns.kdeplot(X_sc[:,0], fill=True, ax=ax2)\n",
    "sns.kdeplot(X_sc[:,1], fill=True, ax=ax2)\n",
    "sns.kdeplot(df['mean texture'], fill=True, ax=ax1)\n",
    "\n",
    "plt.show()"
   ]
  },
  {
   "cell_type": "code",
   "execution_count": 69,
   "id": "13948ad2-55e1-41c6-9edc-1a8ebe914a6d",
   "metadata": {},
   "outputs": [
    {
     "data": {
      "image/png": "[encoded data removed]",
      "text/plain": [
       "<Figure size 374.4x288 with 1 Axes>"
      ]
     },
     "metadata": {
      "needs_background": "light"
     },
     "output_type": "display_data"
    }
   ],
   "source": [
    "plt.figure(figsize=(5.2, 4))\n",
    "\n",
    "sns.scatterplot(x='mean radius', y='mean texture', data=dfsc, hue='class', style='class', \n",
    "                alpha=0.9, edgecolor='w', s=80)\n",
    "plt.title('After Scaling')\n",
    "plt.show()"
   ]
  },
  {
   "cell_type": "code",
   "execution_count": null,
   "id": "52c86e2a-568b-4376-8d97-0999453f9eaf",
   "metadata": {},
   "outputs": [],
   "source": [
    "# use  Scatter; Matplotlib\n",
    "plt.scatter(X_sc[:,0][y==0], X_sc[:,1][y==0], marker='o', edgecolor='w', s=60, label='Benign')\n",
    "plt.scatter(X_sc[:,0][y==1], X_sc[:,1][y==1], marker='x', s=50, label='Malignant')\n",
    "plt.legend()\n",
    "plt.show()"
   ]
  },
  {
   "cell_type": "markdown",
   "id": "4cc07618-3c23-40a1-8a4c-50af28e5d387",
   "metadata": {},
   "source": [
    "## Train-test Split"
   ]
  },
  {
   "cell_type": "code",
   "execution_count": 70,
   "id": "d5a00ce4",
   "metadata": {},
   "outputs": [
    {
     "data": {
      "text/plain": [
       "array([[ 1.09706398, -2.07333501],\n",
       "       [ 1.82982061, -0.35363241],\n",
       "       [ 1.57988811,  0.45618695],\n",
       "       [-0.76890929,  0.25373211],\n",
       "       [ 1.75029663, -1.15181643]])"
      ]
     },
     "execution_count": 70,
     "metadata": {},
     "output_type": "execute_result"
    }
   ],
   "source": [
    "X_sc[:5]"
   ]
  },
  {
   "cell_type": "code",
   "execution_count": 71,
   "id": "d209560c",
   "metadata": {},
   "outputs": [
    {
     "data": {
      "text/plain": [
       "array([0, 0, 0, 0, 0], dtype=int64)"
      ]
     },
     "execution_count": 71,
     "metadata": {},
     "output_type": "execute_result"
    }
   ],
   "source": [
    "y[:5]"
   ]
  },
  {
   "cell_type": "code",
   "execution_count": 72,
   "id": "bc35e8b5",
   "metadata": {},
   "outputs": [
    {
     "data": {
      "text/plain": [
       "((426, 2), (143, 2))"
      ]
     },
     "execution_count": 72,
     "metadata": {},
     "output_type": "execute_result"
    }
   ],
   "source": [
    "from sklearn.model_selection import train_test_split\n",
    "\n",
    "X_train, X_test, y_train, y_test = train_test_split(X_sc, y, test_size=0.25, random_state=1) #\n",
    "\n",
    "X_train.shape, X_test.shape"
   ]
  },
  {
   "cell_type": "code",
   "execution_count": 73,
   "id": "92c98428-9d06-4664-ac54-77bb76d47966",
   "metadata": {},
   "outputs": [
    {
     "data": {
      "text/plain": [
       "((426,), (143,))"
      ]
     },
     "execution_count": 73,
     "metadata": {},
     "output_type": "execute_result"
    }
   ],
   "source": [
    "y_train.shape, y_test.shape "
   ]
  },
  {
   "cell_type": "code",
   "execution_count": 74,
   "id": "8dfbcd71-319f-4de1-bff4-f961747e156f",
   "metadata": {},
   "outputs": [
    {
     "data": {
      "text/plain": [
       "array([[ 0.31034466,  2.63664885],\n",
       "       [ 0.23650097, -0.04413248],\n",
       "       [ 0.15697699,  0.19555543],\n",
       "       [-1.0813249 , -0.68407594],\n",
       "       [-0.64678318, -0.42577149]])"
      ]
     },
     "execution_count": 74,
     "metadata": {},
     "output_type": "execute_result"
    }
   ],
   "source": [
    "X_train[:5]"
   ]
  },
  {
   "cell_type": "code",
   "execution_count": 75,
   "id": "afeef49a-af9f-4044-bcfd-bcfdb7524b40",
   "metadata": {},
   "outputs": [
    {
     "data": {
      "text/plain": [
       "array([0, 1, 0, 1, 1], dtype=int64)"
      ]
     },
     "execution_count": 75,
     "metadata": {},
     "output_type": "execute_result"
    }
   ],
   "source": [
    "y_train[:5]"
   ]
  },
  {
   "cell_type": "code",
   "execution_count": 76,
   "id": "4833b053",
   "metadata": {},
   "outputs": [
    {
     "name": "stdout",
     "output_type": "stream",
     "text": [
      "Train; Class 0: 157\n",
      "Train; Class 1: 269\n",
      "Total: 426\n"
     ]
    }
   ],
   "source": [
    "## Training set (class 0 & 1)\n",
    "print('Train; Class 0:', len(y_train[y_train==0]))\n",
    "print('Train; Class 1:', len(y_train[y_train==1]))\n",
    "print('Total:',len(y_train))"
   ]
  },
  {
   "cell_type": "markdown",
   "id": "0db7ceba-63c1-479a-a57b-7b0721d4b0e3",
   "metadata": {},
   "source": [
    "## Model"
   ]
  },
  {
   "cell_type": "code",
   "execution_count": 36,
   "id": "a7dd6703-e028-4b1b-a144-f386e88bc26d",
   "metadata": {},
   "outputs": [],
   "source": [
    "from tensorflow.keras import Sequential\n",
    "from tensorflow.keras.layers import Dense, Input "
   ]
  },
  {
   "cell_type": "code",
   "execution_count": 37,
   "id": "4c626de1-17fb-4c4a-a2af-cdac94e90494",
   "metadata": {},
   "outputs": [
    {
     "data": {
      "text/plain": [
       "(426, 2)"
      ]
     },
     "execution_count": 37,
     "metadata": {},
     "output_type": "execute_result"
    }
   ],
   "source": [
    "X_train.shape"
   ]
  },
  {
   "cell_type": "code",
   "execution_count": 38,
   "id": "4be4f8ac-b6db-441c-9dcb-244213148918",
   "metadata": {},
   "outputs": [
    {
     "data": {
      "text/plain": [
       "2"
      ]
     },
     "execution_count": 38,
     "metadata": {},
     "output_type": "execute_result"
    }
   ],
   "source": [
    "input_size = X_train.shape[-1]     # input size\n",
    "input_size"
   ]
  },
  {
   "cell_type": "markdown",
   "id": "1aec608a",
   "metadata": {},
   "source": [
    "### Create a Model"
   ]
  },
  {
   "cell_type": "raw",
   "id": "743091cf-6d4c-450a-909b-6292844f244e",
   "metadata": {},
   "source": [
    "(input: 2-dim)\n",
    "       ↧\n",
    "[Dense (32 units, relu activation)]\n",
    "       ↧\n",
    "[Dense (1 unit, sigmoid activation)]\n",
    "       ↧\n",
    "(output: probability 2 classes)"
   ]
  },
  {
   "cell_type": "code",
   "execution_count": 103,
   "id": "4f4d145b",
   "metadata": {},
   "outputs": [],
   "source": [
    "# Sequential Model using Input\n",
    "model = Sequential()\n",
    "\n",
    "# model.add(Input(shape=(2,)))\n",
    "model.add(Input(shape=(input_size,)))\n",
    "\n",
    "model.add(Dense(128, activation='relu'))  \n",
    "# model.add(Dense(128, activation='relu'))  \n",
    "# model.add(Dense(128, activation='relu'))  \n",
    "\n",
    "model.add(Dense(1, activation='sigmoid'))   # 2 class (Binary classification)"
   ]
  },
  {
   "cell_type": "code",
   "execution_count": null,
   "id": "9f6ee1e0-e720-4e7f-be67-1ca5a9c78d90",
   "metadata": {},
   "outputs": [],
   "source": [
    "# Sequential Model  (ไม่ใช้ Input แต่กำหนดที่ Dense Layer)\n",
    "model = Sequential()\n",
    "\n",
    "model.add(Dense(32, activation='relu', input_shape=(2,)))  \n",
    "# model.add(Dense(32, activation='relu', input_shape=(input_size,) ))   # \n",
    "\n",
    "model.add(Dense(1, activation='sigmoid')) # "
   ]
  },
  {
   "cell_type": "code",
   "execution_count": null,
   "id": "5e63d3fc",
   "metadata": {},
   "outputs": [],
   "source": [
    "# หรือแบบนี้\n",
    "# input_size = X_train.shape[-1]\n",
    "# model = Sequential([\n",
    "#     Dense(32, activation='relu', input_shape=(input_size,)),\n",
    "#     Dense(1, activation='sigmoid')\n",
    "# ])"
   ]
  },
  {
   "cell_type": "code",
   "execution_count": null,
   "id": "120922a7-267c-40ed-a759-5a357391e87e",
   "metadata": {},
   "outputs": [],
   "source": [
    " # Functional Model\n",
    "from tensorflow.keras.layers import Dense, Input\n",
    "from tensorflow.keras import Model\n",
    "\n",
    "inputs = Input(shape=(2,))    \n",
    "\n",
    "x = Dense(32, activation=\"relu\")(inputs)\n",
    "\n",
    "outputs = Dense(1, activation=\"relu\")(x)\n",
    "\n",
    "model = Model(inputs=inputs, outputs=outputs, name=\"my_model\")\n",
    "model.summary()"
   ]
  },
  {
   "cell_type": "markdown",
   "id": "4a7cc412",
   "metadata": {},
   "source": [
    "### Model Info"
   ]
  },
  {
   "cell_type": "code",
   "execution_count": 78,
   "id": "0eff0b77-5b0d-4277-baf5-39c8503ec6c6",
   "metadata": {},
   "outputs": [
    {
     "name": "stdout",
     "output_type": "stream",
     "text": [
      "Model: \"sequential_1\"\n",
      "_________________________________________________________________\n",
      " Layer (type)                Output Shape              Param #   \n",
      "=================================================================\n",
      " dense_2 (Dense)             (None, 32)                96        \n",
      "                                                                 \n",
      " dense_3 (Dense)             (None, 1)                 33        \n",
      "                                                                 \n",
      "=================================================================\n",
      "Total params: 129\n",
      "Trainable params: 129\n",
      "Non-trainable params: 0\n",
      "_________________________________________________________________\n"
     ]
    }
   ],
   "source": [
    "model.summary()"
   ]
  },
  {
   "cell_type": "code",
   "execution_count": 79,
   "id": "5c9b2ca3-e401-4fa9-b56f-4f90c4db8874",
   "metadata": {},
   "outputs": [
    {
     "data": {
      "text/plain": [
       "(None, 1)"
      ]
     },
     "execution_count": 79,
     "metadata": {},
     "output_type": "execute_result"
    }
   ],
   "source": [
    "model.output_shape"
   ]
  },
  {
   "cell_type": "code",
   "execution_count": 80,
   "id": "64295e02-18ca-48da-962b-87f3982676a2",
   "metadata": {
    "tags": []
   },
   "outputs": [
    {
     "data": {
      "text/plain": [
       "{'name': 'sequential_1',\n",
       " 'layers': [{'class_name': 'InputLayer',\n",
       "   'config': {'batch_input_shape': (None, 2),\n",
       "    'dtype': 'float32',\n",
       "    'sparse': False,\n",
       "    'ragged': False,\n",
       "    'name': 'input_2'}},\n",
       "  {'class_name': 'Dense',\n",
       "   'config': {'name': 'dense_2',\n",
       "    'trainable': True,\n",
       "    'dtype': 'float32',\n",
       "    'units': 32,\n",
       "    'activation': 'relu',\n",
       "    'use_bias': True,\n",
       "    'kernel_initializer': {'class_name': 'GlorotUniform',\n",
       "     'config': {'seed': None}},\n",
       "    'bias_initializer': {'class_name': 'Zeros', 'config': {}},\n",
       "    'kernel_regularizer': None,\n",
       "    'bias_regularizer': None,\n",
       "    'activity_regularizer': None,\n",
       "    'kernel_constraint': None,\n",
       "    'bias_constraint': None}},\n",
       "  {'class_name': 'Dense',\n",
       "   'config': {'name': 'dense_3',\n",
       "    'trainable': True,\n",
       "    'dtype': 'float32',\n",
       "    'units': 1,\n",
       "    'activation': 'sigmoid',\n",
       "    'use_bias': True,\n",
       "    'kernel_initializer': {'class_name': 'GlorotUniform',\n",
       "     'config': {'seed': None}},\n",
       "    'bias_initializer': {'class_name': 'Zeros', 'config': {}},\n",
       "    'kernel_regularizer': None,\n",
       "    'bias_regularizer': None,\n",
       "    'activity_regularizer': None,\n",
       "    'kernel_constraint': None,\n",
       "    'bias_constraint': None}}]}"
      ]
     },
     "execution_count": 80,
     "metadata": {},
     "output_type": "execute_result"
    }
   ],
   "source": [
    "model.get_config()"
   ]
  },
  {
   "cell_type": "code",
   "execution_count": 44,
   "id": "96385a55",
   "metadata": {},
   "outputs": [
    {
     "name": "stdout",
     "output_type": "stream",
     "text": [
      "Collecting pydotplus\n",
      "  Downloading pydotplus-2.0.2.tar.gz (278 kB)\n",
      "     ------------------------------------ 278.7/278.7 kB 661.2 kB/s eta 0:00:00\n",
      "  Preparing metadata (setup.py): started\n",
      "  Preparing metadata (setup.py): finished with status 'done'\n",
      "Requirement already satisfied: pyparsing>=2.0.1 in c:\\users\\asus\\anaconda3\\lib\\site-packages (from pydotplus) (3.0.4)\n",
      "Building wheels for collected packages: pydotplus\n",
      "  Building wheel for pydotplus (setup.py): started\n",
      "  Building wheel for pydotplus (setup.py): finished with status 'done'\n",
      "  Created wheel for pydotplus: filename=pydotplus-2.0.2-py3-none-any.whl size=24575 sha256=13613ea42834a2321e81346268fcac1681795eb42a2cf57938979881484d9b43\n",
      "  Stored in directory: c:\\users\\asus\\appdata\\local\\pip\\cache\\wheels\\89\\e5\\de\\6966007cf223872eedfbebbe0e074534e72e9128c8fd4b55eb\n",
      "Successfully built pydotplus\n",
      "Installing collected packages: pydotplus\n",
      "Successfully installed pydotplus-2.0.2\n"
     ]
    }
   ],
   "source": [
    "!pip install pydotplus\n",
    "# ติดตั้ง Graphviz (https://graphviz.org/download) และ set path (Windows)"
   ]
  },
  {
   "cell_type": "code",
   "execution_count": 46,
   "id": "79c5d29d",
   "metadata": {},
   "outputs": [
    {
     "name": "stdout",
     "output_type": "stream",
     "text": [
      "You must install pydot (`pip install pydot`) and install graphviz (see instructions at https://graphviz.gitlab.io/download/) for plot_model to work.\n"
     ]
    }
   ],
   "source": [
    "# ถ้ารันไม่ได้ ให้ใช้ Colab แทน\n",
    "from tensorflow.keras.utils import plot_model\n",
    "\n",
    "plot_model(model, show_shapes=True, show_layer_names=True)"
   ]
  },
  {
   "cell_type": "markdown",
   "id": "eaa38368-3093-4771-ae39-31fe63b9d10a",
   "metadata": {},
   "source": [
    "### Compile"
   ]
  },
  {
   "cell_type": "code",
   "execution_count": 104,
   "id": "4a476110-35e7-4b84-8621-c9805e1c7fd4",
   "metadata": {},
   "outputs": [],
   "source": [
    "model.compile(loss='binary_crossentropy',\n",
    "              optimizer='adam',\n",
    "              metrics=['accuracy'])"
   ]
  },
  {
   "cell_type": "markdown",
   "id": "49a40a9a",
   "metadata": {},
   "source": [
    "### Train"
   ]
  },
  {
   "cell_type": "code",
   "execution_count": 105,
   "id": "5fb563f0-7c98-4458-b16b-54998fd52ce1",
   "metadata": {},
   "outputs": [
    {
     "name": "stdout",
     "output_type": "stream",
     "text": [
      "Epoch 1/40\n",
      "10/10 [==============================] - 1s 27ms/step - loss: 0.6889 - accuracy: 0.5016 - val_loss: 0.6502 - val_accuracy: 0.7383\n",
      "Epoch 2/40\n",
      "10/10 [==============================] - 0s 5ms/step - loss: 0.6178 - accuracy: 0.7618 - val_loss: 0.5927 - val_accuracy: 0.8224\n",
      "Epoch 3/40\n",
      "10/10 [==============================] - 0s 6ms/step - loss: 0.5604 - accuracy: 0.8245 - val_loss: 0.5422 - val_accuracy: 0.8411\n",
      "Epoch 4/40\n",
      "10/10 [==============================] - 0s 6ms/step - loss: 0.5090 - accuracy: 0.8621 - val_loss: 0.4984 - val_accuracy: 0.8598\n",
      "Epoch 5/40\n",
      "10/10 [==============================] - 0s 5ms/step - loss: 0.4642 - accuracy: 0.8903 - val_loss: 0.4600 - val_accuracy: 0.8692\n",
      "Epoch 6/40\n",
      "10/10 [==============================] - 0s 5ms/step - loss: 0.4258 - accuracy: 0.8966 - val_loss: 0.4256 - val_accuracy: 0.8692\n",
      "Epoch 7/40\n",
      "10/10 [==============================] - 0s 6ms/step - loss: 0.3906 - accuracy: 0.9028 - val_loss: 0.3962 - val_accuracy: 0.8692\n",
      "Epoch 8/40\n",
      "10/10 [==============================] - 0s 6ms/step - loss: 0.3606 - accuracy: 0.9154 - val_loss: 0.3697 - val_accuracy: 0.8692\n",
      "Epoch 9/40\n",
      "10/10 [==============================] - 0s 6ms/step - loss: 0.3338 - accuracy: 0.9185 - val_loss: 0.3474 - val_accuracy: 0.8785\n",
      "Epoch 10/40\n",
      "10/10 [==============================] - 0s 6ms/step - loss: 0.3114 - accuracy: 0.9154 - val_loss: 0.3285 - val_accuracy: 0.8785\n",
      "Epoch 11/40\n",
      "10/10 [==============================] - 0s 6ms/step - loss: 0.2927 - accuracy: 0.9154 - val_loss: 0.3118 - val_accuracy: 0.9065\n",
      "Epoch 12/40\n",
      "10/10 [==============================] - 0s 6ms/step - loss: 0.2760 - accuracy: 0.9185 - val_loss: 0.2987 - val_accuracy: 0.9065\n",
      "Epoch 13/40\n",
      "10/10 [==============================] - 0s 6ms/step - loss: 0.2625 - accuracy: 0.9216 - val_loss: 0.2869 - val_accuracy: 0.9065\n",
      "Epoch 14/40\n",
      "10/10 [==============================] - 0s 7ms/step - loss: 0.2511 - accuracy: 0.9248 - val_loss: 0.2776 - val_accuracy: 0.9065\n",
      "Epoch 15/40\n",
      "10/10 [==============================] - 0s 8ms/step - loss: 0.2424 - accuracy: 0.9216 - val_loss: 0.2697 - val_accuracy: 0.9065\n",
      "Epoch 16/40\n",
      "10/10 [==============================] - 0s 6ms/step - loss: 0.2344 - accuracy: 0.9185 - val_loss: 0.2636 - val_accuracy: 0.9065\n",
      "Epoch 17/40\n",
      "10/10 [==============================] - 0s 6ms/step - loss: 0.2284 - accuracy: 0.9216 - val_loss: 0.2585 - val_accuracy: 0.9065\n",
      "Epoch 18/40\n",
      "10/10 [==============================] - 0s 7ms/step - loss: 0.2232 - accuracy: 0.9216 - val_loss: 0.2541 - val_accuracy: 0.9065\n",
      "Epoch 19/40\n",
      "10/10 [==============================] - 0s 6ms/step - loss: 0.2193 - accuracy: 0.9216 - val_loss: 0.2497 - val_accuracy: 0.9065\n",
      "Epoch 20/40\n",
      "10/10 [==============================] - 0s 6ms/step - loss: 0.2155 - accuracy: 0.9216 - val_loss: 0.2467 - val_accuracy: 0.9065\n",
      "Epoch 21/40\n",
      "10/10 [==============================] - 0s 7ms/step - loss: 0.2132 - accuracy: 0.9248 - val_loss: 0.2434 - val_accuracy: 0.9065\n",
      "Epoch 22/40\n",
      "10/10 [==============================] - 0s 5ms/step - loss: 0.2102 - accuracy: 0.9248 - val_loss: 0.2416 - val_accuracy: 0.9159\n",
      "Epoch 23/40\n",
      "10/10 [==============================] - 0s 5ms/step - loss: 0.2089 - accuracy: 0.9216 - val_loss: 0.2391 - val_accuracy: 0.9065\n",
      "Epoch 24/40\n",
      "10/10 [==============================] - 0s 8ms/step - loss: 0.2067 - accuracy: 0.9216 - val_loss: 0.2375 - val_accuracy: 0.9159\n",
      "Epoch 25/40\n",
      "10/10 [==============================] - 0s 6ms/step - loss: 0.2053 - accuracy: 0.9216 - val_loss: 0.2356 - val_accuracy: 0.9159\n",
      "Epoch 26/40\n",
      "10/10 [==============================] - 0s 6ms/step - loss: 0.2041 - accuracy: 0.9216 - val_loss: 0.2348 - val_accuracy: 0.9159\n",
      "Epoch 27/40\n",
      "10/10 [==============================] - 0s 6ms/step - loss: 0.2030 - accuracy: 0.9216 - val_loss: 0.2339 - val_accuracy: 0.9065\n",
      "Epoch 28/40\n",
      "10/10 [==============================] - 0s 6ms/step - loss: 0.2021 - accuracy: 0.9185 - val_loss: 0.2320 - val_accuracy: 0.9065\n",
      "Epoch 29/40\n",
      "10/10 [==============================] - 0s 7ms/step - loss: 0.2012 - accuracy: 0.9185 - val_loss: 0.2315 - val_accuracy: 0.9159\n",
      "Epoch 30/40\n",
      "10/10 [==============================] - 0s 6ms/step - loss: 0.2008 - accuracy: 0.9216 - val_loss: 0.2310 - val_accuracy: 0.9159\n",
      "Epoch 31/40\n",
      "10/10 [==============================] - 0s 6ms/step - loss: 0.1999 - accuracy: 0.9185 - val_loss: 0.2295 - val_accuracy: 0.9159\n",
      "Epoch 32/40\n",
      "10/10 [==============================] - 0s 6ms/step - loss: 0.1990 - accuracy: 0.9185 - val_loss: 0.2291 - val_accuracy: 0.9065\n",
      "Epoch 33/40\n",
      "10/10 [==============================] - 0s 6ms/step - loss: 0.1988 - accuracy: 0.9154 - val_loss: 0.2287 - val_accuracy: 0.9065\n",
      "Epoch 34/40\n",
      "10/10 [==============================] - 0s 6ms/step - loss: 0.1982 - accuracy: 0.9154 - val_loss: 0.2276 - val_accuracy: 0.9065\n",
      "Epoch 35/40\n",
      "10/10 [==============================] - 0s 6ms/step - loss: 0.1978 - accuracy: 0.9154 - val_loss: 0.2273 - val_accuracy: 0.8972\n",
      "Epoch 36/40\n",
      "10/10 [==============================] - 0s 6ms/step - loss: 0.1975 - accuracy: 0.9216 - val_loss: 0.2269 - val_accuracy: 0.9065\n",
      "Epoch 37/40\n",
      "10/10 [==============================] - 0s 5ms/step - loss: 0.1970 - accuracy: 0.9185 - val_loss: 0.2274 - val_accuracy: 0.8972\n",
      "Epoch 38/40\n",
      "10/10 [==============================] - 0s 5ms/step - loss: 0.1966 - accuracy: 0.9248 - val_loss: 0.2268 - val_accuracy: 0.8972\n",
      "Epoch 39/40\n",
      "10/10 [==============================] - 0s 5ms/step - loss: 0.1962 - accuracy: 0.9216 - val_loss: 0.2260 - val_accuracy: 0.9065\n",
      "Epoch 40/40\n",
      "10/10 [==============================] - 0s 5ms/step - loss: 0.1960 - accuracy: 0.9216 - val_loss: 0.2255 - val_accuracy: 0.9065\n",
      "Time Taken 3.135 secs\n",
      "Time Taken: 3.135 secs\n"
     ]
    }
   ],
   "source": [
    "import time\n",
    "\n",
    "start = time.time()\n",
    "history = model.fit(X_train, y_train, epochs=40, verbose=1, batch_size=32, validation_split=0.25) # 10 +10 40 100\n",
    "end = time.time()\n",
    "\n",
    "print(f\"Time Taken {end - start:.3f} secs\")\n",
    "print(\"Time Taken: {:.3f} secs\".format(end - start))"
   ]
  },
  {
   "cell_type": "markdown",
   "id": "545f9539",
   "metadata": {},
   "source": [
    "## Loss and Accuracy Curves"
   ]
  },
  {
   "cell_type": "code",
   "execution_count": 106,
   "id": "cb73ad86-391c-4a69-a307-4d9778161451",
   "metadata": {},
   "outputs": [
    {
     "data": {
      "text/plain": [
       "{'verbose': 1, 'epochs': 40, 'steps': 10}"
      ]
     },
     "execution_count": 106,
     "metadata": {},
     "output_type": "execute_result"
    }
   ],
   "source": [
    "history.params"
   ]
  },
  {
   "cell_type": "code",
   "execution_count": 107,
   "id": "1d300efe",
   "metadata": {},
   "outputs": [
    {
     "data": {
      "text/plain": [
       "dict_keys(['loss', 'accuracy', 'val_loss', 'val_accuracy'])"
      ]
     },
     "execution_count": 107,
     "metadata": {},
     "output_type": "execute_result"
    }
   ],
   "source": [
    "history.history.keys()"
   ]
  },
  {
   "cell_type": "code",
   "execution_count": 108,
   "id": "bec156e8",
   "metadata": {},
   "outputs": [
    {
     "data": {
      "image/png": "[encoded data removed]",
      "text/plain": [
       "<Figure size 432x288 with 1 Axes>"
      ]
     },
     "metadata": {
      "needs_background": "light"
     },
     "output_type": "display_data"
    }
   ],
   "source": [
    "# plt.figure(figsize=(4.7, 3.5))\n",
    "\n",
    "plt.plot(history.history['loss'], '--', c='b', lw=2, label='Trainning')\n",
    "plt.plot(history.history['val_loss'], c='r', lw=3, label='Validation')\n",
    "\n",
    "plt.xlabel('Epoch')\n",
    "plt.ylabel('Loss')\n",
    "\n",
    "plt.legend()\n",
    "plt.title('Loss Curve')\n",
    "plt.show()"
   ]
  },
  {
   "cell_type": "code",
   "execution_count": 109,
   "id": "86ad550c",
   "metadata": {},
   "outputs": [
    {
     "data": {
      "image/png": "[encoded data removed]",
      "text/plain": [
       "<Figure size 432x288 with 1 Axes>"
      ]
     },
     "metadata": {
      "needs_background": "light"
     },
     "output_type": "display_data"
    }
   ],
   "source": [
    "plt.plot(history.history['accuracy'], '--', c='b', lw=2, label='Trainning')\n",
    "plt.plot(history.history['val_accuracy'], c='r', lw=3, label='Validation')\n",
    "plt.xlabel('Epoch')\n",
    "plt.ylabel('Loss')\n",
    "plt.legend()\n",
    "plt.title('Accuracy Curve')\n",
    "plt.show()"
   ]
  },
  {
   "cell_type": "markdown",
   "id": "e2fc7303",
   "metadata": {},
   "source": [
    "### Loss and Accuracy (2-Column curve)"
   ]
  },
  {
   "cell_type": "code",
   "execution_count": 110,
   "id": "466fa4f8",
   "metadata": {},
   "outputs": [
    {
     "data": {
      "image/png": "[encoded data removed]",
      "text/plain": [
       "<Figure size 864x288 with 2 Axes>"
      ]
     },
     "metadata": {
      "needs_background": "light"
     },
     "output_type": "display_data"
    }
   ],
   "source": [
    "# 2 Columns\n",
    "plt.figure(figsize=(12, 4))\n",
    "\n",
    "plt.subplot(1, 2, 1)   # row column index\n",
    "plt.plot(history.history['loss'], '--', c='b', lw=2, label='Trainning')\n",
    "plt.plot(history.history['val_loss'], c='r', lw=3, label='Validation')\n",
    "plt.title('Loss Curve')\n",
    "plt.legend()\n",
    "plt.xlabel('Epoch')\n",
    "plt.ylabel('Loss')\n",
    "\n",
    "plt.subplot(1, 2, 2)   # row column index\n",
    "plt.plot(history.history['accuracy'], '--', c='b', lw=2, label='Trainning')\n",
    "plt.plot(history.history['val_accuracy'], c='r', lw=3, label='Validation')\n",
    "plt.xlabel('Epoch')\n",
    "plt.ylabel('Loss')\n",
    "plt.legend()\n",
    "plt.title('Accuracy Curve')\n",
    "plt.show()"
   ]
  },
  {
   "cell_type": "code",
   "execution_count": null,
   "id": "c1fe8310",
   "metadata": {},
   "outputs": [],
   "source": [
    "Image(filename='images/ch09 Tensorflow/DL 20220506 144438.png')"
   ]
  },
  {
   "cell_type": "markdown",
   "id": "e16f7046-27f6-48cb-83e8-07d37b7b8366",
   "metadata": {},
   "source": [
    "## Tensor board"
   ]
  },
  {
   "cell_type": "code",
   "execution_count": 101,
   "id": "bccc3643-43d6-43c3-b0e3-e671d4ce19b1",
   "metadata": {},
   "outputs": [],
   "source": [
    "from keras.callbacks import TensorBoard\n",
    "\n",
    "history = model.fit(X_train, y_train, epochs=40, verbose=0, \n",
    "                    batch_size=32, validation_split=0.25,\n",
    "                    callbacks=[TensorBoard(log_dir='./log')])  \n"
   ]
  },
  {
   "cell_type": "code",
   "execution_count": 102,
   "id": "8bcc2f07-39b2-499e-bcaa-5fb287259a64",
   "metadata": {},
   "outputs": [
    {
     "data": {
      "text/html": [
       "\n",
       "      <iframe id=\"tensorboard-frame-c3cf8fc6daa9f75b\" width=\"100%\" height=\"800\" frameborder=\"0\">\n",
       "      </iframe>\n",
       "      <script>\n",
       "        (function() {\n",
       "          const frame = document.getElementById(\"tensorboard-frame-c3cf8fc6daa9f75b\");\n",
       "          const url = new URL(\"/\", window.location);\n",
       "          const port = 6006;\n",
       "          if (port) {\n",
       "            url.port = port;\n",
       "          }\n",
       "          frame.src = url;\n",
       "        })();\n",
       "      </script>\n",
       "    "
      ],
      "text/plain": [
       "<IPython.core.display.HTML object>"
      ]
     },
     "metadata": {},
     "output_type": "display_data"
    }
   ],
   "source": [
    "%load_ext tensorboard\n",
    "# %reload_ext tensorboard\n",
    "%tensorboard --logdir ./log"
   ]
  },
  {
   "cell_type": "markdown",
   "id": "7b8afbf2",
   "metadata": {},
   "source": [
    "## Evaluate\n",
    "- epochs=10, Hidden=32, accuracy: 0.8252\n",
    "- epochs=20 (train +10), Hidden=32, accuracy: 0.85\n",
    "- epochs=40, Hidden=32, accuracy: 0.86"
   ]
  },
  {
   "cell_type": "code",
   "execution_count": 111,
   "id": "70265107-2a2b-4688-82ab-dd3055d93c51",
   "metadata": {},
   "outputs": [
    {
     "name": "stdout",
     "output_type": "stream",
     "text": [
      "Test loss: 0.35196995735168457\n",
      "Test accuracy: 0.8531\n"
     ]
    }
   ],
   "source": [
    "score = model.evaluate(X_test, y_test, verbose=0)\n",
    "print(\"Test loss:\", score[0])\n",
    "print(f\"Test accuracy: {score[1]:.4f}\")"
   ]
  },
  {
   "cell_type": "code",
   "execution_count": 89,
   "id": "0786adeb-b7e4-4998-bf96-c6dba159eb06",
   "metadata": {},
   "outputs": [
    {
     "name": "stdout",
     "output_type": "stream",
     "text": [
      "5/5 [==============================] - 0s 2ms/step\n"
     ]
    },
    {
     "data": {
      "text/plain": [
       "array([[0.915909  ],\n",
       "       [0.8877876 ],\n",
       "       [0.9494694 ],\n",
       "       [0.05240436]], dtype=float32)"
      ]
     },
     "execution_count": 89,
     "metadata": {},
     "output_type": "execute_result"
    }
   ],
   "source": [
    "y_pred_pr = model.predict(X_test)\n",
    "y_pred_pr[:4]"
   ]
  },
  {
   "cell_type": "code",
   "execution_count": null,
   "id": "a2f67e3e-6b86-4cef-bcd0-1eca9a77bbf6",
   "metadata": {},
   "outputs": [],
   "source": [
    "Image(filename='images/ch09 Tensorflow/DL 20220506 143228.png')"
   ]
  },
  {
   "cell_type": "code",
   "execution_count": 90,
   "id": "1408414f",
   "metadata": {},
   "outputs": [
    {
     "data": {
      "text/plain": [
       "array([[1],\n",
       "       [1],\n",
       "       [1],\n",
       "       [0]])"
      ]
     },
     "execution_count": 90,
     "metadata": {},
     "output_type": "execute_result"
    }
   ],
   "source": [
    "y_pred = (y_pred_pr > 0.5).astype(int)  \n",
    "# y_pred = np.where(y_pred_pr > .5, 1,0)\n",
    "\n",
    "y_pred[:4]"
   ]
  },
  {
   "cell_type": "code",
   "execution_count": 91,
   "id": "5caa5897",
   "metadata": {},
   "outputs": [
    {
     "name": "stdout",
     "output_type": "stream",
     "text": [
      "Score-> 0.8461538553237915\n",
      "              precision    recall  f1-score   support\n",
      "\n",
      "           0       0.82      0.76      0.79        55\n",
      "           1       0.86      0.90      0.88        88\n",
      "\n",
      "    accuracy                           0.85       143\n",
      "   macro avg       0.84      0.83      0.84       143\n",
      "weighted avg       0.85      0.85      0.84       143\n",
      "\n",
      "[[42 13]\n",
      " [ 9 79]]\n"
     ]
    }
   ],
   "source": [
    "from sklearn.metrics import classification_report, confusion_matrix\n",
    "\n",
    "print('Score->',score[1])\n",
    "\n",
    "print(classification_report(y_test, y_pred))\n",
    "print(confusion_matrix(y_test, y_pred))"
   ]
  },
  {
   "cell_type": "code",
   "execution_count": 92,
   "id": "0db193d2",
   "metadata": {},
   "outputs": [
    {
     "data": {
      "image/png": "[encoded data removed]",
      "text/plain": [
       "<Figure size 432x288 with 2 Axes>"
      ]
     },
     "metadata": {
      "needs_background": "light"
     },
     "output_type": "display_data"
    }
   ],
   "source": [
    "from sklearn.metrics import confusion_matrix, ConfusionMatrixDisplay\n",
    "\n",
    "cm = confusion_matrix(y_test, y_pred)   ## <-- \n",
    "ConfusionMatrixDisplay(cm, display_labels=class_names).plot()\n",
    "plt.title('Confusion Matrix')\n",
    "plt.show()"
   ]
  },
  {
   "cell_type": "markdown",
   "id": "24c6cbe3",
   "metadata": {},
   "source": [
    "## Decision Regions"
   ]
  },
  {
   "cell_type": "code",
   "execution_count": 112,
   "id": "f6d8c1fc-026a-47d1-9a80-8ac54a70b52d",
   "metadata": {},
   "outputs": [
    {
     "name": "stdout",
     "output_type": "stream",
     "text": [
      "3888/3888 [==============================] - 5s 1ms/step\n"
     ]
    },
    {
     "data": {
      "image/png": "[encoded data removed]",
      "text/plain": [
       "<Figure size 432x288 with 1 Axes>"
      ]
     },
     "metadata": {},
     "output_type": "display_data"
    }
   ],
   "source": [
    "from mlxtend.plotting import plot_decision_regions\n",
    "\n",
    "ax = plot_decision_regions(X_test, y_test, clf=model)\n",
    "\n",
    "handles, labels = ax.get_legend_handles_labels()\n",
    "ax.legend(handles, class_names, framealpha=0.5)\n",
    "\n",
    "plt.title('Breast Cancer:') \n",
    "plt.xticks([])\n",
    "plt.yticks([])\n",
    "plt.xlabel('mean radius')\n",
    "plt.ylabel('mean texture')\n",
    "plt.show()"
   ]
  },
  {
   "cell_type": "markdown",
   "id": "bb71ecd7-8edb-4aba-bd37-a0c1af2d2ccc",
   "metadata": {},
   "source": [
    "## Predict"
   ]
  },
  {
   "cell_type": "code",
   "execution_count": 113,
   "id": "b49502ca-bb61-4c8e-80a7-9d98ca2fc1aa",
   "metadata": {},
   "outputs": [
    {
     "name": "stderr",
     "output_type": "stream",
     "text": [
      "C:\\Users\\Asus\\anaconda3\\lib\\site-packages\\sklearn\\base.py:450: UserWarning: X does not have valid feature names, but StandardScaler was fitted with feature names\n",
      "  warnings.warn(\n"
     ]
    },
    {
     "data": {
      "text/plain": [
       "array([[ 0.64548141, -1.20766604],\n",
       "       [ 1.24191122, -0.97495933]])"
      ]
     },
     "execution_count": 113,
     "metadata": {},
     "output_type": "execute_result"
    }
   ],
   "source": [
    "# X_new = [[16.4, 14.1]] #\n",
    "X_new = [[16.4, 14.1],  # \n",
    "         [18.5, 15.1]] #\n",
    "\n",
    "X_new_sc = sc.transform(X_new)\n",
    "X_new_sc"
   ]
  },
  {
   "cell_type": "code",
   "execution_count": 114,
   "id": "f27a255f-5eec-4bbb-84c7-040c828c0a14",
   "metadata": {},
   "outputs": [
    {
     "name": "stdout",
     "output_type": "stream",
     "text": [
      "1/1 [==============================] - 0s 61ms/step\n"
     ]
    },
    {
     "data": {
      "text/plain": [
       "array([[0.7300039 ],\n",
       "       [0.13591857]], dtype=float32)"
      ]
     },
     "execution_count": 114,
     "metadata": {},
     "output_type": "execute_result"
    }
   ],
   "source": [
    "y_pred_pr = model.predict(X_new_sc)\n",
    "y_pred_pr"
   ]
  },
  {
   "cell_type": "code",
   "execution_count": 115,
   "id": "a616d326",
   "metadata": {},
   "outputs": [
    {
     "data": {
      "text/plain": [
       "array([[1],\n",
       "       [0]])"
      ]
     },
     "execution_count": 115,
     "metadata": {},
     "output_type": "execute_result"
    }
   ],
   "source": [
    "y_pred = (y_pred_pr > 0.5).astype(int) \n",
    "y_pred"
   ]
  },
  {
   "cell_type": "code",
   "execution_count": 116,
   "id": "37c40d6c",
   "metadata": {},
   "outputs": [
    {
     "data": {
      "text/plain": [
       "array([1, 0])"
      ]
     },
     "execution_count": 116,
     "metadata": {},
     "output_type": "execute_result"
    }
   ],
   "source": [
    "y_pred = y_pred.reshape(1,-1)[0]\n",
    "y_pred"
   ]
  },
  {
   "cell_type": "code",
   "execution_count": 117,
   "id": "ae899748",
   "metadata": {},
   "outputs": [
    {
     "name": "stdout",
     "output_type": "stream",
     "text": [
      "Index(['benign', 'malignant'], dtype='object')\n"
     ]
    }
   ],
   "source": [
    "print(class_names[y_pred])"
   ]
  },
  {
   "cell_type": "code",
   "execution_count": 118,
   "id": "fe501b9a-4227-4eba-81d6-953139003ebc",
   "metadata": {},
   "outputs": [
    {
     "name": "stdout",
     "output_type": "stream",
     "text": [
      "3888/3888 [==============================] - 5s 1ms/step\n"
     ]
    },
    {
     "data": {
      "image/png": "[encoded data removed]",
      "text/plain": [
       "<Figure size 432x288 with 1 Axes>"
      ]
     },
     "metadata": {},
     "output_type": "display_data"
    }
   ],
   "source": [
    "from mlxtend.plotting import plot_decision_regions\n",
    "\n",
    "ax = plot_decision_regions(X_test, y_test, clf=model)\n",
    "\n",
    "handles, labels = ax.get_legend_handles_labels()\n",
    "ax.legend(handles, class_names, framealpha=0.5)\n",
    "\n",
    "plt.title('Breast Cancer: New data points')\n",
    "plt.xticks([])\n",
    "plt.yticks([])\n",
    "plt.xlabel('mean radius')\n",
    "plt.ylabel('mean texture')\n",
    "\n",
    "plt.scatter(X_new_sc[:,0][y_pred==0], X_new_sc[:,1][y_pred==0], marker='s', s=200, c='b')\n",
    "plt.scatter(X_new_sc[:,0][y_pred==1], X_new_sc[:,1][y_pred==1], marker='^', s=320, c='r') # \n",
    "\n",
    "plt.show()"
   ]
  },
  {
   "cell_type": "markdown",
   "id": "2705320f-ab6f-413b-b642-1389f6079ae9",
   "metadata": {},
   "source": [
    "# Save Model"
   ]
  },
  {
   "cell_type": "code",
   "execution_count": 120,
   "id": "c56cadc9-9671-41f3-a6f8-63be4007e2ea",
   "metadata": {},
   "outputs": [],
   "source": [
    "model.save('./mymodel.h5')"
   ]
  },
  {
   "cell_type": "code",
   "execution_count": 121,
   "id": "ba0e2751-526d-451b-a157-28707dabd3cb",
   "metadata": {},
   "outputs": [
    {
     "name": "stdout",
     "output_type": "stream",
     "text": [
      "INFO:tensorflow:Assets written to: ./mymodel1\\assets\n"
     ]
    }
   ],
   "source": [
    "model.save('./mymodel1')"
   ]
  },
  {
   "cell_type": "markdown",
   "id": "73f41662-eb5d-4272-8924-8142fccc3c18",
   "metadata": {},
   "source": [
    "# Save Feature Scaler"
   ]
  },
  {
   "cell_type": "code",
   "execution_count": 122,
   "id": "e198a3bb-3e6c-4b61-89e3-417278a0362b",
   "metadata": {},
   "outputs": [],
   "source": [
    "import pickle\n",
    "pickle.dump(sc, open('./scaler.pkl','wb'))"
   ]
  },
  {
   "cell_type": "markdown",
   "id": "4ec41f7a-4dd2-430f-8f2a-185700d714bb",
   "metadata": {},
   "source": [
    "# Save Classnames"
   ]
  },
  {
   "cell_type": "code",
   "execution_count": 123,
   "id": "e6cbdeee-4d60-4862-879c-d57e8123c0ab",
   "metadata": {},
   "outputs": [],
   "source": [
    "file_name = \"classname.pkl\"\n",
    "\n",
    "open_file = open(file_name, \"wb\")\n",
    "pickle.dump(class_names, open_file)\n",
    "open_file.close()"
   ]
  },
  {
   "cell_type": "code",
   "execution_count": 124,
   "id": "4cf10d96-0d47-4192-87d6-b7c42b9671a1",
   "metadata": {},
   "outputs": [
    {
     "data": {
      "text/plain": [
       "Index(['malignant', 'benign'], dtype='object')"
      ]
     },
     "execution_count": 124,
     "metadata": {},
     "output_type": "execute_result"
    }
   ],
   "source": [
    "class_names"
   ]
  },
  {
   "cell_type": "code",
   "execution_count": null,
   "id": "b24a3b63-030f-47f1-a751-400243ec947b",
   "metadata": {},
   "outputs": [],
   "source": []
  },
  {
   "cell_type": "markdown",
   "id": "be6934b7-17e3-49ca-8c33-10abf7033e7b",
   "metadata": {},
   "source": [
    "# Load Model & Feature Scaler"
   ]
  },
  {
   "cell_type": "code",
   "execution_count": null,
   "id": "0b839ee7-53c4-482f-8c6a-714e08c6380c",
   "metadata": {},
   "outputs": [],
   "source": [
    "from tensorflow.keras.models import load_model\n",
    "\n",
    "my_model = load_model('./mymodel.h5') "
   ]
  },
  {
   "cell_type": "code",
   "execution_count": null,
   "id": "f6989e65-56a3-4e38-ab42-e837186b0e5f",
   "metadata": {},
   "outputs": [],
   "source": [
    "my_model.summary()"
   ]
  },
  {
   "cell_type": "code",
   "execution_count": null,
   "id": "3fdcb3a9-2d4a-444f-9b50-974bbd681676",
   "metadata": {},
   "outputs": [],
   "source": [
    "from tensorflow.keras.models import load_model\n",
    "\n",
    "new_model = load_model('./mymodel1')"
   ]
  },
  {
   "cell_type": "code",
   "execution_count": null,
   "id": "d5df0261-5353-4315-a7c2-f8f6cce8245f",
   "metadata": {
    "tags": []
   },
   "outputs": [],
   "source": [
    "model = new_model"
   ]
  },
  {
   "cell_type": "code",
   "execution_count": null,
   "id": "4f4ade13-0687-4a91-834f-70857d207352",
   "metadata": {
    "tags": []
   },
   "outputs": [],
   "source": [
    "# List all weight tensors \n",
    "model.get_weights()"
   ]
  },
  {
   "cell_type": "markdown",
   "id": "b6bfba23",
   "metadata": {},
   "source": [
    "# Load Feature Scaler"
   ]
  },
  {
   "cell_type": "code",
   "execution_count": null,
   "id": "71e3fca2-6a2d-45ee-b7ab-f031b971d44e",
   "metadata": {
    "tags": []
   },
   "outputs": [],
   "source": [
    "import pickle\n",
    "sc2 = pickle.load(open('./scaler.pkl','rb'))"
   ]
  },
  {
   "cell_type": "code",
   "execution_count": null,
   "id": "9cf127df-7e44-4d05-89b7-fa03be4e415d",
   "metadata": {
    "tags": []
   },
   "outputs": [],
   "source": [
    "file_name = \"classname.pkl\"\n",
    "open_file = open(file_name, \"rb\")\n",
    "class_names = pickle.load(open_file)\n",
    "open_file.close()\n",
    "\n",
    "class_names"
   ]
  },
  {
   "cell_type": "code",
   "execution_count": null,
   "id": "492488c8-64ff-4659-9514-c05efcc751a3",
   "metadata": {
    "tags": []
   },
   "outputs": [],
   "source": [
    "X_new = [[16.4, 14.1]] # \n",
    "X_new = [[16.4, 14.1],  # \n",
    "         [18.5, 15.1],\n",
    "         [17.7, 18.7]] #\n",
    "\n",
    "X_new_sc = sc2.transform(X_new)"
   ]
  },
  {
   "cell_type": "code",
   "execution_count": null,
   "id": "28dc048f-fe36-499a-94e4-c2fa3c90c79e",
   "metadata": {
    "tags": []
   },
   "outputs": [],
   "source": [
    "y_pred_pr = my_model.predict(X_new_sc)\n",
    "y_pred = (y_pred_pr > 0.5).astype(int) \n",
    "y_pred"
   ]
  },
  {
   "cell_type": "code",
   "execution_count": null,
   "id": "204ddebf-344d-43a9-bd95-918917aa5fbd",
   "metadata": {
    "tags": []
   },
   "outputs": [],
   "source": [
    "print(class_names[y_pred])"
   ]
  },
  {
   "cell_type": "code",
   "execution_count": null,
   "id": "5dbb263e-5e6e-48ea-9cef-d1a607d71794",
   "metadata": {
    "tags": []
   },
   "outputs": [],
   "source": [
    "import matplotlib.pyplot as plt\n",
    "from mlxtend.plotting import plot_decision_regions\n",
    "\n",
    "y = y_pred.reshape(1, -1)[0]\n",
    "\n",
    "ax = plot_decision_regions(X_new_sc, y, clf=my_model)\n",
    "\n",
    "handles, labels = ax.get_legend_handles_labels()\n",
    "ax.legend(handles, class_names, framealpha=0.5)\n",
    "\n",
    "plt.title('Breast Cancer (from saved model)') \n",
    "# plt.xticks([])\n",
    "plt.yticks([])\n",
    "plt.xlabel('mean radius')\n",
    "plt.ylabel('mean texture')\n",
    "\n",
    "plt.scatter(X_new_sc[:,0][y==0], X_new_sc[:,1][y==0], marker='s', s=150, c='b')\n",
    "plt.scatter(X_new_sc[:,0][y==1], X_new_sc[:,1][y==1], marker='^', s=150, c='r')\n",
    "plt.show()"
   ]
  },
  {
   "cell_type": "code",
   "execution_count": null,
   "id": "ec07a2a9",
   "metadata": {},
   "outputs": [],
   "source": []
  },
  {
   "cell_type": "code",
   "execution_count": null,
   "id": "8c4ff977",
   "metadata": {},
   "outputs": [],
   "source": []
  },
  {
   "cell_type": "markdown",
   "id": "b9e862f1",
   "metadata": {},
   "source": [
    "# Summary\n",
    "- Instance Model (create a model)\n",
    "- Add Layers\n",
    "- Compile\n",
    "- Train"
   ]
  },
  {
   "cell_type": "code",
   "execution_count": null,
   "id": "b86f0d8b",
   "metadata": {},
   "outputs": [],
   "source": [
    "from tensorflow.keras import Sequential\n",
    "from tensorflow.keras.layers import Dense\n",
    "\n",
    "model = Sequential()\n",
    "model.add(Dense(32, activation='relu', input_shape=(2,)))     # \n",
    "model.add(Dense(1, activation='sigmoid')) # \n",
    "\n",
    "model.compile(loss='binary_crossentropy',\n",
    "              optimizer='adam',\n",
    "              metrics=['accuracy'])\n",
    "\n",
    "model.fit(X_train, y_train, epochs=40, verbose=1, batch_size=32, validation_split=0.25)  \n",
    "# verbose=1 with progrss bar\n",
    "# history = model.fit(X_train, y_train, epochs=40, verbose=1, batch_size=32, validation_split=0.25)"
   ]
  },
  {
   "cell_type": "code",
   "execution_count": 119,
   "id": "42628879",
   "metadata": {},
   "outputs": [
    {
     "name": "stdout",
     "output_type": "stream",
     "text": [
      "Model: \"sequential_3\"\n",
      "_________________________________________________________________\n",
      " Layer (type)                Output Shape              Param #   \n",
      "=================================================================\n",
      " dense_6 (Dense)             (None, 128)               384       \n",
      "                                                                 \n",
      " dense_7 (Dense)             (None, 1)                 129       \n",
      "                                                                 \n",
      "=================================================================\n",
      "Total params: 513\n",
      "Trainable params: 513\n",
      "Non-trainable params: 0\n",
      "_________________________________________________________________\n",
      "You must install pydot (`pip install pydot`) and install graphviz (see instructions at https://graphviz.gitlab.io/download/) for plot_model to work.\n"
     ]
    }
   ],
   "source": [
    "# ดูสรุป model\n",
    "\n",
    "model.summary()\n",
    "\n",
    "model.output_shape\n",
    "\n",
    "model.get_config()\n",
    "\n",
    "from tensorflow.keras.utils import plot_model\n",
    "plot_model(model, show_shapes=True, show_layer_names=True)   # plot model structure\n"
   ]
  },
  {
   "cell_type": "code",
   "execution_count": null,
   "id": "0b43c99d-59c0-4a33-8228-5c6a72f6eb83",
   "metadata": {},
   "outputs": [],
   "source": []
  }
 ],
 "metadata": {
  "kernelspec": {
   "display_name": "Python 3 (ipykernel)",
   "language": "python",
   "name": "python3"
  },
  "language_info": {
   "codemirror_mode": {
    "name": "ipython",
    "version": 3
   },
   "file_extension": ".py",
   "mimetype": "text/x-python",
   "name": "python",
   "nbconvert_exporter": "python",
   "pygments_lexer": "ipython3",
   "version": "3.9.12"
  }
 },
 "nbformat": 4,
 "nbformat_minor": 5
}
